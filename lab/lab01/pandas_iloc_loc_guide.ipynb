{
 "cells": [
  {
   "cell_type": "markdown",
   "metadata": {},
   "source": [
    "# Pandas iloc 和 loc 完整使用指南\n",
    "\n",
    "## 核心区别\n",
    "- **iloc**: 基于整数位置的索引 (integer location)\n",
    "- **loc**: 基于标签的索引 (label location)"
   ]
  },
  {
   "cell_type": "code",
   "execution_count": 1,
   "metadata": {},
   "outputs": [],
   "source": [
    "import pandas as pd\n",
    "import numpy as np"
   ]
  },
  {
   "cell_type": "markdown",
   "metadata": {},
   "source": [
    "## 1. 创建示例数据"
   ]
  },
  {
   "cell_type": "code",
   "execution_count": 2,
   "metadata": {},
   "outputs": [
    {
     "name": "stdout",
     "output_type": "stream",
     "text": [
      "示例DataFrame:\n",
      "      A   B    C  D\n",
      "row1  1  10  100  a\n",
      "row2  2  20  200  b\n",
      "row3  3  30  300  c\n",
      "row4  4  40  400  d\n",
      "row5  5  50  500  e\n",
      "\n",
      "索引: ['row1', 'row2', 'row3', 'row4', 'row5']\n",
      "列名: ['A', 'B', 'C', 'D']\n"
     ]
    }
   ],
   "source": [
    "# 创建一个带有自定义索引的DataFrame\n",
    "df = pd.DataFrame({\n",
    "    'A': [1, 2, 3, 4, 5],\n",
    "    'B': [10, 20, 30, 40, 50],\n",
    "    'C': [100, 200, 300, 400, 500],\n",
    "    'D': ['a', 'b', 'c', 'd', 'e']\n",
    "}, index=['row1', 'row2', 'row3', 'row4', 'row5'])\n",
    "\n",
    "print(\"示例DataFrame:\")\n",
    "print(df)\n",
    "print(f\"\\n索引: {df.index.tolist()}\")\n",
    "print(f\"列名: {df.columns.tolist()}\")"
   ]
  },
  {
   "cell_type": "code",
   "execution_count": 3,
   "metadata": {},
   "outputs": [
    {
     "data": {
      "application/vnd.microsoft.datawrangler.viewer.v0+json": {
       "columns": [
        {
         "name": "index",
         "rawType": "object",
         "type": "string"
        },
        {
         "name": "A",
         "rawType": "int64",
         "type": "integer"
        },
        {
         "name": "B",
         "rawType": "int64",
         "type": "integer"
        },
        {
         "name": "C",
         "rawType": "int64",
         "type": "integer"
        },
        {
         "name": "D",
         "rawType": "object",
         "type": "string"
        }
       ],
       "ref": "55f5e09a-aa5a-4ebb-b668-411444bfea20",
       "rows": [
        [
         "row1",
         "1",
         "10",
         "100",
         "a"
        ],
        [
         "row2",
         "2",
         "20",
         "200",
         "b"
        ],
        [
         "row3",
         "3",
         "30",
         "300",
         "c"
        ],
        [
         "row4",
         "4",
         "40",
         "400",
         "d"
        ],
        [
         "row5",
         "5",
         "50",
         "500",
         "e"
        ]
       ],
       "shape": {
        "columns": 4,
        "rows": 5
       }
      },
      "text/html": [
       "<div>\n",
       "<style scoped>\n",
       "    .dataframe tbody tr th:only-of-type {\n",
       "        vertical-align: middle;\n",
       "    }\n",
       "\n",
       "    .dataframe tbody tr th {\n",
       "        vertical-align: top;\n",
       "    }\n",
       "\n",
       "    .dataframe thead th {\n",
       "        text-align: right;\n",
       "    }\n",
       "</style>\n",
       "<table border=\"1\" class=\"dataframe\">\n",
       "  <thead>\n",
       "    <tr style=\"text-align: right;\">\n",
       "      <th></th>\n",
       "      <th>A</th>\n",
       "      <th>B</th>\n",
       "      <th>C</th>\n",
       "      <th>D</th>\n",
       "    </tr>\n",
       "  </thead>\n",
       "  <tbody>\n",
       "    <tr>\n",
       "      <th>row1</th>\n",
       "      <td>1</td>\n",
       "      <td>10</td>\n",
       "      <td>100</td>\n",
       "      <td>a</td>\n",
       "    </tr>\n",
       "    <tr>\n",
       "      <th>row2</th>\n",
       "      <td>2</td>\n",
       "      <td>20</td>\n",
       "      <td>200</td>\n",
       "      <td>b</td>\n",
       "    </tr>\n",
       "    <tr>\n",
       "      <th>row3</th>\n",
       "      <td>3</td>\n",
       "      <td>30</td>\n",
       "      <td>300</td>\n",
       "      <td>c</td>\n",
       "    </tr>\n",
       "    <tr>\n",
       "      <th>row4</th>\n",
       "      <td>4</td>\n",
       "      <td>40</td>\n",
       "      <td>400</td>\n",
       "      <td>d</td>\n",
       "    </tr>\n",
       "    <tr>\n",
       "      <th>row5</th>\n",
       "      <td>5</td>\n",
       "      <td>50</td>\n",
       "      <td>500</td>\n",
       "      <td>e</td>\n",
       "    </tr>\n",
       "  </tbody>\n",
       "</table>\n",
       "</div>"
      ],
      "text/plain": [
       "      A   B    C  D\n",
       "row1  1  10  100  a\n",
       "row2  2  20  200  b\n",
       "row3  3  30  300  c\n",
       "row4  4  40  400  d\n",
       "row5  5  50  500  e"
      ]
     },
     "metadata": {},
     "output_type": "display_data"
    }
   ],
   "source": [
    "display(df)"
   ]
  },
  {
   "cell_type": "markdown",
   "metadata": {},
   "source": [
    "## 2. iloc - 基于位置的索引\n",
    "\n",
    "### 2.1 选择单个元素"
   ]
  },
  {
   "cell_type": "code",
   "execution_count": 4,
   "metadata": {},
   "outputs": [
    {
     "name": "stdout",
     "output_type": "stream",
     "text": [
      "df.iloc[1, 2]:\n",
      "200\n",
      "\n",
      "df.iloc[-1, -1] (最后一行最后一列):\n",
      "e\n"
     ]
    }
   ],
   "source": [
    "# 选择第2行第3列的元素（位置从0开始）\n",
    "print(\"df.iloc[1, 2]:\")\n",
    "print(df.iloc[1, 2])\n",
    "print()\n",
    "\n",
    "# 使用负数索引\n",
    "print(\"df.iloc[-1, -1] (最后一行最后一列):\")\n",
    "print(df.iloc[-1, -1])"
   ]
  },
  {
   "cell_type": "markdown",
   "metadata": {},
   "source": [
    "### 2.2 选择行"
   ]
  },
  {
   "cell_type": "code",
   "execution_count": 5,
   "metadata": {},
   "outputs": [
    {
     "name": "stdout",
     "output_type": "stream",
     "text": [
      "df.iloc[0] (第一行):\n",
      "A      1\n",
      "B     10\n",
      "C    100\n",
      "D      a\n",
      "Name: row1, dtype: object\n",
      "\n",
      "df.iloc[[0, 2, 4]] (第1、3、5行):\n",
      "      A   B    C  D\n",
      "row1  1  10  100  a\n",
      "row3  3  30  300  c\n",
      "row5  5  50  500  e\n",
      "\n",
      "df.iloc[1:4] (第2到第4行，不包含第5行):\n",
      "      A   B    C  D\n",
      "row2  2  20  200  b\n",
      "row3  3  30  300  c\n",
      "row4  4  40  400  d\n"
     ]
    }
   ],
   "source": [
    "# 选择单行\n",
    "print(\"df.iloc[0] (第一行):\")\n",
    "print(df.iloc[0])\n",
    "print()\n",
    "\n",
    "# 选择多行（使用列表）\n",
    "print(\"df.iloc[[0, 2, 4]] (第1、3、5行):\")\n",
    "print(df.iloc[[0, 2, 4]])\n",
    "print()\n",
    "\n",
    "# 使用切片选择行\n",
    "print(\"df.iloc[1:4] (第2到第4行，不包含第5行):\")\n",
    "print(df.iloc[1:4])"
   ]
  },
  {
   "cell_type": "markdown",
   "metadata": {},
   "source": [
    "### 2.3 选择列"
   ]
  },
  {
   "cell_type": "code",
   "execution_count": 6,
   "metadata": {},
   "outputs": [
    {
     "name": "stdout",
     "output_type": "stream",
     "text": [
      "df.iloc[:, 1] (第2列):\n",
      "row1    10\n",
      "row2    20\n",
      "row3    30\n",
      "row4    40\n",
      "row5    50\n",
      "Name: B, dtype: int64\n",
      "\n",
      "df.iloc[:, [0, 2]] (第1和第3列):\n",
      "      A    C\n",
      "row1  1  100\n",
      "row2  2  200\n",
      "row3  3  300\n",
      "row4  4  400\n",
      "row5  5  500\n",
      "\n",
      "df.iloc[:, 1:3] (第2到第3列):\n",
      "       B    C\n",
      "row1  10  100\n",
      "row2  20  200\n",
      "row3  30  300\n",
      "row4  40  400\n",
      "row5  50  500\n"
     ]
    }
   ],
   "source": [
    "# 选择所有行的特定列\n",
    "print(\"df.iloc[:, 1] (第2列):\")\n",
    "print(df.iloc[:, 1])\n",
    "print()\n",
    "\n",
    "# 选择多列\n",
    "print(\"df.iloc[:, [0, 2]] (第1和第3列):\")\n",
    "print(df.iloc[:, [0, 2]])\n",
    "print()\n",
    "\n",
    "# 使用切片选择列\n",
    "print(\"df.iloc[:, 1:3] (第2到第3列):\")\n",
    "print(df.iloc[:, 1:3])"
   ]
  },
  {
   "cell_type": "markdown",
   "metadata": {},
   "source": [
    "### 2.4 选择行和列的组合"
   ]
  },
  {
   "cell_type": "code",
   "execution_count": 7,
   "metadata": {},
   "outputs": [
    {
     "name": "stdout",
     "output_type": "stream",
     "text": [
      "df.iloc[1:3, 0:2] (第2-3行，第1-2列):\n",
      "      A   B\n",
      "row2  2  20\n",
      "row3  3  30\n",
      "\n",
      "df.iloc[[0, 2, 4], [1, 3]]:\n",
      "       B  D\n",
      "row1  10  a\n",
      "row3  30  c\n",
      "row5  50  e\n"
     ]
    }
   ],
   "source": [
    "# 选择特定的行和列\n",
    "print(\"df.iloc[1:3, 0:2] (第2-3行，第1-2列):\")\n",
    "print(df.iloc[1:3, 0:2])\n",
    "print()\n",
    "\n",
    "# 使用列表选择不连续的行和列\n",
    "print(\"df.iloc[[0, 2, 4], [1, 3]]:\")\n",
    "print(df.iloc[[0, 2, 4], [1, 3]])"
   ]
  },
  {
   "cell_type": "markdown",
   "metadata": {},
   "source": [
    "## 3. loc - 基于标签的索引\n",
    "\n",
    "### 3.1 选择单个元素"
   ]
  },
  {
   "cell_type": "code",
   "execution_count": 8,
   "metadata": {},
   "outputs": [
    {
     "name": "stdout",
     "output_type": "stream",
     "text": [
      "df.loc['row2', 'B']:\n",
      "20\n",
      "\n"
     ]
    }
   ],
   "source": [
    "# 使用行标签和列标签\n",
    "print(\"df.loc['row2', 'B']:\")\n",
    "print(df.loc['row2', 'B'])\n",
    "print()\n",
    "\n",
    "# 注意：loc使用的是实际的标签，不是位置"
   ]
  },
  {
   "cell_type": "markdown",
   "metadata": {},
   "source": [
    "### 3.2 选择行"
   ]
  },
  {
   "cell_type": "code",
   "execution_count": 9,
   "metadata": {},
   "outputs": [
    {
     "name": "stdout",
     "output_type": "stream",
     "text": [
      "df.loc['row1']:\n",
      "A      1\n",
      "B     10\n",
      "C    100\n",
      "D      a\n",
      "Name: row1, dtype: object\n",
      "\n",
      "df.loc[['row1', 'row3', 'row5']]:\n",
      "      A   B    C  D\n",
      "row1  1  10  100  a\n",
      "row3  3  30  300  c\n",
      "row5  5  50  500  e\n",
      "\n",
      "df.loc['row2':'row4'] (包含row4):\n",
      "      A   B    C  D\n",
      "row2  2  20  200  b\n",
      "row3  3  30  300  c\n",
      "row4  4  40  400  d\n"
     ]
    }
   ],
   "source": [
    "# 选择单行\n",
    "print(\"df.loc['row1']:\")\n",
    "print(df.loc['row1'])\n",
    "print()\n",
    "\n",
    "# 选择多行\n",
    "print(\"df.loc[['row1', 'row3', 'row5']]:\")\n",
    "print(df.loc[['row1', 'row3', 'row5']])\n",
    "print()\n",
    "\n",
    "# 使用切片（注意：loc的切片包含结束点）\n",
    "print(\"df.loc['row2':'row4'] (包含row4):\")\n",
    "print(df.loc['row2':'row4'])"
   ]
  },
  {
   "cell_type": "markdown",
   "metadata": {},
   "source": [
    "### 3.3 选择列"
   ]
  },
  {
   "cell_type": "code",
   "execution_count": 10,
   "metadata": {},
   "outputs": [
    {
     "name": "stdout",
     "output_type": "stream",
     "text": [
      "df.loc[:, 'B']:\n",
      "row1    10\n",
      "row2    20\n",
      "row3    30\n",
      "row4    40\n",
      "row5    50\n",
      "Name: B, dtype: int64\n",
      "\n",
      "df.loc[:, ['A', 'C']]:\n",
      "      A    C\n",
      "row1  1  100\n",
      "row2  2  200\n",
      "row3  3  300\n",
      "row4  4  400\n",
      "row5  5  500\n",
      "\n",
      "df.loc[:, 'B':'D'] (从B到D列，包含D):\n",
      "       B    C  D\n",
      "row1  10  100  a\n",
      "row2  20  200  b\n",
      "row3  30  300  c\n",
      "row4  40  400  d\n",
      "row5  50  500  e\n"
     ]
    }
   ],
   "source": [
    "# 选择所有行的特定列\n",
    "print(\"df.loc[:, 'B']:\")\n",
    "print(df.loc[:, 'B'])\n",
    "print()\n",
    "\n",
    "# 选择多列\n",
    "print(\"df.loc[:, ['A', 'C']]:\")\n",
    "print(df.loc[:, ['A', 'C']])\n",
    "print()\n",
    "\n",
    "# 使用切片选择列\n",
    "print(\"df.loc[:, 'B':'D'] (从B到D列，包含D):\")\n",
    "print(df.loc[:, 'B':'D'])"
   ]
  },
  {
   "cell_type": "markdown",
   "metadata": {},
   "source": [
    "### 3.4 布尔索引"
   ]
  },
  {
   "cell_type": "code",
   "execution_count": 11,
   "metadata": {},
   "outputs": [
    {
     "name": "stdout",
     "output_type": "stream",
     "text": [
      "df.loc[df['A'] > 2]:\n",
      "      A   B    C  D\n",
      "row3  3  30  300  c\n",
      "row4  4  40  400  d\n",
      "row5  5  50  500  e\n",
      "\n",
      "df.loc[df['B'] >= 30, ['A', 'D']]:\n",
      "      A  D\n",
      "row3  3  c\n",
      "row4  4  d\n",
      "row5  5  e\n"
     ]
    }
   ],
   "source": [
    "# 使用条件选择行\n",
    "print(\"df.loc[df['A'] > 2]:\")\n",
    "print(df.loc[df['A'] > 2])\n",
    "print()\n",
    "\n",
    "# 结合条件和列选择\n",
    "print(\"df.loc[df['B'] >= 30, ['A', 'D']]:\")\n",
    "print(df.loc[df['B'] >= 30, ['A', 'D']])"
   ]
  },
  {
   "cell_type": "markdown",
   "metadata": {},
   "source": [
    "## 4. iloc vs loc 对比示例"
   ]
  },
  {
   "cell_type": "code",
   "execution_count": 12,
   "metadata": {},
   "outputs": [
    {
     "name": "stdout",
     "output_type": "stream",
     "text": [
      "整数索引的DataFrame:\n",
      "     X    Y\n",
      "10  10  100\n",
      "20  20  200\n",
      "30  30  300\n",
      "40  40  400\n",
      "50  50  500\n",
      "\n",
      "df_int.iloc[0] (第一行):\n",
      "X     10\n",
      "Y    100\n",
      "Name: 10, dtype: int64\n",
      "\n",
      "df_int.loc[10] (索引为10的行):\n",
      "X     10\n",
      "Y    100\n",
      "Name: 10, dtype: int64\n",
      "\n",
      "iloc[1] vs loc[20]:\n",
      "iloc[1]: [20, 200]\n",
      "loc[20]: [20, 200]\n"
     ]
    }
   ],
   "source": [
    "# 创建一个使用整数作为索引的DataFrame\n",
    "df_int = pd.DataFrame({\n",
    "    'X': [10, 20, 30, 40, 50],\n",
    "    'Y': [100, 200, 300, 400, 500]\n",
    "}, index=[10, 20, 30, 40, 50])\n",
    "\n",
    "print(\"整数索引的DataFrame:\")\n",
    "print(df_int)\n",
    "print()\n",
    "\n",
    "# iloc使用位置\n",
    "print(\"df_int.iloc[0] (第一行):\")\n",
    "print(df_int.iloc[0])\n",
    "print()\n",
    "\n",
    "# loc使用标签\n",
    "print(\"df_int.loc[10] (索引为10的行):\")\n",
    "print(df_int.loc[10])\n",
    "print()\n",
    "\n",
    "# 注意区别！\n",
    "print(\"iloc[1] vs loc[20]:\")\n",
    "print(f\"iloc[1]: {df_int.iloc[1].tolist()}\")\n",
    "print(f\"loc[20]: {df_int.loc[20].tolist()}\")"
   ]
  },
  {
   "cell_type": "markdown",
   "metadata": {},
   "source": [
    "## 5. 设置值"
   ]
  },
  {
   "cell_type": "code",
   "execution_count": 13,
   "metadata": {},
   "outputs": [
    {
     "name": "stdout",
     "output_type": "stream",
     "text": [
      "使用iloc修改后:\n",
      "        A   B    C  D\n",
      "row1  999  10  100  a\n",
      "row2    2  20  200  b\n",
      "row3    3  30  300  c\n",
      "row4    4  40  400  d\n",
      "row5    5  50  500  e\n",
      "\n",
      "使用loc修改后:\n",
      "        A    B    C  D\n",
      "row1  999   10  100  a\n",
      "row2    2  888  200  b\n",
      "row3    3   30  300  c\n",
      "row4    4   40  400  d\n",
      "row5    5   50  500  e\n",
      "\n",
      "条件批量修改后:\n",
      "        A    B    C  D\n",
      "row1  999   10  777  a\n",
      "row2    2  888  200  b\n",
      "row3    3   30  300  c\n",
      "row4    4   40  777  d\n",
      "row5    5   50  777  e\n"
     ]
    }
   ],
   "source": [
    "# 创建DataFrame副本用于修改\n",
    "df_copy = df.copy()\n",
    "\n",
    "# 使用iloc设置值\n",
    "df_copy.iloc[0, 0] = 999\n",
    "print(\"使用iloc修改后:\")\n",
    "print(df_copy)\n",
    "print()\n",
    "\n",
    "# 使用loc设置值\n",
    "df_copy.loc['row2', 'B'] = 888\n",
    "print(\"使用loc修改后:\")\n",
    "print(df_copy)\n",
    "print()\n",
    "\n",
    "# 批量设置值\n",
    "df_copy.loc[df_copy['A'] > 3, 'C'] = 777\n",
    "print(\"条件批量修改后:\")\n",
    "print(df_copy)"
   ]
  },
  {
   "cell_type": "markdown",
   "metadata": {},
   "source": [
    "## 6. 常见错误和注意事项"
   ]
  },
  {
   "cell_type": "code",
   "execution_count": 14,
   "metadata": {},
   "outputs": [
    {
     "name": "stdout",
     "output_type": "stream",
     "text": [
      "错误1: TypeError: Cannot index by location index with a non-integer key\n",
      "错误2: KeyError: 0\n"
     ]
    }
   ],
   "source": [
    "# 错误示例1：混淆iloc和loc\n",
    "try:\n",
    "    # 尝试在iloc中使用标签\n",
    "    result = df.iloc['row1']\n",
    "except Exception as e:\n",
    "    print(f\"错误1: {type(e).__name__}: {e}\")\n",
    "    \n",
    "try:\n",
    "    # 尝试在loc中使用超出范围的位置\n",
    "    result = df.loc[0]  # 如果0不是索引标签\n",
    "except Exception as e:\n",
    "    print(f\"错误2: {type(e).__name__}: {e}\")"
   ]
  },
  {
   "cell_type": "markdown",
   "metadata": {},
   "source": [
    "## 7. 实用技巧"
   ]
  },
  {
   "cell_type": "code",
   "execution_count": 15,
   "metadata": {},
   "outputs": [
    {
     "name": "stdout",
     "output_type": "stream",
     "text": [
      "获取左上角3x3的子集:\n",
      "      A   B    C\n",
      "row1  1  10  100\n",
      "row2  2  20  200\n",
      "row3  3  30  300\n",
      "\n",
      "随机选择3行:\n",
      "      A   B    C  D\n",
      "row1  1  10  100  a\n",
      "row2  2  20  200  b\n",
      "row3  3  30  300  c\n",
      "\n",
      "条件更新多列:\n",
      "      A   B    C  D\n",
      "row1  1  20  200  a\n",
      "row2  2  40  400  b\n",
      "row3  3  60  600  c\n",
      "row4  4  40  400  d\n",
      "row5  5  50  500  e\n"
     ]
    }
   ],
   "source": [
    "# 技巧1：获取DataFrame的一部分\n",
    "print(\"获取左上角3x3的子集:\")\n",
    "print(df.iloc[:3, :3])\n",
    "print()\n",
    "\n",
    "# 技巧2：随机采样\n",
    "print(\"随机选择3行:\")\n",
    "random_indices = np.random.choice(df.index, 3, replace=False)\n",
    "print(df.loc[random_indices])\n",
    "print()\n",
    "\n",
    "# 技巧3：根据条件更新多列\n",
    "df_temp = df.copy()\n",
    "df_temp.loc[df_temp['A'] <= 3, ['B', 'C']] = df_temp.loc[df_temp['A'] <= 3, ['B', 'C']] * 2\n",
    "print(\"条件更新多列:\")\n",
    "print(df_temp)"
   ]
  },
  {
   "cell_type": "markdown",
   "metadata": {},
   "source": [
    "## 总结\n",
    "\n",
    "### iloc\n",
    "- 使用整数位置索引\n",
    "- 切片不包含结束位置\n",
    "- 适合按位置访问数据\n",
    "- 语法：`df.iloc[行位置, 列位置]`\n",
    "\n",
    "### loc\n",
    "- 使用标签索引\n",
    "- 切片包含结束位置\n",
    "- 支持布尔索引\n",
    "- 语法：`df.loc[行标签, 列标签]`\n",
    "\n",
    "### 选择建议\n",
    "- 如果知道标签名称，使用 `loc`\n",
    "- 如果只知道位置，使用 `iloc`\n",
    "- 条件筛选时，通常使用 `loc`"
   ]
  }
 ],
 "metadata": {
  "kernelspec": {
   "display_name": "base",
   "language": "python",
   "name": "python3"
  },
  "language_info": {
   "codemirror_mode": {
    "name": "ipython",
    "version": 3
   },
   "file_extension": ".py",
   "mimetype": "text/x-python",
   "name": "python",
   "nbconvert_exporter": "python",
   "pygments_lexer": "ipython3",
   "version": "3.13.2"
  }
 },
 "nbformat": 4,
 "nbformat_minor": 4
}
