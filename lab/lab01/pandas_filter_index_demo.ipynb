{
 "cells": [
  {
   "cell_type": "markdown",
   "metadata": {},
   "source": [
    "# Pandas DataFrame 条件筛选与索引\n",
    "\n",
    "本notebook演示了使用条件筛选后DataFrame的索引特性"
   ]
  },
  {
   "cell_type": "code",
   "execution_count": 2,
   "metadata": {},
   "outputs": [],
   "source": [
    "import pandas as pd\n",
    "import numpy as np"
   ]
  },
  {
   "cell_type": "markdown",
   "metadata": {},
   "source": [
    "## 1. 创建示例DataFrame"
   ]
  },
  {
   "cell_type": "code",
   "execution_count": 3,
   "metadata": {},
   "outputs": [
    {
     "name": "stdout",
     "output_type": "stream",
     "text": [
      "原始DataFrame:\n",
      "     A  B   C\n",
      "0    0  Y   4\n",
      "1    1  Y  53\n",
      "2    2  X  72\n",
      "3    3  Y  78\n",
      "4    4  Z  75\n",
      "5    5  Y  77\n",
      "6    6  Y  51\n",
      "7    7  X  91\n",
      "8    8  Z  15\n",
      "9    9  Z  89\n",
      "10  10  Z   3\n",
      "11  11  X  31\n",
      "12  12  Z  31\n",
      "13  13  Z  40\n",
      "14  14  Y   4\n",
      "15  15  Y  43\n",
      "16  16  Y  25\n",
      "17  17  X  33\n",
      "18  18  Z  43\n",
      "19  19  Y  16\n",
      "\n",
      "原始index: [0, 1, 2, 3, 4, 5, 6, 7, 8, 9, 10, 11, 12, 13, 14, 15, 16, 17, 18, 19]\n"
     ]
    }
   ],
   "source": [
    "# 创建一个示例DataFrame\n",
    "df = pd.DataFrame({\n",
    "    'A': range(20),\n",
    "    'B': np.random.choice(['X', 'Y', 'Z'], 20),\n",
    "    'C': np.random.randint(0, 100, 20)\n",
    "})\n",
    "\n",
    "print(\"原始DataFrame:\")\n",
    "print(df)\n",
    "print(f\"\\n原始index: {df.index.tolist()}\")"
   ]
  },
  {
   "cell_type": "markdown",
   "metadata": {},
   "source": [
    "## 2. 使用条件筛选"
   ]
  },
  {
   "cell_type": "code",
   "execution_count": 4,
   "metadata": {},
   "outputs": [
    {
     "name": "stdout",
     "output_type": "stream",
     "text": [
      "筛选后的DataFrame (B=='X'):\n",
      "     A  B   C\n",
      "2    2  X  72\n",
      "7    7  X  91\n",
      "11  11  X  31\n",
      "17  17  X  33\n",
      "\n",
      "筛选后的index: [2, 7, 11, 17]\n",
      "\n",
      "注意: 筛选后的index不是连续的！\n"
     ]
    }
   ],
   "source": [
    "# 使用==条件筛选\n",
    "filtered_df = df[df['B'] == 'X']\n",
    "\n",
    "print(\"筛选后的DataFrame (B=='X'):\")\n",
    "print(filtered_df)\n",
    "print(f\"\\n筛选后的index: {filtered_df.index.tolist()}\")\n",
    "print(f\"\\n注意: 筛选后的index不是连续的！\")"
   ]
  },
  {
   "cell_type": "markdown",
   "metadata": {},
   "source": [
    "## 3. 尝试使用简单的切片索引 [0:9]"
   ]
  },
  {
   "cell_type": "code",
   "execution_count": 20,
   "metadata": {},
   "outputs": [
    {
     "name": "stdout",
     "output_type": "stream",
     "text": [
      "尝试使用 filtered_df[0:9]:\n",
      "   A  B   C\n",
      "2  2  X  72\n",
      "7  7  X  91\n",
      "\n",
      "注意: 这里[0:9]是基于原始的index值进行切片，不是位置！\n",
      "它会返回index在0到8之间的行（如果存在的话）\n"
     ]
    }
   ],
   "source": [
    "# 尝试使用[0:9]切片\n",
    "print(\"尝试使用 filtered_df[0:9]:\")\n",
    "try:\n",
    "    result = filtered_df.loc[0:7,:]\n",
    "    print(result)\n",
    "    print(f\"\\n注意: 这里[0:9]是基于原始的index值进行切片，不是位置！\")\n",
    "    print(f\"它会返回index在0到8之间的行（如果存在的话）\")\n",
    "except Exception as e:\n",
    "    print(f\"错误: {e}\")"
   ]
  },
  {
   "cell_type": "markdown",
   "metadata": {},
   "source": [
    "## 4. 正确的方法：使用iloc获取前10行"
   ]
  },
  {
   "cell_type": "code",
   "execution_count": 6,
   "metadata": {},
   "outputs": [
    {
     "name": "stdout",
     "output_type": "stream",
     "text": [
      "使用 iloc[0:10] 获取前10行:\n",
      "注意: 筛选后只有4行，少于10行\n",
      "     A  B   C\n",
      "2    2  X  72\n",
      "7    7  X  91\n",
      "11  11  X  31\n",
      "17  17  X  33\n"
     ]
    }
   ],
   "source": [
    "# 使用iloc基于位置索引\n",
    "print(\"使用 iloc[0:10] 获取前10行:\")\n",
    "if len(filtered_df) >= 10:\n",
    "    result_iloc = filtered_df.iloc[0:10]\n",
    "else:\n",
    "    result_iloc = filtered_df.iloc[:]\n",
    "    print(f\"注意: 筛选后只有{len(filtered_df)}行，少于10行\")\n",
    "\n",
    "print(result_iloc)"
   ]
  },
  {
   "cell_type": "markdown",
   "metadata": {},
   "source": [
    "## 5. 其他获取前N行的方法"
   ]
  },
  {
   "cell_type": "code",
   "execution_count": 7,
   "metadata": {},
   "outputs": [
    {
     "name": "stdout",
     "output_type": "stream",
     "text": [
      "方法1 - 使用 head(10):\n",
      "     A  B   C\n",
      "2    2  X  72\n",
      "7    7  X  91\n",
      "11  11  X  31\n",
      "17  17  X  33\n",
      "\n"
     ]
    }
   ],
   "source": [
    "# 方法1: 使用head()\n",
    "print(\"方法1 - 使用 head(10):\")\n",
    "print(filtered_df.head(10))\n",
    "print()"
   ]
  },
  {
   "cell_type": "code",
   "execution_count": 8,
   "metadata": {},
   "outputs": [
    {
     "name": "stdout",
     "output_type": "stream",
     "text": [
      "\n",
      "方法2 - 重置索引后使用切片:\n",
      "重置索引后的DataFrame:\n",
      "    A  B   C\n",
      "0   2  X  72\n",
      "1   7  X  91\n",
      "2  11  X  31\n",
      "3  17  X  33\n",
      "\n",
      "新的index: [0, 1, 2, 3]\n",
      "\n",
      "现在可以使用[0:10]切片:\n",
      "    A  B   C\n",
      "0   2  X  72\n",
      "1   7  X  91\n",
      "2  11  X  31\n",
      "3  17  X  33\n"
     ]
    }
   ],
   "source": [
    "# 方法2: 重置索引后使用普通切片\n",
    "print(\"\\n方法2 - 重置索引后使用切片:\")\n",
    "filtered_df_reset = filtered_df.reset_index(drop=True)\n",
    "print(\"重置索引后的DataFrame:\")\n",
    "print(filtered_df_reset)\n",
    "print(f\"\\n新的index: {filtered_df_reset.index.tolist()}\")\n",
    "print(\"\\n现在可以使用[0:10]切片:\")\n",
    "print(filtered_df_reset[0:10])"
   ]
  },
  {
   "cell_type": "markdown",
   "metadata": {},
   "source": [
    "## 6. 总结对比"
   ]
  },
  {
   "cell_type": "code",
   "execution_count": 9,
   "metadata": {},
   "outputs": [
    {
     "name": "stdout",
     "output_type": "stream",
     "text": [
      "示例DataFrame（注意index不连续）:\n",
      "    value\n",
      "0      10\n",
      "2      20\n",
      "5      30\n",
      "7      40\n",
      "10     50\n",
      "15     60\n",
      "18     70\n",
      "20     80\n",
      "25     90\n",
      "30    100\n",
      "\n",
      "df_example[0:5] 的结果（基于index值）:\n",
      "    value\n",
      "0      10\n",
      "2      20\n",
      "5      30\n",
      "7      40\n",
      "10     50\n",
      "\n",
      "df_example.iloc[0:5] 的结果（基于位置）:\n",
      "    value\n",
      "0      10\n",
      "2      20\n",
      "5      30\n",
      "7      40\n",
      "10     50\n"
     ]
    }
   ],
   "source": [
    "# 创建一个更明显的例子\n",
    "df_example = pd.DataFrame({\n",
    "    'value': [10, 20, 30, 40, 50, 60, 70, 80, 90, 100]\n",
    "}, index=[0, 2, 5, 7, 10, 15, 18, 20, 25, 30])\n",
    "\n",
    "print(\"示例DataFrame（注意index不连续）:\")\n",
    "print(df_example)\n",
    "print()\n",
    "\n",
    "print(\"df_example[0:5] 的结果（基于index值）:\")\n",
    "print(df_example[0:5])  # 只会返回index为0和2的行\n",
    "print()\n",
    "\n",
    "print(\"df_example.iloc[0:5] 的结果（基于位置）:\")\n",
    "print(df_example.iloc[0:5])  # 返回前5行"
   ]
  },
  {
   "cell_type": "markdown",
   "metadata": {},
   "source": [
    "## 重要结论\n",
    "\n",
    "1. **条件筛选后的index不是连续的** - 它保留了原始DataFrame的index\n",
    "2. **不能使用简单的[0:9]来获取前10行** - 这会基于index值而不是位置\n",
    "3. **正确的方法**:\n",
    "   - 使用 `iloc[0:10]` 基于位置索引\n",
    "   - 使用 `head(10)` 方法\n",
    "   - 先 `reset_index(drop=True)` 再使用普通切片"
   ]
  }
 ],
 "metadata": {
  "kernelspec": {
   "display_name": "base",
   "language": "python",
   "name": "python3"
  },
  "language_info": {
   "codemirror_mode": {
    "name": "ipython",
    "version": 3
   },
   "file_extension": ".py",
   "mimetype": "text/x-python",
   "name": "python",
   "nbconvert_exporter": "python",
   "pygments_lexer": "ipython3",
   "version": "3.13.2"
  }
 },
 "nbformat": 4,
 "nbformat_minor": 4
}
