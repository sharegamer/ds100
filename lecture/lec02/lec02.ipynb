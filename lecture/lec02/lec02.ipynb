{
 "cells": [
  {
   "cell_type": "markdown",
   "metadata": {},
   "source": [
    "# Lecture 2 – Data 100, Spring 2024\n",
    "\n",
    "Data 100, Spring 2024\n",
    "\n",
    "[Acknowledgments Page](https://ds100.org/sp24/acks/)\n",
    "\n",
    "A high-level overview of the [`pandas`](https://pandas.pydata.org) library to accompany Lecture 2."
   ]
  },
  {
   "cell_type": "code",
   "execution_count": 1,
   "metadata": {},
   "outputs": [],
   "source": [
    "# `pd` is the conventional alias for Pandas, as `np` is for NumPy\n",
    "import pandas as pd"
   ]
  },
  {
   "cell_type": "markdown",
   "metadata": {},
   "source": [
    "## Series, DataFrames, and Indices "
   ]
  },
  {
   "cell_type": "markdown",
   "metadata": {},
   "source": [
    "Series, DataFrames, and Indices are fundamental `pandas` data structures for storing tabular data and processing the data using vectorized operations."
   ]
  },
  {
   "cell_type": "markdown",
   "metadata": {},
   "source": [
    "### Series\n",
    "\n",
    "A `Series` is a 1-D labeled array of data. We can think of it as columnar data. \n",
    "\n",
    "#### Creating a new `Series` object\n",
    "Below, we create a `Series` object and will look into its two components: 1) values and 2) index."
   ]
  },
  {
   "cell_type": "code",
   "execution_count": 2,
   "metadata": {},
   "outputs": [
    {
     "data": {
      "application/vnd.microsoft.datawrangler.viewer.v0+json": {
       "columns": [
        {
         "name": "index",
         "rawType": "int64",
         "type": "integer"
        },
        {
         "name": "0",
         "rawType": "object",
         "type": "string"
        }
       ],
       "ref": "1be8c73f-ae27-4294-953a-a7dc66f001bc",
       "rows": [
        [
         "0",
         "welcome"
        ],
        [
         "1",
         "to"
        ],
        [
         "2",
         "data 100"
        ]
       ],
       "shape": {
        "columns": 1,
        "rows": 3
       }
      },
      "text/plain": [
       "0     welcome\n",
       "1          to\n",
       "2    data 100\n",
       "dtype: object"
      ]
     },
     "execution_count": 2,
     "metadata": {},
     "output_type": "execute_result"
    }
   ],
   "source": [
    "s = pd.Series([\"welcome\", \"to\", \"data 100\"])\n",
    "\n",
    "s"
   ]
  },
  {
   "cell_type": "code",
   "execution_count": 3,
   "metadata": {},
   "outputs": [
    {
     "data": {
      "text/plain": [
       "array(['welcome', 'to', 'data 100'], dtype=object)"
      ]
     },
     "execution_count": 3,
     "metadata": {},
     "output_type": "execute_result"
    }
   ],
   "source": [
    "s.values"
   ]
  },
  {
   "cell_type": "code",
   "execution_count": 4,
   "metadata": {},
   "outputs": [
    {
     "data": {
      "text/plain": [
       "RangeIndex(start=0, stop=3, step=1)"
      ]
     },
     "execution_count": 4,
     "metadata": {},
     "output_type": "execute_result"
    }
   ],
   "source": [
    "s.index"
   ]
  },
  {
   "cell_type": "markdown",
   "metadata": {},
   "source": [
    "In the example above, `pandas` automatically generated an `Index` of integer labels. We can also create a `Series` object by providing a custom `Index`."
   ]
  },
  {
   "cell_type": "code",
   "execution_count": 5,
   "metadata": {},
   "outputs": [
    {
     "data": {
      "application/vnd.microsoft.datawrangler.viewer.v0+json": {
       "columns": [
        {
         "name": "index",
         "rawType": "object",
         "type": "string"
        },
        {
         "name": "0",
         "rawType": "int64",
         "type": "integer"
        }
       ],
       "ref": "8d3aa421-4473-4865-94d9-bdbd7436cbb1",
       "rows": [
        [
         "a",
         "-1"
        ],
        [
         "b",
         "10"
        ],
        [
         "c",
         "2"
        ]
       ],
       "shape": {
        "columns": 1,
        "rows": 3
       }
      },
      "text/plain": [
       "a    -1\n",
       "b    10\n",
       "c     2\n",
       "dtype: int64"
      ]
     },
     "execution_count": 5,
     "metadata": {},
     "output_type": "execute_result"
    }
   ],
   "source": [
    "s = pd.Series([-1, 10, 2], index = [\"a\", \"b\", \"c\"])\n",
    "s"
   ]
  },
  {
   "cell_type": "code",
   "execution_count": 6,
   "metadata": {},
   "outputs": [
    {
     "data": {
      "text/plain": [
       "array([-1, 10,  2])"
      ]
     },
     "execution_count": 6,
     "metadata": {},
     "output_type": "execute_result"
    }
   ],
   "source": [
    "s.values"
   ]
  },
  {
   "cell_type": "code",
   "execution_count": 7,
   "metadata": {},
   "outputs": [
    {
     "data": {
      "text/plain": [
       "Index(['a', 'b', 'c'], dtype='object')"
      ]
     },
     "execution_count": 7,
     "metadata": {},
     "output_type": "execute_result"
    }
   ],
   "source": [
    "s.index"
   ]
  },
  {
   "cell_type": "markdown",
   "metadata": {},
   "source": [
    "After it has been created, we can reassign the Index of a `Series` to a new Index."
   ]
  },
  {
   "cell_type": "code",
   "execution_count": 8,
   "metadata": {},
   "outputs": [
    {
     "data": {
      "application/vnd.microsoft.datawrangler.viewer.v0+json": {
       "columns": [
        {
         "name": "index",
         "rawType": "object",
         "type": "string"
        },
        {
         "name": "0",
         "rawType": "int64",
         "type": "integer"
        }
       ],
       "ref": "9489a61a-d3b6-44b3-87e7-324c10c98443",
       "rows": [
        [
         "first",
         "-1"
        ],
        [
         "second",
         "10"
        ],
        [
         "third",
         "2"
        ]
       ],
       "shape": {
        "columns": 1,
        "rows": 3
       }
      },
      "text/plain": [
       "first     -1\n",
       "second    10\n",
       "third      2\n",
       "dtype: int64"
      ]
     },
     "execution_count": 8,
     "metadata": {},
     "output_type": "execute_result"
    }
   ],
   "source": [
    "s.index = [\"first\", \"second\", \"third\"]\n",
    "s"
   ]
  },
  {
   "cell_type": "markdown",
   "metadata": {},
   "source": [
    "#### Selection in Series\n",
    "We can select a single value or a set of values in a `Series` using:\n",
    "- A single label\n",
    "- A list of labels\n",
    "- A filtering condition"
   ]
  },
  {
   "cell_type": "code",
   "execution_count": 9,
   "metadata": {},
   "outputs": [
    {
     "data": {
      "application/vnd.microsoft.datawrangler.viewer.v0+json": {
       "columns": [
        {
         "name": "index",
         "rawType": "object",
         "type": "string"
        },
        {
         "name": "0",
         "rawType": "int64",
         "type": "integer"
        }
       ],
       "ref": "e6ca6e92-26d2-460c-9be5-1ab3dec9d1dc",
       "rows": [
        [
         "a",
         "4"
        ],
        [
         "b",
         "-2"
        ],
        [
         "c",
         "0"
        ],
        [
         "d",
         "6"
        ]
       ],
       "shape": {
        "columns": 1,
        "rows": 4
       }
      },
      "text/plain": [
       "a    4\n",
       "b   -2\n",
       "c    0\n",
       "d    6\n",
       "dtype: int64"
      ]
     },
     "execution_count": 9,
     "metadata": {},
     "output_type": "execute_result"
    }
   ],
   "source": [
    "s = pd.Series([4, -2, 0, 6], index = [\"a\", \"b\", \"c\", \"d\"])\n",
    "s"
   ]
  },
  {
   "cell_type": "markdown",
   "metadata": {},
   "source": [
    "**Selection using one or more label(s)**"
   ]
  },
  {
   "cell_type": "code",
   "execution_count": 10,
   "metadata": {},
   "outputs": [
    {
     "data": {
      "text/plain": [
       "np.int64(4)"
      ]
     },
     "execution_count": 10,
     "metadata": {},
     "output_type": "execute_result"
    }
   ],
   "source": [
    "# Selection using a single label\n",
    "# Notice how the return value is a single array element\n",
    "s[\"a\"]"
   ]
  },
  {
   "cell_type": "code",
   "execution_count": 11,
   "metadata": {},
   "outputs": [
    {
     "data": {
      "application/vnd.microsoft.datawrangler.viewer.v0+json": {
       "columns": [
        {
         "name": "index",
         "rawType": "object",
         "type": "string"
        },
        {
         "name": "0",
         "rawType": "int64",
         "type": "integer"
        }
       ],
       "ref": "8a441da7-5d95-44a9-ad89-3b6a9bc26d45",
       "rows": [
        [
         "a",
         "4"
        ],
        [
         "c",
         "0"
        ]
       ],
       "shape": {
        "columns": 1,
        "rows": 2
       }
      },
      "text/plain": [
       "a    4\n",
       "c    0\n",
       "dtype: int64"
      ]
     },
     "execution_count": 11,
     "metadata": {},
     "output_type": "execute_result"
    }
   ],
   "source": [
    "# Selection using a list of labels\n",
    "# Notice how the return value is another Series\n",
    "s[[\"a\", \"c\"]]"
   ]
  },
  {
   "cell_type": "markdown",
   "metadata": {},
   "source": [
    "**Selection using a filter condition**"
   ]
  },
  {
   "cell_type": "code",
   "execution_count": 12,
   "metadata": {},
   "outputs": [
    {
     "data": {
      "application/vnd.microsoft.datawrangler.viewer.v0+json": {
       "columns": [
        {
         "name": "index",
         "rawType": "object",
         "type": "string"
        },
        {
         "name": "0",
         "rawType": "bool",
         "type": "boolean"
        }
       ],
       "ref": "aa0b3f5f-6998-4698-9cd6-326866e7d5f5",
       "rows": [
        [
         "a",
         "True"
        ],
        [
         "b",
         "False"
        ],
        [
         "c",
         "False"
        ],
        [
         "d",
         "True"
        ]
       ],
       "shape": {
        "columns": 1,
        "rows": 4
       }
      },
      "text/plain": [
       "a     True\n",
       "b    False\n",
       "c    False\n",
       "d     True\n",
       "dtype: bool"
      ]
     },
     "execution_count": 12,
     "metadata": {},
     "output_type": "execute_result"
    }
   ],
   "source": [
    "# Filter condition: select all elements greater than 0\n",
    "s>0"
   ]
  },
  {
   "cell_type": "code",
   "execution_count": 13,
   "metadata": {},
   "outputs": [
    {
     "data": {
      "application/vnd.microsoft.datawrangler.viewer.v0+json": {
       "columns": [
        {
         "name": "index",
         "rawType": "object",
         "type": "string"
        },
        {
         "name": "0",
         "rawType": "int64",
         "type": "integer"
        }
       ],
       "ref": "a089f5e8-fe30-4f6c-97d6-c288cd4447e4",
       "rows": [
        [
         "a",
         "4"
        ],
        [
         "d",
         "6"
        ]
       ],
       "shape": {
        "columns": 1,
        "rows": 2
       }
      },
      "text/plain": [
       "a    4\n",
       "d    6\n",
       "dtype: int64"
      ]
     },
     "execution_count": 13,
     "metadata": {},
     "output_type": "execute_result"
    }
   ],
   "source": [
    "# Use the Boolean filter to select data from the original Series\n",
    "s[s>0]"
   ]
  },
  {
   "cell_type": "markdown",
   "metadata": {},
   "source": [
    "### DataFrame\n",
    "\n",
    "A `DataFrame` is a 2-D tabular data structure with both row and column labels. In this lecture, we will see how a `DataFrame` can be created from scratch or loaded from a file. "
   ]
  },
  {
   "cell_type": "markdown",
   "metadata": {},
   "source": [
    "### Creating a new `DataFrame` object\n",
    "We can also create a `DataFrame` in a variety of ways. Here, we cover the following:\n",
    "1. From a CSV file\n",
    "2. Using a list and column names\n",
    "3. From a dictionary\n",
    "4. From a `Series`\n",
    "\n",
    "\n",
    "#### Creating a `DataFrame` from a CSV file\n",
    "For loading data into a `DataFrame`, `pandas` has a number of very useful file reading tools. We'll be using `read_csv` today to load data from a CSV file into a `DataFrame` object. "
   ]
  },
  {
   "cell_type": "code",
   "execution_count": 14,
   "metadata": {},
   "outputs": [
    {
     "data": {
      "application/vnd.microsoft.datawrangler.viewer.v0+json": {
       "columns": [
        {
         "name": "index",
         "rawType": "int64",
         "type": "integer"
        },
        {
         "name": "Year",
         "rawType": "int64",
         "type": "integer"
        },
        {
         "name": "Candidate",
         "rawType": "object",
         "type": "string"
        },
        {
         "name": "Party",
         "rawType": "object",
         "type": "string"
        },
        {
         "name": "Popular vote",
         "rawType": "int64",
         "type": "integer"
        },
        {
         "name": "Result",
         "rawType": "object",
         "type": "string"
        },
        {
         "name": "%",
         "rawType": "float64",
         "type": "float"
        }
       ],
       "ref": "4d0a3960-29ff-4f6b-8d2e-940e68c5d54d",
       "rows": [
        [
         "0",
         "1824",
         "Andrew Jackson",
         "Democratic-Republican",
         "151271",
         "loss",
         "57.21012204"
        ],
        [
         "1",
         "1824",
         "John Quincy Adams",
         "Democratic-Republican",
         "113142",
         "win",
         "42.78987796"
        ],
        [
         "2",
         "1828",
         "Andrew Jackson",
         "Democratic",
         "642806",
         "win",
         "56.20392707"
        ],
        [
         "3",
         "1828",
         "John Quincy Adams",
         "National Republican",
         "500897",
         "loss",
         "43.79607293"
        ],
        [
         "4",
         "1832",
         "Andrew Jackson",
         "Democratic",
         "702735",
         "win",
         "54.57478905"
        ],
        [
         "5",
         "1832",
         "Henry Clay",
         "National Republican",
         "484205",
         "loss",
         "37.6036283"
        ],
        [
         "6",
         "1832",
         "William Wirt",
         "Anti-Masonic",
         "100715",
         "loss",
         "7.821582644"
        ],
        [
         "7",
         "1836",
         "Hugh Lawson White",
         "Whig",
         "146109",
         "loss",
         "10.00598542"
        ],
        [
         "8",
         "1836",
         "Martin Van Buren",
         "Democratic",
         "763291",
         "win",
         "52.27247202"
        ],
        [
         "9",
         "1836",
         "William Henry Harrison",
         "Whig",
         "550816",
         "loss",
         "37.72154257"
        ],
        [
         "10",
         "1840",
         "Martin Van Buren",
         "Democratic",
         "1128854",
         "loss",
         "46.94878676"
        ],
        [
         "11",
         "1840",
         "William Henry Harrison",
         "Whig",
         "1275583",
         "win",
         "53.05121324"
        ],
        [
         "12",
         "1844",
         "Henry Clay",
         "Whig",
         "1300004",
         "loss",
         "49.250523"
        ],
        [
         "13",
         "1844",
         "James Polk",
         "Democratic",
         "1339570",
         "win",
         "50.749477"
        ],
        [
         "14",
         "1848",
         "Lewis Cass",
         "Democratic",
         "1223460",
         "loss",
         "42.55222948"
        ],
        [
         "15",
         "1848",
         "Martin Van Buren",
         "Free Soil",
         "291501",
         "loss",
         "10.13847404"
        ],
        [
         "16",
         "1848",
         "Zachary Taylor",
         "Whig",
         "1360235",
         "win",
         "47.30929648"
        ],
        [
         "17",
         "1852",
         "Franklin Pierce",
         "Democratic",
         "1605943",
         "win",
         "51.01316828"
        ],
        [
         "18",
         "1852",
         "John P. Hale",
         "Free Soil",
         "155210",
         "loss",
         "4.930283235"
        ],
        [
         "19",
         "1852",
         "Winfield Scott",
         "Whig",
         "1386942",
         "loss",
         "44.05654848"
        ],
        [
         "20",
         "1856",
         "James Buchanan",
         "Democratic",
         "1835140",
         "win",
         "45.30608033"
        ],
        [
         "21",
         "1856",
         "John C. Frémont",
         "Republican",
         "1342345",
         "loss",
         "33.1399187"
        ],
        [
         "22",
         "1856",
         "Millard Fillmore",
         "American",
         "873053",
         "loss",
         "21.55400097"
        ],
        [
         "23",
         "1860",
         "Abraham Lincoln",
         "Republican",
         "1855993",
         "win",
         "39.69940846"
        ],
        [
         "24",
         "1860",
         "John Bell",
         "Constitutional Union",
         "590901",
         "loss",
         "12.63928267"
        ],
        [
         "25",
         "1860",
         "John C. Breckinridge",
         "Southern Democratic",
         "848019",
         "loss",
         "18.13899765"
        ],
        [
         "26",
         "1860",
         "Stephen A. Douglas",
         "Northern Democratic",
         "1380202",
         "loss",
         "29.52231122"
        ],
        [
         "27",
         "1864",
         "Abraham Lincoln",
         "National Union",
         "2211317",
         "win",
         "54.95151243"
        ],
        [
         "28",
         "1864",
         "George B. McClellan",
         "Democratic",
         "1812807",
         "loss",
         "45.04848757"
        ],
        [
         "29",
         "1868",
         "Horatio Seymour",
         "Democratic",
         "2708744",
         "loss",
         "47.33469473"
        ],
        [
         "30",
         "1868",
         "Ulysses Grant",
         "Republican",
         "3013790",
         "win",
         "52.66530527"
        ],
        [
         "31",
         "1872",
         "Horace Greeley",
         "Liberal Republican",
         "2834761",
         "loss",
         "44.07140636"
        ],
        [
         "32",
         "1872",
         "Ulysses Grant",
         "Republican",
         "3597439",
         "win",
         "55.92859364"
        ],
        [
         "33",
         "1876",
         "Rutherford Hayes",
         "Republican",
         "4034142",
         "win",
         "48.47162359"
        ],
        [
         "34",
         "1876",
         "Samuel J. Tilden",
         "Democratic",
         "4288546",
         "loss",
         "51.52837641"
        ],
        [
         "35",
         "1880",
         "James B. Weaver",
         "Greenback",
         "308649",
         "loss",
         "3.352343585"
        ],
        [
         "36",
         "1880",
         "James Garfield",
         "Republican",
         "4453337",
         "win",
         "48.36923406"
        ],
        [
         "37",
         "1880",
         "Winfield Scott Hancock",
         "Democratic",
         "4444976",
         "loss",
         "48.27842235"
        ],
        [
         "38",
         "1884",
         "Benjamin Butler",
         "Anti-Monopoly",
         "134294",
         "loss",
         "1.335838283"
        ],
        [
         "39",
         "1884",
         "Grover Cleveland",
         "Democratic",
         "4914482",
         "win",
         "48.88493303"
        ],
        [
         "40",
         "1884",
         "James G. Blaine",
         "Republican",
         "4856905",
         "loss",
         "48.31220781"
        ],
        [
         "41",
         "1884",
         "John St. John",
         "Prohibition",
         "147482",
         "loss",
         "1.467020877"
        ],
        [
         "42",
         "1888",
         "Alson Streeter",
         "Union Labor",
         "146602",
         "loss",
         "1.288860686"
        ],
        [
         "43",
         "1888",
         "Benjamin Harrison",
         "Republican",
         "5443633",
         "win",
         "47.85804123"
        ],
        [
         "44",
         "1888",
         "Clinton B. Fisk",
         "Prohibition",
         "249819",
         "loss",
         "2.19629942"
        ],
        [
         "45",
         "1888",
         "Grover Cleveland",
         "Democratic",
         "5534488",
         "loss",
         "48.65679866"
        ],
        [
         "46",
         "1892",
         "Benjamin Harrison",
         "Republican",
         "5176108",
         "loss",
         "42.98410062"
        ],
        [
         "47",
         "1892",
         "Grover Cleveland",
         "Democratic",
         "5553898",
         "win",
         "46.12139284"
        ],
        [
         "48",
         "1892",
         "James B. Weaver",
         "Populist",
         "1041028",
         "loss",
         "8.645038376"
        ],
        [
         "49",
         "1892",
         "John Bidwell",
         "Prohibition",
         "270879",
         "loss",
         "2.24946817"
        ]
       ],
       "shape": {
        "columns": 6,
        "rows": 182
       }
      },
      "text/html": [
       "<div>\n",
       "<style scoped>\n",
       "    .dataframe tbody tr th:only-of-type {\n",
       "        vertical-align: middle;\n",
       "    }\n",
       "\n",
       "    .dataframe tbody tr th {\n",
       "        vertical-align: top;\n",
       "    }\n",
       "\n",
       "    .dataframe thead th {\n",
       "        text-align: right;\n",
       "    }\n",
       "</style>\n",
       "<table border=\"1\" class=\"dataframe\">\n",
       "  <thead>\n",
       "    <tr style=\"text-align: right;\">\n",
       "      <th></th>\n",
       "      <th>Year</th>\n",
       "      <th>Candidate</th>\n",
       "      <th>Party</th>\n",
       "      <th>Popular vote</th>\n",
       "      <th>Result</th>\n",
       "      <th>%</th>\n",
       "    </tr>\n",
       "  </thead>\n",
       "  <tbody>\n",
       "    <tr>\n",
       "      <th>0</th>\n",
       "      <td>1824</td>\n",
       "      <td>Andrew Jackson</td>\n",
       "      <td>Democratic-Republican</td>\n",
       "      <td>151271</td>\n",
       "      <td>loss</td>\n",
       "      <td>57.210122</td>\n",
       "    </tr>\n",
       "    <tr>\n",
       "      <th>1</th>\n",
       "      <td>1824</td>\n",
       "      <td>John Quincy Adams</td>\n",
       "      <td>Democratic-Republican</td>\n",
       "      <td>113142</td>\n",
       "      <td>win</td>\n",
       "      <td>42.789878</td>\n",
       "    </tr>\n",
       "    <tr>\n",
       "      <th>2</th>\n",
       "      <td>1828</td>\n",
       "      <td>Andrew Jackson</td>\n",
       "      <td>Democratic</td>\n",
       "      <td>642806</td>\n",
       "      <td>win</td>\n",
       "      <td>56.203927</td>\n",
       "    </tr>\n",
       "    <tr>\n",
       "      <th>3</th>\n",
       "      <td>1828</td>\n",
       "      <td>John Quincy Adams</td>\n",
       "      <td>National Republican</td>\n",
       "      <td>500897</td>\n",
       "      <td>loss</td>\n",
       "      <td>43.796073</td>\n",
       "    </tr>\n",
       "    <tr>\n",
       "      <th>4</th>\n",
       "      <td>1832</td>\n",
       "      <td>Andrew Jackson</td>\n",
       "      <td>Democratic</td>\n",
       "      <td>702735</td>\n",
       "      <td>win</td>\n",
       "      <td>54.574789</td>\n",
       "    </tr>\n",
       "    <tr>\n",
       "      <th>...</th>\n",
       "      <td>...</td>\n",
       "      <td>...</td>\n",
       "      <td>...</td>\n",
       "      <td>...</td>\n",
       "      <td>...</td>\n",
       "      <td>...</td>\n",
       "    </tr>\n",
       "    <tr>\n",
       "      <th>177</th>\n",
       "      <td>2016</td>\n",
       "      <td>Jill Stein</td>\n",
       "      <td>Green</td>\n",
       "      <td>1457226</td>\n",
       "      <td>loss</td>\n",
       "      <td>1.073699</td>\n",
       "    </tr>\n",
       "    <tr>\n",
       "      <th>178</th>\n",
       "      <td>2020</td>\n",
       "      <td>Joseph Biden</td>\n",
       "      <td>Democratic</td>\n",
       "      <td>81268924</td>\n",
       "      <td>win</td>\n",
       "      <td>51.311515</td>\n",
       "    </tr>\n",
       "    <tr>\n",
       "      <th>179</th>\n",
       "      <td>2020</td>\n",
       "      <td>Donald Trump</td>\n",
       "      <td>Republican</td>\n",
       "      <td>74216154</td>\n",
       "      <td>loss</td>\n",
       "      <td>46.858542</td>\n",
       "    </tr>\n",
       "    <tr>\n",
       "      <th>180</th>\n",
       "      <td>2020</td>\n",
       "      <td>Jo Jorgensen</td>\n",
       "      <td>Libertarian</td>\n",
       "      <td>1865724</td>\n",
       "      <td>loss</td>\n",
       "      <td>1.177979</td>\n",
       "    </tr>\n",
       "    <tr>\n",
       "      <th>181</th>\n",
       "      <td>2020</td>\n",
       "      <td>Howard Hawkins</td>\n",
       "      <td>Green</td>\n",
       "      <td>405035</td>\n",
       "      <td>loss</td>\n",
       "      <td>0.255731</td>\n",
       "    </tr>\n",
       "  </tbody>\n",
       "</table>\n",
       "<p>182 rows × 6 columns</p>\n",
       "</div>"
      ],
      "text/plain": [
       "     Year          Candidate                  Party  Popular vote Result  \\\n",
       "0    1824     Andrew Jackson  Democratic-Republican        151271   loss   \n",
       "1    1824  John Quincy Adams  Democratic-Republican        113142    win   \n",
       "2    1828     Andrew Jackson             Democratic        642806    win   \n",
       "3    1828  John Quincy Adams    National Republican        500897   loss   \n",
       "4    1832     Andrew Jackson             Democratic        702735    win   \n",
       "..    ...                ...                    ...           ...    ...   \n",
       "177  2016         Jill Stein                  Green       1457226   loss   \n",
       "178  2020       Joseph Biden             Democratic      81268924    win   \n",
       "179  2020       Donald Trump             Republican      74216154   loss   \n",
       "180  2020       Jo Jorgensen            Libertarian       1865724   loss   \n",
       "181  2020     Howard Hawkins                  Green        405035   loss   \n",
       "\n",
       "             %  \n",
       "0    57.210122  \n",
       "1    42.789878  \n",
       "2    56.203927  \n",
       "3    43.796073  \n",
       "4    54.574789  \n",
       "..         ...  \n",
       "177   1.073699  \n",
       "178  51.311515  \n",
       "179  46.858542  \n",
       "180   1.177979  \n",
       "181   0.255731  \n",
       "\n",
       "[182 rows x 6 columns]"
      ]
     },
     "execution_count": 14,
     "metadata": {},
     "output_type": "execute_result"
    }
   ],
   "source": [
    "elections = pd.read_csv(\"data/elections.csv\")\n",
    "elections"
   ]
  },
  {
   "cell_type": "markdown",
   "metadata": {},
   "source": [
    "By passing a column to the `index_col` attribute, the `Index` can be defined at the initialization."
   ]
  },
  {
   "cell_type": "code",
   "execution_count": 15,
   "metadata": {},
   "outputs": [
    {
     "data": {
      "application/vnd.microsoft.datawrangler.viewer.v0+json": {
       "columns": [
        {
         "name": "Candidate",
         "rawType": "object",
         "type": "string"
        },
        {
         "name": "Year",
         "rawType": "int64",
         "type": "integer"
        },
        {
         "name": "Party",
         "rawType": "object",
         "type": "string"
        },
        {
         "name": "Popular vote",
         "rawType": "int64",
         "type": "integer"
        },
        {
         "name": "Result",
         "rawType": "object",
         "type": "string"
        },
        {
         "name": "%",
         "rawType": "float64",
         "type": "float"
        }
       ],
       "ref": "70c1e26a-f603-4999-969d-b244cbdeaf49",
       "rows": [
        [
         "Andrew Jackson",
         "1824",
         "Democratic-Republican",
         "151271",
         "loss",
         "57.21012204"
        ],
        [
         "John Quincy Adams",
         "1824",
         "Democratic-Republican",
         "113142",
         "win",
         "42.78987796"
        ],
        [
         "Andrew Jackson",
         "1828",
         "Democratic",
         "642806",
         "win",
         "56.20392707"
        ],
        [
         "John Quincy Adams",
         "1828",
         "National Republican",
         "500897",
         "loss",
         "43.79607293"
        ],
        [
         "Andrew Jackson",
         "1832",
         "Democratic",
         "702735",
         "win",
         "54.57478905"
        ],
        [
         "Henry Clay",
         "1832",
         "National Republican",
         "484205",
         "loss",
         "37.6036283"
        ],
        [
         "William Wirt",
         "1832",
         "Anti-Masonic",
         "100715",
         "loss",
         "7.821582644"
        ],
        [
         "Hugh Lawson White",
         "1836",
         "Whig",
         "146109",
         "loss",
         "10.00598542"
        ],
        [
         "Martin Van Buren",
         "1836",
         "Democratic",
         "763291",
         "win",
         "52.27247202"
        ],
        [
         "William Henry Harrison",
         "1836",
         "Whig",
         "550816",
         "loss",
         "37.72154257"
        ],
        [
         "Martin Van Buren",
         "1840",
         "Democratic",
         "1128854",
         "loss",
         "46.94878676"
        ],
        [
         "William Henry Harrison",
         "1840",
         "Whig",
         "1275583",
         "win",
         "53.05121324"
        ],
        [
         "Henry Clay",
         "1844",
         "Whig",
         "1300004",
         "loss",
         "49.250523"
        ],
        [
         "James Polk",
         "1844",
         "Democratic",
         "1339570",
         "win",
         "50.749477"
        ],
        [
         "Lewis Cass",
         "1848",
         "Democratic",
         "1223460",
         "loss",
         "42.55222948"
        ],
        [
         "Martin Van Buren",
         "1848",
         "Free Soil",
         "291501",
         "loss",
         "10.13847404"
        ],
        [
         "Zachary Taylor",
         "1848",
         "Whig",
         "1360235",
         "win",
         "47.30929648"
        ],
        [
         "Franklin Pierce",
         "1852",
         "Democratic",
         "1605943",
         "win",
         "51.01316828"
        ],
        [
         "John P. Hale",
         "1852",
         "Free Soil",
         "155210",
         "loss",
         "4.930283235"
        ],
        [
         "Winfield Scott",
         "1852",
         "Whig",
         "1386942",
         "loss",
         "44.05654848"
        ],
        [
         "James Buchanan",
         "1856",
         "Democratic",
         "1835140",
         "win",
         "45.30608033"
        ],
        [
         "John C. Frémont",
         "1856",
         "Republican",
         "1342345",
         "loss",
         "33.1399187"
        ],
        [
         "Millard Fillmore",
         "1856",
         "American",
         "873053",
         "loss",
         "21.55400097"
        ],
        [
         "Abraham Lincoln",
         "1860",
         "Republican",
         "1855993",
         "win",
         "39.69940846"
        ],
        [
         "John Bell",
         "1860",
         "Constitutional Union",
         "590901",
         "loss",
         "12.63928267"
        ],
        [
         "John C. Breckinridge",
         "1860",
         "Southern Democratic",
         "848019",
         "loss",
         "18.13899765"
        ],
        [
         "Stephen A. Douglas",
         "1860",
         "Northern Democratic",
         "1380202",
         "loss",
         "29.52231122"
        ],
        [
         "Abraham Lincoln",
         "1864",
         "National Union",
         "2211317",
         "win",
         "54.95151243"
        ],
        [
         "George B. McClellan",
         "1864",
         "Democratic",
         "1812807",
         "loss",
         "45.04848757"
        ],
        [
         "Horatio Seymour",
         "1868",
         "Democratic",
         "2708744",
         "loss",
         "47.33469473"
        ],
        [
         "Ulysses Grant",
         "1868",
         "Republican",
         "3013790",
         "win",
         "52.66530527"
        ],
        [
         "Horace Greeley",
         "1872",
         "Liberal Republican",
         "2834761",
         "loss",
         "44.07140636"
        ],
        [
         "Ulysses Grant",
         "1872",
         "Republican",
         "3597439",
         "win",
         "55.92859364"
        ],
        [
         "Rutherford Hayes",
         "1876",
         "Republican",
         "4034142",
         "win",
         "48.47162359"
        ],
        [
         "Samuel J. Tilden",
         "1876",
         "Democratic",
         "4288546",
         "loss",
         "51.52837641"
        ],
        [
         "James B. Weaver",
         "1880",
         "Greenback",
         "308649",
         "loss",
         "3.352343585"
        ],
        [
         "James Garfield",
         "1880",
         "Republican",
         "4453337",
         "win",
         "48.36923406"
        ],
        [
         "Winfield Scott Hancock",
         "1880",
         "Democratic",
         "4444976",
         "loss",
         "48.27842235"
        ],
        [
         "Benjamin Butler",
         "1884",
         "Anti-Monopoly",
         "134294",
         "loss",
         "1.335838283"
        ],
        [
         "Grover Cleveland",
         "1884",
         "Democratic",
         "4914482",
         "win",
         "48.88493303"
        ],
        [
         "James G. Blaine",
         "1884",
         "Republican",
         "4856905",
         "loss",
         "48.31220781"
        ],
        [
         "John St. John",
         "1884",
         "Prohibition",
         "147482",
         "loss",
         "1.467020877"
        ],
        [
         "Alson Streeter",
         "1888",
         "Union Labor",
         "146602",
         "loss",
         "1.288860686"
        ],
        [
         "Benjamin Harrison",
         "1888",
         "Republican",
         "5443633",
         "win",
         "47.85804123"
        ],
        [
         "Clinton B. Fisk",
         "1888",
         "Prohibition",
         "249819",
         "loss",
         "2.19629942"
        ],
        [
         "Grover Cleveland",
         "1888",
         "Democratic",
         "5534488",
         "loss",
         "48.65679866"
        ],
        [
         "Benjamin Harrison",
         "1892",
         "Republican",
         "5176108",
         "loss",
         "42.98410062"
        ],
        [
         "Grover Cleveland",
         "1892",
         "Democratic",
         "5553898",
         "win",
         "46.12139284"
        ],
        [
         "James B. Weaver",
         "1892",
         "Populist",
         "1041028",
         "loss",
         "8.645038376"
        ],
        [
         "John Bidwell",
         "1892",
         "Prohibition",
         "270879",
         "loss",
         "2.24946817"
        ]
       ],
       "shape": {
        "columns": 5,
        "rows": 182
       }
      },
      "text/html": [
       "<div>\n",
       "<style scoped>\n",
       "    .dataframe tbody tr th:only-of-type {\n",
       "        vertical-align: middle;\n",
       "    }\n",
       "\n",
       "    .dataframe tbody tr th {\n",
       "        vertical-align: top;\n",
       "    }\n",
       "\n",
       "    .dataframe thead th {\n",
       "        text-align: right;\n",
       "    }\n",
       "</style>\n",
       "<table border=\"1\" class=\"dataframe\">\n",
       "  <thead>\n",
       "    <tr style=\"text-align: right;\">\n",
       "      <th></th>\n",
       "      <th>Year</th>\n",
       "      <th>Party</th>\n",
       "      <th>Popular vote</th>\n",
       "      <th>Result</th>\n",
       "      <th>%</th>\n",
       "    </tr>\n",
       "    <tr>\n",
       "      <th>Candidate</th>\n",
       "      <th></th>\n",
       "      <th></th>\n",
       "      <th></th>\n",
       "      <th></th>\n",
       "      <th></th>\n",
       "    </tr>\n",
       "  </thead>\n",
       "  <tbody>\n",
       "    <tr>\n",
       "      <th>Andrew Jackson</th>\n",
       "      <td>1824</td>\n",
       "      <td>Democratic-Republican</td>\n",
       "      <td>151271</td>\n",
       "      <td>loss</td>\n",
       "      <td>57.210122</td>\n",
       "    </tr>\n",
       "    <tr>\n",
       "      <th>John Quincy Adams</th>\n",
       "      <td>1824</td>\n",
       "      <td>Democratic-Republican</td>\n",
       "      <td>113142</td>\n",
       "      <td>win</td>\n",
       "      <td>42.789878</td>\n",
       "    </tr>\n",
       "    <tr>\n",
       "      <th>Andrew Jackson</th>\n",
       "      <td>1828</td>\n",
       "      <td>Democratic</td>\n",
       "      <td>642806</td>\n",
       "      <td>win</td>\n",
       "      <td>56.203927</td>\n",
       "    </tr>\n",
       "    <tr>\n",
       "      <th>John Quincy Adams</th>\n",
       "      <td>1828</td>\n",
       "      <td>National Republican</td>\n",
       "      <td>500897</td>\n",
       "      <td>loss</td>\n",
       "      <td>43.796073</td>\n",
       "    </tr>\n",
       "    <tr>\n",
       "      <th>Andrew Jackson</th>\n",
       "      <td>1832</td>\n",
       "      <td>Democratic</td>\n",
       "      <td>702735</td>\n",
       "      <td>win</td>\n",
       "      <td>54.574789</td>\n",
       "    </tr>\n",
       "    <tr>\n",
       "      <th>...</th>\n",
       "      <td>...</td>\n",
       "      <td>...</td>\n",
       "      <td>...</td>\n",
       "      <td>...</td>\n",
       "      <td>...</td>\n",
       "    </tr>\n",
       "    <tr>\n",
       "      <th>Jill Stein</th>\n",
       "      <td>2016</td>\n",
       "      <td>Green</td>\n",
       "      <td>1457226</td>\n",
       "      <td>loss</td>\n",
       "      <td>1.073699</td>\n",
       "    </tr>\n",
       "    <tr>\n",
       "      <th>Joseph Biden</th>\n",
       "      <td>2020</td>\n",
       "      <td>Democratic</td>\n",
       "      <td>81268924</td>\n",
       "      <td>win</td>\n",
       "      <td>51.311515</td>\n",
       "    </tr>\n",
       "    <tr>\n",
       "      <th>Donald Trump</th>\n",
       "      <td>2020</td>\n",
       "      <td>Republican</td>\n",
       "      <td>74216154</td>\n",
       "      <td>loss</td>\n",
       "      <td>46.858542</td>\n",
       "    </tr>\n",
       "    <tr>\n",
       "      <th>Jo Jorgensen</th>\n",
       "      <td>2020</td>\n",
       "      <td>Libertarian</td>\n",
       "      <td>1865724</td>\n",
       "      <td>loss</td>\n",
       "      <td>1.177979</td>\n",
       "    </tr>\n",
       "    <tr>\n",
       "      <th>Howard Hawkins</th>\n",
       "      <td>2020</td>\n",
       "      <td>Green</td>\n",
       "      <td>405035</td>\n",
       "      <td>loss</td>\n",
       "      <td>0.255731</td>\n",
       "    </tr>\n",
       "  </tbody>\n",
       "</table>\n",
       "<p>182 rows × 5 columns</p>\n",
       "</div>"
      ],
      "text/plain": [
       "                   Year                  Party  Popular vote Result          %\n",
       "Candidate                                                                     \n",
       "Andrew Jackson     1824  Democratic-Republican        151271   loss  57.210122\n",
       "John Quincy Adams  1824  Democratic-Republican        113142    win  42.789878\n",
       "Andrew Jackson     1828             Democratic        642806    win  56.203927\n",
       "John Quincy Adams  1828    National Republican        500897   loss  43.796073\n",
       "Andrew Jackson     1832             Democratic        702735    win  54.574789\n",
       "...                 ...                    ...           ...    ...        ...\n",
       "Jill Stein         2016                  Green       1457226   loss   1.073699\n",
       "Joseph Biden       2020             Democratic      81268924    win  51.311515\n",
       "Donald Trump       2020             Republican      74216154   loss  46.858542\n",
       "Jo Jorgensen       2020            Libertarian       1865724   loss   1.177979\n",
       "Howard Hawkins     2020                  Green        405035   loss   0.255731\n",
       "\n",
       "[182 rows x 5 columns]"
      ]
     },
     "execution_count": 15,
     "metadata": {},
     "output_type": "execute_result"
    }
   ],
   "source": [
    "elections = pd.read_csv(\"data/elections.csv\", index_col = \"Candidate\")\n",
    "elections"
   ]
  },
  {
   "cell_type": "markdown",
   "metadata": {},
   "source": [
    "#### Creating a `DataFrame` using a list and column names"
   ]
  },
  {
   "cell_type": "code",
   "execution_count": 16,
   "metadata": {},
   "outputs": [
    {
     "data": {
      "application/vnd.microsoft.datawrangler.viewer.v0+json": {
       "columns": [
        {
         "name": "index",
         "rawType": "int64",
         "type": "integer"
        },
        {
         "name": "Number",
         "rawType": "int64",
         "type": "integer"
        }
       ],
       "ref": "3f36764a-9e97-40b6-95ec-18b676111aa6",
       "rows": [
        [
         "0",
         "1"
        ],
        [
         "1",
         "2"
        ],
        [
         "2",
         "3"
        ]
       ],
       "shape": {
        "columns": 1,
        "rows": 3
       }
      },
      "text/html": [
       "<div>\n",
       "<style scoped>\n",
       "    .dataframe tbody tr th:only-of-type {\n",
       "        vertical-align: middle;\n",
       "    }\n",
       "\n",
       "    .dataframe tbody tr th {\n",
       "        vertical-align: top;\n",
       "    }\n",
       "\n",
       "    .dataframe thead th {\n",
       "        text-align: right;\n",
       "    }\n",
       "</style>\n",
       "<table border=\"1\" class=\"dataframe\">\n",
       "  <thead>\n",
       "    <tr style=\"text-align: right;\">\n",
       "      <th></th>\n",
       "      <th>Number</th>\n",
       "    </tr>\n",
       "  </thead>\n",
       "  <tbody>\n",
       "    <tr>\n",
       "      <th>0</th>\n",
       "      <td>1</td>\n",
       "    </tr>\n",
       "    <tr>\n",
       "      <th>1</th>\n",
       "      <td>2</td>\n",
       "    </tr>\n",
       "    <tr>\n",
       "      <th>2</th>\n",
       "      <td>3</td>\n",
       "    </tr>\n",
       "  </tbody>\n",
       "</table>\n",
       "</div>"
      ],
      "text/plain": [
       "   Number\n",
       "0       1\n",
       "1       2\n",
       "2       3"
      ]
     },
     "metadata": {},
     "output_type": "display_data"
    }
   ],
   "source": [
    "# Creating a single-column DataFrame using a list\n",
    "df_list_1 = pd.DataFrame([1, 2, 3], \n",
    "                         columns = [\"Number\"])\n",
    "display(df_list_1)"
   ]
  },
  {
   "cell_type": "code",
   "execution_count": 17,
   "metadata": {},
   "outputs": [
    {
     "data": {
      "application/vnd.microsoft.datawrangler.viewer.v0+json": {
       "columns": [
        {
         "name": "index",
         "rawType": "int64",
         "type": "integer"
        },
        {
         "name": "Number",
         "rawType": "int64",
         "type": "integer"
        },
        {
         "name": "Description",
         "rawType": "object",
         "type": "string"
        }
       ],
       "ref": "41c72775-f542-4fa2-a700-b43814b3ccde",
       "rows": [
        [
         "0",
         "1",
         "one"
        ],
        [
         "1",
         "2",
         "two"
        ]
       ],
       "shape": {
        "columns": 2,
        "rows": 2
       }
      },
      "text/html": [
       "<div>\n",
       "<style scoped>\n",
       "    .dataframe tbody tr th:only-of-type {\n",
       "        vertical-align: middle;\n",
       "    }\n",
       "\n",
       "    .dataframe tbody tr th {\n",
       "        vertical-align: top;\n",
       "    }\n",
       "\n",
       "    .dataframe thead th {\n",
       "        text-align: right;\n",
       "    }\n",
       "</style>\n",
       "<table border=\"1\" class=\"dataframe\">\n",
       "  <thead>\n",
       "    <tr style=\"text-align: right;\">\n",
       "      <th></th>\n",
       "      <th>Number</th>\n",
       "      <th>Description</th>\n",
       "    </tr>\n",
       "  </thead>\n",
       "  <tbody>\n",
       "    <tr>\n",
       "      <th>0</th>\n",
       "      <td>1</td>\n",
       "      <td>one</td>\n",
       "    </tr>\n",
       "    <tr>\n",
       "      <th>1</th>\n",
       "      <td>2</td>\n",
       "      <td>two</td>\n",
       "    </tr>\n",
       "  </tbody>\n",
       "</table>\n",
       "</div>"
      ],
      "text/plain": [
       "   Number Description\n",
       "0       1         one\n",
       "1       2         two"
      ]
     },
     "execution_count": 17,
     "metadata": {},
     "output_type": "execute_result"
    }
   ],
   "source": [
    "# Creating a multi-column DataFrame using a list of lists\n",
    "df_list_2 = pd.DataFrame([[1, \"one\"], [2, \"two\"]], \n",
    "                         columns = [\"Number\", \"Description\"])\n",
    "df_list_2"
   ]
  },
  {
   "cell_type": "markdown",
   "metadata": {},
   "source": [
    "#### Creating a `DataFrame` from a dictionary"
   ]
  },
  {
   "cell_type": "code",
   "execution_count": 18,
   "metadata": {},
   "outputs": [
    {
     "data": {
      "application/vnd.microsoft.datawrangler.viewer.v0+json": {
       "columns": [
        {
         "name": "index",
         "rawType": "int64",
         "type": "integer"
        },
        {
         "name": "Fruit",
         "rawType": "object",
         "type": "string"
        },
        {
         "name": "Price",
         "rawType": "float64",
         "type": "float"
        }
       ],
       "ref": "4986f80f-9d84-4c29-b626-f90e4e3413ae",
       "rows": [
        [
         "0",
         "Strawberry",
         "5.49"
        ],
        [
         "1",
         "Orange",
         "3.99"
        ]
       ],
       "shape": {
        "columns": 2,
        "rows": 2
       }
      },
      "text/html": [
       "<div>\n",
       "<style scoped>\n",
       "    .dataframe tbody tr th:only-of-type {\n",
       "        vertical-align: middle;\n",
       "    }\n",
       "\n",
       "    .dataframe tbody tr th {\n",
       "        vertical-align: top;\n",
       "    }\n",
       "\n",
       "    .dataframe thead th {\n",
       "        text-align: right;\n",
       "    }\n",
       "</style>\n",
       "<table border=\"1\" class=\"dataframe\">\n",
       "  <thead>\n",
       "    <tr style=\"text-align: right;\">\n",
       "      <th></th>\n",
       "      <th>Fruit</th>\n",
       "      <th>Price</th>\n",
       "    </tr>\n",
       "  </thead>\n",
       "  <tbody>\n",
       "    <tr>\n",
       "      <th>0</th>\n",
       "      <td>Strawberry</td>\n",
       "      <td>5.49</td>\n",
       "    </tr>\n",
       "    <tr>\n",
       "      <th>1</th>\n",
       "      <td>Orange</td>\n",
       "      <td>3.99</td>\n",
       "    </tr>\n",
       "  </tbody>\n",
       "</table>\n",
       "</div>"
      ],
      "text/plain": [
       "        Fruit  Price\n",
       "0  Strawberry   5.49\n",
       "1      Orange   3.99"
      ]
     },
     "execution_count": 18,
     "metadata": {},
     "output_type": "execute_result"
    }
   ],
   "source": [
    "# Creating a DataFrame from a dictionary of columns\n",
    "df_dict_1 = pd.DataFrame({\"Fruit\":[\"Strawberry\", \"Orange\"], \n",
    "                          \"Price\":[5.49, 3.99]})\n",
    "df_dict_1"
   ]
  },
  {
   "cell_type": "code",
   "execution_count": 19,
   "metadata": {},
   "outputs": [
    {
     "data": {
      "application/vnd.microsoft.datawrangler.viewer.v0+json": {
       "columns": [
        {
         "name": "index",
         "rawType": "int64",
         "type": "integer"
        },
        {
         "name": "Fruit",
         "rawType": "object",
         "type": "string"
        },
        {
         "name": "Price",
         "rawType": "float64",
         "type": "float"
        }
       ],
       "ref": "d7f43977-e37c-4022-a275-5c1cf7a8bac5",
       "rows": [
        [
         "0",
         "Strawberry",
         "5.49"
        ],
        [
         "1",
         "Orange",
         "3.99"
        ]
       ],
       "shape": {
        "columns": 2,
        "rows": 2
       }
      },
      "text/html": [
       "<div>\n",
       "<style scoped>\n",
       "    .dataframe tbody tr th:only-of-type {\n",
       "        vertical-align: middle;\n",
       "    }\n",
       "\n",
       "    .dataframe tbody tr th {\n",
       "        vertical-align: top;\n",
       "    }\n",
       "\n",
       "    .dataframe thead th {\n",
       "        text-align: right;\n",
       "    }\n",
       "</style>\n",
       "<table border=\"1\" class=\"dataframe\">\n",
       "  <thead>\n",
       "    <tr style=\"text-align: right;\">\n",
       "      <th></th>\n",
       "      <th>Fruit</th>\n",
       "      <th>Price</th>\n",
       "    </tr>\n",
       "  </thead>\n",
       "  <tbody>\n",
       "    <tr>\n",
       "      <th>0</th>\n",
       "      <td>Strawberry</td>\n",
       "      <td>5.49</td>\n",
       "    </tr>\n",
       "    <tr>\n",
       "      <th>1</th>\n",
       "      <td>Orange</td>\n",
       "      <td>3.99</td>\n",
       "    </tr>\n",
       "  </tbody>\n",
       "</table>\n",
       "</div>"
      ],
      "text/plain": [
       "        Fruit  Price\n",
       "0  Strawberry   5.49\n",
       "1      Orange   3.99"
      ]
     },
     "execution_count": 19,
     "metadata": {},
     "output_type": "execute_result"
    }
   ],
   "source": [
    "# Creating a DataFrame from a list of row dictionaries\n",
    "df_dict_2 = pd.DataFrame([{\"Fruit\":\"Strawberry\", \"Price\":5.49}, \n",
    "                          {\"Fruit\":\"Orange\", \"Price\":3.99}])\n",
    "df_dict_2"
   ]
  },
  {
   "cell_type": "markdown",
   "metadata": {},
   "source": [
    "#### Creating a `DataFrame` from a `Series`"
   ]
  },
  {
   "cell_type": "code",
   "execution_count": 20,
   "metadata": {},
   "outputs": [],
   "source": [
    "# In the examples below, we create a DataFrame from a Series\n",
    "\n",
    "s_a = pd.Series([\"a1\", \"a2\", \"a3\"], index = [\"r1\", \"r2\", \"r3\"])\n",
    "s_b = pd.Series([\"b1\", \"b2\", \"b3\"], index = [\"r1\", \"r2\", \"r3\"])"
   ]
  },
  {
   "cell_type": "code",
   "execution_count": 21,
   "metadata": {},
   "outputs": [
    {
     "data": {
      "application/vnd.microsoft.datawrangler.viewer.v0+json": {
       "columns": [
        {
         "name": "index",
         "rawType": "object",
         "type": "string"
        },
        {
         "name": "A-column",
         "rawType": "object",
         "type": "string"
        },
        {
         "name": "B-column",
         "rawType": "object",
         "type": "string"
        }
       ],
       "ref": "226e4c12-6589-440f-8896-d2d25879d069",
       "rows": [
        [
         "r1",
         "a1",
         "b1"
        ],
        [
         "r2",
         "a2",
         "b2"
        ],
        [
         "r3",
         "a3",
         "b3"
        ]
       ],
       "shape": {
        "columns": 2,
        "rows": 3
       }
      },
      "text/html": [
       "<div>\n",
       "<style scoped>\n",
       "    .dataframe tbody tr th:only-of-type {\n",
       "        vertical-align: middle;\n",
       "    }\n",
       "\n",
       "    .dataframe tbody tr th {\n",
       "        vertical-align: top;\n",
       "    }\n",
       "\n",
       "    .dataframe thead th {\n",
       "        text-align: right;\n",
       "    }\n",
       "</style>\n",
       "<table border=\"1\" class=\"dataframe\">\n",
       "  <thead>\n",
       "    <tr style=\"text-align: right;\">\n",
       "      <th></th>\n",
       "      <th>A-column</th>\n",
       "      <th>B-column</th>\n",
       "    </tr>\n",
       "  </thead>\n",
       "  <tbody>\n",
       "    <tr>\n",
       "      <th>r1</th>\n",
       "      <td>a1</td>\n",
       "      <td>b1</td>\n",
       "    </tr>\n",
       "    <tr>\n",
       "      <th>r2</th>\n",
       "      <td>a2</td>\n",
       "      <td>b2</td>\n",
       "    </tr>\n",
       "    <tr>\n",
       "      <th>r3</th>\n",
       "      <td>a3</td>\n",
       "      <td>b3</td>\n",
       "    </tr>\n",
       "  </tbody>\n",
       "</table>\n",
       "</div>"
      ],
      "text/plain": [
       "   A-column B-column\n",
       "r1       a1       b1\n",
       "r2       a2       b2\n",
       "r3       a3       b3"
      ]
     },
     "execution_count": 21,
     "metadata": {},
     "output_type": "execute_result"
    }
   ],
   "source": [
    "# Passing Series objects for columns\n",
    "df_ser = pd.DataFrame({\"A-column\":s_a, \"B-column\":s_b})\n",
    "df_ser"
   ]
  },
  {
   "cell_type": "code",
   "execution_count": 22,
   "metadata": {},
   "outputs": [
    {
     "data": {
      "application/vnd.microsoft.datawrangler.viewer.v0+json": {
       "columns": [
        {
         "name": "index",
         "rawType": "object",
         "type": "string"
        },
        {
         "name": "0",
         "rawType": "object",
         "type": "string"
        }
       ],
       "ref": "43ca326e-cc7e-4a95-aa1d-8e24e1e33af3",
       "rows": [
        [
         "r1",
         "a1"
        ],
        [
         "r2",
         "a2"
        ],
        [
         "r3",
         "a3"
        ]
       ],
       "shape": {
        "columns": 1,
        "rows": 3
       }
      },
      "text/html": [
       "<div>\n",
       "<style scoped>\n",
       "    .dataframe tbody tr th:only-of-type {\n",
       "        vertical-align: middle;\n",
       "    }\n",
       "\n",
       "    .dataframe tbody tr th {\n",
       "        vertical-align: top;\n",
       "    }\n",
       "\n",
       "    .dataframe thead th {\n",
       "        text-align: right;\n",
       "    }\n",
       "</style>\n",
       "<table border=\"1\" class=\"dataframe\">\n",
       "  <thead>\n",
       "    <tr style=\"text-align: right;\">\n",
       "      <th></th>\n",
       "      <th>0</th>\n",
       "    </tr>\n",
       "  </thead>\n",
       "  <tbody>\n",
       "    <tr>\n",
       "      <th>r1</th>\n",
       "      <td>a1</td>\n",
       "    </tr>\n",
       "    <tr>\n",
       "      <th>r2</th>\n",
       "      <td>a2</td>\n",
       "    </tr>\n",
       "    <tr>\n",
       "      <th>r3</th>\n",
       "      <td>a3</td>\n",
       "    </tr>\n",
       "  </tbody>\n",
       "</table>\n",
       "</div>"
      ],
      "text/plain": [
       "     0\n",
       "r1  a1\n",
       "r2  a2\n",
       "r3  a3"
      ]
     },
     "execution_count": 22,
     "metadata": {},
     "output_type": "execute_result"
    }
   ],
   "source": [
    "# Passing a Series to the DataFrame constructor to make a one-column dataframe\n",
    "df_ser = pd.DataFrame(s_a)\n",
    "df_ser"
   ]
  },
  {
   "cell_type": "code",
   "execution_count": 23,
   "metadata": {},
   "outputs": [
    {
     "data": {
      "application/vnd.microsoft.datawrangler.viewer.v0+json": {
       "columns": [
        {
         "name": "index",
         "rawType": "object",
         "type": "string"
        },
        {
         "name": "0",
         "rawType": "object",
         "type": "string"
        }
       ],
       "ref": "fccec91d-1fe6-4150-8c17-dc39f87a3ea7",
       "rows": [
        [
         "r1",
         "a1"
        ],
        [
         "r2",
         "a2"
        ],
        [
         "r3",
         "a3"
        ]
       ],
       "shape": {
        "columns": 1,
        "rows": 3
       }
      },
      "text/html": [
       "<div>\n",
       "<style scoped>\n",
       "    .dataframe tbody tr th:only-of-type {\n",
       "        vertical-align: middle;\n",
       "    }\n",
       "\n",
       "    .dataframe tbody tr th {\n",
       "        vertical-align: top;\n",
       "    }\n",
       "\n",
       "    .dataframe thead th {\n",
       "        text-align: right;\n",
       "    }\n",
       "</style>\n",
       "<table border=\"1\" class=\"dataframe\">\n",
       "  <thead>\n",
       "    <tr style=\"text-align: right;\">\n",
       "      <th></th>\n",
       "      <th>0</th>\n",
       "    </tr>\n",
       "  </thead>\n",
       "  <tbody>\n",
       "    <tr>\n",
       "      <th>r1</th>\n",
       "      <td>a1</td>\n",
       "    </tr>\n",
       "    <tr>\n",
       "      <th>r2</th>\n",
       "      <td>a2</td>\n",
       "    </tr>\n",
       "    <tr>\n",
       "      <th>r3</th>\n",
       "      <td>a3</td>\n",
       "    </tr>\n",
       "  </tbody>\n",
       "</table>\n",
       "</div>"
      ],
      "text/plain": [
       "     0\n",
       "r1  a1\n",
       "r2  a2\n",
       "r3  a3"
      ]
     },
     "execution_count": 23,
     "metadata": {},
     "output_type": "execute_result"
    }
   ],
   "source": [
    "# Using to_frame() to convert a Series to DataFrame\n",
    "ser_to_df = s_a.to_frame()\n",
    "ser_to_df"
   ]
  },
  {
   "cell_type": "code",
   "execution_count": 24,
   "metadata": {},
   "outputs": [
    {
     "data": {
      "application/vnd.microsoft.datawrangler.viewer.v0+json": {
       "columns": [
        {
         "name": "Candidate",
         "rawType": "object",
         "type": "string"
        },
        {
         "name": "Year",
         "rawType": "int64",
         "type": "integer"
        },
        {
         "name": "Party",
         "rawType": "object",
         "type": "string"
        },
        {
         "name": "Popular vote",
         "rawType": "int64",
         "type": "integer"
        },
        {
         "name": "Result",
         "rawType": "object",
         "type": "string"
        },
        {
         "name": "%",
         "rawType": "float64",
         "type": "float"
        }
       ],
       "ref": "ff9a12b3-7f84-4934-9f63-675355777cdf",
       "rows": [
        [
         "Andrew Jackson",
         "1824",
         "Democratic-Republican",
         "151271",
         "loss",
         "57.21012204"
        ],
        [
         "John Quincy Adams",
         "1824",
         "Democratic-Republican",
         "113142",
         "win",
         "42.78987796"
        ],
        [
         "Andrew Jackson",
         "1828",
         "Democratic",
         "642806",
         "win",
         "56.20392707"
        ],
        [
         "John Quincy Adams",
         "1828",
         "National Republican",
         "500897",
         "loss",
         "43.79607293"
        ],
        [
         "Andrew Jackson",
         "1832",
         "Democratic",
         "702735",
         "win",
         "54.57478905"
        ]
       ],
       "shape": {
        "columns": 5,
        "rows": 5
       }
      },
      "text/html": [
       "<div>\n",
       "<style scoped>\n",
       "    .dataframe tbody tr th:only-of-type {\n",
       "        vertical-align: middle;\n",
       "    }\n",
       "\n",
       "    .dataframe tbody tr th {\n",
       "        vertical-align: top;\n",
       "    }\n",
       "\n",
       "    .dataframe thead th {\n",
       "        text-align: right;\n",
       "    }\n",
       "</style>\n",
       "<table border=\"1\" class=\"dataframe\">\n",
       "  <thead>\n",
       "    <tr style=\"text-align: right;\">\n",
       "      <th></th>\n",
       "      <th>Year</th>\n",
       "      <th>Party</th>\n",
       "      <th>Popular vote</th>\n",
       "      <th>Result</th>\n",
       "      <th>%</th>\n",
       "    </tr>\n",
       "    <tr>\n",
       "      <th>Candidate</th>\n",
       "      <th></th>\n",
       "      <th></th>\n",
       "      <th></th>\n",
       "      <th></th>\n",
       "      <th></th>\n",
       "    </tr>\n",
       "  </thead>\n",
       "  <tbody>\n",
       "    <tr>\n",
       "      <th>Andrew Jackson</th>\n",
       "      <td>1824</td>\n",
       "      <td>Democratic-Republican</td>\n",
       "      <td>151271</td>\n",
       "      <td>loss</td>\n",
       "      <td>57.210122</td>\n",
       "    </tr>\n",
       "    <tr>\n",
       "      <th>John Quincy Adams</th>\n",
       "      <td>1824</td>\n",
       "      <td>Democratic-Republican</td>\n",
       "      <td>113142</td>\n",
       "      <td>win</td>\n",
       "      <td>42.789878</td>\n",
       "    </tr>\n",
       "    <tr>\n",
       "      <th>Andrew Jackson</th>\n",
       "      <td>1828</td>\n",
       "      <td>Democratic</td>\n",
       "      <td>642806</td>\n",
       "      <td>win</td>\n",
       "      <td>56.203927</td>\n",
       "    </tr>\n",
       "    <tr>\n",
       "      <th>John Quincy Adams</th>\n",
       "      <td>1828</td>\n",
       "      <td>National Republican</td>\n",
       "      <td>500897</td>\n",
       "      <td>loss</td>\n",
       "      <td>43.796073</td>\n",
       "    </tr>\n",
       "    <tr>\n",
       "      <th>Andrew Jackson</th>\n",
       "      <td>1832</td>\n",
       "      <td>Democratic</td>\n",
       "      <td>702735</td>\n",
       "      <td>win</td>\n",
       "      <td>54.574789</td>\n",
       "    </tr>\n",
       "  </tbody>\n",
       "</table>\n",
       "</div>"
      ],
      "text/plain": [
       "                   Year                  Party  Popular vote Result          %\n",
       "Candidate                                                                     \n",
       "Andrew Jackson     1824  Democratic-Republican        151271   loss  57.210122\n",
       "John Quincy Adams  1824  Democratic-Republican        113142    win  42.789878\n",
       "Andrew Jackson     1828             Democratic        642806    win  56.203927\n",
       "John Quincy Adams  1828    National Republican        500897   loss  43.796073\n",
       "Andrew Jackson     1832             Democratic        702735    win  54.574789"
      ]
     },
     "execution_count": 24,
     "metadata": {},
     "output_type": "execute_result"
    }
   ],
   "source": [
    "# Creating a DataFrame from a CSV file and specifying the Index column\n",
    "elections = pd.read_csv(\"data/elections.csv\", index_col = \"Candidate\")\n",
    "elections.head(5) # Using `.head` shows only the first 5 rows to save space"
   ]
  },
  {
   "cell_type": "code",
   "execution_count": 25,
   "metadata": {},
   "outputs": [
    {
     "data": {
      "application/vnd.microsoft.datawrangler.viewer.v0+json": {
       "columns": [
        {
         "name": "Party",
         "rawType": "object",
         "type": "string"
        },
        {
         "name": "Candidate",
         "rawType": "object",
         "type": "string"
        },
        {
         "name": "Year",
         "rawType": "int64",
         "type": "integer"
        },
        {
         "name": "Popular vote",
         "rawType": "int64",
         "type": "integer"
        },
        {
         "name": "Result",
         "rawType": "object",
         "type": "string"
        },
        {
         "name": "%",
         "rawType": "float64",
         "type": "float"
        }
       ],
       "ref": "2ab052ec-b23b-4b17-8ff2-922bc516cc95",
       "rows": [
        [
         "Democratic-Republican",
         "Andrew Jackson",
         "1824",
         "151271",
         "loss",
         "57.21012204"
        ],
        [
         "Democratic-Republican",
         "John Quincy Adams",
         "1824",
         "113142",
         "win",
         "42.78987796"
        ],
        [
         "Democratic",
         "Andrew Jackson",
         "1828",
         "642806",
         "win",
         "56.20392707"
        ],
        [
         "National Republican",
         "John Quincy Adams",
         "1828",
         "500897",
         "loss",
         "43.79607293"
        ],
        [
         "Democratic",
         "Andrew Jackson",
         "1832",
         "702735",
         "win",
         "54.57478905"
        ],
        [
         "National Republican",
         "Henry Clay",
         "1832",
         "484205",
         "loss",
         "37.6036283"
        ],
        [
         "Anti-Masonic",
         "William Wirt",
         "1832",
         "100715",
         "loss",
         "7.821582644"
        ],
        [
         "Whig",
         "Hugh Lawson White",
         "1836",
         "146109",
         "loss",
         "10.00598542"
        ],
        [
         "Democratic",
         "Martin Van Buren",
         "1836",
         "763291",
         "win",
         "52.27247202"
        ],
        [
         "Whig",
         "William Henry Harrison",
         "1836",
         "550816",
         "loss",
         "37.72154257"
        ],
        [
         "Democratic",
         "Martin Van Buren",
         "1840",
         "1128854",
         "loss",
         "46.94878676"
        ],
        [
         "Whig",
         "William Henry Harrison",
         "1840",
         "1275583",
         "win",
         "53.05121324"
        ],
        [
         "Whig",
         "Henry Clay",
         "1844",
         "1300004",
         "loss",
         "49.250523"
        ],
        [
         "Democratic",
         "James Polk",
         "1844",
         "1339570",
         "win",
         "50.749477"
        ],
        [
         "Democratic",
         "Lewis Cass",
         "1848",
         "1223460",
         "loss",
         "42.55222948"
        ],
        [
         "Free Soil",
         "Martin Van Buren",
         "1848",
         "291501",
         "loss",
         "10.13847404"
        ],
        [
         "Whig",
         "Zachary Taylor",
         "1848",
         "1360235",
         "win",
         "47.30929648"
        ],
        [
         "Democratic",
         "Franklin Pierce",
         "1852",
         "1605943",
         "win",
         "51.01316828"
        ],
        [
         "Free Soil",
         "John P. Hale",
         "1852",
         "155210",
         "loss",
         "4.930283235"
        ],
        [
         "Whig",
         "Winfield Scott",
         "1852",
         "1386942",
         "loss",
         "44.05654848"
        ],
        [
         "Democratic",
         "James Buchanan",
         "1856",
         "1835140",
         "win",
         "45.30608033"
        ],
        [
         "Republican",
         "John C. Frémont",
         "1856",
         "1342345",
         "loss",
         "33.1399187"
        ],
        [
         "American",
         "Millard Fillmore",
         "1856",
         "873053",
         "loss",
         "21.55400097"
        ],
        [
         "Republican",
         "Abraham Lincoln",
         "1860",
         "1855993",
         "win",
         "39.69940846"
        ],
        [
         "Constitutional Union",
         "John Bell",
         "1860",
         "590901",
         "loss",
         "12.63928267"
        ],
        [
         "Southern Democratic",
         "John C. Breckinridge",
         "1860",
         "848019",
         "loss",
         "18.13899765"
        ],
        [
         "Northern Democratic",
         "Stephen A. Douglas",
         "1860",
         "1380202",
         "loss",
         "29.52231122"
        ],
        [
         "National Union",
         "Abraham Lincoln",
         "1864",
         "2211317",
         "win",
         "54.95151243"
        ],
        [
         "Democratic",
         "George B. McClellan",
         "1864",
         "1812807",
         "loss",
         "45.04848757"
        ],
        [
         "Democratic",
         "Horatio Seymour",
         "1868",
         "2708744",
         "loss",
         "47.33469473"
        ],
        [
         "Republican",
         "Ulysses Grant",
         "1868",
         "3013790",
         "win",
         "52.66530527"
        ],
        [
         "Liberal Republican",
         "Horace Greeley",
         "1872",
         "2834761",
         "loss",
         "44.07140636"
        ],
        [
         "Republican",
         "Ulysses Grant",
         "1872",
         "3597439",
         "win",
         "55.92859364"
        ],
        [
         "Republican",
         "Rutherford Hayes",
         "1876",
         "4034142",
         "win",
         "48.47162359"
        ],
        [
         "Democratic",
         "Samuel J. Tilden",
         "1876",
         "4288546",
         "loss",
         "51.52837641"
        ],
        [
         "Greenback",
         "James B. Weaver",
         "1880",
         "308649",
         "loss",
         "3.352343585"
        ],
        [
         "Republican",
         "James Garfield",
         "1880",
         "4453337",
         "win",
         "48.36923406"
        ],
        [
         "Democratic",
         "Winfield Scott Hancock",
         "1880",
         "4444976",
         "loss",
         "48.27842235"
        ],
        [
         "Anti-Monopoly",
         "Benjamin Butler",
         "1884",
         "134294",
         "loss",
         "1.335838283"
        ],
        [
         "Democratic",
         "Grover Cleveland",
         "1884",
         "4914482",
         "win",
         "48.88493303"
        ],
        [
         "Republican",
         "James G. Blaine",
         "1884",
         "4856905",
         "loss",
         "48.31220781"
        ],
        [
         "Prohibition",
         "John St. John",
         "1884",
         "147482",
         "loss",
         "1.467020877"
        ],
        [
         "Union Labor",
         "Alson Streeter",
         "1888",
         "146602",
         "loss",
         "1.288860686"
        ],
        [
         "Republican",
         "Benjamin Harrison",
         "1888",
         "5443633",
         "win",
         "47.85804123"
        ],
        [
         "Prohibition",
         "Clinton B. Fisk",
         "1888",
         "249819",
         "loss",
         "2.19629942"
        ],
        [
         "Democratic",
         "Grover Cleveland",
         "1888",
         "5534488",
         "loss",
         "48.65679866"
        ],
        [
         "Republican",
         "Benjamin Harrison",
         "1892",
         "5176108",
         "loss",
         "42.98410062"
        ],
        [
         "Democratic",
         "Grover Cleveland",
         "1892",
         "5553898",
         "win",
         "46.12139284"
        ],
        [
         "Populist",
         "James B. Weaver",
         "1892",
         "1041028",
         "loss",
         "8.645038376"
        ],
        [
         "Prohibition",
         "John Bidwell",
         "1892",
         "270879",
         "loss",
         "2.24946817"
        ]
       ],
       "shape": {
        "columns": 5,
        "rows": 182
       }
      },
      "text/html": [
       "<div>\n",
       "<style scoped>\n",
       "    .dataframe tbody tr th:only-of-type {\n",
       "        vertical-align: middle;\n",
       "    }\n",
       "\n",
       "    .dataframe tbody tr th {\n",
       "        vertical-align: top;\n",
       "    }\n",
       "\n",
       "    .dataframe thead th {\n",
       "        text-align: right;\n",
       "    }\n",
       "</style>\n",
       "<table border=\"1\" class=\"dataframe\">\n",
       "  <thead>\n",
       "    <tr style=\"text-align: right;\">\n",
       "      <th></th>\n",
       "      <th>Candidate</th>\n",
       "      <th>Year</th>\n",
       "      <th>Popular vote</th>\n",
       "      <th>Result</th>\n",
       "      <th>%</th>\n",
       "    </tr>\n",
       "    <tr>\n",
       "      <th>Party</th>\n",
       "      <th></th>\n",
       "      <th></th>\n",
       "      <th></th>\n",
       "      <th></th>\n",
       "      <th></th>\n",
       "    </tr>\n",
       "  </thead>\n",
       "  <tbody>\n",
       "    <tr>\n",
       "      <th>Democratic-Republican</th>\n",
       "      <td>Andrew Jackson</td>\n",
       "      <td>1824</td>\n",
       "      <td>151271</td>\n",
       "      <td>loss</td>\n",
       "      <td>57.210122</td>\n",
       "    </tr>\n",
       "    <tr>\n",
       "      <th>Democratic-Republican</th>\n",
       "      <td>John Quincy Adams</td>\n",
       "      <td>1824</td>\n",
       "      <td>113142</td>\n",
       "      <td>win</td>\n",
       "      <td>42.789878</td>\n",
       "    </tr>\n",
       "    <tr>\n",
       "      <th>Democratic</th>\n",
       "      <td>Andrew Jackson</td>\n",
       "      <td>1828</td>\n",
       "      <td>642806</td>\n",
       "      <td>win</td>\n",
       "      <td>56.203927</td>\n",
       "    </tr>\n",
       "    <tr>\n",
       "      <th>National Republican</th>\n",
       "      <td>John Quincy Adams</td>\n",
       "      <td>1828</td>\n",
       "      <td>500897</td>\n",
       "      <td>loss</td>\n",
       "      <td>43.796073</td>\n",
       "    </tr>\n",
       "    <tr>\n",
       "      <th>Democratic</th>\n",
       "      <td>Andrew Jackson</td>\n",
       "      <td>1832</td>\n",
       "      <td>702735</td>\n",
       "      <td>win</td>\n",
       "      <td>54.574789</td>\n",
       "    </tr>\n",
       "    <tr>\n",
       "      <th>...</th>\n",
       "      <td>...</td>\n",
       "      <td>...</td>\n",
       "      <td>...</td>\n",
       "      <td>...</td>\n",
       "      <td>...</td>\n",
       "    </tr>\n",
       "    <tr>\n",
       "      <th>Green</th>\n",
       "      <td>Jill Stein</td>\n",
       "      <td>2016</td>\n",
       "      <td>1457226</td>\n",
       "      <td>loss</td>\n",
       "      <td>1.073699</td>\n",
       "    </tr>\n",
       "    <tr>\n",
       "      <th>Democratic</th>\n",
       "      <td>Joseph Biden</td>\n",
       "      <td>2020</td>\n",
       "      <td>81268924</td>\n",
       "      <td>win</td>\n",
       "      <td>51.311515</td>\n",
       "    </tr>\n",
       "    <tr>\n",
       "      <th>Republican</th>\n",
       "      <td>Donald Trump</td>\n",
       "      <td>2020</td>\n",
       "      <td>74216154</td>\n",
       "      <td>loss</td>\n",
       "      <td>46.858542</td>\n",
       "    </tr>\n",
       "    <tr>\n",
       "      <th>Libertarian</th>\n",
       "      <td>Jo Jorgensen</td>\n",
       "      <td>2020</td>\n",
       "      <td>1865724</td>\n",
       "      <td>loss</td>\n",
       "      <td>1.177979</td>\n",
       "    </tr>\n",
       "    <tr>\n",
       "      <th>Green</th>\n",
       "      <td>Howard Hawkins</td>\n",
       "      <td>2020</td>\n",
       "      <td>405035</td>\n",
       "      <td>loss</td>\n",
       "      <td>0.255731</td>\n",
       "    </tr>\n",
       "  </tbody>\n",
       "</table>\n",
       "<p>182 rows × 5 columns</p>\n",
       "</div>"
      ],
      "text/plain": [
       "                               Candidate  Year  Popular vote Result          %\n",
       "Party                                                                         \n",
       "Democratic-Republican     Andrew Jackson  1824        151271   loss  57.210122\n",
       "Democratic-Republican  John Quincy Adams  1824        113142    win  42.789878\n",
       "Democratic                Andrew Jackson  1828        642806    win  56.203927\n",
       "National Republican    John Quincy Adams  1828        500897   loss  43.796073\n",
       "Democratic                Andrew Jackson  1832        702735    win  54.574789\n",
       "...                                  ...   ...           ...    ...        ...\n",
       "Green                         Jill Stein  2016       1457226   loss   1.073699\n",
       "Democratic                  Joseph Biden  2020      81268924    win  51.311515\n",
       "Republican                  Donald Trump  2020      74216154   loss  46.858542\n",
       "Libertarian                 Jo Jorgensen  2020       1865724   loss   1.177979\n",
       "Green                     Howard Hawkins  2020        405035   loss   0.255731\n",
       "\n",
       "[182 rows x 5 columns]"
      ]
     },
     "execution_count": 25,
     "metadata": {},
     "output_type": "execute_result"
    }
   ],
   "source": [
    "elections.reset_index(inplace = True) # Need to reset the index to keep 'Candidate' as one of the DataFrane Columns\n",
    "elections.set_index(\"Party\", inplace=True) # This sets the index to the \"Candidate\" column\n",
    "elections"
   ]
  },
  {
   "cell_type": "markdown",
   "metadata": {},
   "source": [
    "### `DataFrame` attributes: `index`, `columns`, and `shape`"
   ]
  },
  {
   "cell_type": "code",
   "execution_count": 26,
   "metadata": {},
   "outputs": [
    {
     "data": {
      "text/plain": [
       "Index(['Democratic-Republican', 'Democratic-Republican', 'Democratic',\n",
       "       'National Republican', 'Democratic', 'National Republican',\n",
       "       'Anti-Masonic', 'Whig', 'Democratic', 'Whig',\n",
       "       ...\n",
       "       'Constitution', 'Republican', 'Independent', 'Libertarian',\n",
       "       'Democratic', 'Green', 'Democratic', 'Republican', 'Libertarian',\n",
       "       'Green'],\n",
       "      dtype='object', name='Party', length=182)"
      ]
     },
     "execution_count": 26,
     "metadata": {},
     "output_type": "execute_result"
    }
   ],
   "source": [
    "elections.index"
   ]
  },
  {
   "cell_type": "code",
   "execution_count": 27,
   "metadata": {},
   "outputs": [
    {
     "data": {
      "text/plain": [
       "Index(['Candidate', 'Year', 'Popular vote', 'Result', '%'], dtype='object')"
      ]
     },
     "execution_count": 27,
     "metadata": {},
     "output_type": "execute_result"
    }
   ],
   "source": [
    "elections.columns"
   ]
  },
  {
   "cell_type": "markdown",
   "metadata": {},
   "source": [
    "The `Index` column can be set to the default list of integers by calling `reset_index()` on a `DataFrame`."
   ]
  },
  {
   "cell_type": "code",
   "execution_count": 28,
   "metadata": {},
   "outputs": [
    {
     "data": {
      "application/vnd.microsoft.datawrangler.viewer.v0+json": {
       "columns": [
        {
         "name": "index",
         "rawType": "int64",
         "type": "integer"
        },
        {
         "name": "Party",
         "rawType": "object",
         "type": "string"
        },
        {
         "name": "Candidate",
         "rawType": "object",
         "type": "string"
        },
        {
         "name": "Year",
         "rawType": "int64",
         "type": "integer"
        },
        {
         "name": "Popular vote",
         "rawType": "int64",
         "type": "integer"
        },
        {
         "name": "Result",
         "rawType": "object",
         "type": "string"
        },
        {
         "name": "%",
         "rawType": "float64",
         "type": "float"
        }
       ],
       "ref": "834dba3e-a5a6-4b89-85ed-e48a314c4d0f",
       "rows": [
        [
         "0",
         "Democratic-Republican",
         "Andrew Jackson",
         "1824",
         "151271",
         "loss",
         "57.21012204"
        ],
        [
         "1",
         "Democratic-Republican",
         "John Quincy Adams",
         "1824",
         "113142",
         "win",
         "42.78987796"
        ],
        [
         "2",
         "Democratic",
         "Andrew Jackson",
         "1828",
         "642806",
         "win",
         "56.20392707"
        ],
        [
         "3",
         "National Republican",
         "John Quincy Adams",
         "1828",
         "500897",
         "loss",
         "43.79607293"
        ],
        [
         "4",
         "Democratic",
         "Andrew Jackson",
         "1832",
         "702735",
         "win",
         "54.57478905"
        ],
        [
         "5",
         "National Republican",
         "Henry Clay",
         "1832",
         "484205",
         "loss",
         "37.6036283"
        ],
        [
         "6",
         "Anti-Masonic",
         "William Wirt",
         "1832",
         "100715",
         "loss",
         "7.821582644"
        ],
        [
         "7",
         "Whig",
         "Hugh Lawson White",
         "1836",
         "146109",
         "loss",
         "10.00598542"
        ],
        [
         "8",
         "Democratic",
         "Martin Van Buren",
         "1836",
         "763291",
         "win",
         "52.27247202"
        ],
        [
         "9",
         "Whig",
         "William Henry Harrison",
         "1836",
         "550816",
         "loss",
         "37.72154257"
        ],
        [
         "10",
         "Democratic",
         "Martin Van Buren",
         "1840",
         "1128854",
         "loss",
         "46.94878676"
        ],
        [
         "11",
         "Whig",
         "William Henry Harrison",
         "1840",
         "1275583",
         "win",
         "53.05121324"
        ],
        [
         "12",
         "Whig",
         "Henry Clay",
         "1844",
         "1300004",
         "loss",
         "49.250523"
        ],
        [
         "13",
         "Democratic",
         "James Polk",
         "1844",
         "1339570",
         "win",
         "50.749477"
        ],
        [
         "14",
         "Democratic",
         "Lewis Cass",
         "1848",
         "1223460",
         "loss",
         "42.55222948"
        ],
        [
         "15",
         "Free Soil",
         "Martin Van Buren",
         "1848",
         "291501",
         "loss",
         "10.13847404"
        ],
        [
         "16",
         "Whig",
         "Zachary Taylor",
         "1848",
         "1360235",
         "win",
         "47.30929648"
        ],
        [
         "17",
         "Democratic",
         "Franklin Pierce",
         "1852",
         "1605943",
         "win",
         "51.01316828"
        ],
        [
         "18",
         "Free Soil",
         "John P. Hale",
         "1852",
         "155210",
         "loss",
         "4.930283235"
        ],
        [
         "19",
         "Whig",
         "Winfield Scott",
         "1852",
         "1386942",
         "loss",
         "44.05654848"
        ],
        [
         "20",
         "Democratic",
         "James Buchanan",
         "1856",
         "1835140",
         "win",
         "45.30608033"
        ],
        [
         "21",
         "Republican",
         "John C. Frémont",
         "1856",
         "1342345",
         "loss",
         "33.1399187"
        ],
        [
         "22",
         "American",
         "Millard Fillmore",
         "1856",
         "873053",
         "loss",
         "21.55400097"
        ],
        [
         "23",
         "Republican",
         "Abraham Lincoln",
         "1860",
         "1855993",
         "win",
         "39.69940846"
        ],
        [
         "24",
         "Constitutional Union",
         "John Bell",
         "1860",
         "590901",
         "loss",
         "12.63928267"
        ],
        [
         "25",
         "Southern Democratic",
         "John C. Breckinridge",
         "1860",
         "848019",
         "loss",
         "18.13899765"
        ],
        [
         "26",
         "Northern Democratic",
         "Stephen A. Douglas",
         "1860",
         "1380202",
         "loss",
         "29.52231122"
        ],
        [
         "27",
         "National Union",
         "Abraham Lincoln",
         "1864",
         "2211317",
         "win",
         "54.95151243"
        ],
        [
         "28",
         "Democratic",
         "George B. McClellan",
         "1864",
         "1812807",
         "loss",
         "45.04848757"
        ],
        [
         "29",
         "Democratic",
         "Horatio Seymour",
         "1868",
         "2708744",
         "loss",
         "47.33469473"
        ],
        [
         "30",
         "Republican",
         "Ulysses Grant",
         "1868",
         "3013790",
         "win",
         "52.66530527"
        ],
        [
         "31",
         "Liberal Republican",
         "Horace Greeley",
         "1872",
         "2834761",
         "loss",
         "44.07140636"
        ],
        [
         "32",
         "Republican",
         "Ulysses Grant",
         "1872",
         "3597439",
         "win",
         "55.92859364"
        ],
        [
         "33",
         "Republican",
         "Rutherford Hayes",
         "1876",
         "4034142",
         "win",
         "48.47162359"
        ],
        [
         "34",
         "Democratic",
         "Samuel J. Tilden",
         "1876",
         "4288546",
         "loss",
         "51.52837641"
        ],
        [
         "35",
         "Greenback",
         "James B. Weaver",
         "1880",
         "308649",
         "loss",
         "3.352343585"
        ],
        [
         "36",
         "Republican",
         "James Garfield",
         "1880",
         "4453337",
         "win",
         "48.36923406"
        ],
        [
         "37",
         "Democratic",
         "Winfield Scott Hancock",
         "1880",
         "4444976",
         "loss",
         "48.27842235"
        ],
        [
         "38",
         "Anti-Monopoly",
         "Benjamin Butler",
         "1884",
         "134294",
         "loss",
         "1.335838283"
        ],
        [
         "39",
         "Democratic",
         "Grover Cleveland",
         "1884",
         "4914482",
         "win",
         "48.88493303"
        ],
        [
         "40",
         "Republican",
         "James G. Blaine",
         "1884",
         "4856905",
         "loss",
         "48.31220781"
        ],
        [
         "41",
         "Prohibition",
         "John St. John",
         "1884",
         "147482",
         "loss",
         "1.467020877"
        ],
        [
         "42",
         "Union Labor",
         "Alson Streeter",
         "1888",
         "146602",
         "loss",
         "1.288860686"
        ],
        [
         "43",
         "Republican",
         "Benjamin Harrison",
         "1888",
         "5443633",
         "win",
         "47.85804123"
        ],
        [
         "44",
         "Prohibition",
         "Clinton B. Fisk",
         "1888",
         "249819",
         "loss",
         "2.19629942"
        ],
        [
         "45",
         "Democratic",
         "Grover Cleveland",
         "1888",
         "5534488",
         "loss",
         "48.65679866"
        ],
        [
         "46",
         "Republican",
         "Benjamin Harrison",
         "1892",
         "5176108",
         "loss",
         "42.98410062"
        ],
        [
         "47",
         "Democratic",
         "Grover Cleveland",
         "1892",
         "5553898",
         "win",
         "46.12139284"
        ],
        [
         "48",
         "Populist",
         "James B. Weaver",
         "1892",
         "1041028",
         "loss",
         "8.645038376"
        ],
        [
         "49",
         "Prohibition",
         "John Bidwell",
         "1892",
         "270879",
         "loss",
         "2.24946817"
        ]
       ],
       "shape": {
        "columns": 6,
        "rows": 182
       }
      },
      "text/html": [
       "<div>\n",
       "<style scoped>\n",
       "    .dataframe tbody tr th:only-of-type {\n",
       "        vertical-align: middle;\n",
       "    }\n",
       "\n",
       "    .dataframe tbody tr th {\n",
       "        vertical-align: top;\n",
       "    }\n",
       "\n",
       "    .dataframe thead th {\n",
       "        text-align: right;\n",
       "    }\n",
       "</style>\n",
       "<table border=\"1\" class=\"dataframe\">\n",
       "  <thead>\n",
       "    <tr style=\"text-align: right;\">\n",
       "      <th></th>\n",
       "      <th>Party</th>\n",
       "      <th>Candidate</th>\n",
       "      <th>Year</th>\n",
       "      <th>Popular vote</th>\n",
       "      <th>Result</th>\n",
       "      <th>%</th>\n",
       "    </tr>\n",
       "  </thead>\n",
       "  <tbody>\n",
       "    <tr>\n",
       "      <th>0</th>\n",
       "      <td>Democratic-Republican</td>\n",
       "      <td>Andrew Jackson</td>\n",
       "      <td>1824</td>\n",
       "      <td>151271</td>\n",
       "      <td>loss</td>\n",
       "      <td>57.210122</td>\n",
       "    </tr>\n",
       "    <tr>\n",
       "      <th>1</th>\n",
       "      <td>Democratic-Republican</td>\n",
       "      <td>John Quincy Adams</td>\n",
       "      <td>1824</td>\n",
       "      <td>113142</td>\n",
       "      <td>win</td>\n",
       "      <td>42.789878</td>\n",
       "    </tr>\n",
       "    <tr>\n",
       "      <th>2</th>\n",
       "      <td>Democratic</td>\n",
       "      <td>Andrew Jackson</td>\n",
       "      <td>1828</td>\n",
       "      <td>642806</td>\n",
       "      <td>win</td>\n",
       "      <td>56.203927</td>\n",
       "    </tr>\n",
       "    <tr>\n",
       "      <th>3</th>\n",
       "      <td>National Republican</td>\n",
       "      <td>John Quincy Adams</td>\n",
       "      <td>1828</td>\n",
       "      <td>500897</td>\n",
       "      <td>loss</td>\n",
       "      <td>43.796073</td>\n",
       "    </tr>\n",
       "    <tr>\n",
       "      <th>4</th>\n",
       "      <td>Democratic</td>\n",
       "      <td>Andrew Jackson</td>\n",
       "      <td>1832</td>\n",
       "      <td>702735</td>\n",
       "      <td>win</td>\n",
       "      <td>54.574789</td>\n",
       "    </tr>\n",
       "    <tr>\n",
       "      <th>...</th>\n",
       "      <td>...</td>\n",
       "      <td>...</td>\n",
       "      <td>...</td>\n",
       "      <td>...</td>\n",
       "      <td>...</td>\n",
       "      <td>...</td>\n",
       "    </tr>\n",
       "    <tr>\n",
       "      <th>177</th>\n",
       "      <td>Green</td>\n",
       "      <td>Jill Stein</td>\n",
       "      <td>2016</td>\n",
       "      <td>1457226</td>\n",
       "      <td>loss</td>\n",
       "      <td>1.073699</td>\n",
       "    </tr>\n",
       "    <tr>\n",
       "      <th>178</th>\n",
       "      <td>Democratic</td>\n",
       "      <td>Joseph Biden</td>\n",
       "      <td>2020</td>\n",
       "      <td>81268924</td>\n",
       "      <td>win</td>\n",
       "      <td>51.311515</td>\n",
       "    </tr>\n",
       "    <tr>\n",
       "      <th>179</th>\n",
       "      <td>Republican</td>\n",
       "      <td>Donald Trump</td>\n",
       "      <td>2020</td>\n",
       "      <td>74216154</td>\n",
       "      <td>loss</td>\n",
       "      <td>46.858542</td>\n",
       "    </tr>\n",
       "    <tr>\n",
       "      <th>180</th>\n",
       "      <td>Libertarian</td>\n",
       "      <td>Jo Jorgensen</td>\n",
       "      <td>2020</td>\n",
       "      <td>1865724</td>\n",
       "      <td>loss</td>\n",
       "      <td>1.177979</td>\n",
       "    </tr>\n",
       "    <tr>\n",
       "      <th>181</th>\n",
       "      <td>Green</td>\n",
       "      <td>Howard Hawkins</td>\n",
       "      <td>2020</td>\n",
       "      <td>405035</td>\n",
       "      <td>loss</td>\n",
       "      <td>0.255731</td>\n",
       "    </tr>\n",
       "  </tbody>\n",
       "</table>\n",
       "<p>182 rows × 6 columns</p>\n",
       "</div>"
      ],
      "text/plain": [
       "                     Party          Candidate  Year  Popular vote Result  \\\n",
       "0    Democratic-Republican     Andrew Jackson  1824        151271   loss   \n",
       "1    Democratic-Republican  John Quincy Adams  1824        113142    win   \n",
       "2               Democratic     Andrew Jackson  1828        642806    win   \n",
       "3      National Republican  John Quincy Adams  1828        500897   loss   \n",
       "4               Democratic     Andrew Jackson  1832        702735    win   \n",
       "..                     ...                ...   ...           ...    ...   \n",
       "177                  Green         Jill Stein  2016       1457226   loss   \n",
       "178             Democratic       Joseph Biden  2020      81268924    win   \n",
       "179             Republican       Donald Trump  2020      74216154   loss   \n",
       "180            Libertarian       Jo Jorgensen  2020       1865724   loss   \n",
       "181                  Green     Howard Hawkins  2020        405035   loss   \n",
       "\n",
       "             %  \n",
       "0    57.210122  \n",
       "1    42.789878  \n",
       "2    56.203927  \n",
       "3    43.796073  \n",
       "4    54.574789  \n",
       "..         ...  \n",
       "177   1.073699  \n",
       "178  51.311515  \n",
       "179  46.858542  \n",
       "180   1.177979  \n",
       "181   0.255731  \n",
       "\n",
       "[182 rows x 6 columns]"
      ]
     },
     "execution_count": 28,
     "metadata": {},
     "output_type": "execute_result"
    }
   ],
   "source": [
    "elections.reset_index(inplace=True) # Revert the index back to its default numeric labeling\n",
    "elections"
   ]
  },
  {
   "cell_type": "code",
   "execution_count": 29,
   "metadata": {},
   "outputs": [
    {
     "data": {
      "text/plain": [
       "(182, 6)"
      ]
     },
     "execution_count": 29,
     "metadata": {},
     "output_type": "execute_result"
    }
   ],
   "source": [
    "elections.shape"
   ]
  },
  {
   "cell_type": "markdown",
   "metadata": {},
   "source": [
    "### Slicing in `DataFrame`s"
   ]
  },
  {
   "cell_type": "markdown",
   "metadata": {},
   "source": [
    "We can use `.head` to return only a few rows of a dataframe."
   ]
  },
  {
   "cell_type": "code",
   "execution_count": 30,
   "metadata": {},
   "outputs": [
    {
     "data": {
      "application/vnd.microsoft.datawrangler.viewer.v0+json": {
       "columns": [
        {
         "name": "index",
         "rawType": "int64",
         "type": "integer"
        },
        {
         "name": "Year",
         "rawType": "int64",
         "type": "integer"
        },
        {
         "name": "Candidate",
         "rawType": "object",
         "type": "string"
        },
        {
         "name": "Party",
         "rawType": "object",
         "type": "string"
        },
        {
         "name": "Popular vote",
         "rawType": "int64",
         "type": "integer"
        },
        {
         "name": "Result",
         "rawType": "object",
         "type": "string"
        },
        {
         "name": "%",
         "rawType": "float64",
         "type": "float"
        }
       ],
       "ref": "6dbddb99-a64b-4268-8533-751ce5357857",
       "rows": [
        [
         "0",
         "1824",
         "Andrew Jackson",
         "Democratic-Republican",
         "151271",
         "loss",
         "57.21012204"
        ],
        [
         "1",
         "1824",
         "John Quincy Adams",
         "Democratic-Republican",
         "113142",
         "win",
         "42.78987796"
        ],
        [
         "2",
         "1828",
         "Andrew Jackson",
         "Democratic",
         "642806",
         "win",
         "56.20392707"
        ],
        [
         "3",
         "1828",
         "John Quincy Adams",
         "National Republican",
         "500897",
         "loss",
         "43.79607293"
        ],
        [
         "4",
         "1832",
         "Andrew Jackson",
         "Democratic",
         "702735",
         "win",
         "54.57478905"
        ]
       ],
       "shape": {
        "columns": 6,
        "rows": 5
       }
      },
      "text/html": [
       "<div>\n",
       "<style scoped>\n",
       "    .dataframe tbody tr th:only-of-type {\n",
       "        vertical-align: middle;\n",
       "    }\n",
       "\n",
       "    .dataframe tbody tr th {\n",
       "        vertical-align: top;\n",
       "    }\n",
       "\n",
       "    .dataframe thead th {\n",
       "        text-align: right;\n",
       "    }\n",
       "</style>\n",
       "<table border=\"1\" class=\"dataframe\">\n",
       "  <thead>\n",
       "    <tr style=\"text-align: right;\">\n",
       "      <th></th>\n",
       "      <th>Year</th>\n",
       "      <th>Candidate</th>\n",
       "      <th>Party</th>\n",
       "      <th>Popular vote</th>\n",
       "      <th>Result</th>\n",
       "      <th>%</th>\n",
       "    </tr>\n",
       "  </thead>\n",
       "  <tbody>\n",
       "    <tr>\n",
       "      <th>0</th>\n",
       "      <td>1824</td>\n",
       "      <td>Andrew Jackson</td>\n",
       "      <td>Democratic-Republican</td>\n",
       "      <td>151271</td>\n",
       "      <td>loss</td>\n",
       "      <td>57.210122</td>\n",
       "    </tr>\n",
       "    <tr>\n",
       "      <th>1</th>\n",
       "      <td>1824</td>\n",
       "      <td>John Quincy Adams</td>\n",
       "      <td>Democratic-Republican</td>\n",
       "      <td>113142</td>\n",
       "      <td>win</td>\n",
       "      <td>42.789878</td>\n",
       "    </tr>\n",
       "    <tr>\n",
       "      <th>2</th>\n",
       "      <td>1828</td>\n",
       "      <td>Andrew Jackson</td>\n",
       "      <td>Democratic</td>\n",
       "      <td>642806</td>\n",
       "      <td>win</td>\n",
       "      <td>56.203927</td>\n",
       "    </tr>\n",
       "    <tr>\n",
       "      <th>3</th>\n",
       "      <td>1828</td>\n",
       "      <td>John Quincy Adams</td>\n",
       "      <td>National Republican</td>\n",
       "      <td>500897</td>\n",
       "      <td>loss</td>\n",
       "      <td>43.796073</td>\n",
       "    </tr>\n",
       "    <tr>\n",
       "      <th>4</th>\n",
       "      <td>1832</td>\n",
       "      <td>Andrew Jackson</td>\n",
       "      <td>Democratic</td>\n",
       "      <td>702735</td>\n",
       "      <td>win</td>\n",
       "      <td>54.574789</td>\n",
       "    </tr>\n",
       "  </tbody>\n",
       "</table>\n",
       "</div>"
      ],
      "text/plain": [
       "   Year          Candidate                  Party  Popular vote Result  \\\n",
       "0  1824     Andrew Jackson  Democratic-Republican        151271   loss   \n",
       "1  1824  John Quincy Adams  Democratic-Republican        113142    win   \n",
       "2  1828     Andrew Jackson             Democratic        642806    win   \n",
       "3  1828  John Quincy Adams    National Republican        500897   loss   \n",
       "4  1832     Andrew Jackson             Democratic        702735    win   \n",
       "\n",
       "           %  \n",
       "0  57.210122  \n",
       "1  42.789878  \n",
       "2  56.203927  \n",
       "3  43.796073  \n",
       "4  54.574789  "
      ]
     },
     "execution_count": 30,
     "metadata": {},
     "output_type": "execute_result"
    }
   ],
   "source": [
    "# Loading DataFrame again to keep the original ordering of columns\n",
    "elections = pd.read_csv(\"data/elections.csv\")\n",
    "\n",
    "elections.head() # By default, calling .head with no argument will show the first 5 rows"
   ]
  },
  {
   "cell_type": "code",
   "execution_count": 31,
   "metadata": {},
   "outputs": [
    {
     "data": {
      "application/vnd.microsoft.datawrangler.viewer.v0+json": {
       "columns": [
        {
         "name": "index",
         "rawType": "int64",
         "type": "integer"
        },
        {
         "name": "Year",
         "rawType": "int64",
         "type": "integer"
        },
        {
         "name": "Candidate",
         "rawType": "object",
         "type": "string"
        },
        {
         "name": "Party",
         "rawType": "object",
         "type": "string"
        },
        {
         "name": "Popular vote",
         "rawType": "int64",
         "type": "integer"
        },
        {
         "name": "Result",
         "rawType": "object",
         "type": "string"
        },
        {
         "name": "%",
         "rawType": "float64",
         "type": "float"
        }
       ],
       "ref": "d520ffb0-b55f-4d5b-9070-51cad76865f4",
       "rows": [
        [
         "0",
         "1824",
         "Andrew Jackson",
         "Democratic-Republican",
         "151271",
         "loss",
         "57.21012204"
        ],
        [
         "1",
         "1824",
         "John Quincy Adams",
         "Democratic-Republican",
         "113142",
         "win",
         "42.78987796"
        ],
        [
         "2",
         "1828",
         "Andrew Jackson",
         "Democratic",
         "642806",
         "win",
         "56.20392707"
        ]
       ],
       "shape": {
        "columns": 6,
        "rows": 3
       }
      },
      "text/html": [
       "<div>\n",
       "<style scoped>\n",
       "    .dataframe tbody tr th:only-of-type {\n",
       "        vertical-align: middle;\n",
       "    }\n",
       "\n",
       "    .dataframe tbody tr th {\n",
       "        vertical-align: top;\n",
       "    }\n",
       "\n",
       "    .dataframe thead th {\n",
       "        text-align: right;\n",
       "    }\n",
       "</style>\n",
       "<table border=\"1\" class=\"dataframe\">\n",
       "  <thead>\n",
       "    <tr style=\"text-align: right;\">\n",
       "      <th></th>\n",
       "      <th>Year</th>\n",
       "      <th>Candidate</th>\n",
       "      <th>Party</th>\n",
       "      <th>Popular vote</th>\n",
       "      <th>Result</th>\n",
       "      <th>%</th>\n",
       "    </tr>\n",
       "  </thead>\n",
       "  <tbody>\n",
       "    <tr>\n",
       "      <th>0</th>\n",
       "      <td>1824</td>\n",
       "      <td>Andrew Jackson</td>\n",
       "      <td>Democratic-Republican</td>\n",
       "      <td>151271</td>\n",
       "      <td>loss</td>\n",
       "      <td>57.210122</td>\n",
       "    </tr>\n",
       "    <tr>\n",
       "      <th>1</th>\n",
       "      <td>1824</td>\n",
       "      <td>John Quincy Adams</td>\n",
       "      <td>Democratic-Republican</td>\n",
       "      <td>113142</td>\n",
       "      <td>win</td>\n",
       "      <td>42.789878</td>\n",
       "    </tr>\n",
       "    <tr>\n",
       "      <th>2</th>\n",
       "      <td>1828</td>\n",
       "      <td>Andrew Jackson</td>\n",
       "      <td>Democratic</td>\n",
       "      <td>642806</td>\n",
       "      <td>win</td>\n",
       "      <td>56.203927</td>\n",
       "    </tr>\n",
       "  </tbody>\n",
       "</table>\n",
       "</div>"
      ],
      "text/plain": [
       "   Year          Candidate                  Party  Popular vote Result  \\\n",
       "0  1824     Andrew Jackson  Democratic-Republican        151271   loss   \n",
       "1  1824  John Quincy Adams  Democratic-Republican        113142    win   \n",
       "2  1828     Andrew Jackson             Democratic        642806    win   \n",
       "\n",
       "           %  \n",
       "0  57.210122  \n",
       "1  42.789878  \n",
       "2  56.203927  "
      ]
     },
     "execution_count": 31,
     "metadata": {},
     "output_type": "execute_result"
    }
   ],
   "source": [
    "elections.head(3)"
   ]
  },
  {
   "cell_type": "markdown",
   "metadata": {},
   "source": [
    "We can also use `.tail` to get the last so many rows."
   ]
  },
  {
   "cell_type": "code",
   "execution_count": 32,
   "metadata": {},
   "outputs": [
    {
     "data": {
      "application/vnd.microsoft.datawrangler.viewer.v0+json": {
       "columns": [
        {
         "name": "index",
         "rawType": "int64",
         "type": "integer"
        },
        {
         "name": "Year",
         "rawType": "int64",
         "type": "integer"
        },
        {
         "name": "Candidate",
         "rawType": "object",
         "type": "string"
        },
        {
         "name": "Party",
         "rawType": "object",
         "type": "string"
        },
        {
         "name": "Popular vote",
         "rawType": "int64",
         "type": "integer"
        },
        {
         "name": "Result",
         "rawType": "object",
         "type": "string"
        },
        {
         "name": "%",
         "rawType": "float64",
         "type": "float"
        }
       ],
       "ref": "476339ff-14a4-4d46-8b47-709c11282d20",
       "rows": [
        [
         "177",
         "2016",
         "Jill Stein",
         "Green",
         "1457226",
         "loss",
         "1.073698944"
        ],
        [
         "178",
         "2020",
         "Joseph Biden",
         "Democratic",
         "81268924",
         "win",
         "51.3115152"
        ],
        [
         "179",
         "2020",
         "Donald Trump",
         "Republican",
         "74216154",
         "loss",
         "46.8585423"
        ],
        [
         "180",
         "2020",
         "Jo Jorgensen",
         "Libertarian",
         "1865724",
         "loss",
         "1.1779795"
        ],
        [
         "181",
         "2020",
         "Howard Hawkins",
         "Green",
         "405035",
         "loss",
         "0.25573071"
        ]
       ],
       "shape": {
        "columns": 6,
        "rows": 5
       }
      },
      "text/html": [
       "<div>\n",
       "<style scoped>\n",
       "    .dataframe tbody tr th:only-of-type {\n",
       "        vertical-align: middle;\n",
       "    }\n",
       "\n",
       "    .dataframe tbody tr th {\n",
       "        vertical-align: top;\n",
       "    }\n",
       "\n",
       "    .dataframe thead th {\n",
       "        text-align: right;\n",
       "    }\n",
       "</style>\n",
       "<table border=\"1\" class=\"dataframe\">\n",
       "  <thead>\n",
       "    <tr style=\"text-align: right;\">\n",
       "      <th></th>\n",
       "      <th>Year</th>\n",
       "      <th>Candidate</th>\n",
       "      <th>Party</th>\n",
       "      <th>Popular vote</th>\n",
       "      <th>Result</th>\n",
       "      <th>%</th>\n",
       "    </tr>\n",
       "  </thead>\n",
       "  <tbody>\n",
       "    <tr>\n",
       "      <th>177</th>\n",
       "      <td>2016</td>\n",
       "      <td>Jill Stein</td>\n",
       "      <td>Green</td>\n",
       "      <td>1457226</td>\n",
       "      <td>loss</td>\n",
       "      <td>1.073699</td>\n",
       "    </tr>\n",
       "    <tr>\n",
       "      <th>178</th>\n",
       "      <td>2020</td>\n",
       "      <td>Joseph Biden</td>\n",
       "      <td>Democratic</td>\n",
       "      <td>81268924</td>\n",
       "      <td>win</td>\n",
       "      <td>51.311515</td>\n",
       "    </tr>\n",
       "    <tr>\n",
       "      <th>179</th>\n",
       "      <td>2020</td>\n",
       "      <td>Donald Trump</td>\n",
       "      <td>Republican</td>\n",
       "      <td>74216154</td>\n",
       "      <td>loss</td>\n",
       "      <td>46.858542</td>\n",
       "    </tr>\n",
       "    <tr>\n",
       "      <th>180</th>\n",
       "      <td>2020</td>\n",
       "      <td>Jo Jorgensen</td>\n",
       "      <td>Libertarian</td>\n",
       "      <td>1865724</td>\n",
       "      <td>loss</td>\n",
       "      <td>1.177979</td>\n",
       "    </tr>\n",
       "    <tr>\n",
       "      <th>181</th>\n",
       "      <td>2020</td>\n",
       "      <td>Howard Hawkins</td>\n",
       "      <td>Green</td>\n",
       "      <td>405035</td>\n",
       "      <td>loss</td>\n",
       "      <td>0.255731</td>\n",
       "    </tr>\n",
       "  </tbody>\n",
       "</table>\n",
       "</div>"
      ],
      "text/plain": [
       "     Year       Candidate        Party  Popular vote Result          %\n",
       "177  2016      Jill Stein        Green       1457226   loss   1.073699\n",
       "178  2020    Joseph Biden   Democratic      81268924    win  51.311515\n",
       "179  2020    Donald Trump   Republican      74216154   loss  46.858542\n",
       "180  2020    Jo Jorgensen  Libertarian       1865724   loss   1.177979\n",
       "181  2020  Howard Hawkins        Green        405035   loss   0.255731"
      ]
     },
     "execution_count": 32,
     "metadata": {},
     "output_type": "execute_result"
    }
   ],
   "source": [
    "elections.tail(5)"
   ]
  },
  {
   "cell_type": "markdown",
   "metadata": {},
   "source": [
    "#### Label-Based Extraction Using`loc`\n",
    "\n",
    "Arguments to `.loc` can be:\n",
    "1. A list.\n",
    "2. A slice (syntax is inclusive of the right-hand side of the slice).\n",
    "3. A single value.\n"
   ]
  },
  {
   "cell_type": "markdown",
   "metadata": {},
   "source": [
    "`loc` selects items by row and column *label*."
   ]
  },
  {
   "cell_type": "code",
   "execution_count": 33,
   "metadata": {},
   "outputs": [
    {
     "data": {
      "application/vnd.microsoft.datawrangler.viewer.v0+json": {
       "columns": [
        {
         "name": "index",
         "rawType": "int64",
         "type": "integer"
        },
        {
         "name": "Year",
         "rawType": "int64",
         "type": "integer"
        },
        {
         "name": "Candidate",
         "rawType": "object",
         "type": "string"
        },
        {
         "name": "Result",
         "rawType": "object",
         "type": "string"
        }
       ],
       "ref": "22cda02d-4b1b-4b31-80c7-be28db59d38d",
       "rows": [
        [
         "87",
         "1932",
         "Herbert Hoover",
         "loss"
        ],
        [
         "25",
         "1860",
         "John C. Breckinridge",
         "loss"
        ],
        [
         "179",
         "2020",
         "Donald Trump",
         "loss"
        ]
       ],
       "shape": {
        "columns": 3,
        "rows": 3
       }
      },
      "text/html": [
       "<div>\n",
       "<style scoped>\n",
       "    .dataframe tbody tr th:only-of-type {\n",
       "        vertical-align: middle;\n",
       "    }\n",
       "\n",
       "    .dataframe tbody tr th {\n",
       "        vertical-align: top;\n",
       "    }\n",
       "\n",
       "    .dataframe thead th {\n",
       "        text-align: right;\n",
       "    }\n",
       "</style>\n",
       "<table border=\"1\" class=\"dataframe\">\n",
       "  <thead>\n",
       "    <tr style=\"text-align: right;\">\n",
       "      <th></th>\n",
       "      <th>Year</th>\n",
       "      <th>Candidate</th>\n",
       "      <th>Result</th>\n",
       "    </tr>\n",
       "  </thead>\n",
       "  <tbody>\n",
       "    <tr>\n",
       "      <th>87</th>\n",
       "      <td>1932</td>\n",
       "      <td>Herbert Hoover</td>\n",
       "      <td>loss</td>\n",
       "    </tr>\n",
       "    <tr>\n",
       "      <th>25</th>\n",
       "      <td>1860</td>\n",
       "      <td>John C. Breckinridge</td>\n",
       "      <td>loss</td>\n",
       "    </tr>\n",
       "    <tr>\n",
       "      <th>179</th>\n",
       "      <td>2020</td>\n",
       "      <td>Donald Trump</td>\n",
       "      <td>loss</td>\n",
       "    </tr>\n",
       "  </tbody>\n",
       "</table>\n",
       "</div>"
      ],
      "text/plain": [
       "     Year             Candidate Result\n",
       "87   1932        Herbert Hoover   loss\n",
       "25   1860  John C. Breckinridge   loss\n",
       "179  2020          Donald Trump   loss"
      ]
     },
     "execution_count": 33,
     "metadata": {},
     "output_type": "execute_result"
    }
   ],
   "source": [
    "# Selection by a list\n",
    "elections.loc[[87, 25, 179], [\"Year\", \"Candidate\", \"Result\"]]"
   ]
  },
  {
   "cell_type": "code",
   "execution_count": 34,
   "metadata": {},
   "outputs": [
    {
     "data": {
      "application/vnd.microsoft.datawrangler.viewer.v0+json": {
       "columns": [
        {
         "name": "index",
         "rawType": "int64",
         "type": "integer"
        },
        {
         "name": "Popular vote",
         "rawType": "int64",
         "type": "integer"
        },
        {
         "name": "Result",
         "rawType": "object",
         "type": "string"
        },
        {
         "name": "%",
         "rawType": "float64",
         "type": "float"
        }
       ],
       "ref": "4284e1be-51ea-4e86-a9c0-b941b98afce0",
       "rows": [
        [
         "87",
         "15761254",
         "loss",
         "39.83059395"
        ],
        [
         "25",
         "848019",
         "loss",
         "18.13899765"
        ],
        [
         "179",
         "74216154",
         "loss",
         "46.8585423"
        ]
       ],
       "shape": {
        "columns": 3,
        "rows": 3
       }
      },
      "text/html": [
       "<div>\n",
       "<style scoped>\n",
       "    .dataframe tbody tr th:only-of-type {\n",
       "        vertical-align: middle;\n",
       "    }\n",
       "\n",
       "    .dataframe tbody tr th {\n",
       "        vertical-align: top;\n",
       "    }\n",
       "\n",
       "    .dataframe thead th {\n",
       "        text-align: right;\n",
       "    }\n",
       "</style>\n",
       "<table border=\"1\" class=\"dataframe\">\n",
       "  <thead>\n",
       "    <tr style=\"text-align: right;\">\n",
       "      <th></th>\n",
       "      <th>Popular vote</th>\n",
       "      <th>Result</th>\n",
       "      <th>%</th>\n",
       "    </tr>\n",
       "  </thead>\n",
       "  <tbody>\n",
       "    <tr>\n",
       "      <th>87</th>\n",
       "      <td>15761254</td>\n",
       "      <td>loss</td>\n",
       "      <td>39.830594</td>\n",
       "    </tr>\n",
       "    <tr>\n",
       "      <th>25</th>\n",
       "      <td>848019</td>\n",
       "      <td>loss</td>\n",
       "      <td>18.138998</td>\n",
       "    </tr>\n",
       "    <tr>\n",
       "      <th>179</th>\n",
       "      <td>74216154</td>\n",
       "      <td>loss</td>\n",
       "      <td>46.858542</td>\n",
       "    </tr>\n",
       "  </tbody>\n",
       "</table>\n",
       "</div>"
      ],
      "text/plain": [
       "     Popular vote Result          %\n",
       "87       15761254   loss  39.830594\n",
       "25         848019   loss  18.138998\n",
       "179      74216154   loss  46.858542"
      ]
     },
     "execution_count": 34,
     "metadata": {},
     "output_type": "execute_result"
    }
   ],
   "source": [
    "# Selection by a list and a slice of columns\n",
    "elections.loc[[87, 25, 179], \"Popular vote\":\"%\"]"
   ]
  },
  {
   "cell_type": "code",
   "execution_count": 35,
   "metadata": {},
   "outputs": [
    {
     "data": {
      "application/vnd.microsoft.datawrangler.viewer.v0+json": {
       "columns": [
        {
         "name": "index",
         "rawType": "int64",
         "type": "integer"
        },
        {
         "name": "Year",
         "rawType": "int64",
         "type": "integer"
        },
        {
         "name": "Candidate",
         "rawType": "object",
         "type": "string"
        },
        {
         "name": "Result",
         "rawType": "object",
         "type": "string"
        }
       ],
       "ref": "f5caf74c-d314-4e67-9f8a-3cb42d69797b",
       "rows": [
        [
         "0",
         "1824",
         "Andrew Jackson",
         "loss"
        ],
        [
         "1",
         "1824",
         "John Quincy Adams",
         "win"
        ],
        [
         "2",
         "1828",
         "Andrew Jackson",
         "win"
        ],
        [
         "3",
         "1828",
         "John Quincy Adams",
         "loss"
        ],
        [
         "4",
         "1832",
         "Andrew Jackson",
         "win"
        ],
        [
         "5",
         "1832",
         "Henry Clay",
         "loss"
        ],
        [
         "6",
         "1832",
         "William Wirt",
         "loss"
        ],
        [
         "7",
         "1836",
         "Hugh Lawson White",
         "loss"
        ],
        [
         "8",
         "1836",
         "Martin Van Buren",
         "win"
        ],
        [
         "9",
         "1836",
         "William Henry Harrison",
         "loss"
        ],
        [
         "10",
         "1840",
         "Martin Van Buren",
         "loss"
        ],
        [
         "11",
         "1840",
         "William Henry Harrison",
         "win"
        ],
        [
         "12",
         "1844",
         "Henry Clay",
         "loss"
        ],
        [
         "13",
         "1844",
         "James Polk",
         "win"
        ],
        [
         "14",
         "1848",
         "Lewis Cass",
         "loss"
        ],
        [
         "15",
         "1848",
         "Martin Van Buren",
         "loss"
        ],
        [
         "16",
         "1848",
         "Zachary Taylor",
         "win"
        ],
        [
         "17",
         "1852",
         "Franklin Pierce",
         "win"
        ],
        [
         "18",
         "1852",
         "John P. Hale",
         "loss"
        ],
        [
         "19",
         "1852",
         "Winfield Scott",
         "loss"
        ],
        [
         "20",
         "1856",
         "James Buchanan",
         "win"
        ],
        [
         "21",
         "1856",
         "John C. Frémont",
         "loss"
        ],
        [
         "22",
         "1856",
         "Millard Fillmore",
         "loss"
        ],
        [
         "23",
         "1860",
         "Abraham Lincoln",
         "win"
        ],
        [
         "24",
         "1860",
         "John Bell",
         "loss"
        ],
        [
         "25",
         "1860",
         "John C. Breckinridge",
         "loss"
        ],
        [
         "26",
         "1860",
         "Stephen A. Douglas",
         "loss"
        ],
        [
         "27",
         "1864",
         "Abraham Lincoln",
         "win"
        ],
        [
         "28",
         "1864",
         "George B. McClellan",
         "loss"
        ],
        [
         "29",
         "1868",
         "Horatio Seymour",
         "loss"
        ],
        [
         "30",
         "1868",
         "Ulysses Grant",
         "win"
        ],
        [
         "31",
         "1872",
         "Horace Greeley",
         "loss"
        ],
        [
         "32",
         "1872",
         "Ulysses Grant",
         "win"
        ],
        [
         "33",
         "1876",
         "Rutherford Hayes",
         "win"
        ],
        [
         "34",
         "1876",
         "Samuel J. Tilden",
         "loss"
        ],
        [
         "35",
         "1880",
         "James B. Weaver",
         "loss"
        ],
        [
         "36",
         "1880",
         "James Garfield",
         "win"
        ],
        [
         "37",
         "1880",
         "Winfield Scott Hancock",
         "loss"
        ],
        [
         "38",
         "1884",
         "Benjamin Butler",
         "loss"
        ],
        [
         "39",
         "1884",
         "Grover Cleveland",
         "win"
        ],
        [
         "40",
         "1884",
         "James G. Blaine",
         "loss"
        ],
        [
         "41",
         "1884",
         "John St. John",
         "loss"
        ],
        [
         "42",
         "1888",
         "Alson Streeter",
         "loss"
        ],
        [
         "43",
         "1888",
         "Benjamin Harrison",
         "win"
        ],
        [
         "44",
         "1888",
         "Clinton B. Fisk",
         "loss"
        ],
        [
         "45",
         "1888",
         "Grover Cleveland",
         "loss"
        ],
        [
         "46",
         "1892",
         "Benjamin Harrison",
         "loss"
        ],
        [
         "47",
         "1892",
         "Grover Cleveland",
         "win"
        ],
        [
         "48",
         "1892",
         "James B. Weaver",
         "loss"
        ],
        [
         "49",
         "1892",
         "John Bidwell",
         "loss"
        ]
       ],
       "shape": {
        "columns": 3,
        "rows": 182
       }
      },
      "text/html": [
       "<div>\n",
       "<style scoped>\n",
       "    .dataframe tbody tr th:only-of-type {\n",
       "        vertical-align: middle;\n",
       "    }\n",
       "\n",
       "    .dataframe tbody tr th {\n",
       "        vertical-align: top;\n",
       "    }\n",
       "\n",
       "    .dataframe thead th {\n",
       "        text-align: right;\n",
       "    }\n",
       "</style>\n",
       "<table border=\"1\" class=\"dataframe\">\n",
       "  <thead>\n",
       "    <tr style=\"text-align: right;\">\n",
       "      <th></th>\n",
       "      <th>Year</th>\n",
       "      <th>Candidate</th>\n",
       "      <th>Result</th>\n",
       "    </tr>\n",
       "  </thead>\n",
       "  <tbody>\n",
       "    <tr>\n",
       "      <th>0</th>\n",
       "      <td>1824</td>\n",
       "      <td>Andrew Jackson</td>\n",
       "      <td>loss</td>\n",
       "    </tr>\n",
       "    <tr>\n",
       "      <th>1</th>\n",
       "      <td>1824</td>\n",
       "      <td>John Quincy Adams</td>\n",
       "      <td>win</td>\n",
       "    </tr>\n",
       "    <tr>\n",
       "      <th>2</th>\n",
       "      <td>1828</td>\n",
       "      <td>Andrew Jackson</td>\n",
       "      <td>win</td>\n",
       "    </tr>\n",
       "    <tr>\n",
       "      <th>3</th>\n",
       "      <td>1828</td>\n",
       "      <td>John Quincy Adams</td>\n",
       "      <td>loss</td>\n",
       "    </tr>\n",
       "    <tr>\n",
       "      <th>4</th>\n",
       "      <td>1832</td>\n",
       "      <td>Andrew Jackson</td>\n",
       "      <td>win</td>\n",
       "    </tr>\n",
       "    <tr>\n",
       "      <th>...</th>\n",
       "      <td>...</td>\n",
       "      <td>...</td>\n",
       "      <td>...</td>\n",
       "    </tr>\n",
       "    <tr>\n",
       "      <th>177</th>\n",
       "      <td>2016</td>\n",
       "      <td>Jill Stein</td>\n",
       "      <td>loss</td>\n",
       "    </tr>\n",
       "    <tr>\n",
       "      <th>178</th>\n",
       "      <td>2020</td>\n",
       "      <td>Joseph Biden</td>\n",
       "      <td>win</td>\n",
       "    </tr>\n",
       "    <tr>\n",
       "      <th>179</th>\n",
       "      <td>2020</td>\n",
       "      <td>Donald Trump</td>\n",
       "      <td>loss</td>\n",
       "    </tr>\n",
       "    <tr>\n",
       "      <th>180</th>\n",
       "      <td>2020</td>\n",
       "      <td>Jo Jorgensen</td>\n",
       "      <td>loss</td>\n",
       "    </tr>\n",
       "    <tr>\n",
       "      <th>181</th>\n",
       "      <td>2020</td>\n",
       "      <td>Howard Hawkins</td>\n",
       "      <td>loss</td>\n",
       "    </tr>\n",
       "  </tbody>\n",
       "</table>\n",
       "<p>182 rows × 3 columns</p>\n",
       "</div>"
      ],
      "text/plain": [
       "     Year          Candidate Result\n",
       "0    1824     Andrew Jackson   loss\n",
       "1    1824  John Quincy Adams    win\n",
       "2    1828     Andrew Jackson    win\n",
       "3    1828  John Quincy Adams   loss\n",
       "4    1832     Andrew Jackson    win\n",
       "..    ...                ...    ...\n",
       "177  2016         Jill Stein   loss\n",
       "178  2020       Joseph Biden    win\n",
       "179  2020       Donald Trump   loss\n",
       "180  2020       Jo Jorgensen   loss\n",
       "181  2020     Howard Hawkins   loss\n",
       "\n",
       "[182 rows x 3 columns]"
      ]
     },
     "execution_count": 35,
     "metadata": {},
     "output_type": "execute_result"
    }
   ],
   "source": [
    "# Extracting all rows using a colon\n",
    "elections.loc[:, [\"Year\", \"Candidate\", \"Result\"]]"
   ]
  },
  {
   "cell_type": "code",
   "execution_count": 36,
   "metadata": {},
   "outputs": [
    {
     "data": {
      "application/vnd.microsoft.datawrangler.viewer.v0+json": {
       "columns": [
        {
         "name": "index",
         "rawType": "int64",
         "type": "integer"
        },
        {
         "name": "Year",
         "rawType": "int64",
         "type": "integer"
        },
        {
         "name": "Candidate",
         "rawType": "object",
         "type": "string"
        },
        {
         "name": "Party",
         "rawType": "object",
         "type": "string"
        },
        {
         "name": "Popular vote",
         "rawType": "int64",
         "type": "integer"
        },
        {
         "name": "Result",
         "rawType": "object",
         "type": "string"
        },
        {
         "name": "%",
         "rawType": "float64",
         "type": "float"
        }
       ],
       "ref": "3a972a65-7955-44ac-b3c5-7b7a1ca7669e",
       "rows": [
        [
         "87",
         "1932",
         "Herbert Hoover",
         "Republican",
         "15761254",
         "loss",
         "39.83059395"
        ],
        [
         "25",
         "1860",
         "John C. Breckinridge",
         "Southern Democratic",
         "848019",
         "loss",
         "18.13899765"
        ],
        [
         "179",
         "2020",
         "Donald Trump",
         "Republican",
         "74216154",
         "loss",
         "46.8585423"
        ]
       ],
       "shape": {
        "columns": 6,
        "rows": 3
       }
      },
      "text/html": [
       "<div>\n",
       "<style scoped>\n",
       "    .dataframe tbody tr th:only-of-type {\n",
       "        vertical-align: middle;\n",
       "    }\n",
       "\n",
       "    .dataframe tbody tr th {\n",
       "        vertical-align: top;\n",
       "    }\n",
       "\n",
       "    .dataframe thead th {\n",
       "        text-align: right;\n",
       "    }\n",
       "</style>\n",
       "<table border=\"1\" class=\"dataframe\">\n",
       "  <thead>\n",
       "    <tr style=\"text-align: right;\">\n",
       "      <th></th>\n",
       "      <th>Year</th>\n",
       "      <th>Candidate</th>\n",
       "      <th>Party</th>\n",
       "      <th>Popular vote</th>\n",
       "      <th>Result</th>\n",
       "      <th>%</th>\n",
       "    </tr>\n",
       "  </thead>\n",
       "  <tbody>\n",
       "    <tr>\n",
       "      <th>87</th>\n",
       "      <td>1932</td>\n",
       "      <td>Herbert Hoover</td>\n",
       "      <td>Republican</td>\n",
       "      <td>15761254</td>\n",
       "      <td>loss</td>\n",
       "      <td>39.830594</td>\n",
       "    </tr>\n",
       "    <tr>\n",
       "      <th>25</th>\n",
       "      <td>1860</td>\n",
       "      <td>John C. Breckinridge</td>\n",
       "      <td>Southern Democratic</td>\n",
       "      <td>848019</td>\n",
       "      <td>loss</td>\n",
       "      <td>18.138998</td>\n",
       "    </tr>\n",
       "    <tr>\n",
       "      <th>179</th>\n",
       "      <td>2020</td>\n",
       "      <td>Donald Trump</td>\n",
       "      <td>Republican</td>\n",
       "      <td>74216154</td>\n",
       "      <td>loss</td>\n",
       "      <td>46.858542</td>\n",
       "    </tr>\n",
       "  </tbody>\n",
       "</table>\n",
       "</div>"
      ],
      "text/plain": [
       "     Year             Candidate                Party  Popular vote Result  \\\n",
       "87   1932        Herbert Hoover           Republican      15761254   loss   \n",
       "25   1860  John C. Breckinridge  Southern Democratic        848019   loss   \n",
       "179  2020          Donald Trump           Republican      74216154   loss   \n",
       "\n",
       "             %  \n",
       "87   39.830594  \n",
       "25   18.138998  \n",
       "179  46.858542  "
      ]
     },
     "execution_count": 36,
     "metadata": {},
     "output_type": "execute_result"
    }
   ],
   "source": [
    "# Extracting all columns using a colon\n",
    "elections.loc[[87, 25, 179], :]"
   ]
  },
  {
   "cell_type": "code",
   "execution_count": 37,
   "metadata": {},
   "outputs": [
    {
     "data": {
      "application/vnd.microsoft.datawrangler.viewer.v0+json": {
       "columns": [
        {
         "name": "index",
         "rawType": "int64",
         "type": "integer"
        },
        {
         "name": "Popular vote",
         "rawType": "int64",
         "type": "integer"
        }
       ],
       "ref": "78f8ce5c-0aab-41d7-93b9-380e4fb7b457",
       "rows": [
        [
         "87",
         "15761254"
        ],
        [
         "25",
         "848019"
        ],
        [
         "179",
         "74216154"
        ]
       ],
       "shape": {
        "columns": 1,
        "rows": 3
       }
      },
      "text/plain": [
       "87     15761254\n",
       "25       848019\n",
       "179    74216154\n",
       "Name: Popular vote, dtype: int64"
      ]
     },
     "execution_count": 37,
     "metadata": {},
     "output_type": "execute_result"
    }
   ],
   "source": [
    "# Selection by a list and a single-column label\n",
    "elections.loc[[87, 25, 179], \"Popular vote\"]"
   ]
  },
  {
   "cell_type": "code",
   "execution_count": 38,
   "metadata": {},
   "outputs": [
    {
     "data": {
      "application/vnd.microsoft.datawrangler.viewer.v0+json": {
       "columns": [
        {
         "name": "index",
         "rawType": "int64",
         "type": "integer"
        },
        {
         "name": "Popular vote",
         "rawType": "int64",
         "type": "integer"
        }
       ],
       "ref": "a7b84066-8e64-4169-905e-b373e335d3e9",
       "rows": [
        [
         "87",
         "15761254"
        ],
        [
         "25",
         "848019"
        ],
        [
         "179",
         "74216154"
        ]
       ],
       "shape": {
        "columns": 1,
        "rows": 3
       }
      },
      "text/html": [
       "<div>\n",
       "<style scoped>\n",
       "    .dataframe tbody tr th:only-of-type {\n",
       "        vertical-align: middle;\n",
       "    }\n",
       "\n",
       "    .dataframe tbody tr th {\n",
       "        vertical-align: top;\n",
       "    }\n",
       "\n",
       "    .dataframe thead th {\n",
       "        text-align: right;\n",
       "    }\n",
       "</style>\n",
       "<table border=\"1\" class=\"dataframe\">\n",
       "  <thead>\n",
       "    <tr style=\"text-align: right;\">\n",
       "      <th></th>\n",
       "      <th>Popular vote</th>\n",
       "    </tr>\n",
       "  </thead>\n",
       "  <tbody>\n",
       "    <tr>\n",
       "      <th>87</th>\n",
       "      <td>15761254</td>\n",
       "    </tr>\n",
       "    <tr>\n",
       "      <th>25</th>\n",
       "      <td>848019</td>\n",
       "    </tr>\n",
       "    <tr>\n",
       "      <th>179</th>\n",
       "      <td>74216154</td>\n",
       "    </tr>\n",
       "  </tbody>\n",
       "</table>\n",
       "</div>"
      ],
      "text/plain": [
       "     Popular vote\n",
       "87       15761254\n",
       "25         848019\n",
       "179      74216154"
      ]
     },
     "execution_count": 38,
     "metadata": {},
     "output_type": "execute_result"
    }
   ],
   "source": [
    "# Note that if we pass \"Popular vote\" in a list, the output will be a DataFrame\n",
    "elections.loc[[87, 25, 179], [\"Popular vote\"]]"
   ]
  },
  {
   "cell_type": "code",
   "execution_count": 39,
   "metadata": {},
   "outputs": [
    {
     "data": {
      "text/plain": [
       "'Andrew Jackson'"
      ]
     },
     "execution_count": 39,
     "metadata": {},
     "output_type": "execute_result"
    }
   ],
   "source": [
    "# Selection by a row label and a column label\n",
    "elections.loc[0, \"Candidate\"]"
   ]
  },
  {
   "cell_type": "markdown",
   "metadata": {},
   "source": [
    "#### Integer-Based Extraction Using `iloc`"
   ]
  },
  {
   "cell_type": "markdown",
   "metadata": {},
   "source": [
    "`iloc` selects items by row and column *integer* position.\n",
    "\n",
    "Arguments to `.iloc` can be:\n",
    "1. A list.\n",
    "2. A slice (syntax is exclusive of the right hand side of the slice).\n",
    "3. A single value.\n"
   ]
  },
  {
   "cell_type": "code",
   "execution_count": 40,
   "metadata": {},
   "outputs": [
    {
     "data": {
      "application/vnd.microsoft.datawrangler.viewer.v0+json": {
       "columns": [
        {
         "name": "index",
         "rawType": "int64",
         "type": "integer"
        },
        {
         "name": "Year",
         "rawType": "int64",
         "type": "integer"
        },
        {
         "name": "Candidate",
         "rawType": "object",
         "type": "string"
        },
        {
         "name": "Party",
         "rawType": "object",
         "type": "string"
        }
       ],
       "ref": "ce169e6e-fb8d-4499-a921-53e5789a6fdc",
       "rows": [
        [
         "1",
         "1824",
         "John Quincy Adams",
         "Democratic-Republican"
        ],
        [
         "2",
         "1828",
         "Andrew Jackson",
         "Democratic"
        ],
        [
         "3",
         "1828",
         "John Quincy Adams",
         "National Republican"
        ]
       ],
       "shape": {
        "columns": 3,
        "rows": 3
       }
      },
      "text/html": [
       "<div>\n",
       "<style scoped>\n",
       "    .dataframe tbody tr th:only-of-type {\n",
       "        vertical-align: middle;\n",
       "    }\n",
       "\n",
       "    .dataframe tbody tr th {\n",
       "        vertical-align: top;\n",
       "    }\n",
       "\n",
       "    .dataframe thead th {\n",
       "        text-align: right;\n",
       "    }\n",
       "</style>\n",
       "<table border=\"1\" class=\"dataframe\">\n",
       "  <thead>\n",
       "    <tr style=\"text-align: right;\">\n",
       "      <th></th>\n",
       "      <th>Year</th>\n",
       "      <th>Candidate</th>\n",
       "      <th>Party</th>\n",
       "    </tr>\n",
       "  </thead>\n",
       "  <tbody>\n",
       "    <tr>\n",
       "      <th>1</th>\n",
       "      <td>1824</td>\n",
       "      <td>John Quincy Adams</td>\n",
       "      <td>Democratic-Republican</td>\n",
       "    </tr>\n",
       "    <tr>\n",
       "      <th>2</th>\n",
       "      <td>1828</td>\n",
       "      <td>Andrew Jackson</td>\n",
       "      <td>Democratic</td>\n",
       "    </tr>\n",
       "    <tr>\n",
       "      <th>3</th>\n",
       "      <td>1828</td>\n",
       "      <td>John Quincy Adams</td>\n",
       "      <td>National Republican</td>\n",
       "    </tr>\n",
       "  </tbody>\n",
       "</table>\n",
       "</div>"
      ],
      "text/plain": [
       "   Year          Candidate                  Party\n",
       "1  1824  John Quincy Adams  Democratic-Republican\n",
       "2  1828     Andrew Jackson             Democratic\n",
       "3  1828  John Quincy Adams    National Republican"
      ]
     },
     "execution_count": 40,
     "metadata": {},
     "output_type": "execute_result"
    }
   ],
   "source": [
    "# Select the rows at positions 1, 2, and 3.\n",
    "# Select the columns at positions 0, 1, and 2.\n",
    "# Remember that Python indexing begins at position 0!\n",
    "elections.iloc[[1, 2, 3], [0, 1, 2]]"
   ]
  },
  {
   "cell_type": "code",
   "execution_count": 41,
   "metadata": {},
   "outputs": [
    {
     "data": {
      "application/vnd.microsoft.datawrangler.viewer.v0+json": {
       "columns": [
        {
         "name": "index",
         "rawType": "int64",
         "type": "integer"
        },
        {
         "name": "Year",
         "rawType": "int64",
         "type": "integer"
        },
        {
         "name": "Candidate",
         "rawType": "object",
         "type": "string"
        },
        {
         "name": "Party",
         "rawType": "object",
         "type": "string"
        }
       ],
       "ref": "e75fb39d-c8ea-43fe-95e1-5e9589c245f5",
       "rows": [
        [
         "1",
         "1824",
         "John Quincy Adams",
         "Democratic-Republican"
        ],
        [
         "2",
         "1828",
         "Andrew Jackson",
         "Democratic"
        ],
        [
         "3",
         "1828",
         "John Quincy Adams",
         "National Republican"
        ]
       ],
       "shape": {
        "columns": 3,
        "rows": 3
       }
      },
      "text/html": [
       "<div>\n",
       "<style scoped>\n",
       "    .dataframe tbody tr th:only-of-type {\n",
       "        vertical-align: middle;\n",
       "    }\n",
       "\n",
       "    .dataframe tbody tr th {\n",
       "        vertical-align: top;\n",
       "    }\n",
       "\n",
       "    .dataframe thead th {\n",
       "        text-align: right;\n",
       "    }\n",
       "</style>\n",
       "<table border=\"1\" class=\"dataframe\">\n",
       "  <thead>\n",
       "    <tr style=\"text-align: right;\">\n",
       "      <th></th>\n",
       "      <th>Year</th>\n",
       "      <th>Candidate</th>\n",
       "      <th>Party</th>\n",
       "    </tr>\n",
       "  </thead>\n",
       "  <tbody>\n",
       "    <tr>\n",
       "      <th>1</th>\n",
       "      <td>1824</td>\n",
       "      <td>John Quincy Adams</td>\n",
       "      <td>Democratic-Republican</td>\n",
       "    </tr>\n",
       "    <tr>\n",
       "      <th>2</th>\n",
       "      <td>1828</td>\n",
       "      <td>Andrew Jackson</td>\n",
       "      <td>Democratic</td>\n",
       "    </tr>\n",
       "    <tr>\n",
       "      <th>3</th>\n",
       "      <td>1828</td>\n",
       "      <td>John Quincy Adams</td>\n",
       "      <td>National Republican</td>\n",
       "    </tr>\n",
       "  </tbody>\n",
       "</table>\n",
       "</div>"
      ],
      "text/plain": [
       "   Year          Candidate                  Party\n",
       "1  1824  John Quincy Adams  Democratic-Republican\n",
       "2  1828     Andrew Jackson             Democratic\n",
       "3  1828  John Quincy Adams    National Republican"
      ]
     },
     "execution_count": 41,
     "metadata": {},
     "output_type": "execute_result"
    }
   ],
   "source": [
    "# Index-based extraction using a list of rows and a slice of column indices\n",
    "elections.iloc[[1, 2, 3], 0:3]"
   ]
  },
  {
   "cell_type": "code",
   "execution_count": 42,
   "metadata": {},
   "outputs": [
    {
     "data": {
      "application/vnd.microsoft.datawrangler.viewer.v0+json": {
       "columns": [
        {
         "name": "index",
         "rawType": "int64",
         "type": "integer"
        },
        {
         "name": "Year",
         "rawType": "int64",
         "type": "integer"
        },
        {
         "name": "Candidate",
         "rawType": "object",
         "type": "string"
        },
        {
         "name": "Party",
         "rawType": "object",
         "type": "string"
        }
       ],
       "ref": "5faa1d65-9cf9-4da7-9cd2-0c336d77aae8",
       "rows": [
        [
         "0",
         "1824",
         "Andrew Jackson",
         "Democratic-Republican"
        ],
        [
         "1",
         "1824",
         "John Quincy Adams",
         "Democratic-Republican"
        ],
        [
         "2",
         "1828",
         "Andrew Jackson",
         "Democratic"
        ],
        [
         "3",
         "1828",
         "John Quincy Adams",
         "National Republican"
        ],
        [
         "4",
         "1832",
         "Andrew Jackson",
         "Democratic"
        ],
        [
         "5",
         "1832",
         "Henry Clay",
         "National Republican"
        ],
        [
         "6",
         "1832",
         "William Wirt",
         "Anti-Masonic"
        ],
        [
         "7",
         "1836",
         "Hugh Lawson White",
         "Whig"
        ],
        [
         "8",
         "1836",
         "Martin Van Buren",
         "Democratic"
        ],
        [
         "9",
         "1836",
         "William Henry Harrison",
         "Whig"
        ],
        [
         "10",
         "1840",
         "Martin Van Buren",
         "Democratic"
        ],
        [
         "11",
         "1840",
         "William Henry Harrison",
         "Whig"
        ],
        [
         "12",
         "1844",
         "Henry Clay",
         "Whig"
        ],
        [
         "13",
         "1844",
         "James Polk",
         "Democratic"
        ],
        [
         "14",
         "1848",
         "Lewis Cass",
         "Democratic"
        ],
        [
         "15",
         "1848",
         "Martin Van Buren",
         "Free Soil"
        ],
        [
         "16",
         "1848",
         "Zachary Taylor",
         "Whig"
        ],
        [
         "17",
         "1852",
         "Franklin Pierce",
         "Democratic"
        ],
        [
         "18",
         "1852",
         "John P. Hale",
         "Free Soil"
        ],
        [
         "19",
         "1852",
         "Winfield Scott",
         "Whig"
        ],
        [
         "20",
         "1856",
         "James Buchanan",
         "Democratic"
        ],
        [
         "21",
         "1856",
         "John C. Frémont",
         "Republican"
        ],
        [
         "22",
         "1856",
         "Millard Fillmore",
         "American"
        ],
        [
         "23",
         "1860",
         "Abraham Lincoln",
         "Republican"
        ],
        [
         "24",
         "1860",
         "John Bell",
         "Constitutional Union"
        ],
        [
         "25",
         "1860",
         "John C. Breckinridge",
         "Southern Democratic"
        ],
        [
         "26",
         "1860",
         "Stephen A. Douglas",
         "Northern Democratic"
        ],
        [
         "27",
         "1864",
         "Abraham Lincoln",
         "National Union"
        ],
        [
         "28",
         "1864",
         "George B. McClellan",
         "Democratic"
        ],
        [
         "29",
         "1868",
         "Horatio Seymour",
         "Democratic"
        ],
        [
         "30",
         "1868",
         "Ulysses Grant",
         "Republican"
        ],
        [
         "31",
         "1872",
         "Horace Greeley",
         "Liberal Republican"
        ],
        [
         "32",
         "1872",
         "Ulysses Grant",
         "Republican"
        ],
        [
         "33",
         "1876",
         "Rutherford Hayes",
         "Republican"
        ],
        [
         "34",
         "1876",
         "Samuel J. Tilden",
         "Democratic"
        ],
        [
         "35",
         "1880",
         "James B. Weaver",
         "Greenback"
        ],
        [
         "36",
         "1880",
         "James Garfield",
         "Republican"
        ],
        [
         "37",
         "1880",
         "Winfield Scott Hancock",
         "Democratic"
        ],
        [
         "38",
         "1884",
         "Benjamin Butler",
         "Anti-Monopoly"
        ],
        [
         "39",
         "1884",
         "Grover Cleveland",
         "Democratic"
        ],
        [
         "40",
         "1884",
         "James G. Blaine",
         "Republican"
        ],
        [
         "41",
         "1884",
         "John St. John",
         "Prohibition"
        ],
        [
         "42",
         "1888",
         "Alson Streeter",
         "Union Labor"
        ],
        [
         "43",
         "1888",
         "Benjamin Harrison",
         "Republican"
        ],
        [
         "44",
         "1888",
         "Clinton B. Fisk",
         "Prohibition"
        ],
        [
         "45",
         "1888",
         "Grover Cleveland",
         "Democratic"
        ],
        [
         "46",
         "1892",
         "Benjamin Harrison",
         "Republican"
        ],
        [
         "47",
         "1892",
         "Grover Cleveland",
         "Democratic"
        ],
        [
         "48",
         "1892",
         "James B. Weaver",
         "Populist"
        ],
        [
         "49",
         "1892",
         "John Bidwell",
         "Prohibition"
        ]
       ],
       "shape": {
        "columns": 3,
        "rows": 182
       }
      },
      "text/html": [
       "<div>\n",
       "<style scoped>\n",
       "    .dataframe tbody tr th:only-of-type {\n",
       "        vertical-align: middle;\n",
       "    }\n",
       "\n",
       "    .dataframe tbody tr th {\n",
       "        vertical-align: top;\n",
       "    }\n",
       "\n",
       "    .dataframe thead th {\n",
       "        text-align: right;\n",
       "    }\n",
       "</style>\n",
       "<table border=\"1\" class=\"dataframe\">\n",
       "  <thead>\n",
       "    <tr style=\"text-align: right;\">\n",
       "      <th></th>\n",
       "      <th>Year</th>\n",
       "      <th>Candidate</th>\n",
       "      <th>Party</th>\n",
       "    </tr>\n",
       "  </thead>\n",
       "  <tbody>\n",
       "    <tr>\n",
       "      <th>0</th>\n",
       "      <td>1824</td>\n",
       "      <td>Andrew Jackson</td>\n",
       "      <td>Democratic-Republican</td>\n",
       "    </tr>\n",
       "    <tr>\n",
       "      <th>1</th>\n",
       "      <td>1824</td>\n",
       "      <td>John Quincy Adams</td>\n",
       "      <td>Democratic-Republican</td>\n",
       "    </tr>\n",
       "    <tr>\n",
       "      <th>2</th>\n",
       "      <td>1828</td>\n",
       "      <td>Andrew Jackson</td>\n",
       "      <td>Democratic</td>\n",
       "    </tr>\n",
       "    <tr>\n",
       "      <th>3</th>\n",
       "      <td>1828</td>\n",
       "      <td>John Quincy Adams</td>\n",
       "      <td>National Republican</td>\n",
       "    </tr>\n",
       "    <tr>\n",
       "      <th>4</th>\n",
       "      <td>1832</td>\n",
       "      <td>Andrew Jackson</td>\n",
       "      <td>Democratic</td>\n",
       "    </tr>\n",
       "    <tr>\n",
       "      <th>...</th>\n",
       "      <td>...</td>\n",
       "      <td>...</td>\n",
       "      <td>...</td>\n",
       "    </tr>\n",
       "    <tr>\n",
       "      <th>177</th>\n",
       "      <td>2016</td>\n",
       "      <td>Jill Stein</td>\n",
       "      <td>Green</td>\n",
       "    </tr>\n",
       "    <tr>\n",
       "      <th>178</th>\n",
       "      <td>2020</td>\n",
       "      <td>Joseph Biden</td>\n",
       "      <td>Democratic</td>\n",
       "    </tr>\n",
       "    <tr>\n",
       "      <th>179</th>\n",
       "      <td>2020</td>\n",
       "      <td>Donald Trump</td>\n",
       "      <td>Republican</td>\n",
       "    </tr>\n",
       "    <tr>\n",
       "      <th>180</th>\n",
       "      <td>2020</td>\n",
       "      <td>Jo Jorgensen</td>\n",
       "      <td>Libertarian</td>\n",
       "    </tr>\n",
       "    <tr>\n",
       "      <th>181</th>\n",
       "      <td>2020</td>\n",
       "      <td>Howard Hawkins</td>\n",
       "      <td>Green</td>\n",
       "    </tr>\n",
       "  </tbody>\n",
       "</table>\n",
       "<p>182 rows × 3 columns</p>\n",
       "</div>"
      ],
      "text/plain": [
       "     Year          Candidate                  Party\n",
       "0    1824     Andrew Jackson  Democratic-Republican\n",
       "1    1824  John Quincy Adams  Democratic-Republican\n",
       "2    1828     Andrew Jackson             Democratic\n",
       "3    1828  John Quincy Adams    National Republican\n",
       "4    1832     Andrew Jackson             Democratic\n",
       "..    ...                ...                    ...\n",
       "177  2016         Jill Stein                  Green\n",
       "178  2020       Joseph Biden             Democratic\n",
       "179  2020       Donald Trump             Republican\n",
       "180  2020       Jo Jorgensen            Libertarian\n",
       "181  2020     Howard Hawkins                  Green\n",
       "\n",
       "[182 rows x 3 columns]"
      ]
     },
     "execution_count": 42,
     "metadata": {},
     "output_type": "execute_result"
    }
   ],
   "source": [
    "# Selecting all rows using a colon\n",
    "elections.iloc[:, 0:3]"
   ]
  },
  {
   "cell_type": "code",
   "execution_count": 43,
   "metadata": {},
   "outputs": [
    {
     "data": {
      "application/vnd.microsoft.datawrangler.viewer.v0+json": {
       "columns": [
        {
         "name": "index",
         "rawType": "int64",
         "type": "integer"
        },
        {
         "name": "Candidate",
         "rawType": "object",
         "type": "string"
        }
       ],
       "ref": "66956450-02e5-4a26-a2a0-89ec35f65cdb",
       "rows": [
        [
         "1",
         "John Quincy Adams"
        ],
        [
         "2",
         "Andrew Jackson"
        ],
        [
         "3",
         "John Quincy Adams"
        ]
       ],
       "shape": {
        "columns": 1,
        "rows": 3
       }
      },
      "text/plain": [
       "1    John Quincy Adams\n",
       "2       Andrew Jackson\n",
       "3    John Quincy Adams\n",
       "Name: Candidate, dtype: object"
      ]
     },
     "execution_count": 43,
     "metadata": {},
     "output_type": "execute_result"
    }
   ],
   "source": [
    "elections.iloc[[1, 2, 3], 1]"
   ]
  },
  {
   "cell_type": "code",
   "execution_count": 44,
   "metadata": {},
   "outputs": [
    {
     "data": {
      "text/plain": [
       "'Andrew Jackson'"
      ]
     },
     "execution_count": 44,
     "metadata": {},
     "output_type": "execute_result"
    }
   ],
   "source": [
    "# Extracting the value at row 0 and the second column\n",
    "elections.iloc[0,1]"
   ]
  },
  {
   "cell_type": "markdown",
   "metadata": {},
   "source": [
    "#### Context-dependent Extraction using `[]`"
   ]
  },
  {
   "cell_type": "markdown",
   "metadata": {},
   "source": [
    "We could technically do anything we want using `loc` or `iloc`. However, in practice, the `[]` operator is often used instead to yield more concise code.\n",
    "\n",
    "`[]` is a bit trickier to understand than `loc` or `iloc`, but it achieves essentially the same functionality. The difference is that `[]` is *context-dependent*.\n",
    "\n",
    "`[]` only takes one argument, which may be:\n",
    "1. A slice of row integers.\n",
    "2. A list of column labels.\n",
    "3. A single column label.\n"
   ]
  },
  {
   "cell_type": "markdown",
   "metadata": {},
   "source": [
    "If we provide a slice of row numbers, we get the numbered rows."
   ]
  },
  {
   "cell_type": "code",
   "execution_count": 45,
   "metadata": {
    "tags": []
   },
   "outputs": [
    {
     "data": {
      "application/vnd.microsoft.datawrangler.viewer.v0+json": {
       "columns": [
        {
         "name": "index",
         "rawType": "int64",
         "type": "integer"
        },
        {
         "name": "Year",
         "rawType": "int64",
         "type": "integer"
        },
        {
         "name": "Candidate",
         "rawType": "object",
         "type": "string"
        },
        {
         "name": "Party",
         "rawType": "object",
         "type": "string"
        },
        {
         "name": "Popular vote",
         "rawType": "int64",
         "type": "integer"
        },
        {
         "name": "Result",
         "rawType": "object",
         "type": "string"
        },
        {
         "name": "%",
         "rawType": "float64",
         "type": "float"
        }
       ],
       "ref": "e2107e5c-4467-413e-9d6e-3b7cc239acc5",
       "rows": [
        [
         "3",
         "1828",
         "John Quincy Adams",
         "National Republican",
         "500897",
         "loss",
         "43.79607293"
        ],
        [
         "4",
         "1832",
         "Andrew Jackson",
         "Democratic",
         "702735",
         "win",
         "54.57478905"
        ],
        [
         "5",
         "1832",
         "Henry Clay",
         "National Republican",
         "484205",
         "loss",
         "37.6036283"
        ],
        [
         "6",
         "1832",
         "William Wirt",
         "Anti-Masonic",
         "100715",
         "loss",
         "7.821582644"
        ]
       ],
       "shape": {
        "columns": 6,
        "rows": 4
       }
      },
      "text/html": [
       "<div>\n",
       "<style scoped>\n",
       "    .dataframe tbody tr th:only-of-type {\n",
       "        vertical-align: middle;\n",
       "    }\n",
       "\n",
       "    .dataframe tbody tr th {\n",
       "        vertical-align: top;\n",
       "    }\n",
       "\n",
       "    .dataframe thead th {\n",
       "        text-align: right;\n",
       "    }\n",
       "</style>\n",
       "<table border=\"1\" class=\"dataframe\">\n",
       "  <thead>\n",
       "    <tr style=\"text-align: right;\">\n",
       "      <th></th>\n",
       "      <th>Year</th>\n",
       "      <th>Candidate</th>\n",
       "      <th>Party</th>\n",
       "      <th>Popular vote</th>\n",
       "      <th>Result</th>\n",
       "      <th>%</th>\n",
       "    </tr>\n",
       "  </thead>\n",
       "  <tbody>\n",
       "    <tr>\n",
       "      <th>3</th>\n",
       "      <td>1828</td>\n",
       "      <td>John Quincy Adams</td>\n",
       "      <td>National Republican</td>\n",
       "      <td>500897</td>\n",
       "      <td>loss</td>\n",
       "      <td>43.796073</td>\n",
       "    </tr>\n",
       "    <tr>\n",
       "      <th>4</th>\n",
       "      <td>1832</td>\n",
       "      <td>Andrew Jackson</td>\n",
       "      <td>Democratic</td>\n",
       "      <td>702735</td>\n",
       "      <td>win</td>\n",
       "      <td>54.574789</td>\n",
       "    </tr>\n",
       "    <tr>\n",
       "      <th>5</th>\n",
       "      <td>1832</td>\n",
       "      <td>Henry Clay</td>\n",
       "      <td>National Republican</td>\n",
       "      <td>484205</td>\n",
       "      <td>loss</td>\n",
       "      <td>37.603628</td>\n",
       "    </tr>\n",
       "    <tr>\n",
       "      <th>6</th>\n",
       "      <td>1832</td>\n",
       "      <td>William Wirt</td>\n",
       "      <td>Anti-Masonic</td>\n",
       "      <td>100715</td>\n",
       "      <td>loss</td>\n",
       "      <td>7.821583</td>\n",
       "    </tr>\n",
       "  </tbody>\n",
       "</table>\n",
       "</div>"
      ],
      "text/plain": [
       "   Year          Candidate                Party  Popular vote Result  \\\n",
       "3  1828  John Quincy Adams  National Republican        500897   loss   \n",
       "4  1832     Andrew Jackson           Democratic        702735    win   \n",
       "5  1832         Henry Clay  National Republican        484205   loss   \n",
       "6  1832       William Wirt         Anti-Masonic        100715   loss   \n",
       "\n",
       "           %  \n",
       "3  43.796073  \n",
       "4  54.574789  \n",
       "5  37.603628  \n",
       "6   7.821583  "
      ]
     },
     "execution_count": 45,
     "metadata": {},
     "output_type": "execute_result"
    }
   ],
   "source": [
    "elections[3:7]"
   ]
  },
  {
   "cell_type": "markdown",
   "metadata": {},
   "source": [
    "If we provide a list of column names, we get the listed columns."
   ]
  },
  {
   "cell_type": "code",
   "execution_count": 46,
   "metadata": {},
   "outputs": [
    {
     "data": {
      "application/vnd.microsoft.datawrangler.viewer.v0+json": {
       "columns": [
        {
         "name": "index",
         "rawType": "int64",
         "type": "integer"
        },
        {
         "name": "Year",
         "rawType": "int64",
         "type": "integer"
        },
        {
         "name": "Candidate",
         "rawType": "object",
         "type": "string"
        },
        {
         "name": "Result",
         "rawType": "object",
         "type": "string"
        }
       ],
       "ref": "f1e97456-b1d7-4966-905a-3a2304da1722",
       "rows": [
        [
         "0",
         "1824",
         "Andrew Jackson",
         "loss"
        ],
        [
         "1",
         "1824",
         "John Quincy Adams",
         "win"
        ],
        [
         "2",
         "1828",
         "Andrew Jackson",
         "win"
        ],
        [
         "3",
         "1828",
         "John Quincy Adams",
         "loss"
        ],
        [
         "4",
         "1832",
         "Andrew Jackson",
         "win"
        ],
        [
         "5",
         "1832",
         "Henry Clay",
         "loss"
        ],
        [
         "6",
         "1832",
         "William Wirt",
         "loss"
        ],
        [
         "7",
         "1836",
         "Hugh Lawson White",
         "loss"
        ],
        [
         "8",
         "1836",
         "Martin Van Buren",
         "win"
        ],
        [
         "9",
         "1836",
         "William Henry Harrison",
         "loss"
        ],
        [
         "10",
         "1840",
         "Martin Van Buren",
         "loss"
        ],
        [
         "11",
         "1840",
         "William Henry Harrison",
         "win"
        ],
        [
         "12",
         "1844",
         "Henry Clay",
         "loss"
        ],
        [
         "13",
         "1844",
         "James Polk",
         "win"
        ],
        [
         "14",
         "1848",
         "Lewis Cass",
         "loss"
        ],
        [
         "15",
         "1848",
         "Martin Van Buren",
         "loss"
        ],
        [
         "16",
         "1848",
         "Zachary Taylor",
         "win"
        ],
        [
         "17",
         "1852",
         "Franklin Pierce",
         "win"
        ],
        [
         "18",
         "1852",
         "John P. Hale",
         "loss"
        ],
        [
         "19",
         "1852",
         "Winfield Scott",
         "loss"
        ],
        [
         "20",
         "1856",
         "James Buchanan",
         "win"
        ],
        [
         "21",
         "1856",
         "John C. Frémont",
         "loss"
        ],
        [
         "22",
         "1856",
         "Millard Fillmore",
         "loss"
        ],
        [
         "23",
         "1860",
         "Abraham Lincoln",
         "win"
        ],
        [
         "24",
         "1860",
         "John Bell",
         "loss"
        ],
        [
         "25",
         "1860",
         "John C. Breckinridge",
         "loss"
        ],
        [
         "26",
         "1860",
         "Stephen A. Douglas",
         "loss"
        ],
        [
         "27",
         "1864",
         "Abraham Lincoln",
         "win"
        ],
        [
         "28",
         "1864",
         "George B. McClellan",
         "loss"
        ],
        [
         "29",
         "1868",
         "Horatio Seymour",
         "loss"
        ],
        [
         "30",
         "1868",
         "Ulysses Grant",
         "win"
        ],
        [
         "31",
         "1872",
         "Horace Greeley",
         "loss"
        ],
        [
         "32",
         "1872",
         "Ulysses Grant",
         "win"
        ],
        [
         "33",
         "1876",
         "Rutherford Hayes",
         "win"
        ],
        [
         "34",
         "1876",
         "Samuel J. Tilden",
         "loss"
        ],
        [
         "35",
         "1880",
         "James B. Weaver",
         "loss"
        ],
        [
         "36",
         "1880",
         "James Garfield",
         "win"
        ],
        [
         "37",
         "1880",
         "Winfield Scott Hancock",
         "loss"
        ],
        [
         "38",
         "1884",
         "Benjamin Butler",
         "loss"
        ],
        [
         "39",
         "1884",
         "Grover Cleveland",
         "win"
        ],
        [
         "40",
         "1884",
         "James G. Blaine",
         "loss"
        ],
        [
         "41",
         "1884",
         "John St. John",
         "loss"
        ],
        [
         "42",
         "1888",
         "Alson Streeter",
         "loss"
        ],
        [
         "43",
         "1888",
         "Benjamin Harrison",
         "win"
        ],
        [
         "44",
         "1888",
         "Clinton B. Fisk",
         "loss"
        ],
        [
         "45",
         "1888",
         "Grover Cleveland",
         "loss"
        ],
        [
         "46",
         "1892",
         "Benjamin Harrison",
         "loss"
        ],
        [
         "47",
         "1892",
         "Grover Cleveland",
         "win"
        ],
        [
         "48",
         "1892",
         "James B. Weaver",
         "loss"
        ],
        [
         "49",
         "1892",
         "John Bidwell",
         "loss"
        ]
       ],
       "shape": {
        "columns": 3,
        "rows": 182
       }
      },
      "text/html": [
       "<div>\n",
       "<style scoped>\n",
       "    .dataframe tbody tr th:only-of-type {\n",
       "        vertical-align: middle;\n",
       "    }\n",
       "\n",
       "    .dataframe tbody tr th {\n",
       "        vertical-align: top;\n",
       "    }\n",
       "\n",
       "    .dataframe thead th {\n",
       "        text-align: right;\n",
       "    }\n",
       "</style>\n",
       "<table border=\"1\" class=\"dataframe\">\n",
       "  <thead>\n",
       "    <tr style=\"text-align: right;\">\n",
       "      <th></th>\n",
       "      <th>Year</th>\n",
       "      <th>Candidate</th>\n",
       "      <th>Result</th>\n",
       "    </tr>\n",
       "  </thead>\n",
       "  <tbody>\n",
       "    <tr>\n",
       "      <th>0</th>\n",
       "      <td>1824</td>\n",
       "      <td>Andrew Jackson</td>\n",
       "      <td>loss</td>\n",
       "    </tr>\n",
       "    <tr>\n",
       "      <th>1</th>\n",
       "      <td>1824</td>\n",
       "      <td>John Quincy Adams</td>\n",
       "      <td>win</td>\n",
       "    </tr>\n",
       "    <tr>\n",
       "      <th>2</th>\n",
       "      <td>1828</td>\n",
       "      <td>Andrew Jackson</td>\n",
       "      <td>win</td>\n",
       "    </tr>\n",
       "    <tr>\n",
       "      <th>3</th>\n",
       "      <td>1828</td>\n",
       "      <td>John Quincy Adams</td>\n",
       "      <td>loss</td>\n",
       "    </tr>\n",
       "    <tr>\n",
       "      <th>4</th>\n",
       "      <td>1832</td>\n",
       "      <td>Andrew Jackson</td>\n",
       "      <td>win</td>\n",
       "    </tr>\n",
       "    <tr>\n",
       "      <th>...</th>\n",
       "      <td>...</td>\n",
       "      <td>...</td>\n",
       "      <td>...</td>\n",
       "    </tr>\n",
       "    <tr>\n",
       "      <th>177</th>\n",
       "      <td>2016</td>\n",
       "      <td>Jill Stein</td>\n",
       "      <td>loss</td>\n",
       "    </tr>\n",
       "    <tr>\n",
       "      <th>178</th>\n",
       "      <td>2020</td>\n",
       "      <td>Joseph Biden</td>\n",
       "      <td>win</td>\n",
       "    </tr>\n",
       "    <tr>\n",
       "      <th>179</th>\n",
       "      <td>2020</td>\n",
       "      <td>Donald Trump</td>\n",
       "      <td>loss</td>\n",
       "    </tr>\n",
       "    <tr>\n",
       "      <th>180</th>\n",
       "      <td>2020</td>\n",
       "      <td>Jo Jorgensen</td>\n",
       "      <td>loss</td>\n",
       "    </tr>\n",
       "    <tr>\n",
       "      <th>181</th>\n",
       "      <td>2020</td>\n",
       "      <td>Howard Hawkins</td>\n",
       "      <td>loss</td>\n",
       "    </tr>\n",
       "  </tbody>\n",
       "</table>\n",
       "<p>182 rows × 3 columns</p>\n",
       "</div>"
      ],
      "text/plain": [
       "     Year          Candidate Result\n",
       "0    1824     Andrew Jackson   loss\n",
       "1    1824  John Quincy Adams    win\n",
       "2    1828     Andrew Jackson    win\n",
       "3    1828  John Quincy Adams   loss\n",
       "4    1832     Andrew Jackson    win\n",
       "..    ...                ...    ...\n",
       "177  2016         Jill Stein   loss\n",
       "178  2020       Joseph Biden    win\n",
       "179  2020       Donald Trump   loss\n",
       "180  2020       Jo Jorgensen   loss\n",
       "181  2020     Howard Hawkins   loss\n",
       "\n",
       "[182 rows x 3 columns]"
      ]
     },
     "execution_count": 46,
     "metadata": {},
     "output_type": "execute_result"
    }
   ],
   "source": [
    "elections[[\"Year\", \"Candidate\", \"Result\"]]"
   ]
  },
  {
   "cell_type": "markdown",
   "metadata": {},
   "source": [
    "And if we provide a single column name we get back just that column, stored as a `Series`."
   ]
  },
  {
   "cell_type": "code",
   "execution_count": 47,
   "metadata": {
    "tags": []
   },
   "outputs": [
    {
     "data": {
      "application/vnd.microsoft.datawrangler.viewer.v0+json": {
       "columns": [
        {
         "name": "index",
         "rawType": "int64",
         "type": "integer"
        },
        {
         "name": "Candidate",
         "rawType": "object",
         "type": "string"
        }
       ],
       "ref": "b121c809-d14d-406d-92f5-a526568a83f9",
       "rows": [
        [
         "0",
         "Andrew Jackson"
        ],
        [
         "1",
         "John Quincy Adams"
        ],
        [
         "2",
         "Andrew Jackson"
        ],
        [
         "3",
         "John Quincy Adams"
        ],
        [
         "4",
         "Andrew Jackson"
        ],
        [
         "5",
         "Henry Clay"
        ],
        [
         "6",
         "William Wirt"
        ],
        [
         "7",
         "Hugh Lawson White"
        ],
        [
         "8",
         "Martin Van Buren"
        ],
        [
         "9",
         "William Henry Harrison"
        ],
        [
         "10",
         "Martin Van Buren"
        ],
        [
         "11",
         "William Henry Harrison"
        ],
        [
         "12",
         "Henry Clay"
        ],
        [
         "13",
         "James Polk"
        ],
        [
         "14",
         "Lewis Cass"
        ],
        [
         "15",
         "Martin Van Buren"
        ],
        [
         "16",
         "Zachary Taylor"
        ],
        [
         "17",
         "Franklin Pierce"
        ],
        [
         "18",
         "John P. Hale"
        ],
        [
         "19",
         "Winfield Scott"
        ],
        [
         "20",
         "James Buchanan"
        ],
        [
         "21",
         "John C. Frémont"
        ],
        [
         "22",
         "Millard Fillmore"
        ],
        [
         "23",
         "Abraham Lincoln"
        ],
        [
         "24",
         "John Bell"
        ],
        [
         "25",
         "John C. Breckinridge"
        ],
        [
         "26",
         "Stephen A. Douglas"
        ],
        [
         "27",
         "Abraham Lincoln"
        ],
        [
         "28",
         "George B. McClellan"
        ],
        [
         "29",
         "Horatio Seymour"
        ],
        [
         "30",
         "Ulysses Grant"
        ],
        [
         "31",
         "Horace Greeley"
        ],
        [
         "32",
         "Ulysses Grant"
        ],
        [
         "33",
         "Rutherford Hayes"
        ],
        [
         "34",
         "Samuel J. Tilden"
        ],
        [
         "35",
         "James B. Weaver"
        ],
        [
         "36",
         "James Garfield"
        ],
        [
         "37",
         "Winfield Scott Hancock"
        ],
        [
         "38",
         "Benjamin Butler"
        ],
        [
         "39",
         "Grover Cleveland"
        ],
        [
         "40",
         "James G. Blaine"
        ],
        [
         "41",
         "John St. John"
        ],
        [
         "42",
         "Alson Streeter"
        ],
        [
         "43",
         "Benjamin Harrison"
        ],
        [
         "44",
         "Clinton B. Fisk"
        ],
        [
         "45",
         "Grover Cleveland"
        ],
        [
         "46",
         "Benjamin Harrison"
        ],
        [
         "47",
         "Grover Cleveland"
        ],
        [
         "48",
         "James B. Weaver"
        ],
        [
         "49",
         "John Bidwell"
        ]
       ],
       "shape": {
        "columns": 1,
        "rows": 182
       }
      },
      "text/plain": [
       "0         Andrew Jackson\n",
       "1      John Quincy Adams\n",
       "2         Andrew Jackson\n",
       "3      John Quincy Adams\n",
       "4         Andrew Jackson\n",
       "             ...        \n",
       "177           Jill Stein\n",
       "178         Joseph Biden\n",
       "179         Donald Trump\n",
       "180         Jo Jorgensen\n",
       "181       Howard Hawkins\n",
       "Name: Candidate, Length: 182, dtype: object"
      ]
     },
     "execution_count": 47,
     "metadata": {},
     "output_type": "execute_result"
    }
   ],
   "source": [
    "elections[\"Candidate\"]"
   ]
  },
  {
   "cell_type": "markdown",
   "metadata": {},
   "source": [
    "### Slido Exercises"
   ]
  },
  {
   "cell_type": "code",
   "execution_count": 48,
   "metadata": {},
   "outputs": [
    {
     "data": {
      "text/plain": [
       "array([5, 6])"
      ]
     },
     "execution_count": 48,
     "metadata": {},
     "output_type": "execute_result"
    }
   ],
   "source": [
    "example = pd.Series([4, 5, 6], index=[\"one\", \"two\", \"three\"])\n",
    "example[example > 4].values"
   ]
  },
  {
   "cell_type": "code",
   "execution_count": 49,
   "metadata": {},
   "outputs": [
    {
     "data": {
      "text/plain": [
       "Index(['c1', 'c2'], dtype='object')"
      ]
     },
     "execution_count": 49,
     "metadata": {},
     "output_type": "execute_result"
    }
   ],
   "source": [
    "df = pd.DataFrame({\"c1\":[1, 2, 3, 4], \"c2\":[2, 4, 6, 8]})\n",
    "df.columns"
   ]
  }
 ],
 "metadata": {
  "kernelspec": {
   "display_name": "base",
   "language": "python",
   "name": "python3"
  },
  "language_info": {
   "codemirror_mode": {
    "name": "ipython",
    "version": 3
   },
   "file_extension": ".py",
   "mimetype": "text/x-python",
   "name": "python",
   "nbconvert_exporter": "python",
   "pygments_lexer": "ipython3",
   "version": "3.13.2"
  }
 },
 "nbformat": 4,
 "nbformat_minor": 4
}
