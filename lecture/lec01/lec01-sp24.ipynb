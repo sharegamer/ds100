{
 "cells": [
  {
   "cell_type": "markdown",
   "metadata": {},
   "source": [
    "# Lecture 1 – Data 100, Spring 2024\n",
    "\n",
    "Data 100, Spring 2024\n",
    "\n",
    "[Acknowledgments Page](https://ds100.org/sp24/acks/)"
   ]
  },
  {
   "cell_type": "markdown",
   "metadata": {},
   "source": [
    "## Software Packages \n",
    "We will be using a wide range of different Python software packages.  To install and manage these packages we will be using the Conda environment manager.  The following is a list of packages we will routinely use in lectures and homeworks:"
   ]
  },
  {
   "cell_type": "code",
   "execution_count": 1,
   "metadata": {},
   "outputs": [
    {
     "data": {
      "text/html": [
       "        <script type=\"text/javascript\">\n",
       "        window.PlotlyConfig = {MathJaxConfig: 'local'};\n",
       "        if (window.MathJax && window.MathJax.Hub && window.MathJax.Hub.Config) {window.MathJax.Hub.Config({SVG: {font: \"STIX-Web\"}});}\n",
       "        </script>\n",
       "        <script type=\"module\">import \"https://cdn.plot.ly/plotly-3.0.1.min\"</script>\n",
       "        "
      ]
     },
     "metadata": {},
     "output_type": "display_data"
    }
   ],
   "source": [
    "# Linear algebra, probability\n",
    "import numpy as np\n",
    "\n",
    "# Data manipulation\n",
    "import pandas as pd\n",
    "\n",
    "# Visualization\n",
    "import matplotlib.pyplot as plt\n",
    "import seaborn as sns\n",
    "\n",
    "# Interactive visualization library\n",
    "import plotly.offline as py\n",
    "py.init_notebook_mode(connected=True)\n",
    "import plotly.graph_objs as go\n",
    "import plotly.figure_factory as ff\n",
    "import plotly.express as px"
   ]
  },
  {
   "cell_type": "markdown",
   "metadata": {},
   "source": [
    "We will learn how to use all of the technologies used in this demo.\n",
    "\n",
    "For now, just sit back and think critically about the data and our guided analysis."
   ]
  },
  {
   "cell_type": "markdown",
   "metadata": {},
   "source": [
    "# 1. Starting with a Question: **Who are you (the students of Data 100)?**\n",
    "\n",
    "<img src=\"images/ask.png\" width=\"300px\" />\n",
    "\n",
    "This is a pretty vague question but let's start with the goal of learning something about the students in the class.\n",
    "\n",
    "Here are some \"simple\" questions:\n",
    "1. How many students do we have?\n",
    "1. What are your majors?\n",
    "1. What year are you?\n",
    "1. How did your major enrollment trend change over time?\n"
   ]
  },
  {
   "cell_type": "markdown",
   "metadata": {},
   "source": [
    "# 2. Data Acquisition and Cleaning \n",
    "\n",
    "**In Data 100 we will study various methods to collect data.**\n",
    "\n",
    "<img src=\"images/data_acquisition.PNG\" width=\"300px\" />\n",
    "\n",
    "To answer this question, I downloaded the course roster and extracted everyone's names and majors."
   ]
  },
  {
   "cell_type": "code",
   "execution_count": 2,
   "metadata": {},
   "outputs": [],
   "source": [
    "# pd stands for pandas, which we will learn starting from next lecture\n",
    "# Some pandas syntax shared with data8's datascience package\n",
    "majors = pd.read_csv(\"data/majors-sp24.csv\")\n",
    "names = pd.read_csv(\"data/names-sp24.csv\")"
   ]
  },
  {
   "cell_type": "markdown",
   "metadata": {},
   "source": [
    "# 3. Exploratory Data Analysis\n",
    "\n",
    "**In Data 100 we will study exploratory data analysis and practice analyzing new datasets.**\n",
    "\n",
    "<img src=\"images/understand_data.PNG\" width=\"300px\" />\n",
    "\n",
    "I didn't tell you the details of the data! Let's check out the data and infer its structure. Then we can start answering the simple questions we posed."
   ]
  },
  {
   "cell_type": "markdown",
   "metadata": {},
   "source": [
    "### Peeking at the Data"
   ]
  },
  {
   "cell_type": "code",
   "execution_count": 3,
   "metadata": {},
   "outputs": [
    {
     "data": {
      "application/vnd.microsoft.datawrangler.viewer.v0+json": {
       "columns": [
        {
         "name": "index",
         "rawType": "int64",
         "type": "integer"
        },
        {
         "name": "Majors",
         "rawType": "object",
         "type": "string"
        },
        {
         "name": "Terms in Attendance",
         "rawType": "object",
         "type": "string"
        }
       ],
       "ref": "9c087239-9a5c-4f07-b782-d4bad746a655",
       "rows": [
        [
         "0",
         "Electrical Eng & Comp Sci BS",
         "8.0"
        ],
        [
         "1",
         "Data Science BA (Subplan: Robotics)",
         "6.0"
        ],
        [
         "2",
         "Electrical Eng & Comp Sci MEng",
         "G"
        ],
        [
         "3",
         "Letters & Sci Undeclared UG",
         "4.0"
        ],
        [
         "4",
         "Molecular & Cell Biology BA (Subplan: Biochem, Biophys & Struc Bio 1), Business Administration BS (Subplan: LSBE)",
         "6.0"
        ],
        [
         "5",
         "Civil Engineering BS",
         "8.0"
        ],
        [
         "6",
         "Computer Science BA",
         "4.0"
        ],
        [
         "7",
         "Political Economy BA",
         "6.0"
        ],
        [
         "8",
         "Letters & Sci Undeclared UG",
         "8.0"
        ],
        [
         "9",
         "Art BA",
         "4.0"
        ],
        [
         "10",
         "Chemical Biology BS",
         "6.0"
        ],
        [
         "11",
         "Letters & Sci Undeclared UG",
         "4.0"
        ],
        [
         "12",
         "Chemical Engineering PhD",
         "G"
        ],
        [
         "13",
         "Computer Science BA",
         "4.0"
        ],
        [
         "14",
         "Computer Science BA",
         "4.0"
        ],
        [
         "15",
         "Environmental Sciences BS",
         "2.0"
        ],
        [
         "16",
         "Letters & Sci Undeclared UG",
         "4.0"
        ],
        [
         "17",
         "Letters & Sci Undeclared UG",
         "2.0"
        ],
        [
         "18",
         "Letters & Sci Undeclared UG",
         "6.0"
        ],
        [
         "19",
         "Cognitive Science BA",
         "4.0"
        ]
       ],
       "shape": {
        "columns": 2,
        "rows": 20
       }
      },
      "text/html": [
       "<div>\n",
       "<style scoped>\n",
       "    .dataframe tbody tr th:only-of-type {\n",
       "        vertical-align: middle;\n",
       "    }\n",
       "\n",
       "    .dataframe tbody tr th {\n",
       "        vertical-align: top;\n",
       "    }\n",
       "\n",
       "    .dataframe thead th {\n",
       "        text-align: right;\n",
       "    }\n",
       "</style>\n",
       "<table border=\"1\" class=\"dataframe\">\n",
       "  <thead>\n",
       "    <tr style=\"text-align: right;\">\n",
       "      <th></th>\n",
       "      <th>Majors</th>\n",
       "      <th>Terms in Attendance</th>\n",
       "    </tr>\n",
       "  </thead>\n",
       "  <tbody>\n",
       "    <tr>\n",
       "      <th>0</th>\n",
       "      <td>Electrical Eng &amp; Comp Sci BS</td>\n",
       "      <td>8.0</td>\n",
       "    </tr>\n",
       "    <tr>\n",
       "      <th>1</th>\n",
       "      <td>Data Science BA (Subplan: Robotics)</td>\n",
       "      <td>6.0</td>\n",
       "    </tr>\n",
       "    <tr>\n",
       "      <th>2</th>\n",
       "      <td>Electrical Eng &amp; Comp Sci MEng</td>\n",
       "      <td>G</td>\n",
       "    </tr>\n",
       "    <tr>\n",
       "      <th>3</th>\n",
       "      <td>Letters &amp; Sci Undeclared UG</td>\n",
       "      <td>4.0</td>\n",
       "    </tr>\n",
       "    <tr>\n",
       "      <th>4</th>\n",
       "      <td>Molecular &amp; Cell Biology BA (Subplan: Biochem,...</td>\n",
       "      <td>6.0</td>\n",
       "    </tr>\n",
       "    <tr>\n",
       "      <th>5</th>\n",
       "      <td>Civil Engineering BS</td>\n",
       "      <td>8.0</td>\n",
       "    </tr>\n",
       "    <tr>\n",
       "      <th>6</th>\n",
       "      <td>Computer Science BA</td>\n",
       "      <td>4.0</td>\n",
       "    </tr>\n",
       "    <tr>\n",
       "      <th>7</th>\n",
       "      <td>Political Economy BA</td>\n",
       "      <td>6.0</td>\n",
       "    </tr>\n",
       "    <tr>\n",
       "      <th>8</th>\n",
       "      <td>Letters &amp; Sci Undeclared UG</td>\n",
       "      <td>8.0</td>\n",
       "    </tr>\n",
       "    <tr>\n",
       "      <th>9</th>\n",
       "      <td>Art BA</td>\n",
       "      <td>4.0</td>\n",
       "    </tr>\n",
       "    <tr>\n",
       "      <th>10</th>\n",
       "      <td>Chemical Biology BS</td>\n",
       "      <td>6.0</td>\n",
       "    </tr>\n",
       "    <tr>\n",
       "      <th>11</th>\n",
       "      <td>Letters &amp; Sci Undeclared UG</td>\n",
       "      <td>4.0</td>\n",
       "    </tr>\n",
       "    <tr>\n",
       "      <th>12</th>\n",
       "      <td>Chemical Engineering PhD</td>\n",
       "      <td>G</td>\n",
       "    </tr>\n",
       "    <tr>\n",
       "      <th>13</th>\n",
       "      <td>Computer Science BA</td>\n",
       "      <td>4.0</td>\n",
       "    </tr>\n",
       "    <tr>\n",
       "      <th>14</th>\n",
       "      <td>Computer Science BA</td>\n",
       "      <td>4.0</td>\n",
       "    </tr>\n",
       "    <tr>\n",
       "      <th>15</th>\n",
       "      <td>Environmental Sciences BS</td>\n",
       "      <td>2.0</td>\n",
       "    </tr>\n",
       "    <tr>\n",
       "      <th>16</th>\n",
       "      <td>Letters &amp; Sci Undeclared UG</td>\n",
       "      <td>4.0</td>\n",
       "    </tr>\n",
       "    <tr>\n",
       "      <th>17</th>\n",
       "      <td>Letters &amp; Sci Undeclared UG</td>\n",
       "      <td>2.0</td>\n",
       "    </tr>\n",
       "    <tr>\n",
       "      <th>18</th>\n",
       "      <td>Letters &amp; Sci Undeclared UG</td>\n",
       "      <td>6.0</td>\n",
       "    </tr>\n",
       "    <tr>\n",
       "      <th>19</th>\n",
       "      <td>Cognitive Science BA</td>\n",
       "      <td>4.0</td>\n",
       "    </tr>\n",
       "  </tbody>\n",
       "</table>\n",
       "</div>"
      ],
      "text/plain": [
       "                                               Majors Terms in Attendance\n",
       "0                        Electrical Eng & Comp Sci BS                 8.0\n",
       "1                 Data Science BA (Subplan: Robotics)                 6.0\n",
       "2                      Electrical Eng & Comp Sci MEng                   G\n",
       "3                         Letters & Sci Undeclared UG                 4.0\n",
       "4   Molecular & Cell Biology BA (Subplan: Biochem,...                 6.0\n",
       "5                                Civil Engineering BS                 8.0\n",
       "6                                 Computer Science BA                 4.0\n",
       "7                                Political Economy BA                 6.0\n",
       "8                         Letters & Sci Undeclared UG                 8.0\n",
       "9                                              Art BA                 4.0\n",
       "10                                Chemical Biology BS                 6.0\n",
       "11                        Letters & Sci Undeclared UG                 4.0\n",
       "12                           Chemical Engineering PhD                   G\n",
       "13                                Computer Science BA                 4.0\n",
       "14                                Computer Science BA                 4.0\n",
       "15                          Environmental Sciences BS                 2.0\n",
       "16                        Letters & Sci Undeclared UG                 4.0\n",
       "17                        Letters & Sci Undeclared UG                 2.0\n",
       "18                        Letters & Sci Undeclared UG                 6.0\n",
       "19                               Cognitive Science BA                 4.0"
      ]
     },
     "execution_count": 3,
     "metadata": {},
     "output_type": "execute_result"
    }
   ],
   "source": [
    "# Let's peek at the first 20 rows of the majors dataframe\n",
    "\n",
    "majors.head(20)"
   ]
  },
  {
   "cell_type": "code",
   "execution_count": 4,
   "metadata": {},
   "outputs": [
    {
     "data": {
      "application/vnd.microsoft.datawrangler.viewer.v0+json": {
       "columns": [
        {
         "name": "index",
         "rawType": "int64",
         "type": "integer"
        },
        {
         "name": "Name",
         "rawType": "object",
         "type": "string"
        }
       ],
       "ref": "9220fcc3-552a-4d6f-9159-b0253c4343d3",
       "rows": [
        [
         "0",
         "Emily"
        ],
        [
         "1",
         "Andrew"
        ],
        [
         "2",
         "Andrew"
        ],
        [
         "3",
         "NATHAN"
        ],
        [
         "4",
         "Yimo"
        ]
       ],
       "shape": {
        "columns": 1,
        "rows": 5
       }
      },
      "text/html": [
       "<div>\n",
       "<style scoped>\n",
       "    .dataframe tbody tr th:only-of-type {\n",
       "        vertical-align: middle;\n",
       "    }\n",
       "\n",
       "    .dataframe tbody tr th {\n",
       "        vertical-align: top;\n",
       "    }\n",
       "\n",
       "    .dataframe thead th {\n",
       "        text-align: right;\n",
       "    }\n",
       "</style>\n",
       "<table border=\"1\" class=\"dataframe\">\n",
       "  <thead>\n",
       "    <tr style=\"text-align: right;\">\n",
       "      <th></th>\n",
       "      <th>Name</th>\n",
       "    </tr>\n",
       "  </thead>\n",
       "  <tbody>\n",
       "    <tr>\n",
       "      <th>0</th>\n",
       "      <td>Emily</td>\n",
       "    </tr>\n",
       "    <tr>\n",
       "      <th>1</th>\n",
       "      <td>Andrew</td>\n",
       "    </tr>\n",
       "    <tr>\n",
       "      <th>2</th>\n",
       "      <td>Andrew</td>\n",
       "    </tr>\n",
       "    <tr>\n",
       "      <th>3</th>\n",
       "      <td>NATHAN</td>\n",
       "    </tr>\n",
       "    <tr>\n",
       "      <th>4</th>\n",
       "      <td>Yimo</td>\n",
       "    </tr>\n",
       "  </tbody>\n",
       "</table>\n",
       "</div>"
      ],
      "text/plain": [
       "     Name\n",
       "0   Emily\n",
       "1  Andrew\n",
       "2  Andrew\n",
       "3  NATHAN\n",
       "4    Yimo"
      ]
     },
     "execution_count": 4,
     "metadata": {},
     "output_type": "execute_result"
    }
   ],
   "source": [
    "# Let's peek at the first 5 rows (default) of the names dataframe\n",
    "\n",
    "names.head()"
   ]
  },
  {
   "cell_type": "markdown",
   "metadata": {},
   "source": [
    "### What is one potential issue we may need to address in this data?\n",
    "\n",
    "**Answer:**\n",
    "Some names appear capitalized. \n",
    "\n",
    "In the above sample we notice that some of the names are capitalized and some are not.  This will be an issue in our later analysis so let's convert all names to lower case."
   ]
  },
  {
   "cell_type": "code",
   "execution_count": 5,
   "metadata": {},
   "outputs": [],
   "source": [
    "names['Name'] = names['Name'].str.lower()"
   ]
  },
  {
   "cell_type": "code",
   "execution_count": 6,
   "metadata": {},
   "outputs": [
    {
     "data": {
      "application/vnd.microsoft.datawrangler.viewer.v0+json": {
       "columns": [
        {
         "name": "index",
         "rawType": "int64",
         "type": "integer"
        },
        {
         "name": "Name",
         "rawType": "object",
         "type": "string"
        }
       ],
       "ref": "2d956994-c8a3-485e-a08a-8d22ae10ee89",
       "rows": [
        [
         "0",
         "emily"
        ],
        [
         "1",
         "andrew"
        ],
        [
         "2",
         "andrew"
        ],
        [
         "3",
         "nathan"
        ],
        [
         "4",
         "yimo"
        ]
       ],
       "shape": {
        "columns": 1,
        "rows": 5
       }
      },
      "text/html": [
       "<div>\n",
       "<style scoped>\n",
       "    .dataframe tbody tr th:only-of-type {\n",
       "        vertical-align: middle;\n",
       "    }\n",
       "\n",
       "    .dataframe tbody tr th {\n",
       "        vertical-align: top;\n",
       "    }\n",
       "\n",
       "    .dataframe thead th {\n",
       "        text-align: right;\n",
       "    }\n",
       "</style>\n",
       "<table border=\"1\" class=\"dataframe\">\n",
       "  <thead>\n",
       "    <tr style=\"text-align: right;\">\n",
       "      <th></th>\n",
       "      <th>Name</th>\n",
       "    </tr>\n",
       "  </thead>\n",
       "  <tbody>\n",
       "    <tr>\n",
       "      <th>0</th>\n",
       "      <td>emily</td>\n",
       "    </tr>\n",
       "    <tr>\n",
       "      <th>1</th>\n",
       "      <td>andrew</td>\n",
       "    </tr>\n",
       "    <tr>\n",
       "      <th>2</th>\n",
       "      <td>andrew</td>\n",
       "    </tr>\n",
       "    <tr>\n",
       "      <th>3</th>\n",
       "      <td>nathan</td>\n",
       "    </tr>\n",
       "    <tr>\n",
       "      <th>4</th>\n",
       "      <td>yimo</td>\n",
       "    </tr>\n",
       "  </tbody>\n",
       "</table>\n",
       "</div>"
      ],
      "text/plain": [
       "     Name\n",
       "0   emily\n",
       "1  andrew\n",
       "2  andrew\n",
       "3  nathan\n",
       "4    yimo"
      ]
     },
     "execution_count": 6,
     "metadata": {},
     "output_type": "execute_result"
    }
   ],
   "source": [
    "names.head()"
   ]
  },
  {
   "cell_type": "markdown",
   "metadata": {},
   "source": [
    "### Exploratory Data Analysis on `names` dataset"
   ]
  },
  {
   "cell_type": "markdown",
   "metadata": {},
   "source": [
    "#### What is the most common first letter in names? What is its distribution? \n"
   ]
  },
  {
   "cell_type": "code",
   "execution_count": 7,
   "metadata": {},
   "outputs": [
    {
     "data": {
      "application/vnd.microsoft.datawrangler.viewer.v0+json": {
       "columns": [
        {
         "name": "Name",
         "rawType": "object",
         "type": "string"
        },
        {
         "name": "count",
         "rawType": "int64",
         "type": "integer"
        }
       ],
       "ref": "e0f659b8-56dd-46f3-b240-42b4e5ce18fb",
       "rows": [
        [
         "a",
         "185"
        ],
        [
         "j",
         "136"
        ],
        [
         "s",
         "133"
        ],
        [
         "m",
         "99"
        ],
        [
         "r",
         "65"
        ]
       ],
       "shape": {
        "columns": 1,
        "rows": 5
       }
      },
      "text/plain": [
       "Name\n",
       "a    185\n",
       "j    136\n",
       "s    133\n",
       "m     99\n",
       "r     65\n",
       "Name: count, dtype: int64"
      ]
     },
     "execution_count": 7,
     "metadata": {},
     "output_type": "execute_result"
    }
   ],
   "source": [
    "# Below are the most common, in descending frequency\n",
    "\n",
    "first_letter = names['Name'].str[0].value_counts()\n",
    "first_letter.head()"
   ]
  },
  {
   "cell_type": "code",
   "execution_count": 8,
   "metadata": {},
   "outputs": [
    {
     "data": {
      "image/png": "[encoded data removed]",
      "text/plain": [
       "<Figure size 640x480 with 1 Axes>"
      ]
     },
     "metadata": {},
     "output_type": "display_data"
    }
   ],
   "source": [
    "# Let's visualize this first letter distribution \n",
    "\n",
    "plt.bar(first_letter.index, first_letter.values)\n",
    "plt.xlabel('First Letter')\n",
    "plt.ylabel('Frequency')\n",
    "plt.title('First Letter Frequency Distribution')\n",
    "plt.show()\n"
   ]
  },
  {
   "cell_type": "markdown",
   "metadata": {},
   "source": [
    "In the United States, \"J\" and \"A\" names are the most popular first initials. Seems like our visualization also reflects this!"
   ]
  },
  {
   "cell_type": "markdown",
   "metadata": {},
   "source": [
    "#### What is the distribution of the length of names? \n"
   ]
  },
  {
   "cell_type": "code",
   "execution_count": 9,
   "metadata": {},
   "outputs": [
    {
     "data": {
      "image/png": "[encoded data removed]",
      "text/plain": [
       "<Figure size 640x480 with 1 Axes>"
      ]
     },
     "metadata": {},
     "output_type": "display_data"
    }
   ],
   "source": [
    "name_lengths = names['Name'].str.len()\n",
    "\n",
    "plt.hist(name_lengths, bins=range(min(name_lengths), max(name_lengths) + 2), edgecolor='black')\n",
    "plt.xlabel('Name Length')\n",
    "plt.ylabel('Frequency')\n",
    "plt.title('Distribution of Length of Names')\n",
    "average_length = name_lengths.sum() / len(name_lengths)\n",
    "plt.axvline(average_length, color='red', linestyle='dashed', linewidth=1, label=f'Average: {average_length:.2f}')\n",
    "plt.legend()\n",
    "plt.xticks(range(min(name_lengths), max(name_lengths) + 1))\n",
    "plt.show()"
   ]
  },
  {
   "cell_type": "markdown",
   "metadata": {},
   "source": [
    "The average length of names in the United States is also around 6 letters!"
   ]
  },
  {
   "cell_type": "markdown",
   "metadata": {},
   "source": [
    "#### How many records do we have?"
   ]
  },
  {
   "cell_type": "code",
   "execution_count": 10,
   "metadata": {},
   "outputs": [
    {
     "name": "stdout",
     "output_type": "stream",
     "text": [
      "1276\n",
      "1276\n"
     ]
    }
   ],
   "source": [
    "print(len(names))\n",
    "print(len(majors))"
   ]
  },
  {
   "cell_type": "markdown",
   "metadata": {},
   "source": [
    "Based on what we know of our class, each record is most likely a student."
   ]
  },
  {
   "cell_type": "markdown",
   "metadata": {},
   "source": [
    "#### Understanding the structure of data\n",
    "\n",
    "It is important that we understand the meaning of each field and how the data is organized."
   ]
  },
  {
   "cell_type": "code",
   "execution_count": 11,
   "metadata": {},
   "outputs": [
    {
     "data": {
      "application/vnd.microsoft.datawrangler.viewer.v0+json": {
       "columns": [
        {
         "name": "index",
         "rawType": "int64",
         "type": "integer"
        },
        {
         "name": "Name",
         "rawType": "object",
         "type": "string"
        }
       ],
       "ref": "f82b3761-e70f-498e-8da2-b0e8841f37ea",
       "rows": [
        [
         "0",
         "emily"
        ],
        [
         "1",
         "andrew"
        ],
        [
         "2",
         "andrew"
        ],
        [
         "3",
         "nathan"
        ],
        [
         "4",
         "yimo"
        ]
       ],
       "shape": {
        "columns": 1,
        "rows": 5
       }
      },
      "text/html": [
       "<div>\n",
       "<style scoped>\n",
       "    .dataframe tbody tr th:only-of-type {\n",
       "        vertical-align: middle;\n",
       "    }\n",
       "\n",
       "    .dataframe tbody tr th {\n",
       "        vertical-align: top;\n",
       "    }\n",
       "\n",
       "    .dataframe thead th {\n",
       "        text-align: right;\n",
       "    }\n",
       "</style>\n",
       "<table border=\"1\" class=\"dataframe\">\n",
       "  <thead>\n",
       "    <tr style=\"text-align: right;\">\n",
       "      <th></th>\n",
       "      <th>Name</th>\n",
       "    </tr>\n",
       "  </thead>\n",
       "  <tbody>\n",
       "    <tr>\n",
       "      <th>0</th>\n",
       "      <td>emily</td>\n",
       "    </tr>\n",
       "    <tr>\n",
       "      <th>1</th>\n",
       "      <td>andrew</td>\n",
       "    </tr>\n",
       "    <tr>\n",
       "      <th>2</th>\n",
       "      <td>andrew</td>\n",
       "    </tr>\n",
       "    <tr>\n",
       "      <th>3</th>\n",
       "      <td>nathan</td>\n",
       "    </tr>\n",
       "    <tr>\n",
       "      <th>4</th>\n",
       "      <td>yimo</td>\n",
       "    </tr>\n",
       "  </tbody>\n",
       "</table>\n",
       "</div>"
      ],
      "text/plain": [
       "     Name\n",
       "0   emily\n",
       "1  andrew\n",
       "2  andrew\n",
       "3  nathan\n",
       "4    yimo"
      ]
     },
     "execution_count": 11,
     "metadata": {},
     "output_type": "execute_result"
    }
   ],
   "source": [
    "names.head()"
   ]
  },
  {
   "cell_type": "markdown",
   "metadata": {},
   "source": [
    "It appears that one student has an erroneous role given as \"#REF!\". What else can we learn about this student? Let's see their name."
   ]
  },
  {
   "cell_type": "code",
   "execution_count": 12,
   "metadata": {},
   "outputs": [
    {
     "data": {
      "application/vnd.microsoft.datawrangler.viewer.v0+json": {
       "columns": [
        {
         "name": "index",
         "rawType": "int64",
         "type": "integer"
        },
        {
         "name": "Name",
         "rawType": "object",
         "type": "string"
        }
       ],
       "ref": "06da8db4-8ee4-4758-a260-dbfbfeb61d5f",
       "rows": [
        [
         "691",
         "#ref!"
        ]
       ],
       "shape": {
        "columns": 1,
        "rows": 1
       }
      },
      "text/html": [
       "<div>\n",
       "<style scoped>\n",
       "    .dataframe tbody tr th:only-of-type {\n",
       "        vertical-align: middle;\n",
       "    }\n",
       "\n",
       "    .dataframe tbody tr th {\n",
       "        vertical-align: top;\n",
       "    }\n",
       "\n",
       "    .dataframe thead th {\n",
       "        text-align: right;\n",
       "    }\n",
       "</style>\n",
       "<table border=\"1\" class=\"dataframe\">\n",
       "  <thead>\n",
       "    <tr style=\"text-align: right;\">\n",
       "      <th></th>\n",
       "      <th>Name</th>\n",
       "    </tr>\n",
       "  </thead>\n",
       "  <tbody>\n",
       "    <tr>\n",
       "      <th>691</th>\n",
       "      <td>#ref!</td>\n",
       "    </tr>\n",
       "  </tbody>\n",
       "</table>\n",
       "</div>"
      ],
      "text/plain": [
       "      Name\n",
       "691  #ref!"
      ]
     },
     "execution_count": 12,
     "metadata": {},
     "output_type": "execute_result"
    }
   ],
   "source": [
    "# Boolean index to find rows where Role is #REF!\n",
    "names[names['Name'] == \"#ref!\"]"
   ]
  },
  {
   "cell_type": "markdown",
   "metadata": {},
   "source": [
    "Though this single bad record won't have much of an impact on our analysis, we can clean our data by removing this record."
   ]
  },
  {
   "cell_type": "code",
   "execution_count": 13,
   "metadata": {},
   "outputs": [],
   "source": [
    "names = names[names['Name'] != \"#ref!\"]"
   ]
  },
  {
   "cell_type": "markdown",
   "metadata": {},
   "source": [
    "**Double check**: Let's double check that our record removal only removed the single bad record."
   ]
  },
  {
   "cell_type": "code",
   "execution_count": 14,
   "metadata": {},
   "outputs": [
    {
     "data": {
      "application/vnd.microsoft.datawrangler.viewer.v0+json": {
       "columns": [
        {
         "name": "Name",
         "rawType": "object",
         "type": "string"
        },
        {
         "name": "count",
         "rawType": "int64",
         "type": "integer"
        }
       ],
       "ref": "b1cb4e16-f828-4d9f-a7f3-1b1a169f0491",
       "rows": [
        [
         "matthew",
         "13"
        ],
        [
         "ethan",
         "9"
        ],
        [
         "andrew",
         "9"
        ],
        [
         "nathan",
         "8"
        ],
        [
         "emily",
         "8"
        ],
        [
         "ryan",
         "8"
        ],
        [
         "david",
         "7"
        ],
        [
         "alex",
         "7"
        ],
        [
         "sophia",
         "7"
        ],
        [
         "jessica",
         "7"
        ],
        [
         "william",
         "7"
        ],
        [
         "daniel",
         "7"
        ],
        [
         "rohan",
         "7"
        ],
        [
         "ashley",
         "6"
        ],
        [
         "rebecca",
         "6"
        ],
        [
         "nicholas",
         "6"
        ],
        [
         "henry",
         "5"
        ],
        [
         "max",
         "5"
        ],
        [
         "rachel",
         "5"
        ],
        [
         "bryan",
         "5"
        ],
        [
         "anna",
         "5"
        ],
        [
         "sarah",
         "5"
        ],
        [
         "tiffany",
         "5"
        ],
        [
         "sean",
         "5"
        ],
        [
         "michael",
         "5"
        ],
        [
         "claire",
         "5"
        ],
        [
         "jacob",
         "5"
        ],
        [
         "justin",
         "5"
        ],
        [
         "jason",
         "5"
        ],
        [
         "chris",
         "5"
        ],
        [
         "eric",
         "4"
        ],
        [
         "jack",
         "4"
        ],
        [
         "kevin",
         "4"
        ],
        [
         "ian",
         "4"
        ],
        [
         "brandon",
         "4"
        ],
        [
         "peter",
         "4"
        ],
        [
         "joseph",
         "4"
        ],
        [
         "natalie",
         "4"
        ],
        [
         "maya",
         "4"
        ],
        [
         "adrian",
         "4"
        ],
        [
         "ria",
         "4"
        ],
        [
         "brian",
         "4"
        ],
        [
         "patrick",
         "4"
        ],
        [
         "will",
         "3"
        ],
        [
         "dylan",
         "3"
        ],
        [
         "mira",
         "3"
        ],
        [
         "austin",
         "3"
        ],
        [
         "jocelyn",
         "3"
        ],
        [
         "darren",
         "3"
        ],
        [
         "terry",
         "3"
        ]
       ],
       "shape": {
        "columns": 1,
        "rows": 914
       }
      },
      "text/html": [
       "<div>\n",
       "<style scoped>\n",
       "    .dataframe tbody tr th:only-of-type {\n",
       "        vertical-align: middle;\n",
       "    }\n",
       "\n",
       "    .dataframe tbody tr th {\n",
       "        vertical-align: top;\n",
       "    }\n",
       "\n",
       "    .dataframe thead th {\n",
       "        text-align: right;\n",
       "    }\n",
       "</style>\n",
       "<table border=\"1\" class=\"dataframe\">\n",
       "  <thead>\n",
       "    <tr style=\"text-align: right;\">\n",
       "      <th></th>\n",
       "      <th>count</th>\n",
       "    </tr>\n",
       "    <tr>\n",
       "      <th>Name</th>\n",
       "      <th></th>\n",
       "    </tr>\n",
       "  </thead>\n",
       "  <tbody>\n",
       "    <tr>\n",
       "      <th>matthew</th>\n",
       "      <td>13</td>\n",
       "    </tr>\n",
       "    <tr>\n",
       "      <th>ethan</th>\n",
       "      <td>9</td>\n",
       "    </tr>\n",
       "    <tr>\n",
       "      <th>andrew</th>\n",
       "      <td>9</td>\n",
       "    </tr>\n",
       "    <tr>\n",
       "      <th>nathan</th>\n",
       "      <td>8</td>\n",
       "    </tr>\n",
       "    <tr>\n",
       "      <th>emily</th>\n",
       "      <td>8</td>\n",
       "    </tr>\n",
       "    <tr>\n",
       "      <th>...</th>\n",
       "      <td>...</td>\n",
       "    </tr>\n",
       "    <tr>\n",
       "      <th>sukriti</th>\n",
       "      <td>1</td>\n",
       "    </tr>\n",
       "    <tr>\n",
       "      <th>in</th>\n",
       "      <td>1</td>\n",
       "    </tr>\n",
       "    <tr>\n",
       "      <th>teresa</th>\n",
       "      <td>1</td>\n",
       "    </tr>\n",
       "    <tr>\n",
       "      <th>alyssa</th>\n",
       "      <td>1</td>\n",
       "    </tr>\n",
       "    <tr>\n",
       "      <th>sumeda</th>\n",
       "      <td>1</td>\n",
       "    </tr>\n",
       "  </tbody>\n",
       "</table>\n",
       "<p>914 rows × 1 columns</p>\n",
       "</div>"
      ],
      "text/plain": [
       "         count\n",
       "Name          \n",
       "matthew     13\n",
       "ethan        9\n",
       "andrew       9\n",
       "nathan       8\n",
       "emily        8\n",
       "...        ...\n",
       "sukriti      1\n",
       "in           1\n",
       "teresa       1\n",
       "alyssa       1\n",
       "sumeda       1\n",
       "\n",
       "[914 rows x 1 columns]"
      ]
     },
     "execution_count": 14,
     "metadata": {},
     "output_type": "execute_result"
    }
   ],
   "source": [
    "names['Name'].value_counts().to_frame()  # Again, counts of unique Roles"
   ]
  },
  {
   "cell_type": "markdown",
   "metadata": {},
   "source": [
    "Remember we loaded in two files. Let's explore the fields of `majors` and check for bad records:"
   ]
  },
  {
   "cell_type": "markdown",
   "metadata": {},
   "source": [
    "### Exploratory Data Analysis on `majors` dataset"
   ]
  },
  {
   "cell_type": "code",
   "execution_count": 15,
   "metadata": {},
   "outputs": [
    {
     "data": {
      "text/plain": [
       "Index(['Majors', 'Terms in Attendance'], dtype='object')"
      ]
     },
     "execution_count": 15,
     "metadata": {},
     "output_type": "execute_result"
    }
   ],
   "source": [
    "majors.columns   # Get column names"
   ]
  },
  {
   "cell_type": "code",
   "execution_count": 16,
   "metadata": {},
   "outputs": [
    {
     "data": {
      "application/vnd.microsoft.datawrangler.viewer.v0+json": {
       "columns": [
        {
         "name": "Terms in Attendance",
         "rawType": "object",
         "type": "string"
        },
        {
         "name": "count",
         "rawType": "int64",
         "type": "integer"
        }
       ],
       "ref": "f77e3d5f-64b2-473a-81ed-ddf72ce78a71",
       "rows": [
        [
         "4.0",
         "539"
        ],
        [
         "6.0",
         "407"
        ],
        [
         "8.0",
         "168"
        ],
        [
         "G",
         "52"
        ],
        [
         "2.0",
         "43"
        ],
        [
         "7.0",
         "30"
        ],
        [
         "5.0",
         "13"
        ],
        [
         "#REF!",
         "1"
        ],
        [
         "3.0",
         "1"
        ]
       ],
       "shape": {
        "columns": 1,
        "rows": 9
       }
      },
      "text/html": [
       "<div>\n",
       "<style scoped>\n",
       "    .dataframe tbody tr th:only-of-type {\n",
       "        vertical-align: middle;\n",
       "    }\n",
       "\n",
       "    .dataframe tbody tr th {\n",
       "        vertical-align: top;\n",
       "    }\n",
       "\n",
       "    .dataframe thead th {\n",
       "        text-align: right;\n",
       "    }\n",
       "</style>\n",
       "<table border=\"1\" class=\"dataframe\">\n",
       "  <thead>\n",
       "    <tr style=\"text-align: right;\">\n",
       "      <th></th>\n",
       "      <th>count</th>\n",
       "    </tr>\n",
       "    <tr>\n",
       "      <th>Terms in Attendance</th>\n",
       "      <th></th>\n",
       "    </tr>\n",
       "  </thead>\n",
       "  <tbody>\n",
       "    <tr>\n",
       "      <th>4.0</th>\n",
       "      <td>539</td>\n",
       "    </tr>\n",
       "    <tr>\n",
       "      <th>6.0</th>\n",
       "      <td>407</td>\n",
       "    </tr>\n",
       "    <tr>\n",
       "      <th>8.0</th>\n",
       "      <td>168</td>\n",
       "    </tr>\n",
       "    <tr>\n",
       "      <th>G</th>\n",
       "      <td>52</td>\n",
       "    </tr>\n",
       "    <tr>\n",
       "      <th>2.0</th>\n",
       "      <td>43</td>\n",
       "    </tr>\n",
       "    <tr>\n",
       "      <th>7.0</th>\n",
       "      <td>30</td>\n",
       "    </tr>\n",
       "    <tr>\n",
       "      <th>5.0</th>\n",
       "      <td>13</td>\n",
       "    </tr>\n",
       "    <tr>\n",
       "      <th>#REF!</th>\n",
       "      <td>1</td>\n",
       "    </tr>\n",
       "    <tr>\n",
       "      <th>3.0</th>\n",
       "      <td>1</td>\n",
       "    </tr>\n",
       "  </tbody>\n",
       "</table>\n",
       "</div>"
      ],
      "text/plain": [
       "                     count\n",
       "Terms in Attendance       \n",
       "4.0                    539\n",
       "6.0                    407\n",
       "8.0                    168\n",
       "G                       52\n",
       "2.0                     43\n",
       "7.0                     30\n",
       "5.0                     13\n",
       "#REF!                    1\n",
       "3.0                      1"
      ]
     },
     "execution_count": 16,
     "metadata": {},
     "output_type": "execute_result"
    }
   ],
   "source": [
    "majors['Terms in Attendance'].value_counts().to_frame()"
   ]
  },
  {
   "cell_type": "markdown",
   "metadata": {},
   "source": [
    "It looks like numbers represent semesters, `G` represents graduate students. But we do still have a bad record:"
   ]
  },
  {
   "cell_type": "code",
   "execution_count": 17,
   "metadata": {},
   "outputs": [
    {
     "data": {
      "application/vnd.microsoft.datawrangler.viewer.v0+json": {
       "columns": [
        {
         "name": "index",
         "rawType": "int64",
         "type": "integer"
        },
        {
         "name": "Majors",
         "rawType": "object",
         "type": "string"
        },
        {
         "name": "Terms in Attendance",
         "rawType": "object",
         "type": "string"
        }
       ],
       "ref": "d9cad324-21cf-4d8b-aab8-5b0a29a798ef",
       "rows": [
        [
         "395",
         "#REF!",
         "#REF!"
        ]
       ],
       "shape": {
        "columns": 2,
        "rows": 1
       }
      },
      "text/html": [
       "<div>\n",
       "<style scoped>\n",
       "    .dataframe tbody tr th:only-of-type {\n",
       "        vertical-align: middle;\n",
       "    }\n",
       "\n",
       "    .dataframe tbody tr th {\n",
       "        vertical-align: top;\n",
       "    }\n",
       "\n",
       "    .dataframe thead th {\n",
       "        text-align: right;\n",
       "    }\n",
       "</style>\n",
       "<table border=\"1\" class=\"dataframe\">\n",
       "  <thead>\n",
       "    <tr style=\"text-align: right;\">\n",
       "      <th></th>\n",
       "      <th>Majors</th>\n",
       "      <th>Terms in Attendance</th>\n",
       "    </tr>\n",
       "  </thead>\n",
       "  <tbody>\n",
       "    <tr>\n",
       "      <th>395</th>\n",
       "      <td>#REF!</td>\n",
       "      <td>#REF!</td>\n",
       "    </tr>\n",
       "  </tbody>\n",
       "</table>\n",
       "</div>"
      ],
      "text/plain": [
       "    Majors Terms in Attendance\n",
       "395  #REF!               #REF!"
      ]
     },
     "execution_count": 17,
     "metadata": {},
     "output_type": "execute_result"
    }
   ],
   "source": [
    "majors[majors['Terms in Attendance'] == \"#REF!\"]"
   ]
  },
  {
   "cell_type": "code",
   "execution_count": 18,
   "metadata": {},
   "outputs": [
    {
     "data": {
      "application/vnd.microsoft.datawrangler.viewer.v0+json": {
       "columns": [
        {
         "name": "Terms in Attendance",
         "rawType": "object",
         "type": "string"
        },
        {
         "name": "count",
         "rawType": "int64",
         "type": "integer"
        }
       ],
       "ref": "77d4b2c4-3e7c-49aa-8180-209462c3d7d9",
       "rows": [
        [
         "4.0",
         "539"
        ],
        [
         "6.0",
         "407"
        ],
        [
         "8.0",
         "168"
        ],
        [
         "G",
         "52"
        ],
        [
         "2.0",
         "43"
        ],
        [
         "7.0",
         "30"
        ],
        [
         "5.0",
         "13"
        ],
        [
         "3.0",
         "1"
        ]
       ],
       "shape": {
        "columns": 1,
        "rows": 8
       }
      },
      "text/html": [
       "<div>\n",
       "<style scoped>\n",
       "    .dataframe tbody tr th:only-of-type {\n",
       "        vertical-align: middle;\n",
       "    }\n",
       "\n",
       "    .dataframe tbody tr th {\n",
       "        vertical-align: top;\n",
       "    }\n",
       "\n",
       "    .dataframe thead th {\n",
       "        text-align: right;\n",
       "    }\n",
       "</style>\n",
       "<table border=\"1\" class=\"dataframe\">\n",
       "  <thead>\n",
       "    <tr style=\"text-align: right;\">\n",
       "      <th></th>\n",
       "      <th>count</th>\n",
       "    </tr>\n",
       "    <tr>\n",
       "      <th>Terms in Attendance</th>\n",
       "      <th></th>\n",
       "    </tr>\n",
       "  </thead>\n",
       "  <tbody>\n",
       "    <tr>\n",
       "      <th>4.0</th>\n",
       "      <td>539</td>\n",
       "    </tr>\n",
       "    <tr>\n",
       "      <th>6.0</th>\n",
       "      <td>407</td>\n",
       "    </tr>\n",
       "    <tr>\n",
       "      <th>8.0</th>\n",
       "      <td>168</td>\n",
       "    </tr>\n",
       "    <tr>\n",
       "      <th>G</th>\n",
       "      <td>52</td>\n",
       "    </tr>\n",
       "    <tr>\n",
       "      <th>2.0</th>\n",
       "      <td>43</td>\n",
       "    </tr>\n",
       "    <tr>\n",
       "      <th>7.0</th>\n",
       "      <td>30</td>\n",
       "    </tr>\n",
       "    <tr>\n",
       "      <th>5.0</th>\n",
       "      <td>13</td>\n",
       "    </tr>\n",
       "    <tr>\n",
       "      <th>3.0</th>\n",
       "      <td>1</td>\n",
       "    </tr>\n",
       "  </tbody>\n",
       "</table>\n",
       "</div>"
      ],
      "text/plain": [
       "                     count\n",
       "Terms in Attendance       \n",
       "4.0                    539\n",
       "6.0                    407\n",
       "8.0                    168\n",
       "G                       52\n",
       "2.0                     43\n",
       "7.0                     30\n",
       "5.0                     13\n",
       "3.0                      1"
      ]
     },
     "execution_count": 18,
     "metadata": {},
     "output_type": "execute_result"
    }
   ],
   "source": [
    "majors = majors[majors['Terms in Attendance'] != \"#REF!\"]\n",
    "majors['Terms in Attendance'].value_counts().to_frame()"
   ]
  },
  {
   "cell_type": "markdown",
   "metadata": {},
   "source": [
    "Detail: The deleted `majors` record number is different from the record number of the bad `names` record. So while the number of records in each table matches, the row indices don't match, so we'll have to keep these tables separate in order to do our analysis."
   ]
  },
  {
   "cell_type": "markdown",
   "metadata": {},
   "source": [
    "### Summarizing the Data\n",
    "\n",
    "We will often want to numerically or visually summarize the data. The `describe()` method provides a brief high level description of our data frame. "
   ]
  },
  {
   "cell_type": "code",
   "execution_count": 19,
   "metadata": {},
   "outputs": [
    {
     "data": {
      "application/vnd.microsoft.datawrangler.viewer.v0+json": {
       "columns": [
        {
         "name": "index",
         "rawType": "object",
         "type": "string"
        },
        {
         "name": "Name",
         "rawType": "object",
         "type": "unknown"
        }
       ],
       "ref": "de5b85fb-af0e-43ee-9096-e7104025b6b5",
       "rows": [
        [
         "count",
         "1275"
        ],
        [
         "unique",
         "914"
        ],
        [
         "top",
         "matthew"
        ],
        [
         "freq",
         "13"
        ]
       ],
       "shape": {
        "columns": 1,
        "rows": 4
       }
      },
      "text/html": [
       "<div>\n",
       "<style scoped>\n",
       "    .dataframe tbody tr th:only-of-type {\n",
       "        vertical-align: middle;\n",
       "    }\n",
       "\n",
       "    .dataframe tbody tr th {\n",
       "        vertical-align: top;\n",
       "    }\n",
       "\n",
       "    .dataframe thead th {\n",
       "        text-align: right;\n",
       "    }\n",
       "</style>\n",
       "<table border=\"1\" class=\"dataframe\">\n",
       "  <thead>\n",
       "    <tr style=\"text-align: right;\">\n",
       "      <th></th>\n",
       "      <th>Name</th>\n",
       "    </tr>\n",
       "  </thead>\n",
       "  <tbody>\n",
       "    <tr>\n",
       "      <th>count</th>\n",
       "      <td>1275</td>\n",
       "    </tr>\n",
       "    <tr>\n",
       "      <th>unique</th>\n",
       "      <td>914</td>\n",
       "    </tr>\n",
       "    <tr>\n",
       "      <th>top</th>\n",
       "      <td>matthew</td>\n",
       "    </tr>\n",
       "    <tr>\n",
       "      <th>freq</th>\n",
       "      <td>13</td>\n",
       "    </tr>\n",
       "  </tbody>\n",
       "</table>\n",
       "</div>"
      ],
      "text/plain": [
       "           Name\n",
       "count      1275\n",
       "unique      914\n",
       "top     matthew\n",
       "freq         13"
      ]
     },
     "execution_count": 19,
     "metadata": {},
     "output_type": "execute_result"
    }
   ],
   "source": [
    "names.describe()"
   ]
  },
  {
   "cell_type": "markdown",
   "metadata": {},
   "source": [
    "**Q: What do you think `top` and `freq` represent?**\n",
    "\n",
    "**Answer:** `top`: most frequent entry, `freq`: the frequency of that entry"
   ]
  },
  {
   "cell_type": "code",
   "execution_count": 20,
   "metadata": {},
   "outputs": [
    {
     "data": {
      "application/vnd.microsoft.datawrangler.viewer.v0+json": {
       "columns": [
        {
         "name": "index",
         "rawType": "object",
         "type": "string"
        },
        {
         "name": "Majors",
         "rawType": "object",
         "type": "unknown"
        },
        {
         "name": "Terms in Attendance",
         "rawType": "object",
         "type": "unknown"
        }
       ],
       "ref": "8eddb5af-20d2-4804-9550-1acbcf615b64",
       "rows": [
        [
         "count",
         "1275",
         "1253"
        ],
        [
         "unique",
         "259",
         "8"
        ],
        [
         "top",
         "Letters & Sci Undeclared UG",
         "4.0"
        ],
        [
         "freq",
         "341",
         "539"
        ]
       ],
       "shape": {
        "columns": 2,
        "rows": 4
       }
      },
      "text/html": [
       "<div>\n",
       "<style scoped>\n",
       "    .dataframe tbody tr th:only-of-type {\n",
       "        vertical-align: middle;\n",
       "    }\n",
       "\n",
       "    .dataframe tbody tr th {\n",
       "        vertical-align: top;\n",
       "    }\n",
       "\n",
       "    .dataframe thead th {\n",
       "        text-align: right;\n",
       "    }\n",
       "</style>\n",
       "<table border=\"1\" class=\"dataframe\">\n",
       "  <thead>\n",
       "    <tr style=\"text-align: right;\">\n",
       "      <th></th>\n",
       "      <th>Majors</th>\n",
       "      <th>Terms in Attendance</th>\n",
       "    </tr>\n",
       "  </thead>\n",
       "  <tbody>\n",
       "    <tr>\n",
       "      <th>count</th>\n",
       "      <td>1275</td>\n",
       "      <td>1253</td>\n",
       "    </tr>\n",
       "    <tr>\n",
       "      <th>unique</th>\n",
       "      <td>259</td>\n",
       "      <td>8</td>\n",
       "    </tr>\n",
       "    <tr>\n",
       "      <th>top</th>\n",
       "      <td>Letters &amp; Sci Undeclared UG</td>\n",
       "      <td>4.0</td>\n",
       "    </tr>\n",
       "    <tr>\n",
       "      <th>freq</th>\n",
       "      <td>341</td>\n",
       "      <td>539</td>\n",
       "    </tr>\n",
       "  </tbody>\n",
       "</table>\n",
       "</div>"
      ],
      "text/plain": [
       "                             Majors Terms in Attendance\n",
       "count                          1275                1253\n",
       "unique                          259                   8\n",
       "top     Letters & Sci Undeclared UG                 4.0\n",
       "freq                            341                 539"
      ]
     },
     "execution_count": 20,
     "metadata": {},
     "output_type": "execute_result"
    }
   ],
   "source": [
    "majors.describe()"
   ]
  },
  {
   "cell_type": "markdown",
   "metadata": {},
   "source": [
    "---\n",
    "# 4. Analysis: Understanding the World\n",
    "\n",
    "<img src=\"images/understand_world.PNG\" width=\"300px\" />\n",
    "\n",
    "\n",
    "### What are your majors?"
   ]
  },
  {
   "cell_type": "markdown",
   "metadata": {},
   "source": [
    "What are the top majors:"
   ]
  },
  {
   "cell_type": "code",
   "execution_count": 21,
   "metadata": {},
   "outputs": [
    {
     "data": {
      "application/vnd.microsoft.datawrangler.viewer.v0+json": {
       "columns": [
        {
         "name": "Majors",
         "rawType": "object",
         "type": "string"
        },
        {
         "name": "count",
         "rawType": "int64",
         "type": "integer"
        }
       ],
       "ref": "f77d1d59-7884-4149-959c-a64014043c8c",
       "rows": [
        [
         "Letters & Sci Undeclared UG",
         "341"
        ],
        [
         "Computer Science BA",
         "148"
        ],
        [
         "Data Science BA (Subplan: Business/Industrial Analytics)",
         "50"
        ],
        [
         "Electrical Eng & Comp Sci BS",
         "43"
        ],
        [
         "Economics BA",
         "37"
        ],
        [
         "Cognitive Science BA",
         "33"
        ],
        [
         "Data Science BA (Subplan: Economics)",
         "32"
        ],
        [
         "Civil Engineering BS",
         "30"
        ],
        [
         "Data Science BA (Subplan: Applied Mathematics & Modeling)",
         "23"
        ],
        [
         "Mol Sci & Software Engin MMSSE (Subplan: Part-Time)",
         "22"
        ],
        [
         "Letters & Sci Undeclared UG (Subplan: Applied HD Data Science)",
         "19"
        ],
        [
         "Economics BA, Minor: Data Science UG",
         "17"
        ],
        [
         "Industrial Eng & Ops Rsch BS",
         "15"
        ],
        [
         "Applied Mathematics BA (Subplan: Data Science)",
         "15"
        ],
        [
         "Data Science BA (Subplan: Cognition)",
         "14"
        ],
        [
         "Data Science BA (Subplan: Robotics)",
         "12"
        ],
        [
         "Electrical Eng & Comp Sci BS, Minor: Data Science UG",
         "11"
        ],
        [
         "Bioengineering BS",
         "10"
        ],
        [
         "Applied Mathematics BA",
         "9"
        ],
        [
         "Environ Econ & Policy BS",
         "8"
        ]
       ],
       "shape": {
        "columns": 1,
        "rows": 20
       }
      },
      "text/html": [
       "<div>\n",
       "<style scoped>\n",
       "    .dataframe tbody tr th:only-of-type {\n",
       "        vertical-align: middle;\n",
       "    }\n",
       "\n",
       "    .dataframe tbody tr th {\n",
       "        vertical-align: top;\n",
       "    }\n",
       "\n",
       "    .dataframe thead th {\n",
       "        text-align: right;\n",
       "    }\n",
       "</style>\n",
       "<table border=\"1\" class=\"dataframe\">\n",
       "  <thead>\n",
       "    <tr style=\"text-align: right;\">\n",
       "      <th></th>\n",
       "      <th>count</th>\n",
       "    </tr>\n",
       "    <tr>\n",
       "      <th>Majors</th>\n",
       "      <th></th>\n",
       "    </tr>\n",
       "  </thead>\n",
       "  <tbody>\n",
       "    <tr>\n",
       "      <th>Letters &amp; Sci Undeclared UG</th>\n",
       "      <td>341</td>\n",
       "    </tr>\n",
       "    <tr>\n",
       "      <th>Computer Science BA</th>\n",
       "      <td>148</td>\n",
       "    </tr>\n",
       "    <tr>\n",
       "      <th>Data Science BA (Subplan: Business/Industrial Analytics)</th>\n",
       "      <td>50</td>\n",
       "    </tr>\n",
       "    <tr>\n",
       "      <th>Electrical Eng &amp; Comp Sci BS</th>\n",
       "      <td>43</td>\n",
       "    </tr>\n",
       "    <tr>\n",
       "      <th>Economics BA</th>\n",
       "      <td>37</td>\n",
       "    </tr>\n",
       "    <tr>\n",
       "      <th>Cognitive Science BA</th>\n",
       "      <td>33</td>\n",
       "    </tr>\n",
       "    <tr>\n",
       "      <th>Data Science BA (Subplan: Economics)</th>\n",
       "      <td>32</td>\n",
       "    </tr>\n",
       "    <tr>\n",
       "      <th>Civil Engineering BS</th>\n",
       "      <td>30</td>\n",
       "    </tr>\n",
       "    <tr>\n",
       "      <th>Data Science BA (Subplan: Applied Mathematics &amp; Modeling)</th>\n",
       "      <td>23</td>\n",
       "    </tr>\n",
       "    <tr>\n",
       "      <th>Mol Sci &amp; Software Engin MMSSE (Subplan: Part-Time)</th>\n",
       "      <td>22</td>\n",
       "    </tr>\n",
       "    <tr>\n",
       "      <th>Letters &amp; Sci Undeclared UG (Subplan: Applied HD Data Science)</th>\n",
       "      <td>19</td>\n",
       "    </tr>\n",
       "    <tr>\n",
       "      <th>Economics BA, Minor: Data Science UG</th>\n",
       "      <td>17</td>\n",
       "    </tr>\n",
       "    <tr>\n",
       "      <th>Industrial Eng &amp; Ops Rsch BS</th>\n",
       "      <td>15</td>\n",
       "    </tr>\n",
       "    <tr>\n",
       "      <th>Applied Mathematics BA (Subplan: Data Science)</th>\n",
       "      <td>15</td>\n",
       "    </tr>\n",
       "    <tr>\n",
       "      <th>Data Science BA (Subplan: Cognition)</th>\n",
       "      <td>14</td>\n",
       "    </tr>\n",
       "    <tr>\n",
       "      <th>Data Science BA (Subplan: Robotics)</th>\n",
       "      <td>12</td>\n",
       "    </tr>\n",
       "    <tr>\n",
       "      <th>Electrical Eng &amp; Comp Sci BS, Minor: Data Science UG</th>\n",
       "      <td>11</td>\n",
       "    </tr>\n",
       "    <tr>\n",
       "      <th>Bioengineering BS</th>\n",
       "      <td>10</td>\n",
       "    </tr>\n",
       "    <tr>\n",
       "      <th>Applied Mathematics BA</th>\n",
       "      <td>9</td>\n",
       "    </tr>\n",
       "    <tr>\n",
       "      <th>Environ Econ &amp; Policy BS</th>\n",
       "      <td>8</td>\n",
       "    </tr>\n",
       "  </tbody>\n",
       "</table>\n",
       "</div>"
      ],
      "text/plain": [
       "                                                    count\n",
       "Majors                                                   \n",
       "Letters & Sci Undeclared UG                           341\n",
       "Computer Science BA                                   148\n",
       "Data Science BA (Subplan: Business/Industrial A...     50\n",
       "Electrical Eng & Comp Sci BS                           43\n",
       "Economics BA                                           37\n",
       "Cognitive Science BA                                   33\n",
       "Data Science BA (Subplan: Economics)                   32\n",
       "Civil Engineering BS                                   30\n",
       "Data Science BA (Subplan: Applied Mathematics &...     23\n",
       "Mol Sci & Software Engin MMSSE (Subplan: Part-T...     22\n",
       "Letters & Sci Undeclared UG (Subplan: Applied H...     19\n",
       "Economics BA, Minor: Data Science UG                   17\n",
       "Industrial Eng & Ops Rsch BS                           15\n",
       "Applied Mathematics BA (Subplan: Data Science)         15\n",
       "Data Science BA (Subplan: Cognition)                   14\n",
       "Data Science BA (Subplan: Robotics)                    12\n",
       "Electrical Eng & Comp Sci BS, Minor: Data Scien...     11\n",
       "Bioengineering BS                                      10\n",
       "Applied Mathematics BA                                  9\n",
       "Environ Econ & Policy BS                                8"
      ]
     },
     "execution_count": 21,
     "metadata": {},
     "output_type": "execute_result"
    }
   ],
   "source": [
    "majors_count = (       # Method chaining in pandas\n",
    "    majors['Majors']\n",
    "    .value_counts()\n",
    "    .sort_values(ascending=False) # Highest first\n",
    "    .to_frame()\n",
    "    .head(20)          # Get the top 20\n",
    ")\n",
    "\n",
    "majors_count"
   ]
  },
  {
   "cell_type": "markdown",
   "metadata": {},
   "source": [
    "### We will often use visualizations to make sense of data\n",
    "**In Data 100, we will deal with many different kinds of data (not just numbers) and we will study techniques to describe types of data.**\n",
    "\n",
    "**How can we summarize the Majors field?** A good starting point might be to use a bar plot:"
   ]
  },
  {
   "cell_type": "code",
   "execution_count": 22,
   "metadata": {},
   "outputs": [
    {
     "data": {
      "application/vnd.plotly.v1+json": {
       "config": {
        "plotlyServerURL": "https://plot.ly"
       },
       "data": [
        {
         "hovertemplate": "variable=count<br>value=%{x}<br>Majors=%{y}<extra></extra>",
         "legendgroup": "count",
         "marker": {
          "color": "#636efa",
          "pattern": {
           "shape": ""
          }
         },
         "name": "count",
         "orientation": "h",
         "showlegend": true,
         "textposition": "auto",
         "type": "bar",
         "x": {
          "bdata": "CAAJAAoACwAMAA4ADwAPABEAEwAWABcAHgAgACEAJQArADIAlABVAQ==",
          "dtype": "i2"
         },
         "xaxis": "x",
         "y": [
          "Environ Econ & Policy BS",
          "Applied Mathematics BA",
          "Bioengineering BS",
          "Electrical Eng & Comp Sci BS, Minor: Data Science UG",
          "Data Science BA (Subplan: Robotics)",
          "Data Science BA (Subplan: Cognition)",
          "Applied Mathematics BA (Subplan: Data Science)",
          "Industrial Eng & Ops Rsch BS",
          "Economics BA, Minor: Data Science UG",
          "Letters & Sci Undeclared UG (Subplan: Applied HD Data Science)",
          "Mol Sci & Software Engin MMSSE (Subplan: Part-Time)",
          "Data Science BA (Subplan: Applied Mathematics & Modeling)",
          "Civil Engineering BS",
          "Data Science BA (Subplan: Economics)",
          "Cognitive Science BA",
          "Economics BA",
          "Electrical Eng & Comp Sci BS",
          "Data Science BA (Subplan: Business/Industrial Analytics)",
          "Computer Science BA",
          "Letters & Sci Undeclared UG"
         ],
         "yaxis": "y"
        }
       ],
       "layout": {
        "autosize": false,
        "barmode": "relative",
        "height": 500,
        "legend": {
         "title": {
          "text": "variable"
         },
         "tracegroupgap": 0
        },
        "margin": {
         "t": 60
        },
        "showlegend": false,
        "template": {
         "data": {
          "bar": [
           {
            "error_x": {
             "color": "#2a3f5f"
            },
            "error_y": {
             "color": "#2a3f5f"
            },
            "marker": {
             "line": {
              "color": "#E5ECF6",
              "width": 0.5
             },
             "pattern": {
              "fillmode": "overlay",
              "size": 10,
              "solidity": 0.2
             }
            },
            "type": "bar"
           }
          ],
          "barpolar": [
           {
            "marker": {
             "line": {
              "color": "#E5ECF6",
              "width": 0.5
             },
             "pattern": {
              "fillmode": "overlay",
              "size": 10,
              "solidity": 0.2
             }
            },
            "type": "barpolar"
           }
          ],
          "carpet": [
           {
            "aaxis": {
             "endlinecolor": "#2a3f5f",
             "gridcolor": "white",
             "linecolor": "white",
             "minorgridcolor": "white",
             "startlinecolor": "#2a3f5f"
            },
            "baxis": {
             "endlinecolor": "#2a3f5f",
             "gridcolor": "white",
             "linecolor": "white",
             "minorgridcolor": "white",
             "startlinecolor": "#2a3f5f"
            },
            "type": "carpet"
           }
          ],
          "choropleth": [
           {
            "colorbar": {
             "outlinewidth": 0,
             "ticks": ""
            },
            "type": "choropleth"
           }
          ],
          "contour": [
           {
            "colorbar": {
             "outlinewidth": 0,
             "ticks": ""
            },
            "colorscale": [
             [
              0,
              "#0d0887"
             ],
             [
              0.1111111111111111,
              "#46039f"
             ],
             [
              0.2222222222222222,
              "#7201a8"
             ],
             [
              0.3333333333333333,
              "#9c179e"
             ],
             [
              0.4444444444444444,
              "#bd3786"
             ],
             [
              0.5555555555555556,
              "#d8576b"
             ],
             [
              0.6666666666666666,
              "#ed7953"
             ],
             [
              0.7777777777777778,
              "#fb9f3a"
             ],
             [
              0.8888888888888888,
              "#fdca26"
             ],
             [
              1,
              "#f0f921"
             ]
            ],
            "type": "contour"
           }
          ],
          "contourcarpet": [
           {
            "colorbar": {
             "outlinewidth": 0,
             "ticks": ""
            },
            "type": "contourcarpet"
           }
          ],
          "heatmap": [
           {
            "colorbar": {
             "outlinewidth": 0,
             "ticks": ""
            },
            "colorscale": [
             [
              0,
              "#0d0887"
             ],
             [
              0.1111111111111111,
              "#46039f"
             ],
             [
              0.2222222222222222,
              "#7201a8"
             ],
             [
              0.3333333333333333,
              "#9c179e"
             ],
             [
              0.4444444444444444,
              "#bd3786"
             ],
             [
              0.5555555555555556,
              "#d8576b"
             ],
             [
              0.6666666666666666,
              "#ed7953"
             ],
             [
              0.7777777777777778,
              "#fb9f3a"
             ],
             [
              0.8888888888888888,
              "#fdca26"
             ],
             [
              1,
              "#f0f921"
             ]
            ],
            "type": "heatmap"
           }
          ],
          "histogram": [
           {
            "marker": {
             "pattern": {
              "fillmode": "overlay",
              "size": 10,
              "solidity": 0.2
             }
            },
            "type": "histogram"
           }
          ],
          "histogram2d": [
           {
            "colorbar": {
             "outlinewidth": 0,
             "ticks": ""
            },
            "colorscale": [
             [
              0,
              "#0d0887"
             ],
             [
              0.1111111111111111,
              "#46039f"
             ],
             [
              0.2222222222222222,
              "#7201a8"
             ],
             [
              0.3333333333333333,
              "#9c179e"
             ],
             [
              0.4444444444444444,
              "#bd3786"
             ],
             [
              0.5555555555555556,
              "#d8576b"
             ],
             [
              0.6666666666666666,
              "#ed7953"
             ],
             [
              0.7777777777777778,
              "#fb9f3a"
             ],
             [
              0.8888888888888888,
              "#fdca26"
             ],
             [
              1,
              "#f0f921"
             ]
            ],
            "type": "histogram2d"
           }
          ],
          "histogram2dcontour": [
           {
            "colorbar": {
             "outlinewidth": 0,
             "ticks": ""
            },
            "colorscale": [
             [
              0,
              "#0d0887"
             ],
             [
              0.1111111111111111,
              "#46039f"
             ],
             [
              0.2222222222222222,
              "#7201a8"
             ],
             [
              0.3333333333333333,
              "#9c179e"
             ],
             [
              0.4444444444444444,
              "#bd3786"
             ],
             [
              0.5555555555555556,
              "#d8576b"
             ],
             [
              0.6666666666666666,
              "#ed7953"
             ],
             [
              0.7777777777777778,
              "#fb9f3a"
             ],
             [
              0.8888888888888888,
              "#fdca26"
             ],
             [
              1,
              "#f0f921"
             ]
            ],
            "type": "histogram2dcontour"
           }
          ],
          "mesh3d": [
           {
            "colorbar": {
             "outlinewidth": 0,
             "ticks": ""
            },
            "type": "mesh3d"
           }
          ],
          "parcoords": [
           {
            "line": {
             "colorbar": {
              "outlinewidth": 0,
              "ticks": ""
             }
            },
            "type": "parcoords"
           }
          ],
          "pie": [
           {
            "automargin": true,
            "type": "pie"
           }
          ],
          "scatter": [
           {
            "fillpattern": {
             "fillmode": "overlay",
             "size": 10,
             "solidity": 0.2
            },
            "type": "scatter"
           }
          ],
          "scatter3d": [
           {
            "line": {
             "colorbar": {
              "outlinewidth": 0,
              "ticks": ""
             }
            },
            "marker": {
             "colorbar": {
              "outlinewidth": 0,
              "ticks": ""
             }
            },
            "type": "scatter3d"
           }
          ],
          "scattercarpet": [
           {
            "marker": {
             "colorbar": {
              "outlinewidth": 0,
              "ticks": ""
             }
            },
            "type": "scattercarpet"
           }
          ],
          "scattergeo": [
           {
            "marker": {
             "colorbar": {
              "outlinewidth": 0,
              "ticks": ""
             }
            },
            "type": "scattergeo"
           }
          ],
          "scattergl": [
           {
            "marker": {
             "colorbar": {
              "outlinewidth": 0,
              "ticks": ""
             }
            },
            "type": "scattergl"
           }
          ],
          "scattermap": [
           {
            "marker": {
             "colorbar": {
              "outlinewidth": 0,
              "ticks": ""
             }
            },
            "type": "scattermap"
           }
          ],
          "scattermapbox": [
           {
            "marker": {
             "colorbar": {
              "outlinewidth": 0,
              "ticks": ""
             }
            },
            "type": "scattermapbox"
           }
          ],
          "scatterpolar": [
           {
            "marker": {
             "colorbar": {
              "outlinewidth": 0,
              "ticks": ""
             }
            },
            "type": "scatterpolar"
           }
          ],
          "scatterpolargl": [
           {
            "marker": {
             "colorbar": {
              "outlinewidth": 0,
              "ticks": ""
             }
            },
            "type": "scatterpolargl"
           }
          ],
          "scatterternary": [
           {
            "marker": {
             "colorbar": {
              "outlinewidth": 0,
              "ticks": ""
             }
            },
            "type": "scatterternary"
           }
          ],
          "surface": [
           {
            "colorbar": {
             "outlinewidth": 0,
             "ticks": ""
            },
            "colorscale": [
             [
              0,
              "#0d0887"
             ],
             [
              0.1111111111111111,
              "#46039f"
             ],
             [
              0.2222222222222222,
              "#7201a8"
             ],
             [
              0.3333333333333333,
              "#9c179e"
             ],
             [
              0.4444444444444444,
              "#bd3786"
             ],
             [
              0.5555555555555556,
              "#d8576b"
             ],
             [
              0.6666666666666666,
              "#ed7953"
             ],
             [
              0.7777777777777778,
              "#fb9f3a"
             ],
             [
              0.8888888888888888,
              "#fdca26"
             ],
             [
              1,
              "#f0f921"
             ]
            ],
            "type": "surface"
           }
          ],
          "table": [
           {
            "cells": {
             "fill": {
              "color": "#EBF0F8"
             },
             "line": {
              "color": "white"
             }
            },
            "header": {
             "fill": {
              "color": "#C8D4E3"
             },
             "line": {
              "color": "white"
             }
            },
            "type": "table"
           }
          ]
         },
         "layout": {
          "annotationdefaults": {
           "arrowcolor": "#2a3f5f",
           "arrowhead": 0,
           "arrowwidth": 1
          },
          "autotypenumbers": "strict",
          "coloraxis": {
           "colorbar": {
            "outlinewidth": 0,
            "ticks": ""
           }
          },
          "colorscale": {
           "diverging": [
            [
             0,
             "#8e0152"
            ],
            [
             0.1,
             "#c51b7d"
            ],
            [
             0.2,
             "#de77ae"
            ],
            [
             0.3,
             "#f1b6da"
            ],
            [
             0.4,
             "#fde0ef"
            ],
            [
             0.5,
             "#f7f7f7"
            ],
            [
             0.6,
             "#e6f5d0"
            ],
            [
             0.7,
             "#b8e186"
            ],
            [
             0.8,
             "#7fbc41"
            ],
            [
             0.9,
             "#4d9221"
            ],
            [
             1,
             "#276419"
            ]
           ],
           "sequential": [
            [
             0,
             "#0d0887"
            ],
            [
             0.1111111111111111,
             "#46039f"
            ],
            [
             0.2222222222222222,
             "#7201a8"
            ],
            [
             0.3333333333333333,
             "#9c179e"
            ],
            [
             0.4444444444444444,
             "#bd3786"
            ],
            [
             0.5555555555555556,
             "#d8576b"
            ],
            [
             0.6666666666666666,
             "#ed7953"
            ],
            [
             0.7777777777777778,
             "#fb9f3a"
            ],
            [
             0.8888888888888888,
             "#fdca26"
            ],
            [
             1,
             "#f0f921"
            ]
           ],
           "sequentialminus": [
            [
             0,
             "#0d0887"
            ],
            [
             0.1111111111111111,
             "#46039f"
            ],
            [
             0.2222222222222222,
             "#7201a8"
            ],
            [
             0.3333333333333333,
             "#9c179e"
            ],
            [
             0.4444444444444444,
             "#bd3786"
            ],
            [
             0.5555555555555556,
             "#d8576b"
            ],
            [
             0.6666666666666666,
             "#ed7953"
            ],
            [
             0.7777777777777778,
             "#fb9f3a"
            ],
            [
             0.8888888888888888,
             "#fdca26"
            ],
            [
             1,
             "#f0f921"
            ]
           ]
          },
          "colorway": [
           "#636efa",
           "#EF553B",
           "#00cc96",
           "#ab63fa",
           "#FFA15A",
           "#19d3f3",
           "#FF6692",
           "#B6E880",
           "#FF97FF",
           "#FECB52"
          ],
          "font": {
           "color": "#2a3f5f"
          },
          "geo": {
           "bgcolor": "white",
           "lakecolor": "white",
           "landcolor": "#E5ECF6",
           "showlakes": true,
           "showland": true,
           "subunitcolor": "white"
          },
          "hoverlabel": {
           "align": "left"
          },
          "hovermode": "closest",
          "mapbox": {
           "style": "light"
          },
          "paper_bgcolor": "white",
          "plot_bgcolor": "#E5ECF6",
          "polar": {
           "angularaxis": {
            "gridcolor": "white",
            "linecolor": "white",
            "ticks": ""
           },
           "bgcolor": "#E5ECF6",
           "radialaxis": {
            "gridcolor": "white",
            "linecolor": "white",
            "ticks": ""
           }
          },
          "scene": {
           "xaxis": {
            "backgroundcolor": "#E5ECF6",
            "gridcolor": "white",
            "gridwidth": 2,
            "linecolor": "white",
            "showbackground": true,
            "ticks": "",
            "zerolinecolor": "white"
           },
           "yaxis": {
            "backgroundcolor": "#E5ECF6",
            "gridcolor": "white",
            "gridwidth": 2,
            "linecolor": "white",
            "showbackground": true,
            "ticks": "",
            "zerolinecolor": "white"
           },
           "zaxis": {
            "backgroundcolor": "#E5ECF6",
            "gridcolor": "white",
            "gridwidth": 2,
            "linecolor": "white",
            "showbackground": true,
            "ticks": "",
            "zerolinecolor": "white"
           }
          },
          "shapedefaults": {
           "line": {
            "color": "#2a3f5f"
           }
          },
          "ternary": {
           "aaxis": {
            "gridcolor": "white",
            "linecolor": "white",
            "ticks": ""
           },
           "baxis": {
            "gridcolor": "white",
            "linecolor": "white",
            "ticks": ""
           },
           "bgcolor": "#E5ECF6",
           "caxis": {
            "gridcolor": "white",
            "linecolor": "white",
            "ticks": ""
           }
          },
          "title": {
           "x": 0.05
          },
          "xaxis": {
           "automargin": true,
           "gridcolor": "white",
           "linecolor": "white",
           "ticks": "",
           "title": {
            "standoff": 15
           },
           "zerolinecolor": "white",
           "zerolinewidth": 2
          },
          "yaxis": {
           "automargin": true,
           "gridcolor": "white",
           "linecolor": "white",
           "ticks": "",
           "title": {
            "standoff": 15
           },
           "zerolinecolor": "white",
           "zerolinewidth": 2
          }
         }
        },
        "width": 800,
        "xaxis": {
         "anchor": "y",
         "domain": [
          0,
          1
         ],
         "title": {
          "text": "Count"
         }
        },
        "yaxis": {
         "anchor": "x",
         "domain": [
          0,
          1
         ],
         "title": {
          "text": "Major"
         }
        }
       }
      },
      "text/html": [
       "<div>            <script src=\"https://cdnjs.cloudflare.com/ajax/libs/mathjax/2.7.5/MathJax.js?config=TeX-AMS-MML_SVG\"></script><script type=\"text/javascript\">if (window.MathJax && window.MathJax.Hub && window.MathJax.Hub.Config) {window.MathJax.Hub.Config({SVG: {font: \"STIX-Web\"}});}</script>                <script type=\"text/javascript\">window.PlotlyConfig = {MathJaxConfig: 'local'};</script>\n",
       "        <script charset=\"utf-8\" src=\"https://cdn.plot.ly/plotly-3.0.1.min.js\"></script>                <div id=\"62479e43-3581-4c4a-bfb2-8e72a0ec9060\" class=\"plotly-graph-div\" style=\"height:500px; width:800px;\"></div>            <script type=\"text/javascript\">                window.PLOTLYENV=window.PLOTLYENV || {};                                if (document.getElementById(\"62479e43-3581-4c4a-bfb2-8e72a0ec9060\")) {                    Plotly.newPlot(                        \"62479e43-3581-4c4a-bfb2-8e72a0ec9060\",                        [{\"hovertemplate\":\"variable=count\\u003cbr\\u003evalue=%{x}\\u003cbr\\u003eMajors=%{y}\\u003cextra\\u003e\\u003c\\u002fextra\\u003e\",\"legendgroup\":\"count\",\"marker\":{\"color\":\"#636efa\",\"pattern\":{\"shape\":\"\"}},\"name\":\"count\",\"orientation\":\"h\",\"showlegend\":true,\"textposition\":\"auto\",\"x\":{\"dtype\":\"i2\",\"bdata\":\"CAAJAAoACwAMAA4ADwAPABEAEwAWABcAHgAgACEAJQArADIAlABVAQ==\"},\"xaxis\":\"x\",\"y\":[\"Environ Econ & Policy BS\",\"Applied Mathematics BA\",\"Bioengineering BS\",\"Electrical Eng & Comp Sci BS, Minor: Data Science UG\",\"Data Science BA (Subplan: Robotics)\",\"Data Science BA (Subplan: Cognition)\",\"Applied Mathematics BA (Subplan: Data Science)\",\"Industrial Eng & Ops Rsch BS\",\"Economics BA, Minor: Data Science UG\",\"Letters & Sci Undeclared UG (Subplan: Applied HD Data Science)\",\"Mol Sci & Software Engin MMSSE (Subplan: Part-Time)\",\"Data Science BA (Subplan: Applied Mathematics & Modeling)\",\"Civil Engineering BS\",\"Data Science BA (Subplan: Economics)\",\"Cognitive Science BA\",\"Economics BA\",\"Electrical Eng & Comp Sci BS\",\"Data Science BA (Subplan: Business\\u002fIndustrial Analytics)\",\"Computer Science BA\",\"Letters & Sci Undeclared UG\"],\"yaxis\":\"y\",\"type\":\"bar\"}],                        {\"template\":{\"data\":{\"histogram2dcontour\":[{\"type\":\"histogram2dcontour\",\"colorbar\":{\"outlinewidth\":0,\"ticks\":\"\"},\"colorscale\":[[0.0,\"#0d0887\"],[0.1111111111111111,\"#46039f\"],[0.2222222222222222,\"#7201a8\"],[0.3333333333333333,\"#9c179e\"],[0.4444444444444444,\"#bd3786\"],[0.5555555555555556,\"#d8576b\"],[0.6666666666666666,\"#ed7953\"],[0.7777777777777778,\"#fb9f3a\"],[0.8888888888888888,\"#fdca26\"],[1.0,\"#f0f921\"]]}],\"choropleth\":[{\"type\":\"choropleth\",\"colorbar\":{\"outlinewidth\":0,\"ticks\":\"\"}}],\"histogram2d\":[{\"type\":\"histogram2d\",\"colorbar\":{\"outlinewidth\":0,\"ticks\":\"\"},\"colorscale\":[[0.0,\"#0d0887\"],[0.1111111111111111,\"#46039f\"],[0.2222222222222222,\"#7201a8\"],[0.3333333333333333,\"#9c179e\"],[0.4444444444444444,\"#bd3786\"],[0.5555555555555556,\"#d8576b\"],[0.6666666666666666,\"#ed7953\"],[0.7777777777777778,\"#fb9f3a\"],[0.8888888888888888,\"#fdca26\"],[1.0,\"#f0f921\"]]}],\"heatmap\":[{\"type\":\"heatmap\",\"colorbar\":{\"outlinewidth\":0,\"ticks\":\"\"},\"colorscale\":[[0.0,\"#0d0887\"],[0.1111111111111111,\"#46039f\"],[0.2222222222222222,\"#7201a8\"],[0.3333333333333333,\"#9c179e\"],[0.4444444444444444,\"#bd3786\"],[0.5555555555555556,\"#d8576b\"],[0.6666666666666666,\"#ed7953\"],[0.7777777777777778,\"#fb9f3a\"],[0.8888888888888888,\"#fdca26\"],[1.0,\"#f0f921\"]]}],\"contourcarpet\":[{\"type\":\"contourcarpet\",\"colorbar\":{\"outlinewidth\":0,\"ticks\":\"\"}}],\"contour\":[{\"type\":\"contour\",\"colorbar\":{\"outlinewidth\":0,\"ticks\":\"\"},\"colorscale\":[[0.0,\"#0d0887\"],[0.1111111111111111,\"#46039f\"],[0.2222222222222222,\"#7201a8\"],[0.3333333333333333,\"#9c179e\"],[0.4444444444444444,\"#bd3786\"],[0.5555555555555556,\"#d8576b\"],[0.6666666666666666,\"#ed7953\"],[0.7777777777777778,\"#fb9f3a\"],[0.8888888888888888,\"#fdca26\"],[1.0,\"#f0f921\"]]}],\"surface\":[{\"type\":\"surface\",\"colorbar\":{\"outlinewidth\":0,\"ticks\":\"\"},\"colorscale\":[[0.0,\"#0d0887\"],[0.1111111111111111,\"#46039f\"],[0.2222222222222222,\"#7201a8\"],[0.3333333333333333,\"#9c179e\"],[0.4444444444444444,\"#bd3786\"],[0.5555555555555556,\"#d8576b\"],[0.6666666666666666,\"#ed7953\"],[0.7777777777777778,\"#fb9f3a\"],[0.8888888888888888,\"#fdca26\"],[1.0,\"#f0f921\"]]}],\"mesh3d\":[{\"type\":\"mesh3d\",\"colorbar\":{\"outlinewidth\":0,\"ticks\":\"\"}}],\"scatter\":[{\"fillpattern\":{\"fillmode\":\"overlay\",\"size\":10,\"solidity\":0.2},\"type\":\"scatter\"}],\"parcoords\":[{\"type\":\"parcoords\",\"line\":{\"colorbar\":{\"outlinewidth\":0,\"ticks\":\"\"}}}],\"scatterpolargl\":[{\"type\":\"scatterpolargl\",\"marker\":{\"colorbar\":{\"outlinewidth\":0,\"ticks\":\"\"}}}],\"bar\":[{\"error_x\":{\"color\":\"#2a3f5f\"},\"error_y\":{\"color\":\"#2a3f5f\"},\"marker\":{\"line\":{\"color\":\"#E5ECF6\",\"width\":0.5},\"pattern\":{\"fillmode\":\"overlay\",\"size\":10,\"solidity\":0.2}},\"type\":\"bar\"}],\"scattergeo\":[{\"type\":\"scattergeo\",\"marker\":{\"colorbar\":{\"outlinewidth\":0,\"ticks\":\"\"}}}],\"scatterpolar\":[{\"type\":\"scatterpolar\",\"marker\":{\"colorbar\":{\"outlinewidth\":0,\"ticks\":\"\"}}}],\"histogram\":[{\"marker\":{\"pattern\":{\"fillmode\":\"overlay\",\"size\":10,\"solidity\":0.2}},\"type\":\"histogram\"}],\"scattergl\":[{\"type\":\"scattergl\",\"marker\":{\"colorbar\":{\"outlinewidth\":0,\"ticks\":\"\"}}}],\"scatter3d\":[{\"type\":\"scatter3d\",\"line\":{\"colorbar\":{\"outlinewidth\":0,\"ticks\":\"\"}},\"marker\":{\"colorbar\":{\"outlinewidth\":0,\"ticks\":\"\"}}}],\"scattermap\":[{\"type\":\"scattermap\",\"marker\":{\"colorbar\":{\"outlinewidth\":0,\"ticks\":\"\"}}}],\"scattermapbox\":[{\"type\":\"scattermapbox\",\"marker\":{\"colorbar\":{\"outlinewidth\":0,\"ticks\":\"\"}}}],\"scatterternary\":[{\"type\":\"scatterternary\",\"marker\":{\"colorbar\":{\"outlinewidth\":0,\"ticks\":\"\"}}}],\"scattercarpet\":[{\"type\":\"scattercarpet\",\"marker\":{\"colorbar\":{\"outlinewidth\":0,\"ticks\":\"\"}}}],\"carpet\":[{\"aaxis\":{\"endlinecolor\":\"#2a3f5f\",\"gridcolor\":\"white\",\"linecolor\":\"white\",\"minorgridcolor\":\"white\",\"startlinecolor\":\"#2a3f5f\"},\"baxis\":{\"endlinecolor\":\"#2a3f5f\",\"gridcolor\":\"white\",\"linecolor\":\"white\",\"minorgridcolor\":\"white\",\"startlinecolor\":\"#2a3f5f\"},\"type\":\"carpet\"}],\"table\":[{\"cells\":{\"fill\":{\"color\":\"#EBF0F8\"},\"line\":{\"color\":\"white\"}},\"header\":{\"fill\":{\"color\":\"#C8D4E3\"},\"line\":{\"color\":\"white\"}},\"type\":\"table\"}],\"barpolar\":[{\"marker\":{\"line\":{\"color\":\"#E5ECF6\",\"width\":0.5},\"pattern\":{\"fillmode\":\"overlay\",\"size\":10,\"solidity\":0.2}},\"type\":\"barpolar\"}],\"pie\":[{\"automargin\":true,\"type\":\"pie\"}]},\"layout\":{\"autotypenumbers\":\"strict\",\"colorway\":[\"#636efa\",\"#EF553B\",\"#00cc96\",\"#ab63fa\",\"#FFA15A\",\"#19d3f3\",\"#FF6692\",\"#B6E880\",\"#FF97FF\",\"#FECB52\"],\"font\":{\"color\":\"#2a3f5f\"},\"hovermode\":\"closest\",\"hoverlabel\":{\"align\":\"left\"},\"paper_bgcolor\":\"white\",\"plot_bgcolor\":\"#E5ECF6\",\"polar\":{\"bgcolor\":\"#E5ECF6\",\"angularaxis\":{\"gridcolor\":\"white\",\"linecolor\":\"white\",\"ticks\":\"\"},\"radialaxis\":{\"gridcolor\":\"white\",\"linecolor\":\"white\",\"ticks\":\"\"}},\"ternary\":{\"bgcolor\":\"#E5ECF6\",\"aaxis\":{\"gridcolor\":\"white\",\"linecolor\":\"white\",\"ticks\":\"\"},\"baxis\":{\"gridcolor\":\"white\",\"linecolor\":\"white\",\"ticks\":\"\"},\"caxis\":{\"gridcolor\":\"white\",\"linecolor\":\"white\",\"ticks\":\"\"}},\"coloraxis\":{\"colorbar\":{\"outlinewidth\":0,\"ticks\":\"\"}},\"colorscale\":{\"sequential\":[[0.0,\"#0d0887\"],[0.1111111111111111,\"#46039f\"],[0.2222222222222222,\"#7201a8\"],[0.3333333333333333,\"#9c179e\"],[0.4444444444444444,\"#bd3786\"],[0.5555555555555556,\"#d8576b\"],[0.6666666666666666,\"#ed7953\"],[0.7777777777777778,\"#fb9f3a\"],[0.8888888888888888,\"#fdca26\"],[1.0,\"#f0f921\"]],\"sequentialminus\":[[0.0,\"#0d0887\"],[0.1111111111111111,\"#46039f\"],[0.2222222222222222,\"#7201a8\"],[0.3333333333333333,\"#9c179e\"],[0.4444444444444444,\"#bd3786\"],[0.5555555555555556,\"#d8576b\"],[0.6666666666666666,\"#ed7953\"],[0.7777777777777778,\"#fb9f3a\"],[0.8888888888888888,\"#fdca26\"],[1.0,\"#f0f921\"]],\"diverging\":[[0,\"#8e0152\"],[0.1,\"#c51b7d\"],[0.2,\"#de77ae\"],[0.3,\"#f1b6da\"],[0.4,\"#fde0ef\"],[0.5,\"#f7f7f7\"],[0.6,\"#e6f5d0\"],[0.7,\"#b8e186\"],[0.8,\"#7fbc41\"],[0.9,\"#4d9221\"],[1,\"#276419\"]]},\"xaxis\":{\"gridcolor\":\"white\",\"linecolor\":\"white\",\"ticks\":\"\",\"title\":{\"standoff\":15},\"zerolinecolor\":\"white\",\"automargin\":true,\"zerolinewidth\":2},\"yaxis\":{\"gridcolor\":\"white\",\"linecolor\":\"white\",\"ticks\":\"\",\"title\":{\"standoff\":15},\"zerolinecolor\":\"white\",\"automargin\":true,\"zerolinewidth\":2},\"scene\":{\"xaxis\":{\"backgroundcolor\":\"#E5ECF6\",\"gridcolor\":\"white\",\"linecolor\":\"white\",\"showbackground\":true,\"ticks\":\"\",\"zerolinecolor\":\"white\",\"gridwidth\":2},\"yaxis\":{\"backgroundcolor\":\"#E5ECF6\",\"gridcolor\":\"white\",\"linecolor\":\"white\",\"showbackground\":true,\"ticks\":\"\",\"zerolinecolor\":\"white\",\"gridwidth\":2},\"zaxis\":{\"backgroundcolor\":\"#E5ECF6\",\"gridcolor\":\"white\",\"linecolor\":\"white\",\"showbackground\":true,\"ticks\":\"\",\"zerolinecolor\":\"white\",\"gridwidth\":2}},\"shapedefaults\":{\"line\":{\"color\":\"#2a3f5f\"}},\"annotationdefaults\":{\"arrowcolor\":\"#2a3f5f\",\"arrowhead\":0,\"arrowwidth\":1},\"geo\":{\"bgcolor\":\"white\",\"landcolor\":\"#E5ECF6\",\"subunitcolor\":\"white\",\"showland\":true,\"showlakes\":true,\"lakecolor\":\"white\"},\"title\":{\"x\":0.05},\"mapbox\":{\"style\":\"light\"}}},\"xaxis\":{\"anchor\":\"y\",\"domain\":[0.0,1.0],\"title\":{\"text\":\"Count\"}},\"yaxis\":{\"anchor\":\"x\",\"domain\":[0.0,1.0],\"title\":{\"text\":\"Major\"}},\"legend\":{\"title\":{\"text\":\"variable\"},\"tracegroupgap\":0},\"margin\":{\"t\":60},\"barmode\":\"relative\",\"showlegend\":false,\"autosize\":false,\"width\":800,\"height\":500},                        {\"responsive\": true}                    ).then(function(){\n",
       "                            \n",
       "var gd = document.getElementById('62479e43-3581-4c4a-bfb2-8e72a0ec9060');\n",
       "var x = new MutationObserver(function (mutations, observer) {{\n",
       "        var display = window.getComputedStyle(gd).display;\n",
       "        if (!display || display === 'none') {{\n",
       "            console.log([gd, 'removed!']);\n",
       "            Plotly.purge(gd);\n",
       "            observer.disconnect();\n",
       "        }}\n",
       "}});\n",
       "\n",
       "// Listen for the removal of the full notebook cells\n",
       "var notebookContainer = gd.closest('#notebook-container');\n",
       "if (notebookContainer) {{\n",
       "    x.observe(notebookContainer, {childList: true});\n",
       "}}\n",
       "\n",
       "// Listen for the clearing of the current output cell\n",
       "var outputEl = gd.closest('.output');\n",
       "if (outputEl) {{\n",
       "    x.observe(outputEl, {childList: true});\n",
       "}}\n",
       "\n",
       "                        })                };            </script>        </div>"
      ]
     },
     "metadata": {},
     "output_type": "display_data"
    }
   ],
   "source": [
    "# Interactive using plotly\n",
    "\n",
    "fig = px.bar(majors_count.loc[::-1], orientation='h')\n",
    "fig.update_layout(showlegend=False, \n",
    "                  xaxis_title='Count', \n",
    "                  yaxis_title='Major',\n",
    "                  autosize=False, \n",
    "                  width=800, \n",
    "                  height=500)"
   ]
  },
  {
   "cell_type": "markdown",
   "metadata": {},
   "source": [
    "### What year are you?"
   ]
  },
  {
   "cell_type": "code",
   "execution_count": 23,
   "metadata": {},
   "outputs": [
    {
     "data": {
      "application/vnd.plotly.v1+json": {
       "config": {
        "plotlyServerURL": "https://plot.ly"
       },
       "data": [
        {
         "bingroup": "x",
         "histnorm": "probability",
         "hovertemplate": "variable=Terms in Attendance<br>value=%{x}<br>probability=%{y}<extra></extra>",
         "legendgroup": "Terms in Attendance",
         "marker": {
          "color": "#636efa",
          "pattern": {
           "shape": ""
          }
         },
         "name": "Terms in Attendance",
         "orientation": "v",
         "showlegend": true,
         "type": "histogram",
         "x": [
          "2.0",
          "2.0",
          "2.0",
          "2.0",
          "2.0",
          "2.0",
          "2.0",
          "2.0",
          "2.0",
          "2.0",
          "2.0",
          "2.0",
          "2.0",
          "2.0",
          "2.0",
          "2.0",
          "2.0",
          "2.0",
          "2.0",
          "2.0",
          "2.0",
          "2.0",
          "2.0",
          "2.0",
          "2.0",
          "2.0",
          "2.0",
          "2.0",
          "2.0",
          "2.0",
          "2.0",
          "2.0",
          "2.0",
          "2.0",
          "2.0",
          "2.0",
          "2.0",
          "2.0",
          "2.0",
          "2.0",
          "2.0",
          "2.0",
          "2.0",
          "3.0",
          "4.0",
          "4.0",
          "4.0",
          "4.0",
          "4.0",
          "4.0",
          "4.0",
          "4.0",
          "4.0",
          "4.0",
          "4.0",
          "4.0",
          "4.0",
          "4.0",
          "4.0",
          "4.0",
          "4.0",
          "4.0",
          "4.0",
          "4.0",
          "4.0",
          "4.0",
          "4.0",
          "4.0",
          "4.0",
          "4.0",
          "4.0",
          "4.0",
          "4.0",
          "4.0",
          "4.0",
          "4.0",
          "4.0",
          "4.0",
          "4.0",
          "4.0",
          "4.0",
          "4.0",
          "4.0",
          "4.0",
          "4.0",
          "4.0",
          "4.0",
          "4.0",
          "4.0",
          "4.0",
          "4.0",
          "4.0",
          "4.0",
          "4.0",
          "4.0",
          "4.0",
          "4.0",
          "4.0",
          "4.0",
          "4.0",
          "4.0",
          "4.0",
          "4.0",
          "4.0",
          "4.0",
          "4.0",
          "4.0",
          "4.0",
          "4.0",
          "4.0",
          "4.0",
          "4.0",
          "4.0",
          "4.0",
          "4.0",
          "4.0",
          "4.0",
          "4.0",
          "4.0",
          "4.0",
          "4.0",
          "4.0",
          "4.0",
          "4.0",
          "4.0",
          "4.0",
          "4.0",
          "4.0",
          "4.0",
          "4.0",
          "4.0",
          "4.0",
          "4.0",
          "4.0",
          "4.0",
          "4.0",
          "4.0",
          "4.0",
          "4.0",
          "4.0",
          "4.0",
          "4.0",
          "4.0",
          "4.0",
          "4.0",
          "4.0",
          "4.0",
          "4.0",
          "4.0",
          "4.0",
          "4.0",
          "4.0",
          "4.0",
          "4.0",
          "4.0",
          "4.0",
          "4.0",
          "4.0",
          "4.0",
          "4.0",
          "4.0",
          "4.0",
          "4.0",
          "4.0",
          "4.0",
          "4.0",
          "4.0",
          "4.0",
          "4.0",
          "4.0",
          "4.0",
          "4.0",
          "4.0",
          "4.0",
          "4.0",
          "4.0",
          "4.0",
          "4.0",
          "4.0",
          "4.0",
          "4.0",
          "4.0",
          "4.0",
          "4.0",
          "4.0",
          "4.0",
          "4.0",
          "4.0",
          "4.0",
          "4.0",
          "4.0",
          "4.0",
          "4.0",
          "4.0",
          "4.0",
          "4.0",
          "4.0",
          "4.0",
          "4.0",
          "4.0",
          "4.0",
          "4.0",
          "4.0",
          "4.0",
          "4.0",
          "4.0",
          "4.0",
          "4.0",
          "4.0",
          "4.0",
          "4.0",
          "4.0",
          "4.0",
          "4.0",
          "4.0",
          "4.0",
          "4.0",
          "4.0",
          "4.0",
          "4.0",
          "4.0",
          "4.0",
          "4.0",
          "4.0",
          "4.0",
          "4.0",
          "4.0",
          "4.0",
          "4.0",
          "4.0",
          "4.0",
          "4.0",
          "4.0",
          "4.0",
          "4.0",
          "4.0",
          "4.0",
          "4.0",
          "4.0",
          "4.0",
          "4.0",
          "4.0",
          "4.0",
          "4.0",
          "4.0",
          "4.0",
          "4.0",
          "4.0",
          "4.0",
          "4.0",
          "4.0",
          "4.0",
          "4.0",
          "4.0",
          "4.0",
          "4.0",
          "4.0",
          "4.0",
          "4.0",
          "4.0",
          "4.0",
          "4.0",
          "4.0",
          "4.0",
          "4.0",
          "4.0",
          "4.0",
          "4.0",
          "4.0",
          "4.0",
          "4.0",
          "4.0",
          "4.0",
          "4.0",
          "4.0",
          "4.0",
          "4.0",
          "4.0",
          "4.0",
          "4.0",
          "4.0",
          "4.0",
          "4.0",
          "4.0",
          "4.0",
          "4.0",
          "4.0",
          "4.0",
          "4.0",
          "4.0",
          "4.0",
          "4.0",
          "4.0",
          "4.0",
          "4.0",
          "4.0",
          "4.0",
          "4.0",
          "4.0",
          "4.0",
          "4.0",
          "4.0",
          "4.0",
          "4.0",
          "4.0",
          "4.0",
          "4.0",
          "4.0",
          "4.0",
          "4.0",
          "4.0",
          "4.0",
          "4.0",
          "4.0",
          "4.0",
          "4.0",
          "4.0",
          "4.0",
          "4.0",
          "4.0",
          "4.0",
          "4.0",
          "4.0",
          "4.0",
          "4.0",
          "4.0",
          "4.0",
          "4.0",
          "4.0",
          "4.0",
          "4.0",
          "4.0",
          "4.0",
          "4.0",
          "4.0",
          "4.0",
          "4.0",
          "4.0",
          "4.0",
          "4.0",
          "4.0",
          "4.0",
          "4.0",
          "4.0",
          "4.0",
          "4.0",
          "4.0",
          "4.0",
          "4.0",
          "4.0",
          "4.0",
          "4.0",
          "4.0",
          "4.0",
          "4.0",
          "4.0",
          "4.0",
          "4.0",
          "4.0",
          "4.0",
          "4.0",
          "4.0",
          "4.0",
          "4.0",
          "4.0",
          "4.0",
          "4.0",
          "4.0",
          "4.0",
          "4.0",
          "4.0",
          "4.0",
          "4.0",
          "4.0",
          "4.0",
          "4.0",
          "4.0",
          "4.0",
          "4.0",
          "4.0",
          "4.0",
          "4.0",
          "4.0",
          "4.0",
          "4.0",
          "4.0",
          "4.0",
          "4.0",
          "4.0",
          "4.0",
          "4.0",
          "4.0",
          "4.0",
          "4.0",
          "4.0",
          "4.0",
          "4.0",
          "4.0",
          "4.0",
          "4.0",
          "4.0",
          "4.0",
          "4.0",
          "4.0",
          "4.0",
          "4.0",
          "4.0",
          "4.0",
          "4.0",
          "4.0",
          "4.0",
          "4.0",
          "4.0",
          "4.0",
          "4.0",
          "4.0",
          "4.0",
          "4.0",
          "4.0",
          "4.0",
          "4.0",
          "4.0",
          "4.0",
          "4.0",
          "4.0",
          "4.0",
          "4.0",
          "4.0",
          "4.0",
          "4.0",
          "4.0",
          "4.0",
          "4.0",
          "4.0",
          "4.0",
          "4.0",
          "4.0",
          "4.0",
          "4.0",
          "4.0",
          "4.0",
          "4.0",
          "4.0",
          "4.0",
          "4.0",
          "4.0",
          "4.0",
          "4.0",
          "4.0",
          "4.0",
          "4.0",
          "4.0",
          "4.0",
          "4.0",
          "4.0",
          "4.0",
          "4.0",
          "4.0",
          "4.0",
          "4.0",
          "4.0",
          "4.0",
          "4.0",
          "4.0",
          "4.0",
          "4.0",
          "4.0",
          "4.0",
          "4.0",
          "4.0",
          "4.0",
          "4.0",
          "4.0",
          "4.0",
          "4.0",
          "4.0",
          "4.0",
          "4.0",
          "4.0",
          "4.0",
          "4.0",
          "4.0",
          "4.0",
          "4.0",
          "4.0",
          "4.0",
          "4.0",
          "4.0",
          "4.0",
          "4.0",
          "4.0",
          "4.0",
          "4.0",
          "4.0",
          "4.0",
          "4.0",
          "4.0",
          "4.0",
          "4.0",
          "4.0",
          "4.0",
          "4.0",
          "4.0",
          "4.0",
          "4.0",
          "4.0",
          "4.0",
          "4.0",
          "4.0",
          "4.0",
          "4.0",
          "4.0",
          "4.0",
          "4.0",
          "4.0",
          "4.0",
          "4.0",
          "4.0",
          "4.0",
          "4.0",
          "4.0",
          "4.0",
          "4.0",
          "4.0",
          "4.0",
          "4.0",
          "4.0",
          "4.0",
          "4.0",
          "4.0",
          "4.0",
          "4.0",
          "4.0",
          "4.0",
          "4.0",
          "4.0",
          "4.0",
          "4.0",
          "4.0",
          "4.0",
          "4.0",
          "4.0",
          "4.0",
          "4.0",
          "4.0",
          "4.0",
          "4.0",
          "4.0",
          "4.0",
          "4.0",
          "4.0",
          "4.0",
          "4.0",
          "4.0",
          "4.0",
          "4.0",
          "4.0",
          "4.0",
          "4.0",
          "4.0",
          "4.0",
          "4.0",
          "4.0",
          "4.0",
          "4.0",
          "4.0",
          "4.0",
          "4.0",
          "4.0",
          "4.0",
          "4.0",
          "4.0",
          "4.0",
          "4.0",
          "4.0",
          "4.0",
          "4.0",
          "4.0",
          "4.0",
          "4.0",
          "4.0",
          "4.0",
          "4.0",
          "5.0",
          "5.0",
          "5.0",
          "5.0",
          "5.0",
          "5.0",
          "5.0",
          "5.0",
          "5.0",
          "5.0",
          "5.0",
          "5.0",
          "5.0",
          "6.0",
          "6.0",
          "6.0",
          "6.0",
          "6.0",
          "6.0",
          "6.0",
          "6.0",
          "6.0",
          "6.0",
          "6.0",
          "6.0",
          "6.0",
          "6.0",
          "6.0",
          "6.0",
          "6.0",
          "6.0",
          "6.0",
          "6.0",
          "6.0",
          "6.0",
          "6.0",
          "6.0",
          "6.0",
          "6.0",
          "6.0",
          "6.0",
          "6.0",
          "6.0",
          "6.0",
          "6.0",
          "6.0",
          "6.0",
          "6.0",
          "6.0",
          "6.0",
          "6.0",
          "6.0",
          "6.0",
          "6.0",
          "6.0",
          "6.0",
          "6.0",
          "6.0",
          "6.0",
          "6.0",
          "6.0",
          "6.0",
          "6.0",
          "6.0",
          "6.0",
          "6.0",
          "6.0",
          "6.0",
          "6.0",
          "6.0",
          "6.0",
          "6.0",
          "6.0",
          "6.0",
          "6.0",
          "6.0",
          "6.0",
          "6.0",
          "6.0",
          "6.0",
          "6.0",
          "6.0",
          "6.0",
          "6.0",
          "6.0",
          "6.0",
          "6.0",
          "6.0",
          "6.0",
          "6.0",
          "6.0",
          "6.0",
          "6.0",
          "6.0",
          "6.0",
          "6.0",
          "6.0",
          "6.0",
          "6.0",
          "6.0",
          "6.0",
          "6.0",
          "6.0",
          "6.0",
          "6.0",
          "6.0",
          "6.0",
          "6.0",
          "6.0",
          "6.0",
          "6.0",
          "6.0",
          "6.0",
          "6.0",
          "6.0",
          "6.0",
          "6.0",
          "6.0",
          "6.0",
          "6.0",
          "6.0",
          "6.0",
          "6.0",
          "6.0",
          "6.0",
          "6.0",
          "6.0",
          "6.0",
          "6.0",
          "6.0",
          "6.0",
          "6.0",
          "6.0",
          "6.0",
          "6.0",
          "6.0",
          "6.0",
          "6.0",
          "6.0",
          "6.0",
          "6.0",
          "6.0",
          "6.0",
          "6.0",
          "6.0",
          "6.0",
          "6.0",
          "6.0",
          "6.0",
          "6.0",
          "6.0",
          "6.0",
          "6.0",
          "6.0",
          "6.0",
          "6.0",
          "6.0",
          "6.0",
          "6.0",
          "6.0",
          "6.0",
          "6.0",
          "6.0",
          "6.0",
          "6.0",
          "6.0",
          "6.0",
          "6.0",
          "6.0",
          "6.0",
          "6.0",
          "6.0",
          "6.0",
          "6.0",
          "6.0",
          "6.0",
          "6.0",
          "6.0",
          "6.0",
          "6.0",
          "6.0",
          "6.0",
          "6.0",
          "6.0",
          "6.0",
          "6.0",
          "6.0",
          "6.0",
          "6.0",
          "6.0",
          "6.0",
          "6.0",
          "6.0",
          "6.0",
          "6.0",
          "6.0",
          "6.0",
          "6.0",
          "6.0",
          "6.0",
          "6.0",
          "6.0",
          "6.0",
          "6.0",
          "6.0",
          "6.0",
          "6.0",
          "6.0",
          "6.0",
          "6.0",
          "6.0",
          "6.0",
          "6.0",
          "6.0",
          "6.0",
          "6.0",
          "6.0",
          "6.0",
          "6.0",
          "6.0",
          "6.0",
          "6.0",
          "6.0",
          "6.0",
          "6.0",
          "6.0",
          "6.0",
          "6.0",
          "6.0",
          "6.0",
          "6.0",
          "6.0",
          "6.0",
          "6.0",
          "6.0",
          "6.0",
          "6.0",
          "6.0",
          "6.0",
          "6.0",
          "6.0",
          "6.0",
          "6.0",
          "6.0",
          "6.0",
          "6.0",
          "6.0",
          "6.0",
          "6.0",
          "6.0",
          "6.0",
          "6.0",
          "6.0",
          "6.0",
          "6.0",
          "6.0",
          "6.0",
          "6.0",
          "6.0",
          "6.0",
          "6.0",
          "6.0",
          "6.0",
          "6.0",
          "6.0",
          "6.0",
          "6.0",
          "6.0",
          "6.0",
          "6.0",
          "6.0",
          "6.0",
          "6.0",
          "6.0",
          "6.0",
          "6.0",
          "6.0",
          "6.0",
          "6.0",
          "6.0",
          "6.0",
          "6.0",
          "6.0",
          "6.0",
          "6.0",
          "6.0",
          "6.0",
          "6.0",
          "6.0",
          "6.0",
          "6.0",
          "6.0",
          "6.0",
          "6.0",
          "6.0",
          "6.0",
          "6.0",
          "6.0",
          "6.0",
          "6.0",
          "6.0",
          "6.0",
          "6.0",
          "6.0",
          "6.0",
          "6.0",
          "6.0",
          "6.0",
          "6.0",
          "6.0",
          "6.0",
          "6.0",
          "6.0",
          "6.0",
          "6.0",
          "6.0",
          "6.0",
          "6.0",
          "6.0",
          "6.0",
          "6.0",
          "6.0",
          "6.0",
          "6.0",
          "6.0",
          "6.0",
          "6.0",
          "6.0",
          "6.0",
          "6.0",
          "6.0",
          "6.0",
          "6.0",
          "6.0",
          "6.0",
          "6.0",
          "6.0",
          "6.0",
          "6.0",
          "6.0",
          "6.0",
          "6.0",
          "6.0",
          "6.0",
          "6.0",
          "6.0",
          "6.0",
          "6.0",
          "6.0",
          "6.0",
          "6.0",
          "6.0",
          "6.0",
          "6.0",
          "6.0",
          "6.0",
          "6.0",
          "6.0",
          "6.0",
          "6.0",
          "6.0",
          "6.0",
          "6.0",
          "6.0",
          "6.0",
          "6.0",
          "6.0",
          "6.0",
          "6.0",
          "6.0",
          "6.0",
          "6.0",
          "6.0",
          "6.0",
          "6.0",
          "6.0",
          "6.0",
          "6.0",
          "6.0",
          "6.0",
          "6.0",
          "6.0",
          "6.0",
          "6.0",
          "6.0",
          "6.0",
          "6.0",
          "6.0",
          "6.0",
          "6.0",
          "6.0",
          "6.0",
          "6.0",
          "6.0",
          "6.0",
          "6.0",
          "6.0",
          "6.0",
          "6.0",
          "6.0",
          "6.0",
          "6.0",
          "6.0",
          "6.0",
          "6.0",
          "6.0",
          "6.0",
          "6.0",
          "6.0",
          "6.0",
          "6.0",
          "6.0",
          "6.0",
          "6.0",
          "6.0",
          "6.0",
          "6.0",
          "6.0",
          "6.0",
          "6.0",
          "7.0",
          "7.0",
          "7.0",
          "7.0",
          "7.0",
          "7.0",
          "7.0",
          "7.0",
          "7.0",
          "7.0",
          "7.0",
          "7.0",
          "7.0",
          "7.0",
          "7.0",
          "7.0",
          "7.0",
          "7.0",
          "7.0",
          "7.0",
          "7.0",
          "7.0",
          "7.0",
          "7.0",
          "7.0",
          "7.0",
          "7.0",
          "7.0",
          "7.0",
          "7.0",
          "8.0",
          "8.0",
          "8.0",
          "8.0",
          "8.0",
          "8.0",
          "8.0",
          "8.0",
          "8.0",
          "8.0",
          "8.0",
          "8.0",
          "8.0",
          "8.0",
          "8.0",
          "8.0",
          "8.0",
          "8.0",
          "8.0",
          "8.0",
          "8.0",
          "8.0",
          "8.0",
          "8.0",
          "8.0",
          "8.0",
          "8.0",
          "8.0",
          "8.0",
          "8.0",
          "8.0",
          "8.0",
          "8.0",
          "8.0",
          "8.0",
          "8.0",
          "8.0",
          "8.0",
          "8.0",
          "8.0",
          "8.0",
          "8.0",
          "8.0",
          "8.0",
          "8.0",
          "8.0",
          "8.0",
          "8.0",
          "8.0",
          "8.0",
          "8.0",
          "8.0",
          "8.0",
          "8.0",
          "8.0",
          "8.0",
          "8.0",
          "8.0",
          "8.0",
          "8.0",
          "8.0",
          "8.0",
          "8.0",
          "8.0",
          "8.0",
          "8.0",
          "8.0",
          "8.0",
          "8.0",
          "8.0",
          "8.0",
          "8.0",
          "8.0",
          "8.0",
          "8.0",
          "8.0",
          "8.0",
          "8.0",
          "8.0",
          "8.0",
          "8.0",
          "8.0",
          "8.0",
          "8.0",
          "8.0",
          "8.0",
          "8.0",
          "8.0",
          "8.0",
          "8.0",
          "8.0",
          "8.0",
          "8.0",
          "8.0",
          "8.0",
          "8.0",
          "8.0",
          "8.0",
          "8.0",
          "8.0",
          "8.0",
          "8.0",
          "8.0",
          "8.0",
          "8.0",
          "8.0",
          "8.0",
          "8.0",
          "8.0",
          "8.0",
          "8.0",
          "8.0",
          "8.0",
          "8.0",
          "8.0",
          "8.0",
          "8.0",
          "8.0",
          "8.0",
          "8.0",
          "8.0",
          "8.0",
          "8.0",
          "8.0",
          "8.0",
          "8.0",
          "8.0",
          "8.0",
          "8.0",
          "8.0",
          "8.0",
          "8.0",
          "8.0",
          "8.0",
          "8.0",
          "8.0",
          "8.0",
          "8.0",
          "8.0",
          "8.0",
          "8.0",
          "8.0",
          "8.0",
          "8.0",
          "8.0",
          "8.0",
          "8.0",
          "8.0",
          "8.0",
          "8.0",
          "8.0",
          "8.0",
          "8.0",
          "8.0",
          "8.0",
          "8.0",
          "8.0",
          "8.0",
          "8.0",
          "8.0",
          "8.0",
          "8.0",
          "8.0",
          "8.0",
          "8.0",
          "8.0",
          "8.0",
          "8.0",
          "G",
          "G",
          "G",
          "G",
          "G",
          "G",
          "G",
          "G",
          "G",
          "G",
          "G",
          "G",
          "G",
          "G",
          "G",
          "G",
          "G",
          "G",
          "G",
          "G",
          "G",
          "G",
          "G",
          "G",
          "G",
          "G",
          "G",
          "G",
          "G",
          "G",
          "G",
          "G",
          "G",
          "G",
          "G",
          "G",
          "G",
          "G",
          "G",
          "G",
          "G",
          "G",
          "G",
          "G",
          "G",
          "G",
          "G",
          "G",
          "G",
          "G",
          "G",
          "G",
          null,
          null,
          null,
          null,
          null,
          null,
          null,
          null,
          null,
          null,
          null,
          null,
          null,
          null,
          null,
          null,
          null,
          null,
          null,
          null,
          null,
          null
         ],
         "xaxis": "x",
         "yaxis": "y"
        }
       ],
       "layout": {
        "autosize": false,
        "barmode": "relative",
        "height": 250,
        "legend": {
         "title": {
          "text": "variable"
         },
         "tracegroupgap": 0
        },
        "margin": {
         "t": 60
        },
        "showlegend": false,
        "template": {
         "data": {
          "bar": [
           {
            "error_x": {
             "color": "#2a3f5f"
            },
            "error_y": {
             "color": "#2a3f5f"
            },
            "marker": {
             "line": {
              "color": "#E5ECF6",
              "width": 0.5
             },
             "pattern": {
              "fillmode": "overlay",
              "size": 10,
              "solidity": 0.2
             }
            },
            "type": "bar"
           }
          ],
          "barpolar": [
           {
            "marker": {
             "line": {
              "color": "#E5ECF6",
              "width": 0.5
             },
             "pattern": {
              "fillmode": "overlay",
              "size": 10,
              "solidity": 0.2
             }
            },
            "type": "barpolar"
           }
          ],
          "carpet": [
           {
            "aaxis": {
             "endlinecolor": "#2a3f5f",
             "gridcolor": "white",
             "linecolor": "white",
             "minorgridcolor": "white",
             "startlinecolor": "#2a3f5f"
            },
            "baxis": {
             "endlinecolor": "#2a3f5f",
             "gridcolor": "white",
             "linecolor": "white",
             "minorgridcolor": "white",
             "startlinecolor": "#2a3f5f"
            },
            "type": "carpet"
           }
          ],
          "choropleth": [
           {
            "colorbar": {
             "outlinewidth": 0,
             "ticks": ""
            },
            "type": "choropleth"
           }
          ],
          "contour": [
           {
            "colorbar": {
             "outlinewidth": 0,
             "ticks": ""
            },
            "colorscale": [
             [
              0,
              "#0d0887"
             ],
             [
              0.1111111111111111,
              "#46039f"
             ],
             [
              0.2222222222222222,
              "#7201a8"
             ],
             [
              0.3333333333333333,
              "#9c179e"
             ],
             [
              0.4444444444444444,
              "#bd3786"
             ],
             [
              0.5555555555555556,
              "#d8576b"
             ],
             [
              0.6666666666666666,
              "#ed7953"
             ],
             [
              0.7777777777777778,
              "#fb9f3a"
             ],
             [
              0.8888888888888888,
              "#fdca26"
             ],
             [
              1,
              "#f0f921"
             ]
            ],
            "type": "contour"
           }
          ],
          "contourcarpet": [
           {
            "colorbar": {
             "outlinewidth": 0,
             "ticks": ""
            },
            "type": "contourcarpet"
           }
          ],
          "heatmap": [
           {
            "colorbar": {
             "outlinewidth": 0,
             "ticks": ""
            },
            "colorscale": [
             [
              0,
              "#0d0887"
             ],
             [
              0.1111111111111111,
              "#46039f"
             ],
             [
              0.2222222222222222,
              "#7201a8"
             ],
             [
              0.3333333333333333,
              "#9c179e"
             ],
             [
              0.4444444444444444,
              "#bd3786"
             ],
             [
              0.5555555555555556,
              "#d8576b"
             ],
             [
              0.6666666666666666,
              "#ed7953"
             ],
             [
              0.7777777777777778,
              "#fb9f3a"
             ],
             [
              0.8888888888888888,
              "#fdca26"
             ],
             [
              1,
              "#f0f921"
             ]
            ],
            "type": "heatmap"
           }
          ],
          "histogram": [
           {
            "marker": {
             "pattern": {
              "fillmode": "overlay",
              "size": 10,
              "solidity": 0.2
             }
            },
            "type": "histogram"
           }
          ],
          "histogram2d": [
           {
            "colorbar": {
             "outlinewidth": 0,
             "ticks": ""
            },
            "colorscale": [
             [
              0,
              "#0d0887"
             ],
             [
              0.1111111111111111,
              "#46039f"
             ],
             [
              0.2222222222222222,
              "#7201a8"
             ],
             [
              0.3333333333333333,
              "#9c179e"
             ],
             [
              0.4444444444444444,
              "#bd3786"
             ],
             [
              0.5555555555555556,
              "#d8576b"
             ],
             [
              0.6666666666666666,
              "#ed7953"
             ],
             [
              0.7777777777777778,
              "#fb9f3a"
             ],
             [
              0.8888888888888888,
              "#fdca26"
             ],
             [
              1,
              "#f0f921"
             ]
            ],
            "type": "histogram2d"
           }
          ],
          "histogram2dcontour": [
           {
            "colorbar": {
             "outlinewidth": 0,
             "ticks": ""
            },
            "colorscale": [
             [
              0,
              "#0d0887"
             ],
             [
              0.1111111111111111,
              "#46039f"
             ],
             [
              0.2222222222222222,
              "#7201a8"
             ],
             [
              0.3333333333333333,
              "#9c179e"
             ],
             [
              0.4444444444444444,
              "#bd3786"
             ],
             [
              0.5555555555555556,
              "#d8576b"
             ],
             [
              0.6666666666666666,
              "#ed7953"
             ],
             [
              0.7777777777777778,
              "#fb9f3a"
             ],
             [
              0.8888888888888888,
              "#fdca26"
             ],
             [
              1,
              "#f0f921"
             ]
            ],
            "type": "histogram2dcontour"
           }
          ],
          "mesh3d": [
           {
            "colorbar": {
             "outlinewidth": 0,
             "ticks": ""
            },
            "type": "mesh3d"
           }
          ],
          "parcoords": [
           {
            "line": {
             "colorbar": {
              "outlinewidth": 0,
              "ticks": ""
             }
            },
            "type": "parcoords"
           }
          ],
          "pie": [
           {
            "automargin": true,
            "type": "pie"
           }
          ],
          "scatter": [
           {
            "fillpattern": {
             "fillmode": "overlay",
             "size": 10,
             "solidity": 0.2
            },
            "type": "scatter"
           }
          ],
          "scatter3d": [
           {
            "line": {
             "colorbar": {
              "outlinewidth": 0,
              "ticks": ""
             }
            },
            "marker": {
             "colorbar": {
              "outlinewidth": 0,
              "ticks": ""
             }
            },
            "type": "scatter3d"
           }
          ],
          "scattercarpet": [
           {
            "marker": {
             "colorbar": {
              "outlinewidth": 0,
              "ticks": ""
             }
            },
            "type": "scattercarpet"
           }
          ],
          "scattergeo": [
           {
            "marker": {
             "colorbar": {
              "outlinewidth": 0,
              "ticks": ""
             }
            },
            "type": "scattergeo"
           }
          ],
          "scattergl": [
           {
            "marker": {
             "colorbar": {
              "outlinewidth": 0,
              "ticks": ""
             }
            },
            "type": "scattergl"
           }
          ],
          "scattermap": [
           {
            "marker": {
             "colorbar": {
              "outlinewidth": 0,
              "ticks": ""
             }
            },
            "type": "scattermap"
           }
          ],
          "scattermapbox": [
           {
            "marker": {
             "colorbar": {
              "outlinewidth": 0,
              "ticks": ""
             }
            },
            "type": "scattermapbox"
           }
          ],
          "scatterpolar": [
           {
            "marker": {
             "colorbar": {
              "outlinewidth": 0,
              "ticks": ""
             }
            },
            "type": "scatterpolar"
           }
          ],
          "scatterpolargl": [
           {
            "marker": {
             "colorbar": {
              "outlinewidth": 0,
              "ticks": ""
             }
            },
            "type": "scatterpolargl"
           }
          ],
          "scatterternary": [
           {
            "marker": {
             "colorbar": {
              "outlinewidth": 0,
              "ticks": ""
             }
            },
            "type": "scatterternary"
           }
          ],
          "surface": [
           {
            "colorbar": {
             "outlinewidth": 0,
             "ticks": ""
            },
            "colorscale": [
             [
              0,
              "#0d0887"
             ],
             [
              0.1111111111111111,
              "#46039f"
             ],
             [
              0.2222222222222222,
              "#7201a8"
             ],
             [
              0.3333333333333333,
              "#9c179e"
             ],
             [
              0.4444444444444444,
              "#bd3786"
             ],
             [
              0.5555555555555556,
              "#d8576b"
             ],
             [
              0.6666666666666666,
              "#ed7953"
             ],
             [
              0.7777777777777778,
              "#fb9f3a"
             ],
             [
              0.8888888888888888,
              "#fdca26"
             ],
             [
              1,
              "#f0f921"
             ]
            ],
            "type": "surface"
           }
          ],
          "table": [
           {
            "cells": {
             "fill": {
              "color": "#EBF0F8"
             },
             "line": {
              "color": "white"
             }
            },
            "header": {
             "fill": {
              "color": "#C8D4E3"
             },
             "line": {
              "color": "white"
             }
            },
            "type": "table"
           }
          ]
         },
         "layout": {
          "annotationdefaults": {
           "arrowcolor": "#2a3f5f",
           "arrowhead": 0,
           "arrowwidth": 1
          },
          "autotypenumbers": "strict",
          "coloraxis": {
           "colorbar": {
            "outlinewidth": 0,
            "ticks": ""
           }
          },
          "colorscale": {
           "diverging": [
            [
             0,
             "#8e0152"
            ],
            [
             0.1,
             "#c51b7d"
            ],
            [
             0.2,
             "#de77ae"
            ],
            [
             0.3,
             "#f1b6da"
            ],
            [
             0.4,
             "#fde0ef"
            ],
            [
             0.5,
             "#f7f7f7"
            ],
            [
             0.6,
             "#e6f5d0"
            ],
            [
             0.7,
             "#b8e186"
            ],
            [
             0.8,
             "#7fbc41"
            ],
            [
             0.9,
             "#4d9221"
            ],
            [
             1,
             "#276419"
            ]
           ],
           "sequential": [
            [
             0,
             "#0d0887"
            ],
            [
             0.1111111111111111,
             "#46039f"
            ],
            [
             0.2222222222222222,
             "#7201a8"
            ],
            [
             0.3333333333333333,
             "#9c179e"
            ],
            [
             0.4444444444444444,
             "#bd3786"
            ],
            [
             0.5555555555555556,
             "#d8576b"
            ],
            [
             0.6666666666666666,
             "#ed7953"
            ],
            [
             0.7777777777777778,
             "#fb9f3a"
            ],
            [
             0.8888888888888888,
             "#fdca26"
            ],
            [
             1,
             "#f0f921"
            ]
           ],
           "sequentialminus": [
            [
             0,
             "#0d0887"
            ],
            [
             0.1111111111111111,
             "#46039f"
            ],
            [
             0.2222222222222222,
             "#7201a8"
            ],
            [
             0.3333333333333333,
             "#9c179e"
            ],
            [
             0.4444444444444444,
             "#bd3786"
            ],
            [
             0.5555555555555556,
             "#d8576b"
            ],
            [
             0.6666666666666666,
             "#ed7953"
            ],
            [
             0.7777777777777778,
             "#fb9f3a"
            ],
            [
             0.8888888888888888,
             "#fdca26"
            ],
            [
             1,
             "#f0f921"
            ]
           ]
          },
          "colorway": [
           "#636efa",
           "#EF553B",
           "#00cc96",
           "#ab63fa",
           "#FFA15A",
           "#19d3f3",
           "#FF6692",
           "#B6E880",
           "#FF97FF",
           "#FECB52"
          ],
          "font": {
           "color": "#2a3f5f"
          },
          "geo": {
           "bgcolor": "white",
           "lakecolor": "white",
           "landcolor": "#E5ECF6",
           "showlakes": true,
           "showland": true,
           "subunitcolor": "white"
          },
          "hoverlabel": {
           "align": "left"
          },
          "hovermode": "closest",
          "mapbox": {
           "style": "light"
          },
          "paper_bgcolor": "white",
          "plot_bgcolor": "#E5ECF6",
          "polar": {
           "angularaxis": {
            "gridcolor": "white",
            "linecolor": "white",
            "ticks": ""
           },
           "bgcolor": "#E5ECF6",
           "radialaxis": {
            "gridcolor": "white",
            "linecolor": "white",
            "ticks": ""
           }
          },
          "scene": {
           "xaxis": {
            "backgroundcolor": "#E5ECF6",
            "gridcolor": "white",
            "gridwidth": 2,
            "linecolor": "white",
            "showbackground": true,
            "ticks": "",
            "zerolinecolor": "white"
           },
           "yaxis": {
            "backgroundcolor": "#E5ECF6",
            "gridcolor": "white",
            "gridwidth": 2,
            "linecolor": "white",
            "showbackground": true,
            "ticks": "",
            "zerolinecolor": "white"
           },
           "zaxis": {
            "backgroundcolor": "#E5ECF6",
            "gridcolor": "white",
            "gridwidth": 2,
            "linecolor": "white",
            "showbackground": true,
            "ticks": "",
            "zerolinecolor": "white"
           }
          },
          "shapedefaults": {
           "line": {
            "color": "#2a3f5f"
           }
          },
          "ternary": {
           "aaxis": {
            "gridcolor": "white",
            "linecolor": "white",
            "ticks": ""
           },
           "baxis": {
            "gridcolor": "white",
            "linecolor": "white",
            "ticks": ""
           },
           "bgcolor": "#E5ECF6",
           "caxis": {
            "gridcolor": "white",
            "linecolor": "white",
            "ticks": ""
           }
          },
          "title": {
           "x": 0.05
          },
          "xaxis": {
           "automargin": true,
           "gridcolor": "white",
           "linecolor": "white",
           "ticks": "",
           "title": {
            "standoff": 15
           },
           "zerolinecolor": "white",
           "zerolinewidth": 2
          },
          "yaxis": {
           "automargin": true,
           "gridcolor": "white",
           "linecolor": "white",
           "ticks": "",
           "title": {
            "standoff": 15
           },
           "zerolinecolor": "white",
           "zerolinewidth": 2
          }
         }
        },
        "width": 800,
        "xaxis": {
         "anchor": "y",
         "domain": [
          0,
          1
         ],
         "title": {
          "text": "Term"
         }
        },
        "yaxis": {
         "anchor": "x",
         "domain": [
          0,
          1
         ],
         "title": {
          "text": "Fraction of Class"
         }
        }
       }
      },
      "text/html": [
       "<div>            <script src=\"https://cdnjs.cloudflare.com/ajax/libs/mathjax/2.7.5/MathJax.js?config=TeX-AMS-MML_SVG\"></script><script type=\"text/javascript\">if (window.MathJax && window.MathJax.Hub && window.MathJax.Hub.Config) {window.MathJax.Hub.Config({SVG: {font: \"STIX-Web\"}});}</script>                <script type=\"text/javascript\">window.PlotlyConfig = {MathJaxConfig: 'local'};</script>\n",
       "        <script charset=\"utf-8\" src=\"https://cdn.plot.ly/plotly-3.0.1.min.js\"></script>                <div id=\"aeba62c5-3767-4c3b-8288-047bd94c4954\" class=\"plotly-graph-div\" style=\"height:250px; width:800px;\"></div>            <script type=\"text/javascript\">                window.PLOTLYENV=window.PLOTLYENV || {};                                if (document.getElementById(\"aeba62c5-3767-4c3b-8288-047bd94c4954\")) {                    Plotly.newPlot(                        \"aeba62c5-3767-4c3b-8288-047bd94c4954\",                        [{\"bingroup\":\"x\",\"histnorm\":\"probability\",\"hovertemplate\":\"variable=Terms in Attendance\\u003cbr\\u003evalue=%{x}\\u003cbr\\u003eprobability=%{y}\\u003cextra\\u003e\\u003c\\u002fextra\\u003e\",\"legendgroup\":\"Terms in Attendance\",\"marker\":{\"color\":\"#636efa\",\"pattern\":{\"shape\":\"\"}},\"name\":\"Terms in Attendance\",\"orientation\":\"v\",\"showlegend\":true,\"x\":[\"2.0\",\"2.0\",\"2.0\",\"2.0\",\"2.0\",\"2.0\",\"2.0\",\"2.0\",\"2.0\",\"2.0\",\"2.0\",\"2.0\",\"2.0\",\"2.0\",\"2.0\",\"2.0\",\"2.0\",\"2.0\",\"2.0\",\"2.0\",\"2.0\",\"2.0\",\"2.0\",\"2.0\",\"2.0\",\"2.0\",\"2.0\",\"2.0\",\"2.0\",\"2.0\",\"2.0\",\"2.0\",\"2.0\",\"2.0\",\"2.0\",\"2.0\",\"2.0\",\"2.0\",\"2.0\",\"2.0\",\"2.0\",\"2.0\",\"2.0\",\"3.0\",\"4.0\",\"4.0\",\"4.0\",\"4.0\",\"4.0\",\"4.0\",\"4.0\",\"4.0\",\"4.0\",\"4.0\",\"4.0\",\"4.0\",\"4.0\",\"4.0\",\"4.0\",\"4.0\",\"4.0\",\"4.0\",\"4.0\",\"4.0\",\"4.0\",\"4.0\",\"4.0\",\"4.0\",\"4.0\",\"4.0\",\"4.0\",\"4.0\",\"4.0\",\"4.0\",\"4.0\",\"4.0\",\"4.0\",\"4.0\",\"4.0\",\"4.0\",\"4.0\",\"4.0\",\"4.0\",\"4.0\",\"4.0\",\"4.0\",\"4.0\",\"4.0\",\"4.0\",\"4.0\",\"4.0\",\"4.0\",\"4.0\",\"4.0\",\"4.0\",\"4.0\",\"4.0\",\"4.0\",\"4.0\",\"4.0\",\"4.0\",\"4.0\",\"4.0\",\"4.0\",\"4.0\",\"4.0\",\"4.0\",\"4.0\",\"4.0\",\"4.0\",\"4.0\",\"4.0\",\"4.0\",\"4.0\",\"4.0\",\"4.0\",\"4.0\",\"4.0\",\"4.0\",\"4.0\",\"4.0\",\"4.0\",\"4.0\",\"4.0\",\"4.0\",\"4.0\",\"4.0\",\"4.0\",\"4.0\",\"4.0\",\"4.0\",\"4.0\",\"4.0\",\"4.0\",\"4.0\",\"4.0\",\"4.0\",\"4.0\",\"4.0\",\"4.0\",\"4.0\",\"4.0\",\"4.0\",\"4.0\",\"4.0\",\"4.0\",\"4.0\",\"4.0\",\"4.0\",\"4.0\",\"4.0\",\"4.0\",\"4.0\",\"4.0\",\"4.0\",\"4.0\",\"4.0\",\"4.0\",\"4.0\",\"4.0\",\"4.0\",\"4.0\",\"4.0\",\"4.0\",\"4.0\",\"4.0\",\"4.0\",\"4.0\",\"4.0\",\"4.0\",\"4.0\",\"4.0\",\"4.0\",\"4.0\",\"4.0\",\"4.0\",\"4.0\",\"4.0\",\"4.0\",\"4.0\",\"4.0\",\"4.0\",\"4.0\",\"4.0\",\"4.0\",\"4.0\",\"4.0\",\"4.0\",\"4.0\",\"4.0\",\"4.0\",\"4.0\",\"4.0\",\"4.0\",\"4.0\",\"4.0\",\"4.0\",\"4.0\",\"4.0\",\"4.0\",\"4.0\",\"4.0\",\"4.0\",\"4.0\",\"4.0\",\"4.0\",\"4.0\",\"4.0\",\"4.0\",\"4.0\",\"4.0\",\"4.0\",\"4.0\",\"4.0\",\"4.0\",\"4.0\",\"4.0\",\"4.0\",\"4.0\",\"4.0\",\"4.0\",\"4.0\",\"4.0\",\"4.0\",\"4.0\",\"4.0\",\"4.0\",\"4.0\",\"4.0\",\"4.0\",\"4.0\",\"4.0\",\"4.0\",\"4.0\",\"4.0\",\"4.0\",\"4.0\",\"4.0\",\"4.0\",\"4.0\",\"4.0\",\"4.0\",\"4.0\",\"4.0\",\"4.0\",\"4.0\",\"4.0\",\"4.0\",\"4.0\",\"4.0\",\"4.0\",\"4.0\",\"4.0\",\"4.0\",\"4.0\",\"4.0\",\"4.0\",\"4.0\",\"4.0\",\"4.0\",\"4.0\",\"4.0\",\"4.0\",\"4.0\",\"4.0\",\"4.0\",\"4.0\",\"4.0\",\"4.0\",\"4.0\",\"4.0\",\"4.0\",\"4.0\",\"4.0\",\"4.0\",\"4.0\",\"4.0\",\"4.0\",\"4.0\",\"4.0\",\"4.0\",\"4.0\",\"4.0\",\"4.0\",\"4.0\",\"4.0\",\"4.0\",\"4.0\",\"4.0\",\"4.0\",\"4.0\",\"4.0\",\"4.0\",\"4.0\",\"4.0\",\"4.0\",\"4.0\",\"4.0\",\"4.0\",\"4.0\",\"4.0\",\"4.0\",\"4.0\",\"4.0\",\"4.0\",\"4.0\",\"4.0\",\"4.0\",\"4.0\",\"4.0\",\"4.0\",\"4.0\",\"4.0\",\"4.0\",\"4.0\",\"4.0\",\"4.0\",\"4.0\",\"4.0\",\"4.0\",\"4.0\",\"4.0\",\"4.0\",\"4.0\",\"4.0\",\"4.0\",\"4.0\",\"4.0\",\"4.0\",\"4.0\",\"4.0\",\"4.0\",\"4.0\",\"4.0\",\"4.0\",\"4.0\",\"4.0\",\"4.0\",\"4.0\",\"4.0\",\"4.0\",\"4.0\",\"4.0\",\"4.0\",\"4.0\",\"4.0\",\"4.0\",\"4.0\",\"4.0\",\"4.0\",\"4.0\",\"4.0\",\"4.0\",\"4.0\",\"4.0\",\"4.0\",\"4.0\",\"4.0\",\"4.0\",\"4.0\",\"4.0\",\"4.0\",\"4.0\",\"4.0\",\"4.0\",\"4.0\",\"4.0\",\"4.0\",\"4.0\",\"4.0\",\"4.0\",\"4.0\",\"4.0\",\"4.0\",\"4.0\",\"4.0\",\"4.0\",\"4.0\",\"4.0\",\"4.0\",\"4.0\",\"4.0\",\"4.0\",\"4.0\",\"4.0\",\"4.0\",\"4.0\",\"4.0\",\"4.0\",\"4.0\",\"4.0\",\"4.0\",\"4.0\",\"4.0\",\"4.0\",\"4.0\",\"4.0\",\"4.0\",\"4.0\",\"4.0\",\"4.0\",\"4.0\",\"4.0\",\"4.0\",\"4.0\",\"4.0\",\"4.0\",\"4.0\",\"4.0\",\"4.0\",\"4.0\",\"4.0\",\"4.0\",\"4.0\",\"4.0\",\"4.0\",\"4.0\",\"4.0\",\"4.0\",\"4.0\",\"4.0\",\"4.0\",\"4.0\",\"4.0\",\"4.0\",\"4.0\",\"4.0\",\"4.0\",\"4.0\",\"4.0\",\"4.0\",\"4.0\",\"4.0\",\"4.0\",\"4.0\",\"4.0\",\"4.0\",\"4.0\",\"4.0\",\"4.0\",\"4.0\",\"4.0\",\"4.0\",\"4.0\",\"4.0\",\"4.0\",\"4.0\",\"4.0\",\"4.0\",\"4.0\",\"4.0\",\"4.0\",\"4.0\",\"4.0\",\"4.0\",\"4.0\",\"4.0\",\"4.0\",\"4.0\",\"4.0\",\"4.0\",\"4.0\",\"4.0\",\"4.0\",\"4.0\",\"4.0\",\"4.0\",\"4.0\",\"4.0\",\"4.0\",\"4.0\",\"4.0\",\"4.0\",\"4.0\",\"4.0\",\"4.0\",\"4.0\",\"4.0\",\"4.0\",\"4.0\",\"4.0\",\"4.0\",\"4.0\",\"4.0\",\"4.0\",\"4.0\",\"4.0\",\"4.0\",\"4.0\",\"4.0\",\"4.0\",\"4.0\",\"4.0\",\"4.0\",\"4.0\",\"4.0\",\"4.0\",\"4.0\",\"4.0\",\"4.0\",\"4.0\",\"4.0\",\"4.0\",\"4.0\",\"4.0\",\"4.0\",\"4.0\",\"4.0\",\"4.0\",\"4.0\",\"4.0\",\"4.0\",\"4.0\",\"4.0\",\"4.0\",\"4.0\",\"4.0\",\"4.0\",\"4.0\",\"4.0\",\"4.0\",\"4.0\",\"4.0\",\"4.0\",\"4.0\",\"4.0\",\"4.0\",\"4.0\",\"4.0\",\"4.0\",\"4.0\",\"4.0\",\"4.0\",\"4.0\",\"4.0\",\"4.0\",\"4.0\",\"4.0\",\"4.0\",\"4.0\",\"4.0\",\"4.0\",\"4.0\",\"4.0\",\"4.0\",\"4.0\",\"4.0\",\"4.0\",\"4.0\",\"4.0\",\"4.0\",\"4.0\",\"4.0\",\"4.0\",\"4.0\",\"4.0\",\"4.0\",\"4.0\",\"4.0\",\"4.0\",\"4.0\",\"4.0\",\"4.0\",\"4.0\",\"4.0\",\"4.0\",\"4.0\",\"4.0\",\"4.0\",\"4.0\",\"4.0\",\"4.0\",\"4.0\",\"4.0\",\"4.0\",\"4.0\",\"4.0\",\"4.0\",\"4.0\",\"4.0\",\"4.0\",\"4.0\",\"4.0\",\"5.0\",\"5.0\",\"5.0\",\"5.0\",\"5.0\",\"5.0\",\"5.0\",\"5.0\",\"5.0\",\"5.0\",\"5.0\",\"5.0\",\"5.0\",\"6.0\",\"6.0\",\"6.0\",\"6.0\",\"6.0\",\"6.0\",\"6.0\",\"6.0\",\"6.0\",\"6.0\",\"6.0\",\"6.0\",\"6.0\",\"6.0\",\"6.0\",\"6.0\",\"6.0\",\"6.0\",\"6.0\",\"6.0\",\"6.0\",\"6.0\",\"6.0\",\"6.0\",\"6.0\",\"6.0\",\"6.0\",\"6.0\",\"6.0\",\"6.0\",\"6.0\",\"6.0\",\"6.0\",\"6.0\",\"6.0\",\"6.0\",\"6.0\",\"6.0\",\"6.0\",\"6.0\",\"6.0\",\"6.0\",\"6.0\",\"6.0\",\"6.0\",\"6.0\",\"6.0\",\"6.0\",\"6.0\",\"6.0\",\"6.0\",\"6.0\",\"6.0\",\"6.0\",\"6.0\",\"6.0\",\"6.0\",\"6.0\",\"6.0\",\"6.0\",\"6.0\",\"6.0\",\"6.0\",\"6.0\",\"6.0\",\"6.0\",\"6.0\",\"6.0\",\"6.0\",\"6.0\",\"6.0\",\"6.0\",\"6.0\",\"6.0\",\"6.0\",\"6.0\",\"6.0\",\"6.0\",\"6.0\",\"6.0\",\"6.0\",\"6.0\",\"6.0\",\"6.0\",\"6.0\",\"6.0\",\"6.0\",\"6.0\",\"6.0\",\"6.0\",\"6.0\",\"6.0\",\"6.0\",\"6.0\",\"6.0\",\"6.0\",\"6.0\",\"6.0\",\"6.0\",\"6.0\",\"6.0\",\"6.0\",\"6.0\",\"6.0\",\"6.0\",\"6.0\",\"6.0\",\"6.0\",\"6.0\",\"6.0\",\"6.0\",\"6.0\",\"6.0\",\"6.0\",\"6.0\",\"6.0\",\"6.0\",\"6.0\",\"6.0\",\"6.0\",\"6.0\",\"6.0\",\"6.0\",\"6.0\",\"6.0\",\"6.0\",\"6.0\",\"6.0\",\"6.0\",\"6.0\",\"6.0\",\"6.0\",\"6.0\",\"6.0\",\"6.0\",\"6.0\",\"6.0\",\"6.0\",\"6.0\",\"6.0\",\"6.0\",\"6.0\",\"6.0\",\"6.0\",\"6.0\",\"6.0\",\"6.0\",\"6.0\",\"6.0\",\"6.0\",\"6.0\",\"6.0\",\"6.0\",\"6.0\",\"6.0\",\"6.0\",\"6.0\",\"6.0\",\"6.0\",\"6.0\",\"6.0\",\"6.0\",\"6.0\",\"6.0\",\"6.0\",\"6.0\",\"6.0\",\"6.0\",\"6.0\",\"6.0\",\"6.0\",\"6.0\",\"6.0\",\"6.0\",\"6.0\",\"6.0\",\"6.0\",\"6.0\",\"6.0\",\"6.0\",\"6.0\",\"6.0\",\"6.0\",\"6.0\",\"6.0\",\"6.0\",\"6.0\",\"6.0\",\"6.0\",\"6.0\",\"6.0\",\"6.0\",\"6.0\",\"6.0\",\"6.0\",\"6.0\",\"6.0\",\"6.0\",\"6.0\",\"6.0\",\"6.0\",\"6.0\",\"6.0\",\"6.0\",\"6.0\",\"6.0\",\"6.0\",\"6.0\",\"6.0\",\"6.0\",\"6.0\",\"6.0\",\"6.0\",\"6.0\",\"6.0\",\"6.0\",\"6.0\",\"6.0\",\"6.0\",\"6.0\",\"6.0\",\"6.0\",\"6.0\",\"6.0\",\"6.0\",\"6.0\",\"6.0\",\"6.0\",\"6.0\",\"6.0\",\"6.0\",\"6.0\",\"6.0\",\"6.0\",\"6.0\",\"6.0\",\"6.0\",\"6.0\",\"6.0\",\"6.0\",\"6.0\",\"6.0\",\"6.0\",\"6.0\",\"6.0\",\"6.0\",\"6.0\",\"6.0\",\"6.0\",\"6.0\",\"6.0\",\"6.0\",\"6.0\",\"6.0\",\"6.0\",\"6.0\",\"6.0\",\"6.0\",\"6.0\",\"6.0\",\"6.0\",\"6.0\",\"6.0\",\"6.0\",\"6.0\",\"6.0\",\"6.0\",\"6.0\",\"6.0\",\"6.0\",\"6.0\",\"6.0\",\"6.0\",\"6.0\",\"6.0\",\"6.0\",\"6.0\",\"6.0\",\"6.0\",\"6.0\",\"6.0\",\"6.0\",\"6.0\",\"6.0\",\"6.0\",\"6.0\",\"6.0\",\"6.0\",\"6.0\",\"6.0\",\"6.0\",\"6.0\",\"6.0\",\"6.0\",\"6.0\",\"6.0\",\"6.0\",\"6.0\",\"6.0\",\"6.0\",\"6.0\",\"6.0\",\"6.0\",\"6.0\",\"6.0\",\"6.0\",\"6.0\",\"6.0\",\"6.0\",\"6.0\",\"6.0\",\"6.0\",\"6.0\",\"6.0\",\"6.0\",\"6.0\",\"6.0\",\"6.0\",\"6.0\",\"6.0\",\"6.0\",\"6.0\",\"6.0\",\"6.0\",\"6.0\",\"6.0\",\"6.0\",\"6.0\",\"6.0\",\"6.0\",\"6.0\",\"6.0\",\"6.0\",\"6.0\",\"6.0\",\"6.0\",\"6.0\",\"6.0\",\"6.0\",\"6.0\",\"6.0\",\"6.0\",\"6.0\",\"6.0\",\"6.0\",\"6.0\",\"6.0\",\"6.0\",\"6.0\",\"6.0\",\"6.0\",\"6.0\",\"6.0\",\"6.0\",\"6.0\",\"6.0\",\"6.0\",\"6.0\",\"6.0\",\"6.0\",\"6.0\",\"6.0\",\"6.0\",\"6.0\",\"6.0\",\"6.0\",\"6.0\",\"6.0\",\"6.0\",\"6.0\",\"6.0\",\"6.0\",\"6.0\",\"6.0\",\"6.0\",\"6.0\",\"6.0\",\"6.0\",\"6.0\",\"6.0\",\"6.0\",\"6.0\",\"6.0\",\"6.0\",\"6.0\",\"6.0\",\"6.0\",\"6.0\",\"6.0\",\"6.0\",\"6.0\",\"6.0\",\"6.0\",\"6.0\",\"6.0\",\"6.0\",\"6.0\",\"6.0\",\"6.0\",\"6.0\",\"6.0\",\"6.0\",\"6.0\",\"6.0\",\"6.0\",\"6.0\",\"6.0\",\"7.0\",\"7.0\",\"7.0\",\"7.0\",\"7.0\",\"7.0\",\"7.0\",\"7.0\",\"7.0\",\"7.0\",\"7.0\",\"7.0\",\"7.0\",\"7.0\",\"7.0\",\"7.0\",\"7.0\",\"7.0\",\"7.0\",\"7.0\",\"7.0\",\"7.0\",\"7.0\",\"7.0\",\"7.0\",\"7.0\",\"7.0\",\"7.0\",\"7.0\",\"7.0\",\"8.0\",\"8.0\",\"8.0\",\"8.0\",\"8.0\",\"8.0\",\"8.0\",\"8.0\",\"8.0\",\"8.0\",\"8.0\",\"8.0\",\"8.0\",\"8.0\",\"8.0\",\"8.0\",\"8.0\",\"8.0\",\"8.0\",\"8.0\",\"8.0\",\"8.0\",\"8.0\",\"8.0\",\"8.0\",\"8.0\",\"8.0\",\"8.0\",\"8.0\",\"8.0\",\"8.0\",\"8.0\",\"8.0\",\"8.0\",\"8.0\",\"8.0\",\"8.0\",\"8.0\",\"8.0\",\"8.0\",\"8.0\",\"8.0\",\"8.0\",\"8.0\",\"8.0\",\"8.0\",\"8.0\",\"8.0\",\"8.0\",\"8.0\",\"8.0\",\"8.0\",\"8.0\",\"8.0\",\"8.0\",\"8.0\",\"8.0\",\"8.0\",\"8.0\",\"8.0\",\"8.0\",\"8.0\",\"8.0\",\"8.0\",\"8.0\",\"8.0\",\"8.0\",\"8.0\",\"8.0\",\"8.0\",\"8.0\",\"8.0\",\"8.0\",\"8.0\",\"8.0\",\"8.0\",\"8.0\",\"8.0\",\"8.0\",\"8.0\",\"8.0\",\"8.0\",\"8.0\",\"8.0\",\"8.0\",\"8.0\",\"8.0\",\"8.0\",\"8.0\",\"8.0\",\"8.0\",\"8.0\",\"8.0\",\"8.0\",\"8.0\",\"8.0\",\"8.0\",\"8.0\",\"8.0\",\"8.0\",\"8.0\",\"8.0\",\"8.0\",\"8.0\",\"8.0\",\"8.0\",\"8.0\",\"8.0\",\"8.0\",\"8.0\",\"8.0\",\"8.0\",\"8.0\",\"8.0\",\"8.0\",\"8.0\",\"8.0\",\"8.0\",\"8.0\",\"8.0\",\"8.0\",\"8.0\",\"8.0\",\"8.0\",\"8.0\",\"8.0\",\"8.0\",\"8.0\",\"8.0\",\"8.0\",\"8.0\",\"8.0\",\"8.0\",\"8.0\",\"8.0\",\"8.0\",\"8.0\",\"8.0\",\"8.0\",\"8.0\",\"8.0\",\"8.0\",\"8.0\",\"8.0\",\"8.0\",\"8.0\",\"8.0\",\"8.0\",\"8.0\",\"8.0\",\"8.0\",\"8.0\",\"8.0\",\"8.0\",\"8.0\",\"8.0\",\"8.0\",\"8.0\",\"8.0\",\"8.0\",\"8.0\",\"8.0\",\"8.0\",\"8.0\",\"8.0\",\"8.0\",\"8.0\",\"8.0\",\"G\",\"G\",\"G\",\"G\",\"G\",\"G\",\"G\",\"G\",\"G\",\"G\",\"G\",\"G\",\"G\",\"G\",\"G\",\"G\",\"G\",\"G\",\"G\",\"G\",\"G\",\"G\",\"G\",\"G\",\"G\",\"G\",\"G\",\"G\",\"G\",\"G\",\"G\",\"G\",\"G\",\"G\",\"G\",\"G\",\"G\",\"G\",\"G\",\"G\",\"G\",\"G\",\"G\",\"G\",\"G\",\"G\",\"G\",\"G\",\"G\",\"G\",\"G\",\"G\",null,null,null,null,null,null,null,null,null,null,null,null,null,null,null,null,null,null,null,null,null,null],\"xaxis\":\"x\",\"yaxis\":\"y\",\"type\":\"histogram\"}],                        {\"template\":{\"data\":{\"histogram2dcontour\":[{\"type\":\"histogram2dcontour\",\"colorbar\":{\"outlinewidth\":0,\"ticks\":\"\"},\"colorscale\":[[0.0,\"#0d0887\"],[0.1111111111111111,\"#46039f\"],[0.2222222222222222,\"#7201a8\"],[0.3333333333333333,\"#9c179e\"],[0.4444444444444444,\"#bd3786\"],[0.5555555555555556,\"#d8576b\"],[0.6666666666666666,\"#ed7953\"],[0.7777777777777778,\"#fb9f3a\"],[0.8888888888888888,\"#fdca26\"],[1.0,\"#f0f921\"]]}],\"choropleth\":[{\"type\":\"choropleth\",\"colorbar\":{\"outlinewidth\":0,\"ticks\":\"\"}}],\"histogram2d\":[{\"type\":\"histogram2d\",\"colorbar\":{\"outlinewidth\":0,\"ticks\":\"\"},\"colorscale\":[[0.0,\"#0d0887\"],[0.1111111111111111,\"#46039f\"],[0.2222222222222222,\"#7201a8\"],[0.3333333333333333,\"#9c179e\"],[0.4444444444444444,\"#bd3786\"],[0.5555555555555556,\"#d8576b\"],[0.6666666666666666,\"#ed7953\"],[0.7777777777777778,\"#fb9f3a\"],[0.8888888888888888,\"#fdca26\"],[1.0,\"#f0f921\"]]}],\"heatmap\":[{\"type\":\"heatmap\",\"colorbar\":{\"outlinewidth\":0,\"ticks\":\"\"},\"colorscale\":[[0.0,\"#0d0887\"],[0.1111111111111111,\"#46039f\"],[0.2222222222222222,\"#7201a8\"],[0.3333333333333333,\"#9c179e\"],[0.4444444444444444,\"#bd3786\"],[0.5555555555555556,\"#d8576b\"],[0.6666666666666666,\"#ed7953\"],[0.7777777777777778,\"#fb9f3a\"],[0.8888888888888888,\"#fdca26\"],[1.0,\"#f0f921\"]]}],\"contourcarpet\":[{\"type\":\"contourcarpet\",\"colorbar\":{\"outlinewidth\":0,\"ticks\":\"\"}}],\"contour\":[{\"type\":\"contour\",\"colorbar\":{\"outlinewidth\":0,\"ticks\":\"\"},\"colorscale\":[[0.0,\"#0d0887\"],[0.1111111111111111,\"#46039f\"],[0.2222222222222222,\"#7201a8\"],[0.3333333333333333,\"#9c179e\"],[0.4444444444444444,\"#bd3786\"],[0.5555555555555556,\"#d8576b\"],[0.6666666666666666,\"#ed7953\"],[0.7777777777777778,\"#fb9f3a\"],[0.8888888888888888,\"#fdca26\"],[1.0,\"#f0f921\"]]}],\"surface\":[{\"type\":\"surface\",\"colorbar\":{\"outlinewidth\":0,\"ticks\":\"\"},\"colorscale\":[[0.0,\"#0d0887\"],[0.1111111111111111,\"#46039f\"],[0.2222222222222222,\"#7201a8\"],[0.3333333333333333,\"#9c179e\"],[0.4444444444444444,\"#bd3786\"],[0.5555555555555556,\"#d8576b\"],[0.6666666666666666,\"#ed7953\"],[0.7777777777777778,\"#fb9f3a\"],[0.8888888888888888,\"#fdca26\"],[1.0,\"#f0f921\"]]}],\"mesh3d\":[{\"type\":\"mesh3d\",\"colorbar\":{\"outlinewidth\":0,\"ticks\":\"\"}}],\"scatter\":[{\"fillpattern\":{\"fillmode\":\"overlay\",\"size\":10,\"solidity\":0.2},\"type\":\"scatter\"}],\"parcoords\":[{\"type\":\"parcoords\",\"line\":{\"colorbar\":{\"outlinewidth\":0,\"ticks\":\"\"}}}],\"scatterpolargl\":[{\"type\":\"scatterpolargl\",\"marker\":{\"colorbar\":{\"outlinewidth\":0,\"ticks\":\"\"}}}],\"bar\":[{\"error_x\":{\"color\":\"#2a3f5f\"},\"error_y\":{\"color\":\"#2a3f5f\"},\"marker\":{\"line\":{\"color\":\"#E5ECF6\",\"width\":0.5},\"pattern\":{\"fillmode\":\"overlay\",\"size\":10,\"solidity\":0.2}},\"type\":\"bar\"}],\"scattergeo\":[{\"type\":\"scattergeo\",\"marker\":{\"colorbar\":{\"outlinewidth\":0,\"ticks\":\"\"}}}],\"scatterpolar\":[{\"type\":\"scatterpolar\",\"marker\":{\"colorbar\":{\"outlinewidth\":0,\"ticks\":\"\"}}}],\"histogram\":[{\"marker\":{\"pattern\":{\"fillmode\":\"overlay\",\"size\":10,\"solidity\":0.2}},\"type\":\"histogram\"}],\"scattergl\":[{\"type\":\"scattergl\",\"marker\":{\"colorbar\":{\"outlinewidth\":0,\"ticks\":\"\"}}}],\"scatter3d\":[{\"type\":\"scatter3d\",\"line\":{\"colorbar\":{\"outlinewidth\":0,\"ticks\":\"\"}},\"marker\":{\"colorbar\":{\"outlinewidth\":0,\"ticks\":\"\"}}}],\"scattermap\":[{\"type\":\"scattermap\",\"marker\":{\"colorbar\":{\"outlinewidth\":0,\"ticks\":\"\"}}}],\"scattermapbox\":[{\"type\":\"scattermapbox\",\"marker\":{\"colorbar\":{\"outlinewidth\":0,\"ticks\":\"\"}}}],\"scatterternary\":[{\"type\":\"scatterternary\",\"marker\":{\"colorbar\":{\"outlinewidth\":0,\"ticks\":\"\"}}}],\"scattercarpet\":[{\"type\":\"scattercarpet\",\"marker\":{\"colorbar\":{\"outlinewidth\":0,\"ticks\":\"\"}}}],\"carpet\":[{\"aaxis\":{\"endlinecolor\":\"#2a3f5f\",\"gridcolor\":\"white\",\"linecolor\":\"white\",\"minorgridcolor\":\"white\",\"startlinecolor\":\"#2a3f5f\"},\"baxis\":{\"endlinecolor\":\"#2a3f5f\",\"gridcolor\":\"white\",\"linecolor\":\"white\",\"minorgridcolor\":\"white\",\"startlinecolor\":\"#2a3f5f\"},\"type\":\"carpet\"}],\"table\":[{\"cells\":{\"fill\":{\"color\":\"#EBF0F8\"},\"line\":{\"color\":\"white\"}},\"header\":{\"fill\":{\"color\":\"#C8D4E3\"},\"line\":{\"color\":\"white\"}},\"type\":\"table\"}],\"barpolar\":[{\"marker\":{\"line\":{\"color\":\"#E5ECF6\",\"width\":0.5},\"pattern\":{\"fillmode\":\"overlay\",\"size\":10,\"solidity\":0.2}},\"type\":\"barpolar\"}],\"pie\":[{\"automargin\":true,\"type\":\"pie\"}]},\"layout\":{\"autotypenumbers\":\"strict\",\"colorway\":[\"#636efa\",\"#EF553B\",\"#00cc96\",\"#ab63fa\",\"#FFA15A\",\"#19d3f3\",\"#FF6692\",\"#B6E880\",\"#FF97FF\",\"#FECB52\"],\"font\":{\"color\":\"#2a3f5f\"},\"hovermode\":\"closest\",\"hoverlabel\":{\"align\":\"left\"},\"paper_bgcolor\":\"white\",\"plot_bgcolor\":\"#E5ECF6\",\"polar\":{\"bgcolor\":\"#E5ECF6\",\"angularaxis\":{\"gridcolor\":\"white\",\"linecolor\":\"white\",\"ticks\":\"\"},\"radialaxis\":{\"gridcolor\":\"white\",\"linecolor\":\"white\",\"ticks\":\"\"}},\"ternary\":{\"bgcolor\":\"#E5ECF6\",\"aaxis\":{\"gridcolor\":\"white\",\"linecolor\":\"white\",\"ticks\":\"\"},\"baxis\":{\"gridcolor\":\"white\",\"linecolor\":\"white\",\"ticks\":\"\"},\"caxis\":{\"gridcolor\":\"white\",\"linecolor\":\"white\",\"ticks\":\"\"}},\"coloraxis\":{\"colorbar\":{\"outlinewidth\":0,\"ticks\":\"\"}},\"colorscale\":{\"sequential\":[[0.0,\"#0d0887\"],[0.1111111111111111,\"#46039f\"],[0.2222222222222222,\"#7201a8\"],[0.3333333333333333,\"#9c179e\"],[0.4444444444444444,\"#bd3786\"],[0.5555555555555556,\"#d8576b\"],[0.6666666666666666,\"#ed7953\"],[0.7777777777777778,\"#fb9f3a\"],[0.8888888888888888,\"#fdca26\"],[1.0,\"#f0f921\"]],\"sequentialminus\":[[0.0,\"#0d0887\"],[0.1111111111111111,\"#46039f\"],[0.2222222222222222,\"#7201a8\"],[0.3333333333333333,\"#9c179e\"],[0.4444444444444444,\"#bd3786\"],[0.5555555555555556,\"#d8576b\"],[0.6666666666666666,\"#ed7953\"],[0.7777777777777778,\"#fb9f3a\"],[0.8888888888888888,\"#fdca26\"],[1.0,\"#f0f921\"]],\"diverging\":[[0,\"#8e0152\"],[0.1,\"#c51b7d\"],[0.2,\"#de77ae\"],[0.3,\"#f1b6da\"],[0.4,\"#fde0ef\"],[0.5,\"#f7f7f7\"],[0.6,\"#e6f5d0\"],[0.7,\"#b8e186\"],[0.8,\"#7fbc41\"],[0.9,\"#4d9221\"],[1,\"#276419\"]]},\"xaxis\":{\"gridcolor\":\"white\",\"linecolor\":\"white\",\"ticks\":\"\",\"title\":{\"standoff\":15},\"zerolinecolor\":\"white\",\"automargin\":true,\"zerolinewidth\":2},\"yaxis\":{\"gridcolor\":\"white\",\"linecolor\":\"white\",\"ticks\":\"\",\"title\":{\"standoff\":15},\"zerolinecolor\":\"white\",\"automargin\":true,\"zerolinewidth\":2},\"scene\":{\"xaxis\":{\"backgroundcolor\":\"#E5ECF6\",\"gridcolor\":\"white\",\"linecolor\":\"white\",\"showbackground\":true,\"ticks\":\"\",\"zerolinecolor\":\"white\",\"gridwidth\":2},\"yaxis\":{\"backgroundcolor\":\"#E5ECF6\",\"gridcolor\":\"white\",\"linecolor\":\"white\",\"showbackground\":true,\"ticks\":\"\",\"zerolinecolor\":\"white\",\"gridwidth\":2},\"zaxis\":{\"backgroundcolor\":\"#E5ECF6\",\"gridcolor\":\"white\",\"linecolor\":\"white\",\"showbackground\":true,\"ticks\":\"\",\"zerolinecolor\":\"white\",\"gridwidth\":2}},\"shapedefaults\":{\"line\":{\"color\":\"#2a3f5f\"}},\"annotationdefaults\":{\"arrowcolor\":\"#2a3f5f\",\"arrowhead\":0,\"arrowwidth\":1},\"geo\":{\"bgcolor\":\"white\",\"landcolor\":\"#E5ECF6\",\"subunitcolor\":\"white\",\"showland\":true,\"showlakes\":true,\"lakecolor\":\"white\"},\"title\":{\"x\":0.05},\"mapbox\":{\"style\":\"light\"}}},\"xaxis\":{\"anchor\":\"y\",\"domain\":[0.0,1.0],\"title\":{\"text\":\"Term\"}},\"yaxis\":{\"anchor\":\"x\",\"domain\":[0.0,1.0],\"title\":{\"text\":\"Fraction of Class\"}},\"legend\":{\"title\":{\"text\":\"variable\"},\"tracegroupgap\":0},\"margin\":{\"t\":60},\"barmode\":\"relative\",\"showlegend\":false,\"autosize\":false,\"width\":800,\"height\":250},                        {\"responsive\": true}                    ).then(function(){\n",
       "                            \n",
       "var gd = document.getElementById('aeba62c5-3767-4c3b-8288-047bd94c4954');\n",
       "var x = new MutationObserver(function (mutations, observer) {{\n",
       "        var display = window.getComputedStyle(gd).display;\n",
       "        if (!display || display === 'none') {{\n",
       "            console.log([gd, 'removed!']);\n",
       "            Plotly.purge(gd);\n",
       "            observer.disconnect();\n",
       "        }}\n",
       "}});\n",
       "\n",
       "// Listen for the removal of the full notebook cells\n",
       "var notebookContainer = gd.closest('#notebook-container');\n",
       "if (notebookContainer) {{\n",
       "    x.observe(notebookContainer, {childList: true});\n",
       "}}\n",
       "\n",
       "// Listen for the clearing of the current output cell\n",
       "var outputEl = gd.closest('.output');\n",
       "if (outputEl) {{\n",
       "    x.observe(outputEl, {childList: true});\n",
       "}}\n",
       "\n",
       "                        })                };            </script>        </div>"
      ]
     },
     "metadata": {},
     "output_type": "display_data"
    }
   ],
   "source": [
    "fig = px.histogram(majors['Terms in Attendance'].sort_values(),\n",
    "                   histnorm='probability')\n",
    "\n",
    "fig.update_layout(showlegend=False,\n",
    "                  xaxis_title=\"Term\",\n",
    "                  yaxis_title=\"Fraction of Class\",\n",
    "                  autosize=False, \n",
    "                  width=800, \n",
    "                  height=250)"
   ]
  },
  {
   "cell_type": "code",
   "execution_count": 24,
   "metadata": {},
   "outputs": [
    {
     "data": {
      "application/vnd.microsoft.datawrangler.viewer.v0+json": {
       "columns": [
        {
         "name": "index",
         "rawType": "object",
         "type": "string"
        },
        {
         "name": "Majors",
         "rawType": "object",
         "type": "unknown"
        },
        {
         "name": "Ungrad Grad",
         "rawType": "object",
         "type": "unknown"
        }
       ],
       "ref": "c0e886cc-264b-4964-992e-6e4181162afc",
       "rows": [
        [
         "count",
         "1275",
         "1275"
        ],
        [
         "unique",
         "259",
         "2"
        ],
        [
         "top",
         "Letters & Sci Undeclared UG",
         "Undergraduate"
        ],
        [
         "freq",
         "341",
         "1223"
        ]
       ],
       "shape": {
        "columns": 2,
        "rows": 4
       }
      },
      "text/html": [
       "<div>\n",
       "<style scoped>\n",
       "    .dataframe tbody tr th:only-of-type {\n",
       "        vertical-align: middle;\n",
       "    }\n",
       "\n",
       "    .dataframe tbody tr th {\n",
       "        vertical-align: top;\n",
       "    }\n",
       "\n",
       "    .dataframe thead th {\n",
       "        text-align: right;\n",
       "    }\n",
       "</style>\n",
       "<table border=\"1\" class=\"dataframe\">\n",
       "  <thead>\n",
       "    <tr style=\"text-align: right;\">\n",
       "      <th></th>\n",
       "      <th>Majors</th>\n",
       "      <th>Ungrad Grad</th>\n",
       "    </tr>\n",
       "  </thead>\n",
       "  <tbody>\n",
       "    <tr>\n",
       "      <th>count</th>\n",
       "      <td>1275</td>\n",
       "      <td>1275</td>\n",
       "    </tr>\n",
       "    <tr>\n",
       "      <th>unique</th>\n",
       "      <td>259</td>\n",
       "      <td>2</td>\n",
       "    </tr>\n",
       "    <tr>\n",
       "      <th>top</th>\n",
       "      <td>Letters &amp; Sci Undeclared UG</td>\n",
       "      <td>Undergraduate</td>\n",
       "    </tr>\n",
       "    <tr>\n",
       "      <th>freq</th>\n",
       "      <td>341</td>\n",
       "      <td>1223</td>\n",
       "    </tr>\n",
       "  </tbody>\n",
       "</table>\n",
       "</div>"
      ],
      "text/plain": [
       "                             Majors    Ungrad Grad\n",
       "count                          1275           1275\n",
       "unique                          259              2\n",
       "top     Letters & Sci Undeclared UG  Undergraduate\n",
       "freq                            341           1223"
      ]
     },
     "execution_count": 24,
     "metadata": {},
     "output_type": "execute_result"
    }
   ],
   "source": [
    "# Replacing terms in attendance data with the degree objective\n",
    "majors.loc[majors.loc[:, 'Terms in Attendance'] != 'G', 'Terms in Attendance'] = 'Undergraduate'\n",
    "majors.loc[majors.loc[:, 'Terms in Attendance'] == 'G', 'Terms in Attendance'] = 'Graduate'\n",
    "\n",
    "\n",
    "majors.rename(columns={'Terms in Attendance': 'Ungrad Grad'}, inplace=True)\n",
    "\n",
    "majors.describe()"
   ]
  },
  {
   "cell_type": "markdown",
   "metadata": {},
   "source": [
    "# 1. New Questions\n",
    "\n",
    "- **What is the ratio between graduate and undergraduate students in Data 100, and how does it compare with campus distribution?**\n",
    "\n",
    "- **What is the proportion of different majors in Data 100, and how does it compare with historical campus trends?**\n",
    "\n",
    "<img src=\"images/ask.png\" width=\"300px\" />\n",
    "\n",
    "We often ask this question because we want to improve the data science program here in Berkeley, especially since it has now grown into a new college—[College of Computing, Data Science, and Society](https://data.berkeley.edu/)—Berkeley's first new college in 50 years."
   ]
  },
  {
   "cell_type": "markdown",
   "metadata": {},
   "source": [
    "\n",
    "\n",
    "## How could we answer this question?\n",
    "\n"
   ]
  },
  {
   "cell_type": "code",
   "execution_count": 25,
   "metadata": {},
   "outputs": [
    {
     "name": "stdout",
     "output_type": "stream",
     "text": [
      "Index(['Majors', 'Ungrad Grad'], dtype='object')\n",
      "Index(['Name'], dtype='object')\n"
     ]
    }
   ],
   "source": [
    "print(majors.columns)\n",
    "print(names.columns)"
   ]
  },
  {
   "cell_type": "markdown",
   "metadata": {},
   "source": [
    "\n",
    "---\n",
    "\n",
    "## We don't have the data.\n",
    "\n",
    "Where can we get the data?\n",
    "\n",
    "<img src=\"images/data_acquisition.PNG\" width=\"300px\" />"
   ]
  },
  {
   "cell_type": "markdown",
   "metadata": {},
   "source": [
    "\n",
    "---\n",
    "\n",
    "# UC Berkeley Student Headcount by Major and Demographics\n",
    "\n",
    "\n",
    "[Data](https://pages.github.berkeley.edu/OPA/our-berkeley/student-headcount-by-major.html) comes from UC Berkeley's data warehouse reporting system, Cal Answers. Headcount figures are based on the Fall and Spring census snapshots, which occur at the end of the 5th week of the term."
   ]
  },
  {
   "cell_type": "markdown",
   "metadata": {
    "tags": []
   },
   "source": [
    "# 2. Acquire data programmatically\n",
    "\n",
    "Note 1: In the following, we download the data programmatically to ensure that the process is reproducible.\n",
    "\n",
    "Note 2: We also load the data directly into Python.\n",
    "\n",
    "**In Data 100 we will think a bit more about how we can be efficient in our data analysis to support processing large datasets.**"
   ]
  },
  {
   "cell_type": "code",
   "execution_count": 26,
   "metadata": {},
   "outputs": [],
   "source": [
    "url = \"https://docs.google.com/spreadsheets/d/1J7tz3GQLs3M6hFseJCE9KhjVhe4vKga8Q2ezu0oG5sQ/gviz/tq?tqx=out:csv\"\n",
    "\n",
    "university_majors = pd.read_csv(url, \n",
    "                                usecols = ['Academic Yr', 'Semester', 'Ungrad Grad', \n",
    "                                           'Entry Status', 'Major', 'Student Headcount'])"
   ]
  },
  {
   "cell_type": "markdown",
   "metadata": {},
   "source": [
    "# 3. Exploratory Data Analysis on Campus Data\n",
    "\n",
    "<img src=\"images/understand_data.PNG\" width=\"300px\" />\n"
   ]
  },
  {
   "cell_type": "code",
   "execution_count": 27,
   "metadata": {},
   "outputs": [
    {
     "data": {
      "application/vnd.microsoft.datawrangler.viewer.v0+json": {
       "columns": [
        {
         "name": "index",
         "rawType": "int64",
         "type": "integer"
        },
        {
         "name": "Academic Yr",
         "rawType": "object",
         "type": "string"
        },
        {
         "name": "Semester",
         "rawType": "object",
         "type": "string"
        },
        {
         "name": "Ungrad Grad",
         "rawType": "object",
         "type": "string"
        },
        {
         "name": "Entry Status",
         "rawType": "object",
         "type": "string"
        },
        {
         "name": "Major",
         "rawType": "object",
         "type": "string"
        },
        {
         "name": "Student Headcount",
         "rawType": "int64",
         "type": "integer"
        }
       ],
       "ref": "4ca0f1e4-51cd-4f1f-8eaa-1d3c1f073a35",
       "rows": [
        [
         "0",
         "2015-16",
         "Fall",
         "Graduate",
         "Graduate",
         "Education",
         "252"
        ],
        [
         "1",
         "2015-16",
         "Fall",
         "Graduate",
         "Graduate",
         "Educational Leadership",
         "28"
        ],
        [
         "2",
         "2015-16",
         "Fall",
         "Graduate",
         "Graduate",
         "Special Education",
         "19"
        ],
        [
         "3",
         "2015-16",
         "Fall",
         "Graduate",
         "Graduate",
         "Teacher Education",
         "38"
        ],
        [
         "4",
         "2015-16",
         "Fall",
         "Graduate",
         "Graduate",
         "Science & Math Education",
         "13"
        ],
        [
         "5",
         "2015-16",
         "Fall",
         "Graduate",
         "Graduate",
         "Chemical Engineering",
         "143"
        ],
        [
         "6",
         "2015-16",
         "Fall",
         "Graduate",
         "Graduate",
         "Chemistry",
         "386"
        ],
        [
         "7",
         "2015-16",
         "Fall",
         "Graduate",
         "Graduate",
         "Computational Biology",
         "14"
        ],
        [
         "8",
         "2015-16",
         "Fall",
         "Graduate",
         "Graduate",
         "Statistics",
         "89"
        ],
        [
         "9",
         "2015-16",
         "Fall",
         "Graduate",
         "Graduate",
         "Applied Science & Tech",
         "45"
        ],
        [
         "10",
         "2015-16",
         "Fall",
         "Graduate",
         "Graduate",
         "Bioengineering",
         "106"
        ],
        [
         "11",
         "2015-16",
         "Fall",
         "Graduate",
         "Graduate",
         "Translational Medicine",
         "14"
        ],
        [
         "12",
         "2015-16",
         "Fall",
         "Graduate",
         "Graduate",
         "Bioengineering (UCSF)",
         "87"
        ],
        [
         "13",
         "2015-16",
         "Fall",
         "Graduate",
         "Graduate",
         "Translational Medicine (UCSF)",
         "13"
        ],
        [
         "14",
         "2015-16",
         "Fall",
         "Graduate",
         "Graduate",
         "Civil & Environmental Eng",
         "365"
        ],
        [
         "15",
         "2015-16",
         "Fall",
         "Graduate",
         "Graduate",
         "Computer Science",
         "224"
        ],
        [
         "16",
         "2015-16",
         "Fall",
         "Graduate",
         "Graduate",
         "Electrical Eng & Comp Sci",
         "338"
        ],
        [
         "17",
         "2015-16",
         "Fall",
         "Graduate",
         "Graduate",
         "Master of Adv Std - IC",
         "14"
        ],
        [
         "18",
         "2015-16",
         "Fall",
         "Graduate",
         "Graduate",
         "Ind Eng & Ops Rsch PT MEng",
         "13"
        ],
        [
         "19",
         "2015-16",
         "Fall",
         "Graduate",
         "Graduate",
         "Industrial Eng & Ops Rsch",
         "120"
        ],
        [
         "20",
         "2015-16",
         "Fall",
         "Graduate",
         "Graduate",
         "Materials Science & Eng",
         "94"
        ],
        [
         "21",
         "2015-16",
         "Fall",
         "Graduate",
         "Graduate",
         "Mechanical Engineering",
         "353"
        ],
        [
         "22",
         "2015-16",
         "Fall",
         "Graduate",
         "Graduate",
         "Nuclear Engineering",
         "68"
        ],
        [
         "23",
         "2015-16",
         "Fall",
         "Graduate",
         "Graduate",
         "Architecture",
         "167"
        ],
        [
         "24",
         "2015-16",
         "Fall",
         "Graduate",
         "Graduate",
         "City & Regional Planning",
         "148"
        ],
        [
         "25",
         "2015-16",
         "Fall",
         "Graduate",
         "Graduate",
         "Urban Design",
         "9"
        ],
        [
         "26",
         "2015-16",
         "Fall",
         "Graduate",
         "Graduate",
         "Landscape Arch & Env Plan",
         "14"
        ],
        [
         "27",
         "2015-16",
         "Fall",
         "Graduate",
         "Graduate",
         "Landscape Architecture",
         "68"
        ],
        [
         "28",
         "2015-16",
         "Fall",
         "Graduate",
         "Graduate",
         "Anc Hist & Medit Archae",
         "15"
        ],
        [
         "29",
         "2015-16",
         "Fall",
         "Graduate",
         "Graduate",
         "Classical Archaeology",
         "6"
        ],
        [
         "30",
         "2015-16",
         "Fall",
         "Graduate",
         "Graduate",
         "Classics",
         "22"
        ],
        [
         "31",
         "2015-16",
         "Fall",
         "Graduate",
         "Graduate",
         "Art",
         "12"
        ],
        [
         "32",
         "2015-16",
         "Fall",
         "Graduate",
         "Graduate",
         "Asian Studies",
         "13"
        ],
        [
         "33",
         "2015-16",
         "Fall",
         "Graduate",
         "Graduate",
         "Buddhist Studies",
         "9"
        ],
        [
         "34",
         "2015-16",
         "Fall",
         "Graduate",
         "Graduate",
         "Comparative Literature",
         "64"
        ],
        [
         "35",
         "2015-16",
         "Fall",
         "Graduate",
         "Graduate",
         "Chinese Language",
         "13"
        ],
        [
         "36",
         "2015-16",
         "Fall",
         "Graduate",
         "Graduate",
         "Japanese Language",
         "13"
        ],
        [
         "37",
         "2015-16",
         "Fall",
         "Graduate",
         "Graduate",
         "English",
         "108"
        ],
        [
         "38",
         "2015-16",
         "Fall",
         "Graduate",
         "Graduate",
         "Film and Media",
         "23"
        ],
        [
         "39",
         "2015-16",
         "Fall",
         "Graduate",
         "Graduate",
         "French",
         "30"
        ],
        [
         "40",
         "2015-16",
         "Fall",
         "Graduate",
         "Graduate",
         "German",
         "37"
        ],
        [
         "41",
         "2015-16",
         "Fall",
         "Graduate",
         "Graduate",
         "History of Art",
         "38"
        ],
        [
         "42",
         "2015-16",
         "Fall",
         "Graduate",
         "Graduate",
         "Italian Studies",
         "13"
        ],
        [
         "43",
         "2015-16",
         "Fall",
         "Graduate",
         "Graduate",
         "Jewish Studies",
         "7"
        ],
        [
         "44",
         "2015-16",
         "Fall",
         "Graduate",
         "Graduate",
         "Medieval Studies",
         "20"
        ],
        [
         "45",
         "2015-16",
         "Fall",
         "Graduate",
         "Graduate",
         "Near Eastern Studies",
         "26"
        ],
        [
         "46",
         "2015-16",
         "Fall",
         "Graduate",
         "Graduate",
         "Music",
         "50"
        ],
        [
         "47",
         "2015-16",
         "Fall",
         "Graduate",
         "Graduate",
         "Near Eastern Religions",
         "1"
        ],
        [
         "48",
         "2015-16",
         "Fall",
         "Graduate",
         "Graduate",
         "Performance Studies",
         "25"
        ],
        [
         "49",
         "2015-16",
         "Fall",
         "Graduate",
         "Graduate",
         "Philosophy",
         "39"
        ]
       ],
       "shape": {
        "columns": 6,
        "rows": 7151
       }
      },
      "text/html": [
       "<div>\n",
       "<style scoped>\n",
       "    .dataframe tbody tr th:only-of-type {\n",
       "        vertical-align: middle;\n",
       "    }\n",
       "\n",
       "    .dataframe tbody tr th {\n",
       "        vertical-align: top;\n",
       "    }\n",
       "\n",
       "    .dataframe thead th {\n",
       "        text-align: right;\n",
       "    }\n",
       "</style>\n",
       "<table border=\"1\" class=\"dataframe\">\n",
       "  <thead>\n",
       "    <tr style=\"text-align: right;\">\n",
       "      <th></th>\n",
       "      <th>Academic Yr</th>\n",
       "      <th>Semester</th>\n",
       "      <th>Ungrad Grad</th>\n",
       "      <th>Entry Status</th>\n",
       "      <th>Major</th>\n",
       "      <th>Student Headcount</th>\n",
       "    </tr>\n",
       "  </thead>\n",
       "  <tbody>\n",
       "    <tr>\n",
       "      <th>0</th>\n",
       "      <td>2015-16</td>\n",
       "      <td>Fall</td>\n",
       "      <td>Graduate</td>\n",
       "      <td>Graduate</td>\n",
       "      <td>Education</td>\n",
       "      <td>252</td>\n",
       "    </tr>\n",
       "    <tr>\n",
       "      <th>1</th>\n",
       "      <td>2015-16</td>\n",
       "      <td>Fall</td>\n",
       "      <td>Graduate</td>\n",
       "      <td>Graduate</td>\n",
       "      <td>Educational Leadership</td>\n",
       "      <td>28</td>\n",
       "    </tr>\n",
       "    <tr>\n",
       "      <th>2</th>\n",
       "      <td>2015-16</td>\n",
       "      <td>Fall</td>\n",
       "      <td>Graduate</td>\n",
       "      <td>Graduate</td>\n",
       "      <td>Special Education</td>\n",
       "      <td>19</td>\n",
       "    </tr>\n",
       "    <tr>\n",
       "      <th>3</th>\n",
       "      <td>2015-16</td>\n",
       "      <td>Fall</td>\n",
       "      <td>Graduate</td>\n",
       "      <td>Graduate</td>\n",
       "      <td>Teacher Education</td>\n",
       "      <td>38</td>\n",
       "    </tr>\n",
       "    <tr>\n",
       "      <th>4</th>\n",
       "      <td>2015-16</td>\n",
       "      <td>Fall</td>\n",
       "      <td>Graduate</td>\n",
       "      <td>Graduate</td>\n",
       "      <td>Science &amp; Math Education</td>\n",
       "      <td>13</td>\n",
       "    </tr>\n",
       "    <tr>\n",
       "      <th>...</th>\n",
       "      <td>...</td>\n",
       "      <td>...</td>\n",
       "      <td>...</td>\n",
       "      <td>...</td>\n",
       "      <td>...</td>\n",
       "      <td>...</td>\n",
       "    </tr>\n",
       "    <tr>\n",
       "      <th>7146</th>\n",
       "      <td>2024-25</td>\n",
       "      <td>Spring</td>\n",
       "      <td>Undergraduate</td>\n",
       "      <td>Transfer Entrant</td>\n",
       "      <td>Society and Environment</td>\n",
       "      <td>33</td>\n",
       "    </tr>\n",
       "    <tr>\n",
       "      <th>7147</th>\n",
       "      <td>2024-25</td>\n",
       "      <td>Spring</td>\n",
       "      <td>Undergraduate</td>\n",
       "      <td>Transfer Entrant</td>\n",
       "      <td>Nut Sci-Physio &amp; Metabol</td>\n",
       "      <td>7</td>\n",
       "    </tr>\n",
       "    <tr>\n",
       "      <th>7148</th>\n",
       "      <td>2024-25</td>\n",
       "      <td>Spring</td>\n",
       "      <td>Undergraduate</td>\n",
       "      <td>Transfer Entrant</td>\n",
       "      <td>Nutrition &amp; Metabolic Biology</td>\n",
       "      <td>3</td>\n",
       "    </tr>\n",
       "    <tr>\n",
       "      <th>7149</th>\n",
       "      <td>2024-25</td>\n",
       "      <td>Spring</td>\n",
       "      <td>Undergraduate</td>\n",
       "      <td>Transfer Entrant</td>\n",
       "      <td>Genetics &amp; Plant Biology</td>\n",
       "      <td>5</td>\n",
       "    </tr>\n",
       "    <tr>\n",
       "      <th>7150</th>\n",
       "      <td>2024-25</td>\n",
       "      <td>Spring</td>\n",
       "      <td>Undergraduate</td>\n",
       "      <td>Transfer Entrant</td>\n",
       "      <td>Microbial Biology</td>\n",
       "      <td>41</td>\n",
       "    </tr>\n",
       "  </tbody>\n",
       "</table>\n",
       "<p>7151 rows × 6 columns</p>\n",
       "</div>"
      ],
      "text/plain": [
       "     Academic Yr Semester    Ungrad Grad      Entry Status  \\\n",
       "0        2015-16     Fall       Graduate          Graduate   \n",
       "1        2015-16     Fall       Graduate          Graduate   \n",
       "2        2015-16     Fall       Graduate          Graduate   \n",
       "3        2015-16     Fall       Graduate          Graduate   \n",
       "4        2015-16     Fall       Graduate          Graduate   \n",
       "...          ...      ...            ...               ...   \n",
       "7146     2024-25   Spring  Undergraduate  Transfer Entrant   \n",
       "7147     2024-25   Spring  Undergraduate  Transfer Entrant   \n",
       "7148     2024-25   Spring  Undergraduate  Transfer Entrant   \n",
       "7149     2024-25   Spring  Undergraduate  Transfer Entrant   \n",
       "7150     2024-25   Spring  Undergraduate  Transfer Entrant   \n",
       "\n",
       "                              Major  Student Headcount  \n",
       "0                         Education                252  \n",
       "1            Educational Leadership                 28  \n",
       "2                 Special Education                 19  \n",
       "3                 Teacher Education                 38  \n",
       "4          Science & Math Education                 13  \n",
       "...                             ...                ...  \n",
       "7146        Society and Environment                 33  \n",
       "7147       Nut Sci-Physio & Metabol                  7  \n",
       "7148  Nutrition & Metabolic Biology                  3  \n",
       "7149       Genetics & Plant Biology                  5  \n",
       "7150              Microbial Biology                 41  \n",
       "\n",
       "[7151 rows x 6 columns]"
      ]
     },
     "execution_count": 27,
     "metadata": {},
     "output_type": "execute_result"
    }
   ],
   "source": [
    "# Examining the data\n",
    "university_majors"
   ]
  },
  {
   "cell_type": "markdown",
   "metadata": {},
   "source": [
    "The data is reported on a semester basis. We will aggregate data across different semesters in a year by taking average of Fall and Spring semester enrollment information."
   ]
  },
  {
   "cell_type": "code",
   "execution_count": 28,
   "metadata": {},
   "outputs": [
    {
     "data": {
      "application/vnd.microsoft.datawrangler.viewer.v0+json": {
       "columns": [
        {
         "name": "index",
         "rawType": "int64",
         "type": "integer"
        },
        {
         "name": "Academic Yr",
         "rawType": "object",
         "type": "string"
        },
        {
         "name": "Ungrad Grad",
         "rawType": "object",
         "type": "string"
        },
        {
         "name": "Entry Status",
         "rawType": "object",
         "type": "string"
        },
        {
         "name": "Major",
         "rawType": "object",
         "type": "string"
        },
        {
         "name": "Student Headcount",
         "rawType": "float64",
         "type": "float"
        }
       ],
       "ref": "f831c1d8-66a5-4251-9f32-a76edb834754",
       "rows": [
        [
         "0",
         "2015-16",
         "Graduate",
         "Graduate",
         "African American Studies",
         "25.5"
        ],
        [
         "1",
         "2015-16",
         "Graduate",
         "Graduate",
         "Ag & Resource Economics",
         "77.5"
        ],
        [
         "2",
         "2015-16",
         "Graduate",
         "Graduate",
         "Anc Hist & Medit Archae",
         "14.0"
        ],
        [
         "3",
         "2015-16",
         "Graduate",
         "Graduate",
         "Anthropology",
         "76.5"
        ],
        [
         "4",
         "2015-16",
         "Graduate",
         "Graduate",
         "Applied Mathematics",
         "19.0"
        ],
        [
         "5",
         "2015-16",
         "Graduate",
         "Graduate",
         "Applied Science & Tech",
         "44.0"
        ],
        [
         "6",
         "2015-16",
         "Graduate",
         "Graduate",
         "Architecture",
         "161.5"
        ],
        [
         "7",
         "2015-16",
         "Graduate",
         "Graduate",
         "Art",
         "12.0"
        ],
        [
         "8",
         "2015-16",
         "Graduate",
         "Graduate",
         "Asian Studies",
         "12.5"
        ],
        [
         "9",
         "2015-16",
         "Graduate",
         "Graduate",
         "Astrophysics",
         "27.5"
        ],
        [
         "10",
         "2015-16",
         "Graduate",
         "Graduate",
         "Berkeley MBA for Executives",
         "100.5"
        ],
        [
         "11",
         "2015-16",
         "Graduate",
         "Graduate",
         "Bioengineering",
         "103.0"
        ],
        [
         "12",
         "2015-16",
         "Graduate",
         "Graduate",
         "Bioengineering (UCSF)",
         "84.0"
        ],
        [
         "13",
         "2015-16",
         "Graduate",
         "Graduate",
         "Biophysics",
         "44.5"
        ],
        [
         "14",
         "2015-16",
         "Graduate",
         "Graduate",
         "Biostatistics",
         "42.5"
        ],
        [
         "15",
         "2015-16",
         "Graduate",
         "Graduate",
         "Buddhist Studies",
         "8.5"
        ],
        [
         "16",
         "2015-16",
         "Graduate",
         "Graduate",
         "Business Administration",
         "563.5"
        ],
        [
         "17",
         "2015-16",
         "Graduate",
         "Graduate",
         "Chemical Engineering",
         "140.5"
        ],
        [
         "18",
         "2015-16",
         "Graduate",
         "Graduate",
         "Chemistry",
         "371.0"
        ],
        [
         "19",
         "2015-16",
         "Graduate",
         "Graduate",
         "Chinese Language",
         "13.0"
        ],
        [
         "20",
         "2015-16",
         "Graduate",
         "Graduate",
         "City & Regional Planning",
         "143.0"
        ],
        [
         "21",
         "2015-16",
         "Graduate",
         "Graduate",
         "Civil & Environmental Eng",
         "351.5"
        ],
        [
         "22",
         "2015-16",
         "Graduate",
         "Graduate",
         "Classical Archaeology",
         "6.0"
        ],
        [
         "23",
         "2015-16",
         "Graduate",
         "Graduate",
         "Classics",
         "21.5"
        ],
        [
         "24",
         "2015-16",
         "Graduate",
         "Graduate",
         "Comparative Biochemistry",
         "19.0"
        ],
        [
         "25",
         "2015-16",
         "Graduate",
         "Graduate",
         "Comparative Literature",
         "60.0"
        ],
        [
         "26",
         "2015-16",
         "Graduate",
         "Graduate",
         "Computational Biology",
         "14.0"
        ],
        [
         "27",
         "2015-16",
         "Graduate",
         "Graduate",
         "Computer Science",
         "220.5"
        ],
        [
         "28",
         "2015-16",
         "Graduate",
         "Graduate",
         "Demography",
         "9.5"
        ],
        [
         "29",
         "2015-16",
         "Graduate",
         "Graduate",
         "Development Practice",
         "53.5"
        ],
        [
         "30",
         "2015-16",
         "Graduate",
         "Graduate",
         "Doctor of Science of Law (JSD)",
         "22.5"
        ],
        [
         "31",
         "2015-16",
         "Graduate",
         "Graduate",
         "Earth & Planetary Science",
         "65.0"
        ],
        [
         "32",
         "2015-16",
         "Graduate",
         "Graduate",
         "Economics",
         "127.5"
        ],
        [
         "33",
         "2015-16",
         "Graduate",
         "Graduate",
         "Education",
         "238.0"
        ],
        [
         "34",
         "2015-16",
         "Graduate",
         "Graduate",
         "Educational Leadership",
         "28.5"
        ],
        [
         "35",
         "2015-16",
         "Graduate",
         "Graduate",
         "Electrical Eng & Comp Sci",
         "332.0"
        ],
        [
         "36",
         "2015-16",
         "Graduate",
         "Graduate",
         "Endocrinology",
         "13.0"
        ],
        [
         "37",
         "2015-16",
         "Graduate",
         "Graduate",
         "Energy & Resources",
         "57.0"
        ],
        [
         "38",
         "2015-16",
         "Graduate",
         "Graduate",
         "English",
         "109.5"
        ],
        [
         "39",
         "2015-16",
         "Graduate",
         "Graduate",
         "Env Sci, Policy, & Mgmt",
         "141.5"
        ],
        [
         "40",
         "2015-16",
         "Graduate",
         "Graduate",
         "Environ Health Sciences",
         "38.0"
        ],
        [
         "41",
         "2015-16",
         "Graduate",
         "Graduate",
         "Epidemiology",
         "37.5"
        ],
        [
         "42",
         "2015-16",
         "Graduate",
         "Graduate",
         "Ethnic Studies",
         "40.0"
        ],
        [
         "43",
         "2015-16",
         "Graduate",
         "Graduate",
         "Evening & Weekend MBA",
         "732.0"
        ],
        [
         "44",
         "2015-16",
         "Graduate",
         "Graduate",
         "Film and Media",
         "23.0"
        ],
        [
         "45",
         "2015-16",
         "Graduate",
         "Graduate",
         "Financial Engineering",
         "68.5"
        ],
        [
         "46",
         "2015-16",
         "Graduate",
         "Graduate",
         "Folklore",
         "7.0"
        ],
        [
         "47",
         "2015-16",
         "Graduate",
         "Graduate",
         "Forestry",
         "6.5"
        ],
        [
         "48",
         "2015-16",
         "Graduate",
         "Graduate",
         "French",
         "28.0"
        ],
        [
         "49",
         "2015-16",
         "Graduate",
         "Graduate",
         "Geography",
         "39.5"
        ]
       ],
       "shape": {
        "columns": 5,
        "rows": 3670
       }
      },
      "text/html": [
       "<div>\n",
       "<style scoped>\n",
       "    .dataframe tbody tr th:only-of-type {\n",
       "        vertical-align: middle;\n",
       "    }\n",
       "\n",
       "    .dataframe tbody tr th {\n",
       "        vertical-align: top;\n",
       "    }\n",
       "\n",
       "    .dataframe thead th {\n",
       "        text-align: right;\n",
       "    }\n",
       "</style>\n",
       "<table border=\"1\" class=\"dataframe\">\n",
       "  <thead>\n",
       "    <tr style=\"text-align: right;\">\n",
       "      <th></th>\n",
       "      <th>Academic Yr</th>\n",
       "      <th>Ungrad Grad</th>\n",
       "      <th>Entry Status</th>\n",
       "      <th>Major</th>\n",
       "      <th>Student Headcount</th>\n",
       "    </tr>\n",
       "  </thead>\n",
       "  <tbody>\n",
       "    <tr>\n",
       "      <th>0</th>\n",
       "      <td>2015-16</td>\n",
       "      <td>Graduate</td>\n",
       "      <td>Graduate</td>\n",
       "      <td>African American Studies</td>\n",
       "      <td>25.5</td>\n",
       "    </tr>\n",
       "    <tr>\n",
       "      <th>1</th>\n",
       "      <td>2015-16</td>\n",
       "      <td>Graduate</td>\n",
       "      <td>Graduate</td>\n",
       "      <td>Ag &amp; Resource Economics</td>\n",
       "      <td>77.5</td>\n",
       "    </tr>\n",
       "    <tr>\n",
       "      <th>2</th>\n",
       "      <td>2015-16</td>\n",
       "      <td>Graduate</td>\n",
       "      <td>Graduate</td>\n",
       "      <td>Anc Hist &amp; Medit Archae</td>\n",
       "      <td>14.0</td>\n",
       "    </tr>\n",
       "    <tr>\n",
       "      <th>3</th>\n",
       "      <td>2015-16</td>\n",
       "      <td>Graduate</td>\n",
       "      <td>Graduate</td>\n",
       "      <td>Anthropology</td>\n",
       "      <td>76.5</td>\n",
       "    </tr>\n",
       "    <tr>\n",
       "      <th>4</th>\n",
       "      <td>2015-16</td>\n",
       "      <td>Graduate</td>\n",
       "      <td>Graduate</td>\n",
       "      <td>Applied Mathematics</td>\n",
       "      <td>19.0</td>\n",
       "    </tr>\n",
       "    <tr>\n",
       "      <th>...</th>\n",
       "      <td>...</td>\n",
       "      <td>...</td>\n",
       "      <td>...</td>\n",
       "      <td>...</td>\n",
       "      <td>...</td>\n",
       "    </tr>\n",
       "    <tr>\n",
       "      <th>3665</th>\n",
       "      <td>2024-25</td>\n",
       "      <td>Undergraduate</td>\n",
       "      <td>Transfer Entrant</td>\n",
       "      <td>Spanish and Portuguese</td>\n",
       "      <td>19.0</td>\n",
       "    </tr>\n",
       "    <tr>\n",
       "      <th>3666</th>\n",
       "      <td>2024-25</td>\n",
       "      <td>Undergraduate</td>\n",
       "      <td>Transfer Entrant</td>\n",
       "      <td>Statistics</td>\n",
       "      <td>138.0</td>\n",
       "    </tr>\n",
       "    <tr>\n",
       "      <th>3667</th>\n",
       "      <td>2024-25</td>\n",
       "      <td>Undergraduate</td>\n",
       "      <td>Transfer Entrant</td>\n",
       "      <td>Sustainable Environ Dsgn</td>\n",
       "      <td>2.0</td>\n",
       "    </tr>\n",
       "    <tr>\n",
       "      <th>3668</th>\n",
       "      <td>2024-25</td>\n",
       "      <td>Undergraduate</td>\n",
       "      <td>Transfer Entrant</td>\n",
       "      <td>Theater &amp; Perf Studies</td>\n",
       "      <td>53.0</td>\n",
       "    </tr>\n",
       "    <tr>\n",
       "      <th>3669</th>\n",
       "      <td>2024-25</td>\n",
       "      <td>Undergraduate</td>\n",
       "      <td>Transfer Entrant</td>\n",
       "      <td>Urban Studies</td>\n",
       "      <td>19.5</td>\n",
       "    </tr>\n",
       "  </tbody>\n",
       "</table>\n",
       "<p>3670 rows × 5 columns</p>\n",
       "</div>"
      ],
      "text/plain": [
       "     Academic Yr    Ungrad Grad      Entry Status                     Major  \\\n",
       "0        2015-16       Graduate          Graduate  African American Studies   \n",
       "1        2015-16       Graduate          Graduate   Ag & Resource Economics   \n",
       "2        2015-16       Graduate          Graduate   Anc Hist & Medit Archae   \n",
       "3        2015-16       Graduate          Graduate              Anthropology   \n",
       "4        2015-16       Graduate          Graduate       Applied Mathematics   \n",
       "...          ...            ...               ...                       ...   \n",
       "3665     2024-25  Undergraduate  Transfer Entrant    Spanish and Portuguese   \n",
       "3666     2024-25  Undergraduate  Transfer Entrant                Statistics   \n",
       "3667     2024-25  Undergraduate  Transfer Entrant  Sustainable Environ Dsgn   \n",
       "3668     2024-25  Undergraduate  Transfer Entrant    Theater & Perf Studies   \n",
       "3669     2024-25  Undergraduate  Transfer Entrant             Urban Studies   \n",
       "\n",
       "      Student Headcount  \n",
       "0                  25.5  \n",
       "1                  77.5  \n",
       "2                  14.0  \n",
       "3                  76.5  \n",
       "4                  19.0  \n",
       "...                 ...  \n",
       "3665               19.0  \n",
       "3666              138.0  \n",
       "3667                2.0  \n",
       "3668               53.0  \n",
       "3669               19.5  \n",
       "\n",
       "[3670 rows x 5 columns]"
      ]
     },
     "execution_count": 28,
     "metadata": {},
     "output_type": "execute_result"
    }
   ],
   "source": [
    "# Reporting student data based on academic year\n",
    "university_majors = (university_majors.groupby(\n",
    "    ['Academic Yr', 'Ungrad Grad', 'Entry Status', 'Major'], as_index = False)[[\"Student Headcount\"]]\n",
    "                     .mean()\n",
    "                    )\n",
    "\n",
    "university_majors"
   ]
  },
  {
   "cell_type": "markdown",
   "metadata": {},
   "source": [
    "## What is the historical distribution of graduate and undergraduate students at Berkeley? "
   ]
  },
  {
   "cell_type": "code",
   "execution_count": 29,
   "metadata": {},
   "outputs": [
    {
     "data": {
      "application/vnd.plotly.v1+json": {
       "config": {
        "plotlyServerURL": "https://plot.ly"
       },
       "data": [
        {
         "hovertemplate": "variable=Undergraduate<br>Academic Yr=%{x}<br>Number of Students=%{y}<extra></extra>",
         "legendgroup": "Undergraduate",
         "marker": {
          "color": "blue",
          "pattern": {
           "shape": ""
          }
         },
         "name": "Undergraduate",
         "orientation": "v",
         "showlegend": true,
         "textposition": "auto",
         "type": "bar",
         "x": [
          "2015-16",
          "2016-17",
          "2017-18",
          "2018-19",
          "2019-20",
          "2020-21",
          "2021-22",
          "2022-23",
          "2023-24",
          "2024-25"
         ],
         "xaxis": "x",
         "y": {
          "bdata": "AAAAAIAk3EAAAAAAAG3dQAAAAABA195AAAAAAOB230AAAAAAABDgQAAAAADgvt9AAAAAAACQ4EAAAAAAkNvgQAAAAABQOuFAAAAAADBi4UA=",
          "dtype": "f8"
         },
         "yaxis": "y"
        },
        {
         "hovertemplate": "variable=Graduate<br>Academic Yr=%{x}<br>Number of Students=%{y}<extra></extra>",
         "legendgroup": "Graduate",
         "marker": {
          "color": "orange",
          "pattern": {
           "shape": ""
          }
         },
         "name": "Graduate",
         "orientation": "v",
         "showlegend": true,
         "textposition": "auto",
         "type": "bar",
         "x": [
          "2015-16",
          "2016-17",
          "2017-18",
          "2018-19",
          "2019-20",
          "2020-21",
          "2021-22",
          "2022-23",
          "2023-24",
          "2024-25"
         ],
         "xaxis": "x",
         "y": {
          "bdata": "AAAAAIDcxEAAAAAAQE7FQAAAAAAAW8ZAAAAAAED8xkAAAAAAAEjHQAAAAACA1MZAAAAAAAACykAAAAAAAAHJQAAAAACArMhAAAAAAAAQyUA=",
          "dtype": "f8"
         },
         "yaxis": "y"
        }
       ],
       "layout": {
        "autosize": false,
        "barmode": "relative",
        "height": 600,
        "legend": {
         "title": {
          "text": "variable"
         },
         "tracegroupgap": 0
        },
        "template": {
         "data": {
          "bar": [
           {
            "error_x": {
             "color": "#2a3f5f"
            },
            "error_y": {
             "color": "#2a3f5f"
            },
            "marker": {
             "line": {
              "color": "#E5ECF6",
              "width": 0.5
             },
             "pattern": {
              "fillmode": "overlay",
              "size": 10,
              "solidity": 0.2
             }
            },
            "type": "bar"
           }
          ],
          "barpolar": [
           {
            "marker": {
             "line": {
              "color": "#E5ECF6",
              "width": 0.5
             },
             "pattern": {
              "fillmode": "overlay",
              "size": 10,
              "solidity": 0.2
             }
            },
            "type": "barpolar"
           }
          ],
          "carpet": [
           {
            "aaxis": {
             "endlinecolor": "#2a3f5f",
             "gridcolor": "white",
             "linecolor": "white",
             "minorgridcolor": "white",
             "startlinecolor": "#2a3f5f"
            },
            "baxis": {
             "endlinecolor": "#2a3f5f",
             "gridcolor": "white",
             "linecolor": "white",
             "minorgridcolor": "white",
             "startlinecolor": "#2a3f5f"
            },
            "type": "carpet"
           }
          ],
          "choropleth": [
           {
            "colorbar": {
             "outlinewidth": 0,
             "ticks": ""
            },
            "type": "choropleth"
           }
          ],
          "contour": [
           {
            "colorbar": {
             "outlinewidth": 0,
             "ticks": ""
            },
            "colorscale": [
             [
              0,
              "#0d0887"
             ],
             [
              0.1111111111111111,
              "#46039f"
             ],
             [
              0.2222222222222222,
              "#7201a8"
             ],
             [
              0.3333333333333333,
              "#9c179e"
             ],
             [
              0.4444444444444444,
              "#bd3786"
             ],
             [
              0.5555555555555556,
              "#d8576b"
             ],
             [
              0.6666666666666666,
              "#ed7953"
             ],
             [
              0.7777777777777778,
              "#fb9f3a"
             ],
             [
              0.8888888888888888,
              "#fdca26"
             ],
             [
              1,
              "#f0f921"
             ]
            ],
            "type": "contour"
           }
          ],
          "contourcarpet": [
           {
            "colorbar": {
             "outlinewidth": 0,
             "ticks": ""
            },
            "type": "contourcarpet"
           }
          ],
          "heatmap": [
           {
            "colorbar": {
             "outlinewidth": 0,
             "ticks": ""
            },
            "colorscale": [
             [
              0,
              "#0d0887"
             ],
             [
              0.1111111111111111,
              "#46039f"
             ],
             [
              0.2222222222222222,
              "#7201a8"
             ],
             [
              0.3333333333333333,
              "#9c179e"
             ],
             [
              0.4444444444444444,
              "#bd3786"
             ],
             [
              0.5555555555555556,
              "#d8576b"
             ],
             [
              0.6666666666666666,
              "#ed7953"
             ],
             [
              0.7777777777777778,
              "#fb9f3a"
             ],
             [
              0.8888888888888888,
              "#fdca26"
             ],
             [
              1,
              "#f0f921"
             ]
            ],
            "type": "heatmap"
           }
          ],
          "histogram": [
           {
            "marker": {
             "pattern": {
              "fillmode": "overlay",
              "size": 10,
              "solidity": 0.2
             }
            },
            "type": "histogram"
           }
          ],
          "histogram2d": [
           {
            "colorbar": {
             "outlinewidth": 0,
             "ticks": ""
            },
            "colorscale": [
             [
              0,
              "#0d0887"
             ],
             [
              0.1111111111111111,
              "#46039f"
             ],
             [
              0.2222222222222222,
              "#7201a8"
             ],
             [
              0.3333333333333333,
              "#9c179e"
             ],
             [
              0.4444444444444444,
              "#bd3786"
             ],
             [
              0.5555555555555556,
              "#d8576b"
             ],
             [
              0.6666666666666666,
              "#ed7953"
             ],
             [
              0.7777777777777778,
              "#fb9f3a"
             ],
             [
              0.8888888888888888,
              "#fdca26"
             ],
             [
              1,
              "#f0f921"
             ]
            ],
            "type": "histogram2d"
           }
          ],
          "histogram2dcontour": [
           {
            "colorbar": {
             "outlinewidth": 0,
             "ticks": ""
            },
            "colorscale": [
             [
              0,
              "#0d0887"
             ],
             [
              0.1111111111111111,
              "#46039f"
             ],
             [
              0.2222222222222222,
              "#7201a8"
             ],
             [
              0.3333333333333333,
              "#9c179e"
             ],
             [
              0.4444444444444444,
              "#bd3786"
             ],
             [
              0.5555555555555556,
              "#d8576b"
             ],
             [
              0.6666666666666666,
              "#ed7953"
             ],
             [
              0.7777777777777778,
              "#fb9f3a"
             ],
             [
              0.8888888888888888,
              "#fdca26"
             ],
             [
              1,
              "#f0f921"
             ]
            ],
            "type": "histogram2dcontour"
           }
          ],
          "mesh3d": [
           {
            "colorbar": {
             "outlinewidth": 0,
             "ticks": ""
            },
            "type": "mesh3d"
           }
          ],
          "parcoords": [
           {
            "line": {
             "colorbar": {
              "outlinewidth": 0,
              "ticks": ""
             }
            },
            "type": "parcoords"
           }
          ],
          "pie": [
           {
            "automargin": true,
            "type": "pie"
           }
          ],
          "scatter": [
           {
            "fillpattern": {
             "fillmode": "overlay",
             "size": 10,
             "solidity": 0.2
            },
            "type": "scatter"
           }
          ],
          "scatter3d": [
           {
            "line": {
             "colorbar": {
              "outlinewidth": 0,
              "ticks": ""
             }
            },
            "marker": {
             "colorbar": {
              "outlinewidth": 0,
              "ticks": ""
             }
            },
            "type": "scatter3d"
           }
          ],
          "scattercarpet": [
           {
            "marker": {
             "colorbar": {
              "outlinewidth": 0,
              "ticks": ""
             }
            },
            "type": "scattercarpet"
           }
          ],
          "scattergeo": [
           {
            "marker": {
             "colorbar": {
              "outlinewidth": 0,
              "ticks": ""
             }
            },
            "type": "scattergeo"
           }
          ],
          "scattergl": [
           {
            "marker": {
             "colorbar": {
              "outlinewidth": 0,
              "ticks": ""
             }
            },
            "type": "scattergl"
           }
          ],
          "scattermap": [
           {
            "marker": {
             "colorbar": {
              "outlinewidth": 0,
              "ticks": ""
             }
            },
            "type": "scattermap"
           }
          ],
          "scattermapbox": [
           {
            "marker": {
             "colorbar": {
              "outlinewidth": 0,
              "ticks": ""
             }
            },
            "type": "scattermapbox"
           }
          ],
          "scatterpolar": [
           {
            "marker": {
             "colorbar": {
              "outlinewidth": 0,
              "ticks": ""
             }
            },
            "type": "scatterpolar"
           }
          ],
          "scatterpolargl": [
           {
            "marker": {
             "colorbar": {
              "outlinewidth": 0,
              "ticks": ""
             }
            },
            "type": "scatterpolargl"
           }
          ],
          "scatterternary": [
           {
            "marker": {
             "colorbar": {
              "outlinewidth": 0,
              "ticks": ""
             }
            },
            "type": "scatterternary"
           }
          ],
          "surface": [
           {
            "colorbar": {
             "outlinewidth": 0,
             "ticks": ""
            },
            "colorscale": [
             [
              0,
              "#0d0887"
             ],
             [
              0.1111111111111111,
              "#46039f"
             ],
             [
              0.2222222222222222,
              "#7201a8"
             ],
             [
              0.3333333333333333,
              "#9c179e"
             ],
             [
              0.4444444444444444,
              "#bd3786"
             ],
             [
              0.5555555555555556,
              "#d8576b"
             ],
             [
              0.6666666666666666,
              "#ed7953"
             ],
             [
              0.7777777777777778,
              "#fb9f3a"
             ],
             [
              0.8888888888888888,
              "#fdca26"
             ],
             [
              1,
              "#f0f921"
             ]
            ],
            "type": "surface"
           }
          ],
          "table": [
           {
            "cells": {
             "fill": {
              "color": "#EBF0F8"
             },
             "line": {
              "color": "white"
             }
            },
            "header": {
             "fill": {
              "color": "#C8D4E3"
             },
             "line": {
              "color": "white"
             }
            },
            "type": "table"
           }
          ]
         },
         "layout": {
          "annotationdefaults": {
           "arrowcolor": "#2a3f5f",
           "arrowhead": 0,
           "arrowwidth": 1
          },
          "autotypenumbers": "strict",
          "coloraxis": {
           "colorbar": {
            "outlinewidth": 0,
            "ticks": ""
           }
          },
          "colorscale": {
           "diverging": [
            [
             0,
             "#8e0152"
            ],
            [
             0.1,
             "#c51b7d"
            ],
            [
             0.2,
             "#de77ae"
            ],
            [
             0.3,
             "#f1b6da"
            ],
            [
             0.4,
             "#fde0ef"
            ],
            [
             0.5,
             "#f7f7f7"
            ],
            [
             0.6,
             "#e6f5d0"
            ],
            [
             0.7,
             "#b8e186"
            ],
            [
             0.8,
             "#7fbc41"
            ],
            [
             0.9,
             "#4d9221"
            ],
            [
             1,
             "#276419"
            ]
           ],
           "sequential": [
            [
             0,
             "#0d0887"
            ],
            [
             0.1111111111111111,
             "#46039f"
            ],
            [
             0.2222222222222222,
             "#7201a8"
            ],
            [
             0.3333333333333333,
             "#9c179e"
            ],
            [
             0.4444444444444444,
             "#bd3786"
            ],
            [
             0.5555555555555556,
             "#d8576b"
            ],
            [
             0.6666666666666666,
             "#ed7953"
            ],
            [
             0.7777777777777778,
             "#fb9f3a"
            ],
            [
             0.8888888888888888,
             "#fdca26"
            ],
            [
             1,
             "#f0f921"
            ]
           ],
           "sequentialminus": [
            [
             0,
             "#0d0887"
            ],
            [
             0.1111111111111111,
             "#46039f"
            ],
            [
             0.2222222222222222,
             "#7201a8"
            ],
            [
             0.3333333333333333,
             "#9c179e"
            ],
            [
             0.4444444444444444,
             "#bd3786"
            ],
            [
             0.5555555555555556,
             "#d8576b"
            ],
            [
             0.6666666666666666,
             "#ed7953"
            ],
            [
             0.7777777777777778,
             "#fb9f3a"
            ],
            [
             0.8888888888888888,
             "#fdca26"
            ],
            [
             1,
             "#f0f921"
            ]
           ]
          },
          "colorway": [
           "#636efa",
           "#EF553B",
           "#00cc96",
           "#ab63fa",
           "#FFA15A",
           "#19d3f3",
           "#FF6692",
           "#B6E880",
           "#FF97FF",
           "#FECB52"
          ],
          "font": {
           "color": "#2a3f5f"
          },
          "geo": {
           "bgcolor": "white",
           "lakecolor": "white",
           "landcolor": "#E5ECF6",
           "showlakes": true,
           "showland": true,
           "subunitcolor": "white"
          },
          "hoverlabel": {
           "align": "left"
          },
          "hovermode": "closest",
          "mapbox": {
           "style": "light"
          },
          "paper_bgcolor": "white",
          "plot_bgcolor": "#E5ECF6",
          "polar": {
           "angularaxis": {
            "gridcolor": "white",
            "linecolor": "white",
            "ticks": ""
           },
           "bgcolor": "#E5ECF6",
           "radialaxis": {
            "gridcolor": "white",
            "linecolor": "white",
            "ticks": ""
           }
          },
          "scene": {
           "xaxis": {
            "backgroundcolor": "#E5ECF6",
            "gridcolor": "white",
            "gridwidth": 2,
            "linecolor": "white",
            "showbackground": true,
            "ticks": "",
            "zerolinecolor": "white"
           },
           "yaxis": {
            "backgroundcolor": "#E5ECF6",
            "gridcolor": "white",
            "gridwidth": 2,
            "linecolor": "white",
            "showbackground": true,
            "ticks": "",
            "zerolinecolor": "white"
           },
           "zaxis": {
            "backgroundcolor": "#E5ECF6",
            "gridcolor": "white",
            "gridwidth": 2,
            "linecolor": "white",
            "showbackground": true,
            "ticks": "",
            "zerolinecolor": "white"
           }
          },
          "shapedefaults": {
           "line": {
            "color": "#2a3f5f"
           }
          },
          "ternary": {
           "aaxis": {
            "gridcolor": "white",
            "linecolor": "white",
            "ticks": ""
           },
           "baxis": {
            "gridcolor": "white",
            "linecolor": "white",
            "ticks": ""
           },
           "bgcolor": "#E5ECF6",
           "caxis": {
            "gridcolor": "white",
            "linecolor": "white",
            "ticks": ""
           }
          },
          "title": {
           "x": 0.05
          },
          "xaxis": {
           "automargin": true,
           "gridcolor": "white",
           "linecolor": "white",
           "ticks": "",
           "title": {
            "standoff": 15
           },
           "zerolinecolor": "white",
           "zerolinewidth": 2
          },
          "yaxis": {
           "automargin": true,
           "gridcolor": "white",
           "linecolor": "white",
           "ticks": "",
           "title": {
            "standoff": 15
           },
           "zerolinecolor": "white",
           "zerolinewidth": 2
          }
         }
        },
        "title": {
         "text": "Number of Grad vs. Undergrad Students"
        },
        "width": 800,
        "xaxis": {
         "anchor": "y",
         "domain": [
          0,
          1
         ],
         "title": {
          "text": "Academic Yr"
         }
        },
        "yaxis": {
         "anchor": "x",
         "domain": [
          0,
          1
         ],
         "title": {
          "text": "Number of Students"
         }
        }
       }
      },
      "text/html": [
       "<div>            <script src=\"https://cdnjs.cloudflare.com/ajax/libs/mathjax/2.7.5/MathJax.js?config=TeX-AMS-MML_SVG\"></script><script type=\"text/javascript\">if (window.MathJax && window.MathJax.Hub && window.MathJax.Hub.Config) {window.MathJax.Hub.Config({SVG: {font: \"STIX-Web\"}});}</script>                <script type=\"text/javascript\">window.PlotlyConfig = {MathJaxConfig: 'local'};</script>\n",
       "        <script charset=\"utf-8\" src=\"https://cdn.plot.ly/plotly-3.0.1.min.js\"></script>                <div id=\"a7193353-ecf2-4994-ad99-2049f49c69ab\" class=\"plotly-graph-div\" style=\"height:600px; width:800px;\"></div>            <script type=\"text/javascript\">                window.PLOTLYENV=window.PLOTLYENV || {};                                if (document.getElementById(\"a7193353-ecf2-4994-ad99-2049f49c69ab\")) {                    Plotly.newPlot(                        \"a7193353-ecf2-4994-ad99-2049f49c69ab\",                        [{\"hovertemplate\":\"variable=Undergraduate\\u003cbr\\u003eAcademic Yr=%{x}\\u003cbr\\u003eNumber of Students=%{y}\\u003cextra\\u003e\\u003c\\u002fextra\\u003e\",\"legendgroup\":\"Undergraduate\",\"marker\":{\"color\":\"blue\",\"pattern\":{\"shape\":\"\"}},\"name\":\"Undergraduate\",\"orientation\":\"v\",\"showlegend\":true,\"textposition\":\"auto\",\"x\":[\"2015-16\",\"2016-17\",\"2017-18\",\"2018-19\",\"2019-20\",\"2020-21\",\"2021-22\",\"2022-23\",\"2023-24\",\"2024-25\"],\"xaxis\":\"x\",\"y\":{\"dtype\":\"f8\",\"bdata\":\"AAAAAIAk3EAAAAAAAG3dQAAAAABA195AAAAAAOB230AAAAAAABDgQAAAAADgvt9AAAAAAACQ4EAAAAAAkNvgQAAAAABQOuFAAAAAADBi4UA=\"},\"yaxis\":\"y\",\"type\":\"bar\"},{\"hovertemplate\":\"variable=Graduate\\u003cbr\\u003eAcademic Yr=%{x}\\u003cbr\\u003eNumber of Students=%{y}\\u003cextra\\u003e\\u003c\\u002fextra\\u003e\",\"legendgroup\":\"Graduate\",\"marker\":{\"color\":\"orange\",\"pattern\":{\"shape\":\"\"}},\"name\":\"Graduate\",\"orientation\":\"v\",\"showlegend\":true,\"textposition\":\"auto\",\"x\":[\"2015-16\",\"2016-17\",\"2017-18\",\"2018-19\",\"2019-20\",\"2020-21\",\"2021-22\",\"2022-23\",\"2023-24\",\"2024-25\"],\"xaxis\":\"x\",\"y\":{\"dtype\":\"f8\",\"bdata\":\"AAAAAIDcxEAAAAAAQE7FQAAAAAAAW8ZAAAAAAED8xkAAAAAAAEjHQAAAAACA1MZAAAAAAAACykAAAAAAAAHJQAAAAACArMhAAAAAAAAQyUA=\"},\"yaxis\":\"y\",\"type\":\"bar\"}],                        {\"template\":{\"data\":{\"histogram2dcontour\":[{\"type\":\"histogram2dcontour\",\"colorbar\":{\"outlinewidth\":0,\"ticks\":\"\"},\"colorscale\":[[0.0,\"#0d0887\"],[0.1111111111111111,\"#46039f\"],[0.2222222222222222,\"#7201a8\"],[0.3333333333333333,\"#9c179e\"],[0.4444444444444444,\"#bd3786\"],[0.5555555555555556,\"#d8576b\"],[0.6666666666666666,\"#ed7953\"],[0.7777777777777778,\"#fb9f3a\"],[0.8888888888888888,\"#fdca26\"],[1.0,\"#f0f921\"]]}],\"choropleth\":[{\"type\":\"choropleth\",\"colorbar\":{\"outlinewidth\":0,\"ticks\":\"\"}}],\"histogram2d\":[{\"type\":\"histogram2d\",\"colorbar\":{\"outlinewidth\":0,\"ticks\":\"\"},\"colorscale\":[[0.0,\"#0d0887\"],[0.1111111111111111,\"#46039f\"],[0.2222222222222222,\"#7201a8\"],[0.3333333333333333,\"#9c179e\"],[0.4444444444444444,\"#bd3786\"],[0.5555555555555556,\"#d8576b\"],[0.6666666666666666,\"#ed7953\"],[0.7777777777777778,\"#fb9f3a\"],[0.8888888888888888,\"#fdca26\"],[1.0,\"#f0f921\"]]}],\"heatmap\":[{\"type\":\"heatmap\",\"colorbar\":{\"outlinewidth\":0,\"ticks\":\"\"},\"colorscale\":[[0.0,\"#0d0887\"],[0.1111111111111111,\"#46039f\"],[0.2222222222222222,\"#7201a8\"],[0.3333333333333333,\"#9c179e\"],[0.4444444444444444,\"#bd3786\"],[0.5555555555555556,\"#d8576b\"],[0.6666666666666666,\"#ed7953\"],[0.7777777777777778,\"#fb9f3a\"],[0.8888888888888888,\"#fdca26\"],[1.0,\"#f0f921\"]]}],\"contourcarpet\":[{\"type\":\"contourcarpet\",\"colorbar\":{\"outlinewidth\":0,\"ticks\":\"\"}}],\"contour\":[{\"type\":\"contour\",\"colorbar\":{\"outlinewidth\":0,\"ticks\":\"\"},\"colorscale\":[[0.0,\"#0d0887\"],[0.1111111111111111,\"#46039f\"],[0.2222222222222222,\"#7201a8\"],[0.3333333333333333,\"#9c179e\"],[0.4444444444444444,\"#bd3786\"],[0.5555555555555556,\"#d8576b\"],[0.6666666666666666,\"#ed7953\"],[0.7777777777777778,\"#fb9f3a\"],[0.8888888888888888,\"#fdca26\"],[1.0,\"#f0f921\"]]}],\"surface\":[{\"type\":\"surface\",\"colorbar\":{\"outlinewidth\":0,\"ticks\":\"\"},\"colorscale\":[[0.0,\"#0d0887\"],[0.1111111111111111,\"#46039f\"],[0.2222222222222222,\"#7201a8\"],[0.3333333333333333,\"#9c179e\"],[0.4444444444444444,\"#bd3786\"],[0.5555555555555556,\"#d8576b\"],[0.6666666666666666,\"#ed7953\"],[0.7777777777777778,\"#fb9f3a\"],[0.8888888888888888,\"#fdca26\"],[1.0,\"#f0f921\"]]}],\"mesh3d\":[{\"type\":\"mesh3d\",\"colorbar\":{\"outlinewidth\":0,\"ticks\":\"\"}}],\"scatter\":[{\"fillpattern\":{\"fillmode\":\"overlay\",\"size\":10,\"solidity\":0.2},\"type\":\"scatter\"}],\"parcoords\":[{\"type\":\"parcoords\",\"line\":{\"colorbar\":{\"outlinewidth\":0,\"ticks\":\"\"}}}],\"scatterpolargl\":[{\"type\":\"scatterpolargl\",\"marker\":{\"colorbar\":{\"outlinewidth\":0,\"ticks\":\"\"}}}],\"bar\":[{\"error_x\":{\"color\":\"#2a3f5f\"},\"error_y\":{\"color\":\"#2a3f5f\"},\"marker\":{\"line\":{\"color\":\"#E5ECF6\",\"width\":0.5},\"pattern\":{\"fillmode\":\"overlay\",\"size\":10,\"solidity\":0.2}},\"type\":\"bar\"}],\"scattergeo\":[{\"type\":\"scattergeo\",\"marker\":{\"colorbar\":{\"outlinewidth\":0,\"ticks\":\"\"}}}],\"scatterpolar\":[{\"type\":\"scatterpolar\",\"marker\":{\"colorbar\":{\"outlinewidth\":0,\"ticks\":\"\"}}}],\"histogram\":[{\"marker\":{\"pattern\":{\"fillmode\":\"overlay\",\"size\":10,\"solidity\":0.2}},\"type\":\"histogram\"}],\"scattergl\":[{\"type\":\"scattergl\",\"marker\":{\"colorbar\":{\"outlinewidth\":0,\"ticks\":\"\"}}}],\"scatter3d\":[{\"type\":\"scatter3d\",\"line\":{\"colorbar\":{\"outlinewidth\":0,\"ticks\":\"\"}},\"marker\":{\"colorbar\":{\"outlinewidth\":0,\"ticks\":\"\"}}}],\"scattermap\":[{\"type\":\"scattermap\",\"marker\":{\"colorbar\":{\"outlinewidth\":0,\"ticks\":\"\"}}}],\"scattermapbox\":[{\"type\":\"scattermapbox\",\"marker\":{\"colorbar\":{\"outlinewidth\":0,\"ticks\":\"\"}}}],\"scatterternary\":[{\"type\":\"scatterternary\",\"marker\":{\"colorbar\":{\"outlinewidth\":0,\"ticks\":\"\"}}}],\"scattercarpet\":[{\"type\":\"scattercarpet\",\"marker\":{\"colorbar\":{\"outlinewidth\":0,\"ticks\":\"\"}}}],\"carpet\":[{\"aaxis\":{\"endlinecolor\":\"#2a3f5f\",\"gridcolor\":\"white\",\"linecolor\":\"white\",\"minorgridcolor\":\"white\",\"startlinecolor\":\"#2a3f5f\"},\"baxis\":{\"endlinecolor\":\"#2a3f5f\",\"gridcolor\":\"white\",\"linecolor\":\"white\",\"minorgridcolor\":\"white\",\"startlinecolor\":\"#2a3f5f\"},\"type\":\"carpet\"}],\"table\":[{\"cells\":{\"fill\":{\"color\":\"#EBF0F8\"},\"line\":{\"color\":\"white\"}},\"header\":{\"fill\":{\"color\":\"#C8D4E3\"},\"line\":{\"color\":\"white\"}},\"type\":\"table\"}],\"barpolar\":[{\"marker\":{\"line\":{\"color\":\"#E5ECF6\",\"width\":0.5},\"pattern\":{\"fillmode\":\"overlay\",\"size\":10,\"solidity\":0.2}},\"type\":\"barpolar\"}],\"pie\":[{\"automargin\":true,\"type\":\"pie\"}]},\"layout\":{\"autotypenumbers\":\"strict\",\"colorway\":[\"#636efa\",\"#EF553B\",\"#00cc96\",\"#ab63fa\",\"#FFA15A\",\"#19d3f3\",\"#FF6692\",\"#B6E880\",\"#FF97FF\",\"#FECB52\"],\"font\":{\"color\":\"#2a3f5f\"},\"hovermode\":\"closest\",\"hoverlabel\":{\"align\":\"left\"},\"paper_bgcolor\":\"white\",\"plot_bgcolor\":\"#E5ECF6\",\"polar\":{\"bgcolor\":\"#E5ECF6\",\"angularaxis\":{\"gridcolor\":\"white\",\"linecolor\":\"white\",\"ticks\":\"\"},\"radialaxis\":{\"gridcolor\":\"white\",\"linecolor\":\"white\",\"ticks\":\"\"}},\"ternary\":{\"bgcolor\":\"#E5ECF6\",\"aaxis\":{\"gridcolor\":\"white\",\"linecolor\":\"white\",\"ticks\":\"\"},\"baxis\":{\"gridcolor\":\"white\",\"linecolor\":\"white\",\"ticks\":\"\"},\"caxis\":{\"gridcolor\":\"white\",\"linecolor\":\"white\",\"ticks\":\"\"}},\"coloraxis\":{\"colorbar\":{\"outlinewidth\":0,\"ticks\":\"\"}},\"colorscale\":{\"sequential\":[[0.0,\"#0d0887\"],[0.1111111111111111,\"#46039f\"],[0.2222222222222222,\"#7201a8\"],[0.3333333333333333,\"#9c179e\"],[0.4444444444444444,\"#bd3786\"],[0.5555555555555556,\"#d8576b\"],[0.6666666666666666,\"#ed7953\"],[0.7777777777777778,\"#fb9f3a\"],[0.8888888888888888,\"#fdca26\"],[1.0,\"#f0f921\"]],\"sequentialminus\":[[0.0,\"#0d0887\"],[0.1111111111111111,\"#46039f\"],[0.2222222222222222,\"#7201a8\"],[0.3333333333333333,\"#9c179e\"],[0.4444444444444444,\"#bd3786\"],[0.5555555555555556,\"#d8576b\"],[0.6666666666666666,\"#ed7953\"],[0.7777777777777778,\"#fb9f3a\"],[0.8888888888888888,\"#fdca26\"],[1.0,\"#f0f921\"]],\"diverging\":[[0,\"#8e0152\"],[0.1,\"#c51b7d\"],[0.2,\"#de77ae\"],[0.3,\"#f1b6da\"],[0.4,\"#fde0ef\"],[0.5,\"#f7f7f7\"],[0.6,\"#e6f5d0\"],[0.7,\"#b8e186\"],[0.8,\"#7fbc41\"],[0.9,\"#4d9221\"],[1,\"#276419\"]]},\"xaxis\":{\"gridcolor\":\"white\",\"linecolor\":\"white\",\"ticks\":\"\",\"title\":{\"standoff\":15},\"zerolinecolor\":\"white\",\"automargin\":true,\"zerolinewidth\":2},\"yaxis\":{\"gridcolor\":\"white\",\"linecolor\":\"white\",\"ticks\":\"\",\"title\":{\"standoff\":15},\"zerolinecolor\":\"white\",\"automargin\":true,\"zerolinewidth\":2},\"scene\":{\"xaxis\":{\"backgroundcolor\":\"#E5ECF6\",\"gridcolor\":\"white\",\"linecolor\":\"white\",\"showbackground\":true,\"ticks\":\"\",\"zerolinecolor\":\"white\",\"gridwidth\":2},\"yaxis\":{\"backgroundcolor\":\"#E5ECF6\",\"gridcolor\":\"white\",\"linecolor\":\"white\",\"showbackground\":true,\"ticks\":\"\",\"zerolinecolor\":\"white\",\"gridwidth\":2},\"zaxis\":{\"backgroundcolor\":\"#E5ECF6\",\"gridcolor\":\"white\",\"linecolor\":\"white\",\"showbackground\":true,\"ticks\":\"\",\"zerolinecolor\":\"white\",\"gridwidth\":2}},\"shapedefaults\":{\"line\":{\"color\":\"#2a3f5f\"}},\"annotationdefaults\":{\"arrowcolor\":\"#2a3f5f\",\"arrowhead\":0,\"arrowwidth\":1},\"geo\":{\"bgcolor\":\"white\",\"landcolor\":\"#E5ECF6\",\"subunitcolor\":\"white\",\"showland\":true,\"showlakes\":true,\"lakecolor\":\"white\"},\"title\":{\"x\":0.05},\"mapbox\":{\"style\":\"light\"}}},\"xaxis\":{\"anchor\":\"y\",\"domain\":[0.0,1.0],\"title\":{\"text\":\"Academic Yr\"}},\"yaxis\":{\"anchor\":\"x\",\"domain\":[0.0,1.0],\"title\":{\"text\":\"Number of Students\"}},\"legend\":{\"title\":{\"text\":\"variable\"},\"tracegroupgap\":0},\"title\":{\"text\":\"Number of Grad vs. Undergrad Students\"},\"barmode\":\"relative\",\"autosize\":false,\"width\":800,\"height\":600},                        {\"responsive\": true}                    ).then(function(){\n",
       "                            \n",
       "var gd = document.getElementById('a7193353-ecf2-4994-ad99-2049f49c69ab');\n",
       "var x = new MutationObserver(function (mutations, observer) {{\n",
       "        var display = window.getComputedStyle(gd).display;\n",
       "        if (!display || display === 'none') {{\n",
       "            console.log([gd, 'removed!']);\n",
       "            Plotly.purge(gd);\n",
       "            observer.disconnect();\n",
       "        }}\n",
       "}});\n",
       "\n",
       "// Listen for the removal of the full notebook cells\n",
       "var notebookContainer = gd.closest('#notebook-container');\n",
       "if (notebookContainer) {{\n",
       "    x.observe(notebookContainer, {childList: true});\n",
       "}}\n",
       "\n",
       "// Listen for the clearing of the current output cell\n",
       "var outputEl = gd.closest('.output');\n",
       "if (outputEl) {{\n",
       "    x.observe(outputEl, {childList: true});\n",
       "}}\n",
       "\n",
       "                        })                };            </script>        </div>"
      ]
     },
     "metadata": {},
     "output_type": "display_data"
    }
   ],
   "source": [
    "university_grad_vs_ungrd = (university_majors.groupby(\n",
    "    ['Academic Yr', 'Ungrad Grad'], as_index = False)[[\"Student Headcount\"]]\n",
    "                            .sum()\n",
    "                           )\n",
    "\n",
    "proportions = university_grad_vs_ungrd.pivot(index='Academic Yr', columns='Ungrad Grad', values='Student Headcount')\n",
    "proportions['Total'] = proportions['Undergraduate'] + proportions['Graduate']\n",
    "proportions['Undergrad Proportion'] = proportions['Undergraduate'] / proportions['Total']\n",
    "proportions['Grad Proportion'] = proportions['Graduate'] / proportions['Total']\n",
    "\n",
    "\n",
    "fig = px.bar(proportions.reset_index(), \n",
    "             x='Academic Yr', \n",
    "             y=['Undergraduate', 'Graduate'],\n",
    "             title='Number of Grad vs. Undergrad Students',\n",
    "             labels={'value': 'Number of Students'},\n",
    "             color_discrete_map={'Undergraduate': 'blue', 'Graduate': 'orange'})\n",
    "\n",
    "fig.update_layout(barmode='relative', autosize=False, width=800, height=600)\n",
    "fig.show()\n"
   ]
  },
  {
   "cell_type": "markdown",
   "metadata": {},
   "source": [
    "# 4.1. Ratio between graduate and undergraduate students in Data 100, and its comparison with campus distribution"
   ]
  },
  {
   "cell_type": "code",
   "execution_count": 30,
   "metadata": {},
   "outputs": [
    {
     "name": "stdout",
     "output_type": "stream",
     "text": [
      "Number of graduate students in Data 100:  52\n",
      "Number of undergraduate students in Data 100:  1223\n"
     ]
    }
   ],
   "source": [
    "data100_grad = majors['Ungrad Grad'].loc[majors['Ungrad Grad'] == 'Graduate'].count()\n",
    "\n",
    "data100_undergrad = majors['Ungrad Grad'].loc[majors['Ungrad Grad'] == 'Undergraduate'].count()\n",
    "\n",
    "print(\"Number of graduate students in Data 100: \", data100_grad)\n",
    "print(\"Number of undergraduate students in Data 100: \", data100_undergrad)"
   ]
  },
  {
   "cell_type": "code",
   "execution_count": 31,
   "metadata": {},
   "outputs": [
    {
     "data": {
      "application/vnd.plotly.v1+json": {
       "config": {
        "plotlyServerURL": "https://plot.ly"
       },
       "data": [
        {
         "hovertemplate": "variable=Undergrad Proportion<br>Academic Yr=%{x}<br>Proportion=%{y}<extra></extra>",
         "legendgroup": "Undergrad Proportion",
         "marker": {
          "color": "blue",
          "pattern": {
           "shape": ""
          }
         },
         "name": "Undergrad Proportion",
         "orientation": "v",
         "showlegend": true,
         "textposition": "auto",
         "type": "bar",
         "x": [
          "2015-16",
          "2016-17",
          "2017-18",
          "2018-19",
          "2019-20",
          "2020-21",
          "2021-22",
          "2022-23",
          "2023-24",
          "2024-25",
          "Data 100"
         ],
         "xaxis": "x",
         "y": {
          "bdata": "s1+2H8lY5z81QpRQlH7nP5W7yLLFfOc/5ZeXUFJw5z/9UrT7Hn3nP3cSWIZliec/YO6MO6X65j+sFIlUCFjnP37kVXEqkOc/G8SMUJuF5z+yfksY5bHuPw==",
          "dtype": "f8"
         },
         "yaxis": "y"
        },
        {
         "hovertemplate": "variable=Grad Proportion<br>Academic Yr=%{x}<br>Proportion=%{y}<extra></extra>",
         "legendgroup": "Grad Proportion",
         "marker": {
          "color": "orange",
          "pattern": {
           "shape": ""
          }
         },
         "name": "Grad Proportion",
         "orientation": "v",
         "showlegend": true,
         "textposition": "auto",
         "type": "bar",
         "x": [
          "2015-16",
          "2016-17",
          "2017-18",
          "2018-19",
          "2019-20",
          "2020-21",
          "2021-22",
          "2022-23",
          "2023-24",
          "2024-25",
          "Data 100"
         ],
         "xaxis": "x",
         "y": {
          "bdata": "mUCTwG1O0T+We9de1wLRP9WIbpp0BtE/NdDQXlsf0T8GWpcIwgXRPxHbT/M07dA/QCPmiLUK0j+o1u1W70/RPwU3VB2r39A/ynfmXsn00D/iFEh7ruGkPw==",
          "dtype": "f8"
         },
         "yaxis": "y"
        }
       ],
       "layout": {
        "autosize": false,
        "barmode": "relative",
        "height": 600,
        "legend": {
         "title": {
          "text": "variable"
         },
         "tracegroupgap": 0
        },
        "template": {
         "data": {
          "bar": [
           {
            "error_x": {
             "color": "#2a3f5f"
            },
            "error_y": {
             "color": "#2a3f5f"
            },
            "marker": {
             "line": {
              "color": "#E5ECF6",
              "width": 0.5
             },
             "pattern": {
              "fillmode": "overlay",
              "size": 10,
              "solidity": 0.2
             }
            },
            "type": "bar"
           }
          ],
          "barpolar": [
           {
            "marker": {
             "line": {
              "color": "#E5ECF6",
              "width": 0.5
             },
             "pattern": {
              "fillmode": "overlay",
              "size": 10,
              "solidity": 0.2
             }
            },
            "type": "barpolar"
           }
          ],
          "carpet": [
           {
            "aaxis": {
             "endlinecolor": "#2a3f5f",
             "gridcolor": "white",
             "linecolor": "white",
             "minorgridcolor": "white",
             "startlinecolor": "#2a3f5f"
            },
            "baxis": {
             "endlinecolor": "#2a3f5f",
             "gridcolor": "white",
             "linecolor": "white",
             "minorgridcolor": "white",
             "startlinecolor": "#2a3f5f"
            },
            "type": "carpet"
           }
          ],
          "choropleth": [
           {
            "colorbar": {
             "outlinewidth": 0,
             "ticks": ""
            },
            "type": "choropleth"
           }
          ],
          "contour": [
           {
            "colorbar": {
             "outlinewidth": 0,
             "ticks": ""
            },
            "colorscale": [
             [
              0,
              "#0d0887"
             ],
             [
              0.1111111111111111,
              "#46039f"
             ],
             [
              0.2222222222222222,
              "#7201a8"
             ],
             [
              0.3333333333333333,
              "#9c179e"
             ],
             [
              0.4444444444444444,
              "#bd3786"
             ],
             [
              0.5555555555555556,
              "#d8576b"
             ],
             [
              0.6666666666666666,
              "#ed7953"
             ],
             [
              0.7777777777777778,
              "#fb9f3a"
             ],
             [
              0.8888888888888888,
              "#fdca26"
             ],
             [
              1,
              "#f0f921"
             ]
            ],
            "type": "contour"
           }
          ],
          "contourcarpet": [
           {
            "colorbar": {
             "outlinewidth": 0,
             "ticks": ""
            },
            "type": "contourcarpet"
           }
          ],
          "heatmap": [
           {
            "colorbar": {
             "outlinewidth": 0,
             "ticks": ""
            },
            "colorscale": [
             [
              0,
              "#0d0887"
             ],
             [
              0.1111111111111111,
              "#46039f"
             ],
             [
              0.2222222222222222,
              "#7201a8"
             ],
             [
              0.3333333333333333,
              "#9c179e"
             ],
             [
              0.4444444444444444,
              "#bd3786"
             ],
             [
              0.5555555555555556,
              "#d8576b"
             ],
             [
              0.6666666666666666,
              "#ed7953"
             ],
             [
              0.7777777777777778,
              "#fb9f3a"
             ],
             [
              0.8888888888888888,
              "#fdca26"
             ],
             [
              1,
              "#f0f921"
             ]
            ],
            "type": "heatmap"
           }
          ],
          "histogram": [
           {
            "marker": {
             "pattern": {
              "fillmode": "overlay",
              "size": 10,
              "solidity": 0.2
             }
            },
            "type": "histogram"
           }
          ],
          "histogram2d": [
           {
            "colorbar": {
             "outlinewidth": 0,
             "ticks": ""
            },
            "colorscale": [
             [
              0,
              "#0d0887"
             ],
             [
              0.1111111111111111,
              "#46039f"
             ],
             [
              0.2222222222222222,
              "#7201a8"
             ],
             [
              0.3333333333333333,
              "#9c179e"
             ],
             [
              0.4444444444444444,
              "#bd3786"
             ],
             [
              0.5555555555555556,
              "#d8576b"
             ],
             [
              0.6666666666666666,
              "#ed7953"
             ],
             [
              0.7777777777777778,
              "#fb9f3a"
             ],
             [
              0.8888888888888888,
              "#fdca26"
             ],
             [
              1,
              "#f0f921"
             ]
            ],
            "type": "histogram2d"
           }
          ],
          "histogram2dcontour": [
           {
            "colorbar": {
             "outlinewidth": 0,
             "ticks": ""
            },
            "colorscale": [
             [
              0,
              "#0d0887"
             ],
             [
              0.1111111111111111,
              "#46039f"
             ],
             [
              0.2222222222222222,
              "#7201a8"
             ],
             [
              0.3333333333333333,
              "#9c179e"
             ],
             [
              0.4444444444444444,
              "#bd3786"
             ],
             [
              0.5555555555555556,
              "#d8576b"
             ],
             [
              0.6666666666666666,
              "#ed7953"
             ],
             [
              0.7777777777777778,
              "#fb9f3a"
             ],
             [
              0.8888888888888888,
              "#fdca26"
             ],
             [
              1,
              "#f0f921"
             ]
            ],
            "type": "histogram2dcontour"
           }
          ],
          "mesh3d": [
           {
            "colorbar": {
             "outlinewidth": 0,
             "ticks": ""
            },
            "type": "mesh3d"
           }
          ],
          "parcoords": [
           {
            "line": {
             "colorbar": {
              "outlinewidth": 0,
              "ticks": ""
             }
            },
            "type": "parcoords"
           }
          ],
          "pie": [
           {
            "automargin": true,
            "type": "pie"
           }
          ],
          "scatter": [
           {
            "fillpattern": {
             "fillmode": "overlay",
             "size": 10,
             "solidity": 0.2
            },
            "type": "scatter"
           }
          ],
          "scatter3d": [
           {
            "line": {
             "colorbar": {
              "outlinewidth": 0,
              "ticks": ""
             }
            },
            "marker": {
             "colorbar": {
              "outlinewidth": 0,
              "ticks": ""
             }
            },
            "type": "scatter3d"
           }
          ],
          "scattercarpet": [
           {
            "marker": {
             "colorbar": {
              "outlinewidth": 0,
              "ticks": ""
             }
            },
            "type": "scattercarpet"
           }
          ],
          "scattergeo": [
           {
            "marker": {
             "colorbar": {
              "outlinewidth": 0,
              "ticks": ""
             }
            },
            "type": "scattergeo"
           }
          ],
          "scattergl": [
           {
            "marker": {
             "colorbar": {
              "outlinewidth": 0,
              "ticks": ""
             }
            },
            "type": "scattergl"
           }
          ],
          "scattermap": [
           {
            "marker": {
             "colorbar": {
              "outlinewidth": 0,
              "ticks": ""
             }
            },
            "type": "scattermap"
           }
          ],
          "scattermapbox": [
           {
            "marker": {
             "colorbar": {
              "outlinewidth": 0,
              "ticks": ""
             }
            },
            "type": "scattermapbox"
           }
          ],
          "scatterpolar": [
           {
            "marker": {
             "colorbar": {
              "outlinewidth": 0,
              "ticks": ""
             }
            },
            "type": "scatterpolar"
           }
          ],
          "scatterpolargl": [
           {
            "marker": {
             "colorbar": {
              "outlinewidth": 0,
              "ticks": ""
             }
            },
            "type": "scatterpolargl"
           }
          ],
          "scatterternary": [
           {
            "marker": {
             "colorbar": {
              "outlinewidth": 0,
              "ticks": ""
             }
            },
            "type": "scatterternary"
           }
          ],
          "surface": [
           {
            "colorbar": {
             "outlinewidth": 0,
             "ticks": ""
            },
            "colorscale": [
             [
              0,
              "#0d0887"
             ],
             [
              0.1111111111111111,
              "#46039f"
             ],
             [
              0.2222222222222222,
              "#7201a8"
             ],
             [
              0.3333333333333333,
              "#9c179e"
             ],
             [
              0.4444444444444444,
              "#bd3786"
             ],
             [
              0.5555555555555556,
              "#d8576b"
             ],
             [
              0.6666666666666666,
              "#ed7953"
             ],
             [
              0.7777777777777778,
              "#fb9f3a"
             ],
             [
              0.8888888888888888,
              "#fdca26"
             ],
             [
              1,
              "#f0f921"
             ]
            ],
            "type": "surface"
           }
          ],
          "table": [
           {
            "cells": {
             "fill": {
              "color": "#EBF0F8"
             },
             "line": {
              "color": "white"
             }
            },
            "header": {
             "fill": {
              "color": "#C8D4E3"
             },
             "line": {
              "color": "white"
             }
            },
            "type": "table"
           }
          ]
         },
         "layout": {
          "annotationdefaults": {
           "arrowcolor": "#2a3f5f",
           "arrowhead": 0,
           "arrowwidth": 1
          },
          "autotypenumbers": "strict",
          "coloraxis": {
           "colorbar": {
            "outlinewidth": 0,
            "ticks": ""
           }
          },
          "colorscale": {
           "diverging": [
            [
             0,
             "#8e0152"
            ],
            [
             0.1,
             "#c51b7d"
            ],
            [
             0.2,
             "#de77ae"
            ],
            [
             0.3,
             "#f1b6da"
            ],
            [
             0.4,
             "#fde0ef"
            ],
            [
             0.5,
             "#f7f7f7"
            ],
            [
             0.6,
             "#e6f5d0"
            ],
            [
             0.7,
             "#b8e186"
            ],
            [
             0.8,
             "#7fbc41"
            ],
            [
             0.9,
             "#4d9221"
            ],
            [
             1,
             "#276419"
            ]
           ],
           "sequential": [
            [
             0,
             "#0d0887"
            ],
            [
             0.1111111111111111,
             "#46039f"
            ],
            [
             0.2222222222222222,
             "#7201a8"
            ],
            [
             0.3333333333333333,
             "#9c179e"
            ],
            [
             0.4444444444444444,
             "#bd3786"
            ],
            [
             0.5555555555555556,
             "#d8576b"
            ],
            [
             0.6666666666666666,
             "#ed7953"
            ],
            [
             0.7777777777777778,
             "#fb9f3a"
            ],
            [
             0.8888888888888888,
             "#fdca26"
            ],
            [
             1,
             "#f0f921"
            ]
           ],
           "sequentialminus": [
            [
             0,
             "#0d0887"
            ],
            [
             0.1111111111111111,
             "#46039f"
            ],
            [
             0.2222222222222222,
             "#7201a8"
            ],
            [
             0.3333333333333333,
             "#9c179e"
            ],
            [
             0.4444444444444444,
             "#bd3786"
            ],
            [
             0.5555555555555556,
             "#d8576b"
            ],
            [
             0.6666666666666666,
             "#ed7953"
            ],
            [
             0.7777777777777778,
             "#fb9f3a"
            ],
            [
             0.8888888888888888,
             "#fdca26"
            ],
            [
             1,
             "#f0f921"
            ]
           ]
          },
          "colorway": [
           "#636efa",
           "#EF553B",
           "#00cc96",
           "#ab63fa",
           "#FFA15A",
           "#19d3f3",
           "#FF6692",
           "#B6E880",
           "#FF97FF",
           "#FECB52"
          ],
          "font": {
           "color": "#2a3f5f"
          },
          "geo": {
           "bgcolor": "white",
           "lakecolor": "white",
           "landcolor": "#E5ECF6",
           "showlakes": true,
           "showland": true,
           "subunitcolor": "white"
          },
          "hoverlabel": {
           "align": "left"
          },
          "hovermode": "closest",
          "mapbox": {
           "style": "light"
          },
          "paper_bgcolor": "white",
          "plot_bgcolor": "#E5ECF6",
          "polar": {
           "angularaxis": {
            "gridcolor": "white",
            "linecolor": "white",
            "ticks": ""
           },
           "bgcolor": "#E5ECF6",
           "radialaxis": {
            "gridcolor": "white",
            "linecolor": "white",
            "ticks": ""
           }
          },
          "scene": {
           "xaxis": {
            "backgroundcolor": "#E5ECF6",
            "gridcolor": "white",
            "gridwidth": 2,
            "linecolor": "white",
            "showbackground": true,
            "ticks": "",
            "zerolinecolor": "white"
           },
           "yaxis": {
            "backgroundcolor": "#E5ECF6",
            "gridcolor": "white",
            "gridwidth": 2,
            "linecolor": "white",
            "showbackground": true,
            "ticks": "",
            "zerolinecolor": "white"
           },
           "zaxis": {
            "backgroundcolor": "#E5ECF6",
            "gridcolor": "white",
            "gridwidth": 2,
            "linecolor": "white",
            "showbackground": true,
            "ticks": "",
            "zerolinecolor": "white"
           }
          },
          "shapedefaults": {
           "line": {
            "color": "#2a3f5f"
           }
          },
          "ternary": {
           "aaxis": {
            "gridcolor": "white",
            "linecolor": "white",
            "ticks": ""
           },
           "baxis": {
            "gridcolor": "white",
            "linecolor": "white",
            "ticks": ""
           },
           "bgcolor": "#E5ECF6",
           "caxis": {
            "gridcolor": "white",
            "linecolor": "white",
            "ticks": ""
           }
          },
          "title": {
           "x": 0.05
          },
          "xaxis": {
           "automargin": true,
           "gridcolor": "white",
           "linecolor": "white",
           "ticks": "",
           "title": {
            "standoff": 15
           },
           "zerolinecolor": "white",
           "zerolinewidth": 2
          },
          "yaxis": {
           "automargin": true,
           "gridcolor": "white",
           "linecolor": "white",
           "ticks": "",
           "title": {
            "standoff": 15
           },
           "zerolinecolor": "white",
           "zerolinewidth": 2
          }
         }
        },
        "title": {
         "text": "Proportions of Grad vs. Undergrad Students"
        },
        "width": 800,
        "xaxis": {
         "anchor": "y",
         "domain": [
          0,
          1
         ],
         "title": {
          "text": "Academic Yr"
         }
        },
        "yaxis": {
         "anchor": "x",
         "domain": [
          0,
          1
         ],
         "title": {
          "text": "Proportion"
         }
        }
       }
      },
      "text/html": [
       "<div>            <script src=\"https://cdnjs.cloudflare.com/ajax/libs/mathjax/2.7.5/MathJax.js?config=TeX-AMS-MML_SVG\"></script><script type=\"text/javascript\">if (window.MathJax && window.MathJax.Hub && window.MathJax.Hub.Config) {window.MathJax.Hub.Config({SVG: {font: \"STIX-Web\"}});}</script>                <script type=\"text/javascript\">window.PlotlyConfig = {MathJaxConfig: 'local'};</script>\n",
       "        <script charset=\"utf-8\" src=\"https://cdn.plot.ly/plotly-3.0.1.min.js\"></script>                <div id=\"24abff66-0c37-4356-8a90-9d9ff22f1cc7\" class=\"plotly-graph-div\" style=\"height:600px; width:800px;\"></div>            <script type=\"text/javascript\">                window.PLOTLYENV=window.PLOTLYENV || {};                                if (document.getElementById(\"24abff66-0c37-4356-8a90-9d9ff22f1cc7\")) {                    Plotly.newPlot(                        \"24abff66-0c37-4356-8a90-9d9ff22f1cc7\",                        [{\"hovertemplate\":\"variable=Undergrad Proportion\\u003cbr\\u003eAcademic Yr=%{x}\\u003cbr\\u003eProportion=%{y}\\u003cextra\\u003e\\u003c\\u002fextra\\u003e\",\"legendgroup\":\"Undergrad Proportion\",\"marker\":{\"color\":\"blue\",\"pattern\":{\"shape\":\"\"}},\"name\":\"Undergrad Proportion\",\"orientation\":\"v\",\"showlegend\":true,\"textposition\":\"auto\",\"x\":[\"2015-16\",\"2016-17\",\"2017-18\",\"2018-19\",\"2019-20\",\"2020-21\",\"2021-22\",\"2022-23\",\"2023-24\",\"2024-25\",\"Data 100\"],\"xaxis\":\"x\",\"y\":{\"dtype\":\"f8\",\"bdata\":\"s1+2H8lY5z81QpRQlH7nP5W7yLLFfOc\\u002f5ZeXUFJw5z\\u002f9UrT7Hn3nP3cSWIZliec\\u002fYO6MO6X65j+sFIlUCFjnP37kVXEqkOc\\u002fG8SMUJuF5z+yfksY5bHuPw==\"},\"yaxis\":\"y\",\"type\":\"bar\"},{\"hovertemplate\":\"variable=Grad Proportion\\u003cbr\\u003eAcademic Yr=%{x}\\u003cbr\\u003eProportion=%{y}\\u003cextra\\u003e\\u003c\\u002fextra\\u003e\",\"legendgroup\":\"Grad Proportion\",\"marker\":{\"color\":\"orange\",\"pattern\":{\"shape\":\"\"}},\"name\":\"Grad Proportion\",\"orientation\":\"v\",\"showlegend\":true,\"textposition\":\"auto\",\"x\":[\"2015-16\",\"2016-17\",\"2017-18\",\"2018-19\",\"2019-20\",\"2020-21\",\"2021-22\",\"2022-23\",\"2023-24\",\"2024-25\",\"Data 100\"],\"xaxis\":\"x\",\"y\":{\"dtype\":\"f8\",\"bdata\":\"mUCTwG1O0T+We9de1wLRP9WIbpp0BtE\\u002fNdDQXlsf0T8GWpcIwgXRPxHbT\\u002fM07dA\\u002fQCPmiLUK0j+o1u1W70\\u002fRPwU3VB2r39A\\u002fynfmXsn00D\\u002fiFEh7ruGkPw==\"},\"yaxis\":\"y\",\"type\":\"bar\"}],                        {\"template\":{\"data\":{\"histogram2dcontour\":[{\"type\":\"histogram2dcontour\",\"colorbar\":{\"outlinewidth\":0,\"ticks\":\"\"},\"colorscale\":[[0.0,\"#0d0887\"],[0.1111111111111111,\"#46039f\"],[0.2222222222222222,\"#7201a8\"],[0.3333333333333333,\"#9c179e\"],[0.4444444444444444,\"#bd3786\"],[0.5555555555555556,\"#d8576b\"],[0.6666666666666666,\"#ed7953\"],[0.7777777777777778,\"#fb9f3a\"],[0.8888888888888888,\"#fdca26\"],[1.0,\"#f0f921\"]]}],\"choropleth\":[{\"type\":\"choropleth\",\"colorbar\":{\"outlinewidth\":0,\"ticks\":\"\"}}],\"histogram2d\":[{\"type\":\"histogram2d\",\"colorbar\":{\"outlinewidth\":0,\"ticks\":\"\"},\"colorscale\":[[0.0,\"#0d0887\"],[0.1111111111111111,\"#46039f\"],[0.2222222222222222,\"#7201a8\"],[0.3333333333333333,\"#9c179e\"],[0.4444444444444444,\"#bd3786\"],[0.5555555555555556,\"#d8576b\"],[0.6666666666666666,\"#ed7953\"],[0.7777777777777778,\"#fb9f3a\"],[0.8888888888888888,\"#fdca26\"],[1.0,\"#f0f921\"]]}],\"heatmap\":[{\"type\":\"heatmap\",\"colorbar\":{\"outlinewidth\":0,\"ticks\":\"\"},\"colorscale\":[[0.0,\"#0d0887\"],[0.1111111111111111,\"#46039f\"],[0.2222222222222222,\"#7201a8\"],[0.3333333333333333,\"#9c179e\"],[0.4444444444444444,\"#bd3786\"],[0.5555555555555556,\"#d8576b\"],[0.6666666666666666,\"#ed7953\"],[0.7777777777777778,\"#fb9f3a\"],[0.8888888888888888,\"#fdca26\"],[1.0,\"#f0f921\"]]}],\"contourcarpet\":[{\"type\":\"contourcarpet\",\"colorbar\":{\"outlinewidth\":0,\"ticks\":\"\"}}],\"contour\":[{\"type\":\"contour\",\"colorbar\":{\"outlinewidth\":0,\"ticks\":\"\"},\"colorscale\":[[0.0,\"#0d0887\"],[0.1111111111111111,\"#46039f\"],[0.2222222222222222,\"#7201a8\"],[0.3333333333333333,\"#9c179e\"],[0.4444444444444444,\"#bd3786\"],[0.5555555555555556,\"#d8576b\"],[0.6666666666666666,\"#ed7953\"],[0.7777777777777778,\"#fb9f3a\"],[0.8888888888888888,\"#fdca26\"],[1.0,\"#f0f921\"]]}],\"surface\":[{\"type\":\"surface\",\"colorbar\":{\"outlinewidth\":0,\"ticks\":\"\"},\"colorscale\":[[0.0,\"#0d0887\"],[0.1111111111111111,\"#46039f\"],[0.2222222222222222,\"#7201a8\"],[0.3333333333333333,\"#9c179e\"],[0.4444444444444444,\"#bd3786\"],[0.5555555555555556,\"#d8576b\"],[0.6666666666666666,\"#ed7953\"],[0.7777777777777778,\"#fb9f3a\"],[0.8888888888888888,\"#fdca26\"],[1.0,\"#f0f921\"]]}],\"mesh3d\":[{\"type\":\"mesh3d\",\"colorbar\":{\"outlinewidth\":0,\"ticks\":\"\"}}],\"scatter\":[{\"fillpattern\":{\"fillmode\":\"overlay\",\"size\":10,\"solidity\":0.2},\"type\":\"scatter\"}],\"parcoords\":[{\"type\":\"parcoords\",\"line\":{\"colorbar\":{\"outlinewidth\":0,\"ticks\":\"\"}}}],\"scatterpolargl\":[{\"type\":\"scatterpolargl\",\"marker\":{\"colorbar\":{\"outlinewidth\":0,\"ticks\":\"\"}}}],\"bar\":[{\"error_x\":{\"color\":\"#2a3f5f\"},\"error_y\":{\"color\":\"#2a3f5f\"},\"marker\":{\"line\":{\"color\":\"#E5ECF6\",\"width\":0.5},\"pattern\":{\"fillmode\":\"overlay\",\"size\":10,\"solidity\":0.2}},\"type\":\"bar\"}],\"scattergeo\":[{\"type\":\"scattergeo\",\"marker\":{\"colorbar\":{\"outlinewidth\":0,\"ticks\":\"\"}}}],\"scatterpolar\":[{\"type\":\"scatterpolar\",\"marker\":{\"colorbar\":{\"outlinewidth\":0,\"ticks\":\"\"}}}],\"histogram\":[{\"marker\":{\"pattern\":{\"fillmode\":\"overlay\",\"size\":10,\"solidity\":0.2}},\"type\":\"histogram\"}],\"scattergl\":[{\"type\":\"scattergl\",\"marker\":{\"colorbar\":{\"outlinewidth\":0,\"ticks\":\"\"}}}],\"scatter3d\":[{\"type\":\"scatter3d\",\"line\":{\"colorbar\":{\"outlinewidth\":0,\"ticks\":\"\"}},\"marker\":{\"colorbar\":{\"outlinewidth\":0,\"ticks\":\"\"}}}],\"scattermap\":[{\"type\":\"scattermap\",\"marker\":{\"colorbar\":{\"outlinewidth\":0,\"ticks\":\"\"}}}],\"scattermapbox\":[{\"type\":\"scattermapbox\",\"marker\":{\"colorbar\":{\"outlinewidth\":0,\"ticks\":\"\"}}}],\"scatterternary\":[{\"type\":\"scatterternary\",\"marker\":{\"colorbar\":{\"outlinewidth\":0,\"ticks\":\"\"}}}],\"scattercarpet\":[{\"type\":\"scattercarpet\",\"marker\":{\"colorbar\":{\"outlinewidth\":0,\"ticks\":\"\"}}}],\"carpet\":[{\"aaxis\":{\"endlinecolor\":\"#2a3f5f\",\"gridcolor\":\"white\",\"linecolor\":\"white\",\"minorgridcolor\":\"white\",\"startlinecolor\":\"#2a3f5f\"},\"baxis\":{\"endlinecolor\":\"#2a3f5f\",\"gridcolor\":\"white\",\"linecolor\":\"white\",\"minorgridcolor\":\"white\",\"startlinecolor\":\"#2a3f5f\"},\"type\":\"carpet\"}],\"table\":[{\"cells\":{\"fill\":{\"color\":\"#EBF0F8\"},\"line\":{\"color\":\"white\"}},\"header\":{\"fill\":{\"color\":\"#C8D4E3\"},\"line\":{\"color\":\"white\"}},\"type\":\"table\"}],\"barpolar\":[{\"marker\":{\"line\":{\"color\":\"#E5ECF6\",\"width\":0.5},\"pattern\":{\"fillmode\":\"overlay\",\"size\":10,\"solidity\":0.2}},\"type\":\"barpolar\"}],\"pie\":[{\"automargin\":true,\"type\":\"pie\"}]},\"layout\":{\"autotypenumbers\":\"strict\",\"colorway\":[\"#636efa\",\"#EF553B\",\"#00cc96\",\"#ab63fa\",\"#FFA15A\",\"#19d3f3\",\"#FF6692\",\"#B6E880\",\"#FF97FF\",\"#FECB52\"],\"font\":{\"color\":\"#2a3f5f\"},\"hovermode\":\"closest\",\"hoverlabel\":{\"align\":\"left\"},\"paper_bgcolor\":\"white\",\"plot_bgcolor\":\"#E5ECF6\",\"polar\":{\"bgcolor\":\"#E5ECF6\",\"angularaxis\":{\"gridcolor\":\"white\",\"linecolor\":\"white\",\"ticks\":\"\"},\"radialaxis\":{\"gridcolor\":\"white\",\"linecolor\":\"white\",\"ticks\":\"\"}},\"ternary\":{\"bgcolor\":\"#E5ECF6\",\"aaxis\":{\"gridcolor\":\"white\",\"linecolor\":\"white\",\"ticks\":\"\"},\"baxis\":{\"gridcolor\":\"white\",\"linecolor\":\"white\",\"ticks\":\"\"},\"caxis\":{\"gridcolor\":\"white\",\"linecolor\":\"white\",\"ticks\":\"\"}},\"coloraxis\":{\"colorbar\":{\"outlinewidth\":0,\"ticks\":\"\"}},\"colorscale\":{\"sequential\":[[0.0,\"#0d0887\"],[0.1111111111111111,\"#46039f\"],[0.2222222222222222,\"#7201a8\"],[0.3333333333333333,\"#9c179e\"],[0.4444444444444444,\"#bd3786\"],[0.5555555555555556,\"#d8576b\"],[0.6666666666666666,\"#ed7953\"],[0.7777777777777778,\"#fb9f3a\"],[0.8888888888888888,\"#fdca26\"],[1.0,\"#f0f921\"]],\"sequentialminus\":[[0.0,\"#0d0887\"],[0.1111111111111111,\"#46039f\"],[0.2222222222222222,\"#7201a8\"],[0.3333333333333333,\"#9c179e\"],[0.4444444444444444,\"#bd3786\"],[0.5555555555555556,\"#d8576b\"],[0.6666666666666666,\"#ed7953\"],[0.7777777777777778,\"#fb9f3a\"],[0.8888888888888888,\"#fdca26\"],[1.0,\"#f0f921\"]],\"diverging\":[[0,\"#8e0152\"],[0.1,\"#c51b7d\"],[0.2,\"#de77ae\"],[0.3,\"#f1b6da\"],[0.4,\"#fde0ef\"],[0.5,\"#f7f7f7\"],[0.6,\"#e6f5d0\"],[0.7,\"#b8e186\"],[0.8,\"#7fbc41\"],[0.9,\"#4d9221\"],[1,\"#276419\"]]},\"xaxis\":{\"gridcolor\":\"white\",\"linecolor\":\"white\",\"ticks\":\"\",\"title\":{\"standoff\":15},\"zerolinecolor\":\"white\",\"automargin\":true,\"zerolinewidth\":2},\"yaxis\":{\"gridcolor\":\"white\",\"linecolor\":\"white\",\"ticks\":\"\",\"title\":{\"standoff\":15},\"zerolinecolor\":\"white\",\"automargin\":true,\"zerolinewidth\":2},\"scene\":{\"xaxis\":{\"backgroundcolor\":\"#E5ECF6\",\"gridcolor\":\"white\",\"linecolor\":\"white\",\"showbackground\":true,\"ticks\":\"\",\"zerolinecolor\":\"white\",\"gridwidth\":2},\"yaxis\":{\"backgroundcolor\":\"#E5ECF6\",\"gridcolor\":\"white\",\"linecolor\":\"white\",\"showbackground\":true,\"ticks\":\"\",\"zerolinecolor\":\"white\",\"gridwidth\":2},\"zaxis\":{\"backgroundcolor\":\"#E5ECF6\",\"gridcolor\":\"white\",\"linecolor\":\"white\",\"showbackground\":true,\"ticks\":\"\",\"zerolinecolor\":\"white\",\"gridwidth\":2}},\"shapedefaults\":{\"line\":{\"color\":\"#2a3f5f\"}},\"annotationdefaults\":{\"arrowcolor\":\"#2a3f5f\",\"arrowhead\":0,\"arrowwidth\":1},\"geo\":{\"bgcolor\":\"white\",\"landcolor\":\"#E5ECF6\",\"subunitcolor\":\"white\",\"showland\":true,\"showlakes\":true,\"lakecolor\":\"white\"},\"title\":{\"x\":0.05},\"mapbox\":{\"style\":\"light\"}}},\"xaxis\":{\"anchor\":\"y\",\"domain\":[0.0,1.0],\"title\":{\"text\":\"Academic Yr\"}},\"yaxis\":{\"anchor\":\"x\",\"domain\":[0.0,1.0],\"title\":{\"text\":\"Proportion\"}},\"legend\":{\"title\":{\"text\":\"variable\"},\"tracegroupgap\":0},\"title\":{\"text\":\"Proportions of Grad vs. Undergrad Students\"},\"barmode\":\"relative\",\"autosize\":false,\"width\":800,\"height\":600},                        {\"responsive\": true}                    ).then(function(){\n",
       "                            \n",
       "var gd = document.getElementById('24abff66-0c37-4356-8a90-9d9ff22f1cc7');\n",
       "var x = new MutationObserver(function (mutations, observer) {{\n",
       "        var display = window.getComputedStyle(gd).display;\n",
       "        if (!display || display === 'none') {{\n",
       "            console.log([gd, 'removed!']);\n",
       "            Plotly.purge(gd);\n",
       "            observer.disconnect();\n",
       "        }}\n",
       "}});\n",
       "\n",
       "// Listen for the removal of the full notebook cells\n",
       "var notebookContainer = gd.closest('#notebook-container');\n",
       "if (notebookContainer) {{\n",
       "    x.observe(notebookContainer, {childList: true});\n",
       "}}\n",
       "\n",
       "// Listen for the clearing of the current output cell\n",
       "var outputEl = gd.closest('.output');\n",
       "if (outputEl) {{\n",
       "    x.observe(outputEl, {childList: true});\n",
       "}}\n",
       "\n",
       "                        })                };            </script>        </div>"
      ]
     },
     "metadata": {},
     "output_type": "display_data"
    }
   ],
   "source": [
    "data100_row = {'Graduate':[data100_grad], \n",
    "               'Undergraduate':[data100_undergrad], \n",
    "               'Total':[data100_grad + data100_undergrad], \n",
    "               'Undergrad Proportion':[data100_undergrad / (data100_grad + data100_undergrad)],\n",
    "               'Grad Proportion':[data100_grad / (data100_grad + data100_undergrad)], \n",
    "               }\n",
    "\n",
    "new_row_df = pd.DataFrame(data100_row)\n",
    "\n",
    "proportions.loc['Data 100'] = new_row_df.iloc[0]\n",
    "\n",
    "\n",
    "fig = px.bar(proportions.reset_index(), \n",
    "             x='Academic Yr', \n",
    "             y=['Undergrad Proportion', 'Grad Proportion'],\n",
    "             title='Proportions of Grad vs. Undergrad Students',\n",
    "             labels={'value': 'Proportion'},\n",
    "             color_discrete_map={'Undergrad Proportion': 'blue', 'Grad Proportion': 'orange'})\n",
    "\n",
    "\n",
    "fig.update_layout(barmode='relative', autosize=False, width=800, height=600)\n",
    "fig.show()"
   ]
  },
  {
   "cell_type": "markdown",
   "metadata": {},
   "source": [
    "# 4.2. Proportion of different majors in Data 100, and their historical emrollment trends"
   ]
  },
  {
   "cell_type": "code",
   "execution_count": 32,
   "metadata": {},
   "outputs": [
    {
     "name": "stdout",
     "output_type": "stream",
     "text": [
      "Top 20 majors at Berkeley in 2022-23\n"
     ]
    },
    {
     "data": {
      "application/vnd.microsoft.datawrangler.viewer.v0+json": {
       "columns": [
        {
         "name": "index",
         "rawType": "int64",
         "type": "integer"
        },
        {
         "name": "Academic Yr",
         "rawType": "object",
         "type": "string"
        },
        {
         "name": "Major",
         "rawType": "object",
         "type": "string"
        },
        {
         "name": "Student Headcount",
         "rawType": "float64",
         "type": "float"
        }
       ],
       "ref": "1560da96-887e-4da6-a83b-cf57664fd85c",
       "rows": [
        [
         "1586",
         "2022-23",
         "Letters & Sci Undeclared",
         "10651.0"
        ],
        [
         "1488",
         "2022-23",
         "CDSS Computer Science",
         "2102.5"
        ],
        [
         "1527",
         "2022-23",
         "Electrical Eng & Comp Sci",
         "2093.0"
        ],
        [
         "1487",
         "2022-23",
         "Business Administration",
         "1645.5"
        ],
        [
         "1523",
         "2022-23",
         "Economics",
         "1579.5"
        ],
        [
         "1513",
         "2022-23",
         "Data Science",
         "1325.5"
        ],
        [
         "1613",
         "2022-23",
         "Molecular & Cell Biology",
         "1225.5"
        ],
        [
         "1604",
         "2022-23",
         "Mechanical Engineering",
         "1208.0"
        ],
        [
         "1585",
         "2022-23",
         "Law (JD)",
         "1023.0"
        ],
        [
         "1568",
         "2022-23",
         "Info & Data Science-MIDS",
         "1021.5"
        ],
        [
         "1635",
         "2022-23",
         "Political Science",
         "1005.0"
        ],
        [
         "1543",
         "2022-23",
         "Evening & Weekend MBA",
         "919.0"
        ],
        [
         "1636",
         "2022-23",
         "Psychology",
         "760.0"
        ],
        [
         "1495",
         "2022-23",
         "Chemistry",
         "691.0"
        ],
        [
         "1650",
         "2022-23",
         "Sociology",
         "663.0"
        ],
        [
         "1474",
         "2022-23",
         "Architecture",
         "604.5"
        ],
        [
         "1494",
         "2022-23",
         "Chemical Engineering",
         "595.0"
        ],
        [
         "1482",
         "2022-23",
         "Bioengineering",
         "576.0"
        ],
        [
         "1506",
         "2022-23",
         "Cognitive Science",
         "505.5"
        ],
        [
         "1472",
         "2022-23",
         "Applied Mathematics",
         "497.0"
        ]
       ],
       "shape": {
        "columns": 3,
        "rows": 20
       }
      },
      "text/html": [
       "<div>\n",
       "<style scoped>\n",
       "    .dataframe tbody tr th:only-of-type {\n",
       "        vertical-align: middle;\n",
       "    }\n",
       "\n",
       "    .dataframe tbody tr th {\n",
       "        vertical-align: top;\n",
       "    }\n",
       "\n",
       "    .dataframe thead th {\n",
       "        text-align: right;\n",
       "    }\n",
       "</style>\n",
       "<table border=\"1\" class=\"dataframe\">\n",
       "  <thead>\n",
       "    <tr style=\"text-align: right;\">\n",
       "      <th></th>\n",
       "      <th>Academic Yr</th>\n",
       "      <th>Major</th>\n",
       "      <th>Student Headcount</th>\n",
       "    </tr>\n",
       "  </thead>\n",
       "  <tbody>\n",
       "    <tr>\n",
       "      <th>1586</th>\n",
       "      <td>2022-23</td>\n",
       "      <td>Letters &amp; Sci Undeclared</td>\n",
       "      <td>10651.0</td>\n",
       "    </tr>\n",
       "    <tr>\n",
       "      <th>1488</th>\n",
       "      <td>2022-23</td>\n",
       "      <td>CDSS Computer Science</td>\n",
       "      <td>2102.5</td>\n",
       "    </tr>\n",
       "    <tr>\n",
       "      <th>1527</th>\n",
       "      <td>2022-23</td>\n",
       "      <td>Electrical Eng &amp; Comp Sci</td>\n",
       "      <td>2093.0</td>\n",
       "    </tr>\n",
       "    <tr>\n",
       "      <th>1487</th>\n",
       "      <td>2022-23</td>\n",
       "      <td>Business Administration</td>\n",
       "      <td>1645.5</td>\n",
       "    </tr>\n",
       "    <tr>\n",
       "      <th>1523</th>\n",
       "      <td>2022-23</td>\n",
       "      <td>Economics</td>\n",
       "      <td>1579.5</td>\n",
       "    </tr>\n",
       "    <tr>\n",
       "      <th>1513</th>\n",
       "      <td>2022-23</td>\n",
       "      <td>Data Science</td>\n",
       "      <td>1325.5</td>\n",
       "    </tr>\n",
       "    <tr>\n",
       "      <th>1613</th>\n",
       "      <td>2022-23</td>\n",
       "      <td>Molecular &amp; Cell Biology</td>\n",
       "      <td>1225.5</td>\n",
       "    </tr>\n",
       "    <tr>\n",
       "      <th>1604</th>\n",
       "      <td>2022-23</td>\n",
       "      <td>Mechanical Engineering</td>\n",
       "      <td>1208.0</td>\n",
       "    </tr>\n",
       "    <tr>\n",
       "      <th>1585</th>\n",
       "      <td>2022-23</td>\n",
       "      <td>Law (JD)</td>\n",
       "      <td>1023.0</td>\n",
       "    </tr>\n",
       "    <tr>\n",
       "      <th>1568</th>\n",
       "      <td>2022-23</td>\n",
       "      <td>Info &amp; Data Science-MIDS</td>\n",
       "      <td>1021.5</td>\n",
       "    </tr>\n",
       "    <tr>\n",
       "      <th>1635</th>\n",
       "      <td>2022-23</td>\n",
       "      <td>Political Science</td>\n",
       "      <td>1005.0</td>\n",
       "    </tr>\n",
       "    <tr>\n",
       "      <th>1543</th>\n",
       "      <td>2022-23</td>\n",
       "      <td>Evening &amp; Weekend MBA</td>\n",
       "      <td>919.0</td>\n",
       "    </tr>\n",
       "    <tr>\n",
       "      <th>1636</th>\n",
       "      <td>2022-23</td>\n",
       "      <td>Psychology</td>\n",
       "      <td>760.0</td>\n",
       "    </tr>\n",
       "    <tr>\n",
       "      <th>1495</th>\n",
       "      <td>2022-23</td>\n",
       "      <td>Chemistry</td>\n",
       "      <td>691.0</td>\n",
       "    </tr>\n",
       "    <tr>\n",
       "      <th>1650</th>\n",
       "      <td>2022-23</td>\n",
       "      <td>Sociology</td>\n",
       "      <td>663.0</td>\n",
       "    </tr>\n",
       "    <tr>\n",
       "      <th>1474</th>\n",
       "      <td>2022-23</td>\n",
       "      <td>Architecture</td>\n",
       "      <td>604.5</td>\n",
       "    </tr>\n",
       "    <tr>\n",
       "      <th>1494</th>\n",
       "      <td>2022-23</td>\n",
       "      <td>Chemical Engineering</td>\n",
       "      <td>595.0</td>\n",
       "    </tr>\n",
       "    <tr>\n",
       "      <th>1482</th>\n",
       "      <td>2022-23</td>\n",
       "      <td>Bioengineering</td>\n",
       "      <td>576.0</td>\n",
       "    </tr>\n",
       "    <tr>\n",
       "      <th>1506</th>\n",
       "      <td>2022-23</td>\n",
       "      <td>Cognitive Science</td>\n",
       "      <td>505.5</td>\n",
       "    </tr>\n",
       "    <tr>\n",
       "      <th>1472</th>\n",
       "      <td>2022-23</td>\n",
       "      <td>Applied Mathematics</td>\n",
       "      <td>497.0</td>\n",
       "    </tr>\n",
       "  </tbody>\n",
       "</table>\n",
       "</div>"
      ],
      "text/plain": [
       "     Academic Yr                      Major  Student Headcount\n",
       "1586     2022-23   Letters & Sci Undeclared            10651.0\n",
       "1488     2022-23      CDSS Computer Science             2102.5\n",
       "1527     2022-23  Electrical Eng & Comp Sci             2093.0\n",
       "1487     2022-23    Business Administration             1645.5\n",
       "1523     2022-23                  Economics             1579.5\n",
       "1513     2022-23               Data Science             1325.5\n",
       "1613     2022-23   Molecular & Cell Biology             1225.5\n",
       "1604     2022-23     Mechanical Engineering             1208.0\n",
       "1585     2022-23                   Law (JD)             1023.0\n",
       "1568     2022-23   Info & Data Science-MIDS             1021.5\n",
       "1635     2022-23          Political Science             1005.0\n",
       "1543     2022-23      Evening & Weekend MBA              919.0\n",
       "1636     2022-23                 Psychology              760.0\n",
       "1495     2022-23                  Chemistry              691.0\n",
       "1650     2022-23                  Sociology              663.0\n",
       "1474     2022-23               Architecture              604.5\n",
       "1494     2022-23       Chemical Engineering              595.0\n",
       "1482     2022-23             Bioengineering              576.0\n",
       "1506     2022-23          Cognitive Science              505.5\n",
       "1472     2022-23        Applied Mathematics              497.0"
      ]
     },
     "execution_count": 32,
     "metadata": {},
     "output_type": "execute_result"
    }
   ],
   "source": [
    "data100_top_20_majors = (       # Method chaining in pandas\n",
    "    majors['Majors']\n",
    "    .value_counts()\n",
    "    .sort_values(ascending=False) # Highest first\n",
    "    .to_frame()\n",
    "    .head(20)          # Get the top 20\n",
    ")\n",
    "\n",
    "major_trends = university_majors.groupby(['Academic Yr', 'Major'], \n",
    "                                         as_index = False)[[\"Student Headcount\"]].sum()\n",
    "\n",
    "\n",
    "print(\"Top 20 majors at Berkeley in 2022-23\")\n",
    "major_trends[major_trends.loc[:, 'Academic Yr'] == '2022-23'].sort_values('Student Headcount', ascending=False).head(20)"
   ]
  },
  {
   "cell_type": "code",
   "execution_count": 33,
   "metadata": {},
   "outputs": [
    {
     "name": "stdout",
     "output_type": "stream",
     "text": [
      "Top 20 majors at Berkeley since 2013\n"
     ]
    },
    {
     "data": {
      "application/vnd.microsoft.datawrangler.viewer.v0+json": {
       "columns": [
        {
         "name": "index",
         "rawType": "int64",
         "type": "integer"
        },
        {
         "name": "Major",
         "rawType": "object",
         "type": "string"
        },
        {
         "name": "Student Headcount",
         "rawType": "float64",
         "type": "float"
        }
       ],
       "ref": "64a228cb-a0a2-43bb-9362-87c9ec4b4548",
       "rows": [
        [
         "153",
         "Letters & Sci Undeclared",
         "102060.0"
        ],
        [
         "82",
         "Electrical Eng & Comp Sci",
         "19445.0"
        ],
        [
         "33",
         "CDSS Computer Science",
         "17396.0"
        ],
        [
         "32",
         "Business Administration",
         "15150.5"
        ],
        [
         "78",
         "Economics",
         "14554.0"
        ],
        [
         "191",
         "Mechanical Engineering",
         "10632.5"
        ],
        [
         "234",
         "Political Science",
         "10424.0"
        ],
        [
         "152",
         "Law (JD)",
         "9941.0"
        ],
        [
         "99",
         "Evening & Weekend MBA",
         "8444.5"
        ],
        [
         "64",
         "Data Science",
         "8182.5"
        ],
        [
         "203",
         "Molecular & Cell Biology",
         "7444.0"
        ],
        [
         "251",
         "Sociology",
         "6919.5"
        ],
        [
         "130",
         "Info & Data Science-MIDS",
         "6873.0"
        ],
        [
         "235",
         "Psychology",
         "6489.5"
        ],
        [
         "41",
         "Chemistry",
         "6254.0"
        ],
        [
         "40",
         "Chemical Engineering",
         "6011.5"
        ],
        [
         "13",
         "Architecture",
         "5727.0"
        ],
        [
         "11",
         "Applied Mathematics",
         "5703.5"
        ],
        [
         "53",
         "Cognitive Science",
         "5432.0"
        ],
        [
         "90",
         "English",
         "5405.0"
        ]
       ],
       "shape": {
        "columns": 2,
        "rows": 20
       }
      },
      "text/html": [
       "<div>\n",
       "<style scoped>\n",
       "    .dataframe tbody tr th:only-of-type {\n",
       "        vertical-align: middle;\n",
       "    }\n",
       "\n",
       "    .dataframe tbody tr th {\n",
       "        vertical-align: top;\n",
       "    }\n",
       "\n",
       "    .dataframe thead th {\n",
       "        text-align: right;\n",
       "    }\n",
       "</style>\n",
       "<table border=\"1\" class=\"dataframe\">\n",
       "  <thead>\n",
       "    <tr style=\"text-align: right;\">\n",
       "      <th></th>\n",
       "      <th>Major</th>\n",
       "      <th>Student Headcount</th>\n",
       "    </tr>\n",
       "  </thead>\n",
       "  <tbody>\n",
       "    <tr>\n",
       "      <th>153</th>\n",
       "      <td>Letters &amp; Sci Undeclared</td>\n",
       "      <td>102060.0</td>\n",
       "    </tr>\n",
       "    <tr>\n",
       "      <th>82</th>\n",
       "      <td>Electrical Eng &amp; Comp Sci</td>\n",
       "      <td>19445.0</td>\n",
       "    </tr>\n",
       "    <tr>\n",
       "      <th>33</th>\n",
       "      <td>CDSS Computer Science</td>\n",
       "      <td>17396.0</td>\n",
       "    </tr>\n",
       "    <tr>\n",
       "      <th>32</th>\n",
       "      <td>Business Administration</td>\n",
       "      <td>15150.5</td>\n",
       "    </tr>\n",
       "    <tr>\n",
       "      <th>78</th>\n",
       "      <td>Economics</td>\n",
       "      <td>14554.0</td>\n",
       "    </tr>\n",
       "    <tr>\n",
       "      <th>191</th>\n",
       "      <td>Mechanical Engineering</td>\n",
       "      <td>10632.5</td>\n",
       "    </tr>\n",
       "    <tr>\n",
       "      <th>234</th>\n",
       "      <td>Political Science</td>\n",
       "      <td>10424.0</td>\n",
       "    </tr>\n",
       "    <tr>\n",
       "      <th>152</th>\n",
       "      <td>Law (JD)</td>\n",
       "      <td>9941.0</td>\n",
       "    </tr>\n",
       "    <tr>\n",
       "      <th>99</th>\n",
       "      <td>Evening &amp; Weekend MBA</td>\n",
       "      <td>8444.5</td>\n",
       "    </tr>\n",
       "    <tr>\n",
       "      <th>64</th>\n",
       "      <td>Data Science</td>\n",
       "      <td>8182.5</td>\n",
       "    </tr>\n",
       "    <tr>\n",
       "      <th>203</th>\n",
       "      <td>Molecular &amp; Cell Biology</td>\n",
       "      <td>7444.0</td>\n",
       "    </tr>\n",
       "    <tr>\n",
       "      <th>251</th>\n",
       "      <td>Sociology</td>\n",
       "      <td>6919.5</td>\n",
       "    </tr>\n",
       "    <tr>\n",
       "      <th>130</th>\n",
       "      <td>Info &amp; Data Science-MIDS</td>\n",
       "      <td>6873.0</td>\n",
       "    </tr>\n",
       "    <tr>\n",
       "      <th>235</th>\n",
       "      <td>Psychology</td>\n",
       "      <td>6489.5</td>\n",
       "    </tr>\n",
       "    <tr>\n",
       "      <th>41</th>\n",
       "      <td>Chemistry</td>\n",
       "      <td>6254.0</td>\n",
       "    </tr>\n",
       "    <tr>\n",
       "      <th>40</th>\n",
       "      <td>Chemical Engineering</td>\n",
       "      <td>6011.5</td>\n",
       "    </tr>\n",
       "    <tr>\n",
       "      <th>13</th>\n",
       "      <td>Architecture</td>\n",
       "      <td>5727.0</td>\n",
       "    </tr>\n",
       "    <tr>\n",
       "      <th>11</th>\n",
       "      <td>Applied Mathematics</td>\n",
       "      <td>5703.5</td>\n",
       "    </tr>\n",
       "    <tr>\n",
       "      <th>53</th>\n",
       "      <td>Cognitive Science</td>\n",
       "      <td>5432.0</td>\n",
       "    </tr>\n",
       "    <tr>\n",
       "      <th>90</th>\n",
       "      <td>English</td>\n",
       "      <td>5405.0</td>\n",
       "    </tr>\n",
       "  </tbody>\n",
       "</table>\n",
       "</div>"
      ],
      "text/plain": [
       "                         Major  Student Headcount\n",
       "153   Letters & Sci Undeclared           102060.0\n",
       "82   Electrical Eng & Comp Sci            19445.0\n",
       "33       CDSS Computer Science            17396.0\n",
       "32     Business Administration            15150.5\n",
       "78                   Economics            14554.0\n",
       "191     Mechanical Engineering            10632.5\n",
       "234          Political Science            10424.0\n",
       "152                   Law (JD)             9941.0\n",
       "99       Evening & Weekend MBA             8444.5\n",
       "64                Data Science             8182.5\n",
       "203   Molecular & Cell Biology             7444.0\n",
       "251                  Sociology             6919.5\n",
       "130   Info & Data Science-MIDS             6873.0\n",
       "235                 Psychology             6489.5\n",
       "41                   Chemistry             6254.0\n",
       "40        Chemical Engineering             6011.5\n",
       "13                Architecture             5727.0\n",
       "11         Applied Mathematics             5703.5\n",
       "53           Cognitive Science             5432.0\n",
       "90                     English             5405.0"
      ]
     },
     "execution_count": 33,
     "metadata": {},
     "output_type": "execute_result"
    }
   ],
   "source": [
    "print(\"Top 20 majors at Berkeley since 2013\")\n",
    "major_trends.groupby(['Major'], as_index = False)[['Student Headcount']].sum().sort_values('Student Headcount', ascending=False).head(20)\n",
    "     "
   ]
  },
  {
   "cell_type": "code",
   "execution_count": 34,
   "metadata": {},
   "outputs": [
    {
     "name": "stdout",
     "output_type": "stream",
     "text": [
      "Top 20 majors at Berkeley in Data 100\n",
      "                                                    count\n",
      "Majors                                                   \n",
      "Letters & Sci Undeclared UG                           341\n",
      "Computer Science BA                                   148\n",
      "Data Science BA (Subplan: Business/Industrial A...     50\n",
      "Electrical Eng & Comp Sci BS                           43\n",
      "Economics BA                                           37\n",
      "Cognitive Science BA                                   33\n",
      "Data Science BA (Subplan: Economics)                   32\n",
      "Civil Engineering BS                                   30\n",
      "Data Science BA (Subplan: Applied Mathematics &...     23\n",
      "Mol Sci & Software Engin MMSSE (Subplan: Part-T...     22\n",
      "Letters & Sci Undeclared UG (Subplan: Applied H...     19\n",
      "Economics BA, Minor: Data Science UG                   17\n",
      "Industrial Eng & Ops Rsch BS                           15\n",
      "Applied Mathematics BA (Subplan: Data Science)         15\n",
      "Data Science BA (Subplan: Cognition)                   14\n",
      "Data Science BA (Subplan: Robotics)                    12\n",
      "Electrical Eng & Comp Sci BS, Minor: Data Scien...     11\n",
      "Bioengineering BS                                      10\n",
      "Applied Mathematics BA                                  9\n",
      "Environ Econ & Policy BS                                8\n"
     ]
    }
   ],
   "source": [
    "print(\"Top 20 majors at Berkeley in Data 100\")\n",
    "print(data100_top_20_majors)"
   ]
  },
  {
   "cell_type": "code",
   "execution_count": 35,
   "metadata": {},
   "outputs": [
    {
     "name": "stdout",
     "output_type": "stream",
     "text": [
      "Top 20 majors at Berkeley in Data 100\n",
      "                                                    count\n",
      "Majors                                                   \n",
      "Letters & Sci Undeclared                              341\n",
      "Computer Science                                      148\n",
      "Data Science BA (Subplan: Business/Industrial          50\n",
      "Electrical Eng & Comp Sci                              43\n",
      "Economics                                              37\n",
      "Cognitive Science                                      33\n",
      "Data Science BA (Subplan:                              32\n",
      "Civil Engineering                                      30\n",
      "Data Science BA (Subplan: Applied Mathematics &        23\n",
      "Mol Sci & Software Engin MMSSE (Subplan:               22\n",
      "Letters & Sci Undeclared UG (Subplan: Applied H...     19\n",
      "Economics BA, Minor: Data Science                      17\n",
      "Industrial Eng & Ops Rsch                              15\n",
      "Applied Mathematics BA (Subplan: Data                  15\n",
      "Data Science BA (Subplan:                              14\n",
      "Data Science BA (Subplan:                              12\n",
      "Electrical Eng & Comp Sci BS, Minor: Data Science      11\n",
      "Bioengineering                                         10\n",
      "Applied Mathematics                                     9\n",
      "Environ Econ & Policy                                   8\n"
     ]
    }
   ],
   "source": [
    "data100_top_20_majors.index = data100_top_20_majors.index.str.rsplit(' ', n=1).str[0]\n",
    "print(\"Top 20 majors at Berkeley in Data 100\")\n",
    "print(data100_top_20_majors)"
   ]
  },
  {
   "cell_type": "code",
   "execution_count": 36,
   "metadata": {},
   "outputs": [
    {
     "data": {
      "application/vnd.plotly.v1+json": {
       "config": {
        "plotlyServerURL": "https://plot.ly"
       },
       "data": [
        {
         "hovertemplate": "Major=Applied Mathematics<br>Academic Yr=%{x}<br>Student Headcount=%{y}<extra></extra>",
         "legendgroup": "Applied Mathematics",
         "line": {
          "color": "#636efa",
          "dash": "solid"
         },
         "marker": {
          "symbol": "circle"
         },
         "mode": "lines",
         "name": "Applied Mathematics",
         "orientation": "v",
         "showlegend": true,
         "type": "scatter",
         "x": [
          "2015-16",
          "2016-17",
          "2017-18",
          "2018-19",
          "2019-20",
          "2020-21",
          "2021-22",
          "2022-23",
          "2023-24",
          "2024-25"
         ],
         "xaxis": "x",
         "y": {
          "bdata": "AAAAAAAoeEAAAAAAALh7QAAAAAAA1IFAAAAAAAD0hEAAAAAAAFiEQAAAAAAAsIFAAAAAAAC0gEAAAAAAABB/QAAAAAAAdINAAAAAAADMh0A=",
          "dtype": "f8"
         },
         "yaxis": "y"
        },
        {
         "hovertemplate": "Major=Bioengineering<br>Academic Yr=%{x}<br>Student Headcount=%{y}<extra></extra>",
         "legendgroup": "Bioengineering",
         "line": {
          "color": "#EF553B",
          "dash": "solid"
         },
         "marker": {
          "symbol": "circle"
         },
         "mode": "lines",
         "name": "Bioengineering",
         "orientation": "v",
         "showlegend": true,
         "type": "scatter",
         "x": [
          "2015-16",
          "2016-17",
          "2017-18",
          "2018-19",
          "2019-20",
          "2020-21",
          "2021-22",
          "2022-23",
          "2023-24",
          "2024-25"
         ],
         "xaxis": "x",
         "y": {
          "bdata": "AAAAAAAgeUAAAAAAAEB9QAAAAAAAUH9AAAAAAAD4f0AAAAAAAPCAQAAAAAAAYIFAAAAAAAAEg0AAAAAAAACCQAAAAAAAOIJAAAAAAAD4gUA=",
          "dtype": "f8"
         },
         "yaxis": "y"
        },
        {
         "hovertemplate": "Major=Civil Engineering<br>Academic Yr=%{x}<br>Student Headcount=%{y}<extra></extra>",
         "legendgroup": "Civil Engineering",
         "line": {
          "color": "#00cc96",
          "dash": "solid"
         },
         "marker": {
          "symbol": "circle"
         },
         "mode": "lines",
         "name": "Civil Engineering",
         "orientation": "v",
         "showlegend": true,
         "type": "scatter",
         "x": [
          "2015-16",
          "2016-17",
          "2017-18",
          "2018-19",
          "2019-20",
          "2020-21",
          "2021-22",
          "2022-23",
          "2023-24",
          "2024-25"
         ],
         "xaxis": "x",
         "y": {
          "bdata": "AAAAAAAIc0AAAAAAANB1QAAAAAAA+HRAAAAAAAA4dkAAAAAAAJB2QAAAAAAAyHZAAAAAAABQd0AAAAAAAIh5QAAAAAAACHlAAAAAAABwe0A=",
          "dtype": "f8"
         },
         "yaxis": "y"
        },
        {
         "hovertemplate": "Major=Cognitive Science<br>Academic Yr=%{x}<br>Student Headcount=%{y}<extra></extra>",
         "legendgroup": "Cognitive Science",
         "line": {
          "color": "#ab63fa",
          "dash": "solid"
         },
         "marker": {
          "symbol": "circle"
         },
         "mode": "lines",
         "name": "Cognitive Science",
         "orientation": "v",
         "showlegend": true,
         "type": "scatter",
         "x": [
          "2015-16",
          "2016-17",
          "2017-18",
          "2018-19",
          "2019-20",
          "2020-21",
          "2021-22",
          "2022-23",
          "2023-24",
          "2024-25"
         ],
         "xaxis": "x",
         "y": {
          "bdata": "AAAAAABAeUAAAAAAALB9QAAAAAAAxIBAAAAAAABshUAAAAAAAEyAQAAAAAAAwHxAAAAAAAA4f0AAAAAAAJh/QAAAAAAA3INAAAAAAAAohkA=",
          "dtype": "f8"
         },
         "yaxis": "y"
        },
        {
         "hovertemplate": "Major=Computer Science<br>Academic Yr=%{x}<br>Student Headcount=%{y}<extra></extra>",
         "legendgroup": "Computer Science",
         "line": {
          "color": "#FFA15A",
          "dash": "solid"
         },
         "marker": {
          "symbol": "circle"
         },
         "mode": "lines",
         "name": "Computer Science",
         "orientation": "v",
         "showlegend": true,
         "type": "scatter",
         "x": [
          "2015-16",
          "2016-17",
          "2017-18",
          "2018-19",
          "2019-20",
          "2020-21",
          "2021-22",
          "2022-23",
          "2023-24",
          "2024-25"
         ],
         "xaxis": "x",
         "y": {
          "bdata": "AAAAAACQa0AAAAAAAPBrQAAAAAAAaHBAAAAAAABocEAAAAAAANhwQAAAAAAA0HBAAAAAAAC4ckAAAAAAAGByQAAAAAAAcHJAAAAAAADwcUA=",
          "dtype": "f8"
         },
         "yaxis": "y"
        },
        {
         "hovertemplate": "Major=Economics<br>Academic Yr=%{x}<br>Student Headcount=%{y}<extra></extra>",
         "legendgroup": "Economics",
         "line": {
          "color": "#19d3f3",
          "dash": "solid"
         },
         "marker": {
          "symbol": "circle"
         },
         "mode": "lines",
         "name": "Economics",
         "orientation": "v",
         "showlegend": true,
         "type": "scatter",
         "x": [
          "2015-16",
          "2016-17",
          "2017-18",
          "2018-19",
          "2019-20",
          "2020-21",
          "2021-22",
          "2022-23",
          "2023-24",
          "2024-25"
         ],
         "xaxis": "x",
         "y": {
          "bdata": "AAAAAADCkkAAAAAAAP6TQAAAAAAAcJVAAAAAAAAql0AAAAAAAG6XQAAAAAAAOJhAAAAAAACOmkAAAAAAAK6YQAAAAAAAKpZAAAAAAAACl0A=",
          "dtype": "f8"
         },
         "yaxis": "y"
        },
        {
         "hovertemplate": "Major=Electrical Eng & Comp Sci<br>Academic Yr=%{x}<br>Student Headcount=%{y}<extra></extra>",
         "legendgroup": "Electrical Eng & Comp Sci",
         "line": {
          "color": "#FF6692",
          "dash": "solid"
         },
         "marker": {
          "symbol": "circle"
         },
         "mode": "lines",
         "name": "Electrical Eng & Comp Sci",
         "orientation": "v",
         "showlegend": true,
         "type": "scatter",
         "x": [
          "2015-16",
          "2016-17",
          "2017-18",
          "2018-19",
          "2019-20",
          "2020-21",
          "2021-22",
          "2022-23",
          "2023-24",
          "2024-25"
         ],
         "xaxis": "x",
         "y": {
          "bdata": "AAAAAACmmEAAAAAAADqZQAAAAAAA1ptAAAAAAACmnkAAAAAAACegQAAAAAAAHqBAAAAAAAAUoUAAAAAAAFqgQAAAAAAAUaBAAAAAAABwn0A=",
          "dtype": "f8"
         },
         "yaxis": "y"
        },
        {
         "hovertemplate": "Major=Environ Econ & Policy<br>Academic Yr=%{x}<br>Student Headcount=%{y}<extra></extra>",
         "legendgroup": "Environ Econ & Policy",
         "line": {
          "color": "#B6E880",
          "dash": "solid"
         },
         "marker": {
          "symbol": "circle"
         },
         "mode": "lines",
         "name": "Environ Econ & Policy",
         "orientation": "v",
         "showlegend": true,
         "type": "scatter",
         "x": [
          "2015-16",
          "2016-17",
          "2017-18",
          "2018-19",
          "2019-20",
          "2020-21",
          "2021-22",
          "2022-23",
          "2023-24",
          "2024-25"
         ],
         "xaxis": "x",
         "y": {
          "bdata": "AAAAAABAcUAAAAAAAABzQAAAAAAAAHVAAAAAAAC4eUAAAAAAANh3QAAAAAAAeHNAAAAAAACIcEAAAAAAALhyQAAAAAAAuHZAAAAAAAC4eEA=",
          "dtype": "f8"
         },
         "yaxis": "y"
        },
        {
         "hovertemplate": "Major=Industrial Eng & Ops Rsch<br>Academic Yr=%{x}<br>Student Headcount=%{y}<extra></extra>",
         "legendgroup": "Industrial Eng & Ops Rsch",
         "line": {
          "color": "#FF97FF",
          "dash": "solid"
         },
         "marker": {
          "symbol": "circle"
         },
         "mode": "lines",
         "name": "Industrial Eng & Ops Rsch",
         "orientation": "v",
         "showlegend": true,
         "type": "scatter",
         "x": [
          "2015-16",
          "2016-17",
          "2017-18",
          "2018-19",
          "2019-20",
          "2020-21",
          "2021-22",
          "2022-23",
          "2023-24",
          "2024-25"
         ],
         "xaxis": "x",
         "y": {
          "bdata": "AAAAAAAgbkAAAAAAAIBvQAAAAAAAWHNAAAAAAACIdUAAAAAAAKh5QAAAAAAAsHVAAAAAAACoekAAAAAAAKh2QAAAAAAAUHZAAAAAAAAQeEA=",
          "dtype": "f8"
         },
         "yaxis": "y"
        },
        {
         "hovertemplate": "Major=Letters & Sci Undeclared<br>Academic Yr=%{x}<br>Student Headcount=%{y}<extra></extra>",
         "legendgroup": "Letters & Sci Undeclared",
         "line": {
          "color": "#FECB52",
          "dash": "solid"
         },
         "marker": {
          "symbol": "circle"
         },
         "mode": "lines",
         "name": "Letters & Sci Undeclared",
         "orientation": "v",
         "showlegend": true,
         "type": "scatter",
         "x": [
          "2015-16",
          "2016-17",
          "2017-18",
          "2018-19",
          "2019-20",
          "2020-21",
          "2021-22",
          "2022-23",
          "2023-24",
          "2024-25"
         ],
         "xaxis": "x",
         "y": {
          "bdata": "AAAAAIDVwkAAAAAAAHfFQAAAAABAisVAAAAAAEAgxEAAAAAAACLEQAAAAACAocJAAAAAAED2w0AAAAAAgM3EQAAAAABAv8NAAAAAAIAYwkA=",
          "dtype": "f8"
         },
         "yaxis": "y"
        }
       ],
       "layout": {
        "autosize": false,
        "height": 600,
        "legend": {
         "title": {
          "text": "Major"
         },
         "tracegroupgap": 0
        },
        "margin": {
         "t": 60
        },
        "template": {
         "data": {
          "bar": [
           {
            "error_x": {
             "color": "#2a3f5f"
            },
            "error_y": {
             "color": "#2a3f5f"
            },
            "marker": {
             "line": {
              "color": "#E5ECF6",
              "width": 0.5
             },
             "pattern": {
              "fillmode": "overlay",
              "size": 10,
              "solidity": 0.2
             }
            },
            "type": "bar"
           }
          ],
          "barpolar": [
           {
            "marker": {
             "line": {
              "color": "#E5ECF6",
              "width": 0.5
             },
             "pattern": {
              "fillmode": "overlay",
              "size": 10,
              "solidity": 0.2
             }
            },
            "type": "barpolar"
           }
          ],
          "carpet": [
           {
            "aaxis": {
             "endlinecolor": "#2a3f5f",
             "gridcolor": "white",
             "linecolor": "white",
             "minorgridcolor": "white",
             "startlinecolor": "#2a3f5f"
            },
            "baxis": {
             "endlinecolor": "#2a3f5f",
             "gridcolor": "white",
             "linecolor": "white",
             "minorgridcolor": "white",
             "startlinecolor": "#2a3f5f"
            },
            "type": "carpet"
           }
          ],
          "choropleth": [
           {
            "colorbar": {
             "outlinewidth": 0,
             "ticks": ""
            },
            "type": "choropleth"
           }
          ],
          "contour": [
           {
            "colorbar": {
             "outlinewidth": 0,
             "ticks": ""
            },
            "colorscale": [
             [
              0,
              "#0d0887"
             ],
             [
              0.1111111111111111,
              "#46039f"
             ],
             [
              0.2222222222222222,
              "#7201a8"
             ],
             [
              0.3333333333333333,
              "#9c179e"
             ],
             [
              0.4444444444444444,
              "#bd3786"
             ],
             [
              0.5555555555555556,
              "#d8576b"
             ],
             [
              0.6666666666666666,
              "#ed7953"
             ],
             [
              0.7777777777777778,
              "#fb9f3a"
             ],
             [
              0.8888888888888888,
              "#fdca26"
             ],
             [
              1,
              "#f0f921"
             ]
            ],
            "type": "contour"
           }
          ],
          "contourcarpet": [
           {
            "colorbar": {
             "outlinewidth": 0,
             "ticks": ""
            },
            "type": "contourcarpet"
           }
          ],
          "heatmap": [
           {
            "colorbar": {
             "outlinewidth": 0,
             "ticks": ""
            },
            "colorscale": [
             [
              0,
              "#0d0887"
             ],
             [
              0.1111111111111111,
              "#46039f"
             ],
             [
              0.2222222222222222,
              "#7201a8"
             ],
             [
              0.3333333333333333,
              "#9c179e"
             ],
             [
              0.4444444444444444,
              "#bd3786"
             ],
             [
              0.5555555555555556,
              "#d8576b"
             ],
             [
              0.6666666666666666,
              "#ed7953"
             ],
             [
              0.7777777777777778,
              "#fb9f3a"
             ],
             [
              0.8888888888888888,
              "#fdca26"
             ],
             [
              1,
              "#f0f921"
             ]
            ],
            "type": "heatmap"
           }
          ],
          "histogram": [
           {
            "marker": {
             "pattern": {
              "fillmode": "overlay",
              "size": 10,
              "solidity": 0.2
             }
            },
            "type": "histogram"
           }
          ],
          "histogram2d": [
           {
            "colorbar": {
             "outlinewidth": 0,
             "ticks": ""
            },
            "colorscale": [
             [
              0,
              "#0d0887"
             ],
             [
              0.1111111111111111,
              "#46039f"
             ],
             [
              0.2222222222222222,
              "#7201a8"
             ],
             [
              0.3333333333333333,
              "#9c179e"
             ],
             [
              0.4444444444444444,
              "#bd3786"
             ],
             [
              0.5555555555555556,
              "#d8576b"
             ],
             [
              0.6666666666666666,
              "#ed7953"
             ],
             [
              0.7777777777777778,
              "#fb9f3a"
             ],
             [
              0.8888888888888888,
              "#fdca26"
             ],
             [
              1,
              "#f0f921"
             ]
            ],
            "type": "histogram2d"
           }
          ],
          "histogram2dcontour": [
           {
            "colorbar": {
             "outlinewidth": 0,
             "ticks": ""
            },
            "colorscale": [
             [
              0,
              "#0d0887"
             ],
             [
              0.1111111111111111,
              "#46039f"
             ],
             [
              0.2222222222222222,
              "#7201a8"
             ],
             [
              0.3333333333333333,
              "#9c179e"
             ],
             [
              0.4444444444444444,
              "#bd3786"
             ],
             [
              0.5555555555555556,
              "#d8576b"
             ],
             [
              0.6666666666666666,
              "#ed7953"
             ],
             [
              0.7777777777777778,
              "#fb9f3a"
             ],
             [
              0.8888888888888888,
              "#fdca26"
             ],
             [
              1,
              "#f0f921"
             ]
            ],
            "type": "histogram2dcontour"
           }
          ],
          "mesh3d": [
           {
            "colorbar": {
             "outlinewidth": 0,
             "ticks": ""
            },
            "type": "mesh3d"
           }
          ],
          "parcoords": [
           {
            "line": {
             "colorbar": {
              "outlinewidth": 0,
              "ticks": ""
             }
            },
            "type": "parcoords"
           }
          ],
          "pie": [
           {
            "automargin": true,
            "type": "pie"
           }
          ],
          "scatter": [
           {
            "fillpattern": {
             "fillmode": "overlay",
             "size": 10,
             "solidity": 0.2
            },
            "type": "scatter"
           }
          ],
          "scatter3d": [
           {
            "line": {
             "colorbar": {
              "outlinewidth": 0,
              "ticks": ""
             }
            },
            "marker": {
             "colorbar": {
              "outlinewidth": 0,
              "ticks": ""
             }
            },
            "type": "scatter3d"
           }
          ],
          "scattercarpet": [
           {
            "marker": {
             "colorbar": {
              "outlinewidth": 0,
              "ticks": ""
             }
            },
            "type": "scattercarpet"
           }
          ],
          "scattergeo": [
           {
            "marker": {
             "colorbar": {
              "outlinewidth": 0,
              "ticks": ""
             }
            },
            "type": "scattergeo"
           }
          ],
          "scattergl": [
           {
            "marker": {
             "colorbar": {
              "outlinewidth": 0,
              "ticks": ""
             }
            },
            "type": "scattergl"
           }
          ],
          "scattermap": [
           {
            "marker": {
             "colorbar": {
              "outlinewidth": 0,
              "ticks": ""
             }
            },
            "type": "scattermap"
           }
          ],
          "scattermapbox": [
           {
            "marker": {
             "colorbar": {
              "outlinewidth": 0,
              "ticks": ""
             }
            },
            "type": "scattermapbox"
           }
          ],
          "scatterpolar": [
           {
            "marker": {
             "colorbar": {
              "outlinewidth": 0,
              "ticks": ""
             }
            },
            "type": "scatterpolar"
           }
          ],
          "scatterpolargl": [
           {
            "marker": {
             "colorbar": {
              "outlinewidth": 0,
              "ticks": ""
             }
            },
            "type": "scatterpolargl"
           }
          ],
          "scatterternary": [
           {
            "marker": {
             "colorbar": {
              "outlinewidth": 0,
              "ticks": ""
             }
            },
            "type": "scatterternary"
           }
          ],
          "surface": [
           {
            "colorbar": {
             "outlinewidth": 0,
             "ticks": ""
            },
            "colorscale": [
             [
              0,
              "#0d0887"
             ],
             [
              0.1111111111111111,
              "#46039f"
             ],
             [
              0.2222222222222222,
              "#7201a8"
             ],
             [
              0.3333333333333333,
              "#9c179e"
             ],
             [
              0.4444444444444444,
              "#bd3786"
             ],
             [
              0.5555555555555556,
              "#d8576b"
             ],
             [
              0.6666666666666666,
              "#ed7953"
             ],
             [
              0.7777777777777778,
              "#fb9f3a"
             ],
             [
              0.8888888888888888,
              "#fdca26"
             ],
             [
              1,
              "#f0f921"
             ]
            ],
            "type": "surface"
           }
          ],
          "table": [
           {
            "cells": {
             "fill": {
              "color": "#EBF0F8"
             },
             "line": {
              "color": "white"
             }
            },
            "header": {
             "fill": {
              "color": "#C8D4E3"
             },
             "line": {
              "color": "white"
             }
            },
            "type": "table"
           }
          ]
         },
         "layout": {
          "annotationdefaults": {
           "arrowcolor": "#2a3f5f",
           "arrowhead": 0,
           "arrowwidth": 1
          },
          "autotypenumbers": "strict",
          "coloraxis": {
           "colorbar": {
            "outlinewidth": 0,
            "ticks": ""
           }
          },
          "colorscale": {
           "diverging": [
            [
             0,
             "#8e0152"
            ],
            [
             0.1,
             "#c51b7d"
            ],
            [
             0.2,
             "#de77ae"
            ],
            [
             0.3,
             "#f1b6da"
            ],
            [
             0.4,
             "#fde0ef"
            ],
            [
             0.5,
             "#f7f7f7"
            ],
            [
             0.6,
             "#e6f5d0"
            ],
            [
             0.7,
             "#b8e186"
            ],
            [
             0.8,
             "#7fbc41"
            ],
            [
             0.9,
             "#4d9221"
            ],
            [
             1,
             "#276419"
            ]
           ],
           "sequential": [
            [
             0,
             "#0d0887"
            ],
            [
             0.1111111111111111,
             "#46039f"
            ],
            [
             0.2222222222222222,
             "#7201a8"
            ],
            [
             0.3333333333333333,
             "#9c179e"
            ],
            [
             0.4444444444444444,
             "#bd3786"
            ],
            [
             0.5555555555555556,
             "#d8576b"
            ],
            [
             0.6666666666666666,
             "#ed7953"
            ],
            [
             0.7777777777777778,
             "#fb9f3a"
            ],
            [
             0.8888888888888888,
             "#fdca26"
            ],
            [
             1,
             "#f0f921"
            ]
           ],
           "sequentialminus": [
            [
             0,
             "#0d0887"
            ],
            [
             0.1111111111111111,
             "#46039f"
            ],
            [
             0.2222222222222222,
             "#7201a8"
            ],
            [
             0.3333333333333333,
             "#9c179e"
            ],
            [
             0.4444444444444444,
             "#bd3786"
            ],
            [
             0.5555555555555556,
             "#d8576b"
            ],
            [
             0.6666666666666666,
             "#ed7953"
            ],
            [
             0.7777777777777778,
             "#fb9f3a"
            ],
            [
             0.8888888888888888,
             "#fdca26"
            ],
            [
             1,
             "#f0f921"
            ]
           ]
          },
          "colorway": [
           "#636efa",
           "#EF553B",
           "#00cc96",
           "#ab63fa",
           "#FFA15A",
           "#19d3f3",
           "#FF6692",
           "#B6E880",
           "#FF97FF",
           "#FECB52"
          ],
          "font": {
           "color": "#2a3f5f"
          },
          "geo": {
           "bgcolor": "white",
           "lakecolor": "white",
           "landcolor": "#E5ECF6",
           "showlakes": true,
           "showland": true,
           "subunitcolor": "white"
          },
          "hoverlabel": {
           "align": "left"
          },
          "hovermode": "closest",
          "mapbox": {
           "style": "light"
          },
          "paper_bgcolor": "white",
          "plot_bgcolor": "#E5ECF6",
          "polar": {
           "angularaxis": {
            "gridcolor": "white",
            "linecolor": "white",
            "ticks": ""
           },
           "bgcolor": "#E5ECF6",
           "radialaxis": {
            "gridcolor": "white",
            "linecolor": "white",
            "ticks": ""
           }
          },
          "scene": {
           "xaxis": {
            "backgroundcolor": "#E5ECF6",
            "gridcolor": "white",
            "gridwidth": 2,
            "linecolor": "white",
            "showbackground": true,
            "ticks": "",
            "zerolinecolor": "white"
           },
           "yaxis": {
            "backgroundcolor": "#E5ECF6",
            "gridcolor": "white",
            "gridwidth": 2,
            "linecolor": "white",
            "showbackground": true,
            "ticks": "",
            "zerolinecolor": "white"
           },
           "zaxis": {
            "backgroundcolor": "#E5ECF6",
            "gridcolor": "white",
            "gridwidth": 2,
            "linecolor": "white",
            "showbackground": true,
            "ticks": "",
            "zerolinecolor": "white"
           }
          },
          "shapedefaults": {
           "line": {
            "color": "#2a3f5f"
           }
          },
          "ternary": {
           "aaxis": {
            "gridcolor": "white",
            "linecolor": "white",
            "ticks": ""
           },
           "baxis": {
            "gridcolor": "white",
            "linecolor": "white",
            "ticks": ""
           },
           "bgcolor": "#E5ECF6",
           "caxis": {
            "gridcolor": "white",
            "linecolor": "white",
            "ticks": ""
           }
          },
          "title": {
           "x": 0.05
          },
          "xaxis": {
           "automargin": true,
           "gridcolor": "white",
           "linecolor": "white",
           "ticks": "",
           "title": {
            "standoff": 15
           },
           "zerolinecolor": "white",
           "zerolinewidth": 2
          },
          "yaxis": {
           "automargin": true,
           "gridcolor": "white",
           "linecolor": "white",
           "ticks": "",
           "title": {
            "standoff": 15
           },
           "zerolinecolor": "white",
           "zerolinewidth": 2
          }
         }
        },
        "width": 800,
        "xaxis": {
         "anchor": "y",
         "domain": [
          0,
          1
         ],
         "title": {
          "text": "Academic Yr"
         }
        },
        "yaxis": {
         "anchor": "x",
         "domain": [
          0,
          1
         ],
         "title": {
          "text": "Student Headcount"
         }
        }
       }
      },
      "text/html": [
       "<div>            <script src=\"https://cdnjs.cloudflare.com/ajax/libs/mathjax/2.7.5/MathJax.js?config=TeX-AMS-MML_SVG\"></script><script type=\"text/javascript\">if (window.MathJax && window.MathJax.Hub && window.MathJax.Hub.Config) {window.MathJax.Hub.Config({SVG: {font: \"STIX-Web\"}});}</script>                <script type=\"text/javascript\">window.PlotlyConfig = {MathJaxConfig: 'local'};</script>\n",
       "        <script charset=\"utf-8\" src=\"https://cdn.plot.ly/plotly-3.0.1.min.js\"></script>                <div id=\"b0fbd782-b3ba-4a4d-bd48-6bd75c6ac47f\" class=\"plotly-graph-div\" style=\"height:600px; width:800px;\"></div>            <script type=\"text/javascript\">                window.PLOTLYENV=window.PLOTLYENV || {};                                if (document.getElementById(\"b0fbd782-b3ba-4a4d-bd48-6bd75c6ac47f\")) {                    Plotly.newPlot(                        \"b0fbd782-b3ba-4a4d-bd48-6bd75c6ac47f\",                        [{\"hovertemplate\":\"Major=Applied Mathematics\\u003cbr\\u003eAcademic Yr=%{x}\\u003cbr\\u003eStudent Headcount=%{y}\\u003cextra\\u003e\\u003c\\u002fextra\\u003e\",\"legendgroup\":\"Applied Mathematics\",\"line\":{\"color\":\"#636efa\",\"dash\":\"solid\"},\"marker\":{\"symbol\":\"circle\"},\"mode\":\"lines\",\"name\":\"Applied Mathematics\",\"orientation\":\"v\",\"showlegend\":true,\"x\":[\"2015-16\",\"2016-17\",\"2017-18\",\"2018-19\",\"2019-20\",\"2020-21\",\"2021-22\",\"2022-23\",\"2023-24\",\"2024-25\"],\"xaxis\":\"x\",\"y\":{\"dtype\":\"f8\",\"bdata\":\"AAAAAAAoeEAAAAAAALh7QAAAAAAA1IFAAAAAAAD0hEAAAAAAAFiEQAAAAAAAsIFAAAAAAAC0gEAAAAAAABB\\u002fQAAAAAAAdINAAAAAAADMh0A=\"},\"yaxis\":\"y\",\"type\":\"scatter\"},{\"hovertemplate\":\"Major=Bioengineering\\u003cbr\\u003eAcademic Yr=%{x}\\u003cbr\\u003eStudent Headcount=%{y}\\u003cextra\\u003e\\u003c\\u002fextra\\u003e\",\"legendgroup\":\"Bioengineering\",\"line\":{\"color\":\"#EF553B\",\"dash\":\"solid\"},\"marker\":{\"symbol\":\"circle\"},\"mode\":\"lines\",\"name\":\"Bioengineering\",\"orientation\":\"v\",\"showlegend\":true,\"x\":[\"2015-16\",\"2016-17\",\"2017-18\",\"2018-19\",\"2019-20\",\"2020-21\",\"2021-22\",\"2022-23\",\"2023-24\",\"2024-25\"],\"xaxis\":\"x\",\"y\":{\"dtype\":\"f8\",\"bdata\":\"AAAAAAAgeUAAAAAAAEB9QAAAAAAAUH9AAAAAAAD4f0AAAAAAAPCAQAAAAAAAYIFAAAAAAAAEg0AAAAAAAACCQAAAAAAAOIJAAAAAAAD4gUA=\"},\"yaxis\":\"y\",\"type\":\"scatter\"},{\"hovertemplate\":\"Major=Civil Engineering\\u003cbr\\u003eAcademic Yr=%{x}\\u003cbr\\u003eStudent Headcount=%{y}\\u003cextra\\u003e\\u003c\\u002fextra\\u003e\",\"legendgroup\":\"Civil Engineering\",\"line\":{\"color\":\"#00cc96\",\"dash\":\"solid\"},\"marker\":{\"symbol\":\"circle\"},\"mode\":\"lines\",\"name\":\"Civil Engineering\",\"orientation\":\"v\",\"showlegend\":true,\"x\":[\"2015-16\",\"2016-17\",\"2017-18\",\"2018-19\",\"2019-20\",\"2020-21\",\"2021-22\",\"2022-23\",\"2023-24\",\"2024-25\"],\"xaxis\":\"x\",\"y\":{\"dtype\":\"f8\",\"bdata\":\"AAAAAAAIc0AAAAAAANB1QAAAAAAA+HRAAAAAAAA4dkAAAAAAAJB2QAAAAAAAyHZAAAAAAABQd0AAAAAAAIh5QAAAAAAACHlAAAAAAABwe0A=\"},\"yaxis\":\"y\",\"type\":\"scatter\"},{\"hovertemplate\":\"Major=Cognitive Science\\u003cbr\\u003eAcademic Yr=%{x}\\u003cbr\\u003eStudent Headcount=%{y}\\u003cextra\\u003e\\u003c\\u002fextra\\u003e\",\"legendgroup\":\"Cognitive Science\",\"line\":{\"color\":\"#ab63fa\",\"dash\":\"solid\"},\"marker\":{\"symbol\":\"circle\"},\"mode\":\"lines\",\"name\":\"Cognitive Science\",\"orientation\":\"v\",\"showlegend\":true,\"x\":[\"2015-16\",\"2016-17\",\"2017-18\",\"2018-19\",\"2019-20\",\"2020-21\",\"2021-22\",\"2022-23\",\"2023-24\",\"2024-25\"],\"xaxis\":\"x\",\"y\":{\"dtype\":\"f8\",\"bdata\":\"AAAAAABAeUAAAAAAALB9QAAAAAAAxIBAAAAAAABshUAAAAAAAEyAQAAAAAAAwHxAAAAAAAA4f0AAAAAAAJh\\u002fQAAAAAAA3INAAAAAAAAohkA=\"},\"yaxis\":\"y\",\"type\":\"scatter\"},{\"hovertemplate\":\"Major=Computer Science\\u003cbr\\u003eAcademic Yr=%{x}\\u003cbr\\u003eStudent Headcount=%{y}\\u003cextra\\u003e\\u003c\\u002fextra\\u003e\",\"legendgroup\":\"Computer Science\",\"line\":{\"color\":\"#FFA15A\",\"dash\":\"solid\"},\"marker\":{\"symbol\":\"circle\"},\"mode\":\"lines\",\"name\":\"Computer Science\",\"orientation\":\"v\",\"showlegend\":true,\"x\":[\"2015-16\",\"2016-17\",\"2017-18\",\"2018-19\",\"2019-20\",\"2020-21\",\"2021-22\",\"2022-23\",\"2023-24\",\"2024-25\"],\"xaxis\":\"x\",\"y\":{\"dtype\":\"f8\",\"bdata\":\"AAAAAACQa0AAAAAAAPBrQAAAAAAAaHBAAAAAAABocEAAAAAAANhwQAAAAAAA0HBAAAAAAAC4ckAAAAAAAGByQAAAAAAAcHJAAAAAAADwcUA=\"},\"yaxis\":\"y\",\"type\":\"scatter\"},{\"hovertemplate\":\"Major=Economics\\u003cbr\\u003eAcademic Yr=%{x}\\u003cbr\\u003eStudent Headcount=%{y}\\u003cextra\\u003e\\u003c\\u002fextra\\u003e\",\"legendgroup\":\"Economics\",\"line\":{\"color\":\"#19d3f3\",\"dash\":\"solid\"},\"marker\":{\"symbol\":\"circle\"},\"mode\":\"lines\",\"name\":\"Economics\",\"orientation\":\"v\",\"showlegend\":true,\"x\":[\"2015-16\",\"2016-17\",\"2017-18\",\"2018-19\",\"2019-20\",\"2020-21\",\"2021-22\",\"2022-23\",\"2023-24\",\"2024-25\"],\"xaxis\":\"x\",\"y\":{\"dtype\":\"f8\",\"bdata\":\"AAAAAADCkkAAAAAAAP6TQAAAAAAAcJVAAAAAAAAql0AAAAAAAG6XQAAAAAAAOJhAAAAAAACOmkAAAAAAAK6YQAAAAAAAKpZAAAAAAAACl0A=\"},\"yaxis\":\"y\",\"type\":\"scatter\"},{\"hovertemplate\":\"Major=Electrical Eng & Comp Sci\\u003cbr\\u003eAcademic Yr=%{x}\\u003cbr\\u003eStudent Headcount=%{y}\\u003cextra\\u003e\\u003c\\u002fextra\\u003e\",\"legendgroup\":\"Electrical Eng & Comp Sci\",\"line\":{\"color\":\"#FF6692\",\"dash\":\"solid\"},\"marker\":{\"symbol\":\"circle\"},\"mode\":\"lines\",\"name\":\"Electrical Eng & Comp Sci\",\"orientation\":\"v\",\"showlegend\":true,\"x\":[\"2015-16\",\"2016-17\",\"2017-18\",\"2018-19\",\"2019-20\",\"2020-21\",\"2021-22\",\"2022-23\",\"2023-24\",\"2024-25\"],\"xaxis\":\"x\",\"y\":{\"dtype\":\"f8\",\"bdata\":\"AAAAAACmmEAAAAAAADqZQAAAAAAA1ptAAAAAAACmnkAAAAAAACegQAAAAAAAHqBAAAAAAAAUoUAAAAAAAFqgQAAAAAAAUaBAAAAAAABwn0A=\"},\"yaxis\":\"y\",\"type\":\"scatter\"},{\"hovertemplate\":\"Major=Environ Econ & Policy\\u003cbr\\u003eAcademic Yr=%{x}\\u003cbr\\u003eStudent Headcount=%{y}\\u003cextra\\u003e\\u003c\\u002fextra\\u003e\",\"legendgroup\":\"Environ Econ & Policy\",\"line\":{\"color\":\"#B6E880\",\"dash\":\"solid\"},\"marker\":{\"symbol\":\"circle\"},\"mode\":\"lines\",\"name\":\"Environ Econ & Policy\",\"orientation\":\"v\",\"showlegend\":true,\"x\":[\"2015-16\",\"2016-17\",\"2017-18\",\"2018-19\",\"2019-20\",\"2020-21\",\"2021-22\",\"2022-23\",\"2023-24\",\"2024-25\"],\"xaxis\":\"x\",\"y\":{\"dtype\":\"f8\",\"bdata\":\"AAAAAABAcUAAAAAAAABzQAAAAAAAAHVAAAAAAAC4eUAAAAAAANh3QAAAAAAAeHNAAAAAAACIcEAAAAAAALhyQAAAAAAAuHZAAAAAAAC4eEA=\"},\"yaxis\":\"y\",\"type\":\"scatter\"},{\"hovertemplate\":\"Major=Industrial Eng & Ops Rsch\\u003cbr\\u003eAcademic Yr=%{x}\\u003cbr\\u003eStudent Headcount=%{y}\\u003cextra\\u003e\\u003c\\u002fextra\\u003e\",\"legendgroup\":\"Industrial Eng & Ops Rsch\",\"line\":{\"color\":\"#FF97FF\",\"dash\":\"solid\"},\"marker\":{\"symbol\":\"circle\"},\"mode\":\"lines\",\"name\":\"Industrial Eng & Ops Rsch\",\"orientation\":\"v\",\"showlegend\":true,\"x\":[\"2015-16\",\"2016-17\",\"2017-18\",\"2018-19\",\"2019-20\",\"2020-21\",\"2021-22\",\"2022-23\",\"2023-24\",\"2024-25\"],\"xaxis\":\"x\",\"y\":{\"dtype\":\"f8\",\"bdata\":\"AAAAAAAgbkAAAAAAAIBvQAAAAAAAWHNAAAAAAACIdUAAAAAAAKh5QAAAAAAAsHVAAAAAAACoekAAAAAAAKh2QAAAAAAAUHZAAAAAAAAQeEA=\"},\"yaxis\":\"y\",\"type\":\"scatter\"},{\"hovertemplate\":\"Major=Letters & Sci Undeclared\\u003cbr\\u003eAcademic Yr=%{x}\\u003cbr\\u003eStudent Headcount=%{y}\\u003cextra\\u003e\\u003c\\u002fextra\\u003e\",\"legendgroup\":\"Letters & Sci Undeclared\",\"line\":{\"color\":\"#FECB52\",\"dash\":\"solid\"},\"marker\":{\"symbol\":\"circle\"},\"mode\":\"lines\",\"name\":\"Letters & Sci Undeclared\",\"orientation\":\"v\",\"showlegend\":true,\"x\":[\"2015-16\",\"2016-17\",\"2017-18\",\"2018-19\",\"2019-20\",\"2020-21\",\"2021-22\",\"2022-23\",\"2023-24\",\"2024-25\"],\"xaxis\":\"x\",\"y\":{\"dtype\":\"f8\",\"bdata\":\"AAAAAIDVwkAAAAAAAHfFQAAAAABAisVAAAAAAEAgxEAAAAAAACLEQAAAAACAocJAAAAAAED2w0AAAAAAgM3EQAAAAABAv8NAAAAAAIAYwkA=\"},\"yaxis\":\"y\",\"type\":\"scatter\"}],                        {\"template\":{\"data\":{\"histogram2dcontour\":[{\"type\":\"histogram2dcontour\",\"colorbar\":{\"outlinewidth\":0,\"ticks\":\"\"},\"colorscale\":[[0.0,\"#0d0887\"],[0.1111111111111111,\"#46039f\"],[0.2222222222222222,\"#7201a8\"],[0.3333333333333333,\"#9c179e\"],[0.4444444444444444,\"#bd3786\"],[0.5555555555555556,\"#d8576b\"],[0.6666666666666666,\"#ed7953\"],[0.7777777777777778,\"#fb9f3a\"],[0.8888888888888888,\"#fdca26\"],[1.0,\"#f0f921\"]]}],\"choropleth\":[{\"type\":\"choropleth\",\"colorbar\":{\"outlinewidth\":0,\"ticks\":\"\"}}],\"histogram2d\":[{\"type\":\"histogram2d\",\"colorbar\":{\"outlinewidth\":0,\"ticks\":\"\"},\"colorscale\":[[0.0,\"#0d0887\"],[0.1111111111111111,\"#46039f\"],[0.2222222222222222,\"#7201a8\"],[0.3333333333333333,\"#9c179e\"],[0.4444444444444444,\"#bd3786\"],[0.5555555555555556,\"#d8576b\"],[0.6666666666666666,\"#ed7953\"],[0.7777777777777778,\"#fb9f3a\"],[0.8888888888888888,\"#fdca26\"],[1.0,\"#f0f921\"]]}],\"heatmap\":[{\"type\":\"heatmap\",\"colorbar\":{\"outlinewidth\":0,\"ticks\":\"\"},\"colorscale\":[[0.0,\"#0d0887\"],[0.1111111111111111,\"#46039f\"],[0.2222222222222222,\"#7201a8\"],[0.3333333333333333,\"#9c179e\"],[0.4444444444444444,\"#bd3786\"],[0.5555555555555556,\"#d8576b\"],[0.6666666666666666,\"#ed7953\"],[0.7777777777777778,\"#fb9f3a\"],[0.8888888888888888,\"#fdca26\"],[1.0,\"#f0f921\"]]}],\"contourcarpet\":[{\"type\":\"contourcarpet\",\"colorbar\":{\"outlinewidth\":0,\"ticks\":\"\"}}],\"contour\":[{\"type\":\"contour\",\"colorbar\":{\"outlinewidth\":0,\"ticks\":\"\"},\"colorscale\":[[0.0,\"#0d0887\"],[0.1111111111111111,\"#46039f\"],[0.2222222222222222,\"#7201a8\"],[0.3333333333333333,\"#9c179e\"],[0.4444444444444444,\"#bd3786\"],[0.5555555555555556,\"#d8576b\"],[0.6666666666666666,\"#ed7953\"],[0.7777777777777778,\"#fb9f3a\"],[0.8888888888888888,\"#fdca26\"],[1.0,\"#f0f921\"]]}],\"surface\":[{\"type\":\"surface\",\"colorbar\":{\"outlinewidth\":0,\"ticks\":\"\"},\"colorscale\":[[0.0,\"#0d0887\"],[0.1111111111111111,\"#46039f\"],[0.2222222222222222,\"#7201a8\"],[0.3333333333333333,\"#9c179e\"],[0.4444444444444444,\"#bd3786\"],[0.5555555555555556,\"#d8576b\"],[0.6666666666666666,\"#ed7953\"],[0.7777777777777778,\"#fb9f3a\"],[0.8888888888888888,\"#fdca26\"],[1.0,\"#f0f921\"]]}],\"mesh3d\":[{\"type\":\"mesh3d\",\"colorbar\":{\"outlinewidth\":0,\"ticks\":\"\"}}],\"scatter\":[{\"fillpattern\":{\"fillmode\":\"overlay\",\"size\":10,\"solidity\":0.2},\"type\":\"scatter\"}],\"parcoords\":[{\"type\":\"parcoords\",\"line\":{\"colorbar\":{\"outlinewidth\":0,\"ticks\":\"\"}}}],\"scatterpolargl\":[{\"type\":\"scatterpolargl\",\"marker\":{\"colorbar\":{\"outlinewidth\":0,\"ticks\":\"\"}}}],\"bar\":[{\"error_x\":{\"color\":\"#2a3f5f\"},\"error_y\":{\"color\":\"#2a3f5f\"},\"marker\":{\"line\":{\"color\":\"#E5ECF6\",\"width\":0.5},\"pattern\":{\"fillmode\":\"overlay\",\"size\":10,\"solidity\":0.2}},\"type\":\"bar\"}],\"scattergeo\":[{\"type\":\"scattergeo\",\"marker\":{\"colorbar\":{\"outlinewidth\":0,\"ticks\":\"\"}}}],\"scatterpolar\":[{\"type\":\"scatterpolar\",\"marker\":{\"colorbar\":{\"outlinewidth\":0,\"ticks\":\"\"}}}],\"histogram\":[{\"marker\":{\"pattern\":{\"fillmode\":\"overlay\",\"size\":10,\"solidity\":0.2}},\"type\":\"histogram\"}],\"scattergl\":[{\"type\":\"scattergl\",\"marker\":{\"colorbar\":{\"outlinewidth\":0,\"ticks\":\"\"}}}],\"scatter3d\":[{\"type\":\"scatter3d\",\"line\":{\"colorbar\":{\"outlinewidth\":0,\"ticks\":\"\"}},\"marker\":{\"colorbar\":{\"outlinewidth\":0,\"ticks\":\"\"}}}],\"scattermap\":[{\"type\":\"scattermap\",\"marker\":{\"colorbar\":{\"outlinewidth\":0,\"ticks\":\"\"}}}],\"scattermapbox\":[{\"type\":\"scattermapbox\",\"marker\":{\"colorbar\":{\"outlinewidth\":0,\"ticks\":\"\"}}}],\"scatterternary\":[{\"type\":\"scatterternary\",\"marker\":{\"colorbar\":{\"outlinewidth\":0,\"ticks\":\"\"}}}],\"scattercarpet\":[{\"type\":\"scattercarpet\",\"marker\":{\"colorbar\":{\"outlinewidth\":0,\"ticks\":\"\"}}}],\"carpet\":[{\"aaxis\":{\"endlinecolor\":\"#2a3f5f\",\"gridcolor\":\"white\",\"linecolor\":\"white\",\"minorgridcolor\":\"white\",\"startlinecolor\":\"#2a3f5f\"},\"baxis\":{\"endlinecolor\":\"#2a3f5f\",\"gridcolor\":\"white\",\"linecolor\":\"white\",\"minorgridcolor\":\"white\",\"startlinecolor\":\"#2a3f5f\"},\"type\":\"carpet\"}],\"table\":[{\"cells\":{\"fill\":{\"color\":\"#EBF0F8\"},\"line\":{\"color\":\"white\"}},\"header\":{\"fill\":{\"color\":\"#C8D4E3\"},\"line\":{\"color\":\"white\"}},\"type\":\"table\"}],\"barpolar\":[{\"marker\":{\"line\":{\"color\":\"#E5ECF6\",\"width\":0.5},\"pattern\":{\"fillmode\":\"overlay\",\"size\":10,\"solidity\":0.2}},\"type\":\"barpolar\"}],\"pie\":[{\"automargin\":true,\"type\":\"pie\"}]},\"layout\":{\"autotypenumbers\":\"strict\",\"colorway\":[\"#636efa\",\"#EF553B\",\"#00cc96\",\"#ab63fa\",\"#FFA15A\",\"#19d3f3\",\"#FF6692\",\"#B6E880\",\"#FF97FF\",\"#FECB52\"],\"font\":{\"color\":\"#2a3f5f\"},\"hovermode\":\"closest\",\"hoverlabel\":{\"align\":\"left\"},\"paper_bgcolor\":\"white\",\"plot_bgcolor\":\"#E5ECF6\",\"polar\":{\"bgcolor\":\"#E5ECF6\",\"angularaxis\":{\"gridcolor\":\"white\",\"linecolor\":\"white\",\"ticks\":\"\"},\"radialaxis\":{\"gridcolor\":\"white\",\"linecolor\":\"white\",\"ticks\":\"\"}},\"ternary\":{\"bgcolor\":\"#E5ECF6\",\"aaxis\":{\"gridcolor\":\"white\",\"linecolor\":\"white\",\"ticks\":\"\"},\"baxis\":{\"gridcolor\":\"white\",\"linecolor\":\"white\",\"ticks\":\"\"},\"caxis\":{\"gridcolor\":\"white\",\"linecolor\":\"white\",\"ticks\":\"\"}},\"coloraxis\":{\"colorbar\":{\"outlinewidth\":0,\"ticks\":\"\"}},\"colorscale\":{\"sequential\":[[0.0,\"#0d0887\"],[0.1111111111111111,\"#46039f\"],[0.2222222222222222,\"#7201a8\"],[0.3333333333333333,\"#9c179e\"],[0.4444444444444444,\"#bd3786\"],[0.5555555555555556,\"#d8576b\"],[0.6666666666666666,\"#ed7953\"],[0.7777777777777778,\"#fb9f3a\"],[0.8888888888888888,\"#fdca26\"],[1.0,\"#f0f921\"]],\"sequentialminus\":[[0.0,\"#0d0887\"],[0.1111111111111111,\"#46039f\"],[0.2222222222222222,\"#7201a8\"],[0.3333333333333333,\"#9c179e\"],[0.4444444444444444,\"#bd3786\"],[0.5555555555555556,\"#d8576b\"],[0.6666666666666666,\"#ed7953\"],[0.7777777777777778,\"#fb9f3a\"],[0.8888888888888888,\"#fdca26\"],[1.0,\"#f0f921\"]],\"diverging\":[[0,\"#8e0152\"],[0.1,\"#c51b7d\"],[0.2,\"#de77ae\"],[0.3,\"#f1b6da\"],[0.4,\"#fde0ef\"],[0.5,\"#f7f7f7\"],[0.6,\"#e6f5d0\"],[0.7,\"#b8e186\"],[0.8,\"#7fbc41\"],[0.9,\"#4d9221\"],[1,\"#276419\"]]},\"xaxis\":{\"gridcolor\":\"white\",\"linecolor\":\"white\",\"ticks\":\"\",\"title\":{\"standoff\":15},\"zerolinecolor\":\"white\",\"automargin\":true,\"zerolinewidth\":2},\"yaxis\":{\"gridcolor\":\"white\",\"linecolor\":\"white\",\"ticks\":\"\",\"title\":{\"standoff\":15},\"zerolinecolor\":\"white\",\"automargin\":true,\"zerolinewidth\":2},\"scene\":{\"xaxis\":{\"backgroundcolor\":\"#E5ECF6\",\"gridcolor\":\"white\",\"linecolor\":\"white\",\"showbackground\":true,\"ticks\":\"\",\"zerolinecolor\":\"white\",\"gridwidth\":2},\"yaxis\":{\"backgroundcolor\":\"#E5ECF6\",\"gridcolor\":\"white\",\"linecolor\":\"white\",\"showbackground\":true,\"ticks\":\"\",\"zerolinecolor\":\"white\",\"gridwidth\":2},\"zaxis\":{\"backgroundcolor\":\"#E5ECF6\",\"gridcolor\":\"white\",\"linecolor\":\"white\",\"showbackground\":true,\"ticks\":\"\",\"zerolinecolor\":\"white\",\"gridwidth\":2}},\"shapedefaults\":{\"line\":{\"color\":\"#2a3f5f\"}},\"annotationdefaults\":{\"arrowcolor\":\"#2a3f5f\",\"arrowhead\":0,\"arrowwidth\":1},\"geo\":{\"bgcolor\":\"white\",\"landcolor\":\"#E5ECF6\",\"subunitcolor\":\"white\",\"showland\":true,\"showlakes\":true,\"lakecolor\":\"white\"},\"title\":{\"x\":0.05},\"mapbox\":{\"style\":\"light\"}}},\"xaxis\":{\"anchor\":\"y\",\"domain\":[0.0,1.0],\"title\":{\"text\":\"Academic Yr\"}},\"yaxis\":{\"anchor\":\"x\",\"domain\":[0.0,1.0],\"title\":{\"text\":\"Student Headcount\"}},\"legend\":{\"title\":{\"text\":\"Major\"},\"tracegroupgap\":0},\"margin\":{\"t\":60},\"autosize\":false,\"width\":800,\"height\":600},                        {\"responsive\": true}                    ).then(function(){\n",
       "                            \n",
       "var gd = document.getElementById('b0fbd782-b3ba-4a4d-bd48-6bd75c6ac47f');\n",
       "var x = new MutationObserver(function (mutations, observer) {{\n",
       "        var display = window.getComputedStyle(gd).display;\n",
       "        if (!display || display === 'none') {{\n",
       "            console.log([gd, 'removed!']);\n",
       "            Plotly.purge(gd);\n",
       "            observer.disconnect();\n",
       "        }}\n",
       "}});\n",
       "\n",
       "// Listen for the removal of the full notebook cells\n",
       "var notebookContainer = gd.closest('#notebook-container');\n",
       "if (notebookContainer) {{\n",
       "    x.observe(notebookContainer, {childList: true});\n",
       "}}\n",
       "\n",
       "// Listen for the clearing of the current output cell\n",
       "var outputEl = gd.closest('.output');\n",
       "if (outputEl) {{\n",
       "    x.observe(outputEl, {childList: true});\n",
       "}}\n",
       "\n",
       "                        })                };            </script>        </div>"
      ]
     },
     "metadata": {},
     "output_type": "display_data"
    }
   ],
   "source": [
    "fig = px.line(major_trends[major_trends[\"Major\"].isin(data100_top_20_majors.index)], \n",
    "                        x = \"Academic Yr\", y = \"Student Headcount\", color = \"Major\")\n",
    "\n",
    "fig.update_layout(autosize=False, width=800, height=600)\n",
    "fig.show()    "
   ]
  },
  {
   "cell_type": "code",
   "execution_count": 37,
   "metadata": {},
   "outputs": [
    {
     "data": {
      "application/vnd.plotly.v1+json": {
       "config": {
        "plotlyServerURL": "https://plot.ly"
       },
       "data": [
        {
         "hovertemplate": "Major=Applied Mathematics<br>Academic Yr=%{x}<br>Student Headcount=%{y}<extra></extra>",
         "legendgroup": "Applied Mathematics",
         "line": {
          "color": "#636efa",
          "dash": "solid"
         },
         "marker": {
          "symbol": "circle"
         },
         "mode": "lines",
         "name": "Applied Mathematics",
         "orientation": "v",
         "showlegend": true,
         "type": "scatter",
         "x": [
          "2015-16",
          "2016-17",
          "2017-18",
          "2018-19",
          "2019-20",
          "2020-21",
          "2021-22",
          "2022-23",
          "2023-24",
          "2024-25"
         ],
         "xaxis": "x",
         "y": {
          "bdata": "AAAAAAAoeEAAAAAAALh7QAAAAAAA1IFAAAAAAAD0hEAAAAAAAFiEQAAAAAAAsIFAAAAAAAC0gEAAAAAAABB/QAAAAAAAdINAAAAAAADMh0A=",
          "dtype": "f8"
         },
         "yaxis": "y"
        },
        {
         "hovertemplate": "Major=Bioengineering<br>Academic Yr=%{x}<br>Student Headcount=%{y}<extra></extra>",
         "legendgroup": "Bioengineering",
         "line": {
          "color": "#EF553B",
          "dash": "solid"
         },
         "marker": {
          "symbol": "circle"
         },
         "mode": "lines",
         "name": "Bioengineering",
         "orientation": "v",
         "showlegend": true,
         "type": "scatter",
         "x": [
          "2015-16",
          "2016-17",
          "2017-18",
          "2018-19",
          "2019-20",
          "2020-21",
          "2021-22",
          "2022-23",
          "2023-24",
          "2024-25"
         ],
         "xaxis": "x",
         "y": {
          "bdata": "AAAAAAAgeUAAAAAAAEB9QAAAAAAAUH9AAAAAAAD4f0AAAAAAAPCAQAAAAAAAYIFAAAAAAAAEg0AAAAAAAACCQAAAAAAAOIJAAAAAAAD4gUA=",
          "dtype": "f8"
         },
         "yaxis": "y"
        },
        {
         "hovertemplate": "Major=Civil Engineering<br>Academic Yr=%{x}<br>Student Headcount=%{y}<extra></extra>",
         "legendgroup": "Civil Engineering",
         "line": {
          "color": "#00cc96",
          "dash": "solid"
         },
         "marker": {
          "symbol": "circle"
         },
         "mode": "lines",
         "name": "Civil Engineering",
         "orientation": "v",
         "showlegend": true,
         "type": "scatter",
         "x": [
          "2015-16",
          "2016-17",
          "2017-18",
          "2018-19",
          "2019-20",
          "2020-21",
          "2021-22",
          "2022-23",
          "2023-24",
          "2024-25"
         ],
         "xaxis": "x",
         "y": {
          "bdata": "AAAAAAAIc0AAAAAAANB1QAAAAAAA+HRAAAAAAAA4dkAAAAAAAJB2QAAAAAAAyHZAAAAAAABQd0AAAAAAAIh5QAAAAAAACHlAAAAAAABwe0A=",
          "dtype": "f8"
         },
         "yaxis": "y"
        },
        {
         "hovertemplate": "Major=Cognitive Science<br>Academic Yr=%{x}<br>Student Headcount=%{y}<extra></extra>",
         "legendgroup": "Cognitive Science",
         "line": {
          "color": "#ab63fa",
          "dash": "solid"
         },
         "marker": {
          "symbol": "circle"
         },
         "mode": "lines",
         "name": "Cognitive Science",
         "orientation": "v",
         "showlegend": true,
         "type": "scatter",
         "x": [
          "2015-16",
          "2016-17",
          "2017-18",
          "2018-19",
          "2019-20",
          "2020-21",
          "2021-22",
          "2022-23",
          "2023-24",
          "2024-25"
         ],
         "xaxis": "x",
         "y": {
          "bdata": "AAAAAABAeUAAAAAAALB9QAAAAAAAxIBAAAAAAABshUAAAAAAAEyAQAAAAAAAwHxAAAAAAAA4f0AAAAAAAJh/QAAAAAAA3INAAAAAAAAohkA=",
          "dtype": "f8"
         },
         "yaxis": "y"
        },
        {
         "hovertemplate": "Major=Computer Science<br>Academic Yr=%{x}<br>Student Headcount=%{y}<extra></extra>",
         "legendgroup": "Computer Science",
         "line": {
          "color": "#FFA15A",
          "dash": "solid"
         },
         "marker": {
          "symbol": "circle"
         },
         "mode": "lines",
         "name": "Computer Science",
         "orientation": "v",
         "showlegend": true,
         "type": "scatter",
         "x": [
          "2015-16",
          "2016-17",
          "2017-18",
          "2018-19",
          "2019-20",
          "2020-21",
          "2021-22",
          "2022-23",
          "2023-24",
          "2024-25"
         ],
         "xaxis": "x",
         "y": {
          "bdata": "AAAAAACQa0AAAAAAAPBrQAAAAAAAaHBAAAAAAABocEAAAAAAANhwQAAAAAAA0HBAAAAAAAC4ckAAAAAAAGByQAAAAAAAcHJAAAAAAADwcUA=",
          "dtype": "f8"
         },
         "yaxis": "y"
        },
        {
         "hovertemplate": "Major=Economics<br>Academic Yr=%{x}<br>Student Headcount=%{y}<extra></extra>",
         "legendgroup": "Economics",
         "line": {
          "color": "#19d3f3",
          "dash": "solid"
         },
         "marker": {
          "symbol": "circle"
         },
         "mode": "lines",
         "name": "Economics",
         "orientation": "v",
         "showlegend": true,
         "type": "scatter",
         "x": [
          "2015-16",
          "2016-17",
          "2017-18",
          "2018-19",
          "2019-20",
          "2020-21",
          "2021-22",
          "2022-23",
          "2023-24",
          "2024-25"
         ],
         "xaxis": "x",
         "y": {
          "bdata": "AAAAAADCkkAAAAAAAP6TQAAAAAAAcJVAAAAAAAAql0AAAAAAAG6XQAAAAAAAOJhAAAAAAACOmkAAAAAAAK6YQAAAAAAAKpZAAAAAAAACl0A=",
          "dtype": "f8"
         },
         "yaxis": "y"
        },
        {
         "hovertemplate": "Major=Electrical Eng & Comp Sci<br>Academic Yr=%{x}<br>Student Headcount=%{y}<extra></extra>",
         "legendgroup": "Electrical Eng & Comp Sci",
         "line": {
          "color": "#FF6692",
          "dash": "solid"
         },
         "marker": {
          "symbol": "circle"
         },
         "mode": "lines",
         "name": "Electrical Eng & Comp Sci",
         "orientation": "v",
         "showlegend": true,
         "type": "scatter",
         "x": [
          "2015-16",
          "2016-17",
          "2017-18",
          "2018-19",
          "2019-20",
          "2020-21",
          "2021-22",
          "2022-23",
          "2023-24",
          "2024-25"
         ],
         "xaxis": "x",
         "y": {
          "bdata": "AAAAAACmmEAAAAAAADqZQAAAAAAA1ptAAAAAAACmnkAAAAAAACegQAAAAAAAHqBAAAAAAAAUoUAAAAAAAFqgQAAAAAAAUaBAAAAAAABwn0A=",
          "dtype": "f8"
         },
         "yaxis": "y"
        },
        {
         "hovertemplate": "Major=Environ Econ & Policy<br>Academic Yr=%{x}<br>Student Headcount=%{y}<extra></extra>",
         "legendgroup": "Environ Econ & Policy",
         "line": {
          "color": "#B6E880",
          "dash": "solid"
         },
         "marker": {
          "symbol": "circle"
         },
         "mode": "lines",
         "name": "Environ Econ & Policy",
         "orientation": "v",
         "showlegend": true,
         "type": "scatter",
         "x": [
          "2015-16",
          "2016-17",
          "2017-18",
          "2018-19",
          "2019-20",
          "2020-21",
          "2021-22",
          "2022-23",
          "2023-24",
          "2024-25"
         ],
         "xaxis": "x",
         "y": {
          "bdata": "AAAAAABAcUAAAAAAAABzQAAAAAAAAHVAAAAAAAC4eUAAAAAAANh3QAAAAAAAeHNAAAAAAACIcEAAAAAAALhyQAAAAAAAuHZAAAAAAAC4eEA=",
          "dtype": "f8"
         },
         "yaxis": "y"
        },
        {
         "hovertemplate": "Major=Industrial Eng & Ops Rsch<br>Academic Yr=%{x}<br>Student Headcount=%{y}<extra></extra>",
         "legendgroup": "Industrial Eng & Ops Rsch",
         "line": {
          "color": "#FF97FF",
          "dash": "solid"
         },
         "marker": {
          "symbol": "circle"
         },
         "mode": "lines",
         "name": "Industrial Eng & Ops Rsch",
         "orientation": "v",
         "showlegend": true,
         "type": "scatter",
         "x": [
          "2015-16",
          "2016-17",
          "2017-18",
          "2018-19",
          "2019-20",
          "2020-21",
          "2021-22",
          "2022-23",
          "2023-24",
          "2024-25"
         ],
         "xaxis": "x",
         "y": {
          "bdata": "AAAAAAAgbkAAAAAAAIBvQAAAAAAAWHNAAAAAAACIdUAAAAAAAKh5QAAAAAAAsHVAAAAAAACoekAAAAAAAKh2QAAAAAAAUHZAAAAAAAAQeEA=",
          "dtype": "f8"
         },
         "yaxis": "y"
        }
       ],
       "layout": {
        "autosize": false,
        "height": 600,
        "legend": {
         "title": {
          "text": "Major"
         },
         "tracegroupgap": 0
        },
        "margin": {
         "t": 60
        },
        "template": {
         "data": {
          "bar": [
           {
            "error_x": {
             "color": "#2a3f5f"
            },
            "error_y": {
             "color": "#2a3f5f"
            },
            "marker": {
             "line": {
              "color": "#E5ECF6",
              "width": 0.5
             },
             "pattern": {
              "fillmode": "overlay",
              "size": 10,
              "solidity": 0.2
             }
            },
            "type": "bar"
           }
          ],
          "barpolar": [
           {
            "marker": {
             "line": {
              "color": "#E5ECF6",
              "width": 0.5
             },
             "pattern": {
              "fillmode": "overlay",
              "size": 10,
              "solidity": 0.2
             }
            },
            "type": "barpolar"
           }
          ],
          "carpet": [
           {
            "aaxis": {
             "endlinecolor": "#2a3f5f",
             "gridcolor": "white",
             "linecolor": "white",
             "minorgridcolor": "white",
             "startlinecolor": "#2a3f5f"
            },
            "baxis": {
             "endlinecolor": "#2a3f5f",
             "gridcolor": "white",
             "linecolor": "white",
             "minorgridcolor": "white",
             "startlinecolor": "#2a3f5f"
            },
            "type": "carpet"
           }
          ],
          "choropleth": [
           {
            "colorbar": {
             "outlinewidth": 0,
             "ticks": ""
            },
            "type": "choropleth"
           }
          ],
          "contour": [
           {
            "colorbar": {
             "outlinewidth": 0,
             "ticks": ""
            },
            "colorscale": [
             [
              0,
              "#0d0887"
             ],
             [
              0.1111111111111111,
              "#46039f"
             ],
             [
              0.2222222222222222,
              "#7201a8"
             ],
             [
              0.3333333333333333,
              "#9c179e"
             ],
             [
              0.4444444444444444,
              "#bd3786"
             ],
             [
              0.5555555555555556,
              "#d8576b"
             ],
             [
              0.6666666666666666,
              "#ed7953"
             ],
             [
              0.7777777777777778,
              "#fb9f3a"
             ],
             [
              0.8888888888888888,
              "#fdca26"
             ],
             [
              1,
              "#f0f921"
             ]
            ],
            "type": "contour"
           }
          ],
          "contourcarpet": [
           {
            "colorbar": {
             "outlinewidth": 0,
             "ticks": ""
            },
            "type": "contourcarpet"
           }
          ],
          "heatmap": [
           {
            "colorbar": {
             "outlinewidth": 0,
             "ticks": ""
            },
            "colorscale": [
             [
              0,
              "#0d0887"
             ],
             [
              0.1111111111111111,
              "#46039f"
             ],
             [
              0.2222222222222222,
              "#7201a8"
             ],
             [
              0.3333333333333333,
              "#9c179e"
             ],
             [
              0.4444444444444444,
              "#bd3786"
             ],
             [
              0.5555555555555556,
              "#d8576b"
             ],
             [
              0.6666666666666666,
              "#ed7953"
             ],
             [
              0.7777777777777778,
              "#fb9f3a"
             ],
             [
              0.8888888888888888,
              "#fdca26"
             ],
             [
              1,
              "#f0f921"
             ]
            ],
            "type": "heatmap"
           }
          ],
          "histogram": [
           {
            "marker": {
             "pattern": {
              "fillmode": "overlay",
              "size": 10,
              "solidity": 0.2
             }
            },
            "type": "histogram"
           }
          ],
          "histogram2d": [
           {
            "colorbar": {
             "outlinewidth": 0,
             "ticks": ""
            },
            "colorscale": [
             [
              0,
              "#0d0887"
             ],
             [
              0.1111111111111111,
              "#46039f"
             ],
             [
              0.2222222222222222,
              "#7201a8"
             ],
             [
              0.3333333333333333,
              "#9c179e"
             ],
             [
              0.4444444444444444,
              "#bd3786"
             ],
             [
              0.5555555555555556,
              "#d8576b"
             ],
             [
              0.6666666666666666,
              "#ed7953"
             ],
             [
              0.7777777777777778,
              "#fb9f3a"
             ],
             [
              0.8888888888888888,
              "#fdca26"
             ],
             [
              1,
              "#f0f921"
             ]
            ],
            "type": "histogram2d"
           }
          ],
          "histogram2dcontour": [
           {
            "colorbar": {
             "outlinewidth": 0,
             "ticks": ""
            },
            "colorscale": [
             [
              0,
              "#0d0887"
             ],
             [
              0.1111111111111111,
              "#46039f"
             ],
             [
              0.2222222222222222,
              "#7201a8"
             ],
             [
              0.3333333333333333,
              "#9c179e"
             ],
             [
              0.4444444444444444,
              "#bd3786"
             ],
             [
              0.5555555555555556,
              "#d8576b"
             ],
             [
              0.6666666666666666,
              "#ed7953"
             ],
             [
              0.7777777777777778,
              "#fb9f3a"
             ],
             [
              0.8888888888888888,
              "#fdca26"
             ],
             [
              1,
              "#f0f921"
             ]
            ],
            "type": "histogram2dcontour"
           }
          ],
          "mesh3d": [
           {
            "colorbar": {
             "outlinewidth": 0,
             "ticks": ""
            },
            "type": "mesh3d"
           }
          ],
          "parcoords": [
           {
            "line": {
             "colorbar": {
              "outlinewidth": 0,
              "ticks": ""
             }
            },
            "type": "parcoords"
           }
          ],
          "pie": [
           {
            "automargin": true,
            "type": "pie"
           }
          ],
          "scatter": [
           {
            "fillpattern": {
             "fillmode": "overlay",
             "size": 10,
             "solidity": 0.2
            },
            "type": "scatter"
           }
          ],
          "scatter3d": [
           {
            "line": {
             "colorbar": {
              "outlinewidth": 0,
              "ticks": ""
             }
            },
            "marker": {
             "colorbar": {
              "outlinewidth": 0,
              "ticks": ""
             }
            },
            "type": "scatter3d"
           }
          ],
          "scattercarpet": [
           {
            "marker": {
             "colorbar": {
              "outlinewidth": 0,
              "ticks": ""
             }
            },
            "type": "scattercarpet"
           }
          ],
          "scattergeo": [
           {
            "marker": {
             "colorbar": {
              "outlinewidth": 0,
              "ticks": ""
             }
            },
            "type": "scattergeo"
           }
          ],
          "scattergl": [
           {
            "marker": {
             "colorbar": {
              "outlinewidth": 0,
              "ticks": ""
             }
            },
            "type": "scattergl"
           }
          ],
          "scattermap": [
           {
            "marker": {
             "colorbar": {
              "outlinewidth": 0,
              "ticks": ""
             }
            },
            "type": "scattermap"
           }
          ],
          "scattermapbox": [
           {
            "marker": {
             "colorbar": {
              "outlinewidth": 0,
              "ticks": ""
             }
            },
            "type": "scattermapbox"
           }
          ],
          "scatterpolar": [
           {
            "marker": {
             "colorbar": {
              "outlinewidth": 0,
              "ticks": ""
             }
            },
            "type": "scatterpolar"
           }
          ],
          "scatterpolargl": [
           {
            "marker": {
             "colorbar": {
              "outlinewidth": 0,
              "ticks": ""
             }
            },
            "type": "scatterpolargl"
           }
          ],
          "scatterternary": [
           {
            "marker": {
             "colorbar": {
              "outlinewidth": 0,
              "ticks": ""
             }
            },
            "type": "scatterternary"
           }
          ],
          "surface": [
           {
            "colorbar": {
             "outlinewidth": 0,
             "ticks": ""
            },
            "colorscale": [
             [
              0,
              "#0d0887"
             ],
             [
              0.1111111111111111,
              "#46039f"
             ],
             [
              0.2222222222222222,
              "#7201a8"
             ],
             [
              0.3333333333333333,
              "#9c179e"
             ],
             [
              0.4444444444444444,
              "#bd3786"
             ],
             [
              0.5555555555555556,
              "#d8576b"
             ],
             [
              0.6666666666666666,
              "#ed7953"
             ],
             [
              0.7777777777777778,
              "#fb9f3a"
             ],
             [
              0.8888888888888888,
              "#fdca26"
             ],
             [
              1,
              "#f0f921"
             ]
            ],
            "type": "surface"
           }
          ],
          "table": [
           {
            "cells": {
             "fill": {
              "color": "#EBF0F8"
             },
             "line": {
              "color": "white"
             }
            },
            "header": {
             "fill": {
              "color": "#C8D4E3"
             },
             "line": {
              "color": "white"
             }
            },
            "type": "table"
           }
          ]
         },
         "layout": {
          "annotationdefaults": {
           "arrowcolor": "#2a3f5f",
           "arrowhead": 0,
           "arrowwidth": 1
          },
          "autotypenumbers": "strict",
          "coloraxis": {
           "colorbar": {
            "outlinewidth": 0,
            "ticks": ""
           }
          },
          "colorscale": {
           "diverging": [
            [
             0,
             "#8e0152"
            ],
            [
             0.1,
             "#c51b7d"
            ],
            [
             0.2,
             "#de77ae"
            ],
            [
             0.3,
             "#f1b6da"
            ],
            [
             0.4,
             "#fde0ef"
            ],
            [
             0.5,
             "#f7f7f7"
            ],
            [
             0.6,
             "#e6f5d0"
            ],
            [
             0.7,
             "#b8e186"
            ],
            [
             0.8,
             "#7fbc41"
            ],
            [
             0.9,
             "#4d9221"
            ],
            [
             1,
             "#276419"
            ]
           ],
           "sequential": [
            [
             0,
             "#0d0887"
            ],
            [
             0.1111111111111111,
             "#46039f"
            ],
            [
             0.2222222222222222,
             "#7201a8"
            ],
            [
             0.3333333333333333,
             "#9c179e"
            ],
            [
             0.4444444444444444,
             "#bd3786"
            ],
            [
             0.5555555555555556,
             "#d8576b"
            ],
            [
             0.6666666666666666,
             "#ed7953"
            ],
            [
             0.7777777777777778,
             "#fb9f3a"
            ],
            [
             0.8888888888888888,
             "#fdca26"
            ],
            [
             1,
             "#f0f921"
            ]
           ],
           "sequentialminus": [
            [
             0,
             "#0d0887"
            ],
            [
             0.1111111111111111,
             "#46039f"
            ],
            [
             0.2222222222222222,
             "#7201a8"
            ],
            [
             0.3333333333333333,
             "#9c179e"
            ],
            [
             0.4444444444444444,
             "#bd3786"
            ],
            [
             0.5555555555555556,
             "#d8576b"
            ],
            [
             0.6666666666666666,
             "#ed7953"
            ],
            [
             0.7777777777777778,
             "#fb9f3a"
            ],
            [
             0.8888888888888888,
             "#fdca26"
            ],
            [
             1,
             "#f0f921"
            ]
           ]
          },
          "colorway": [
           "#636efa",
           "#EF553B",
           "#00cc96",
           "#ab63fa",
           "#FFA15A",
           "#19d3f3",
           "#FF6692",
           "#B6E880",
           "#FF97FF",
           "#FECB52"
          ],
          "font": {
           "color": "#2a3f5f"
          },
          "geo": {
           "bgcolor": "white",
           "lakecolor": "white",
           "landcolor": "#E5ECF6",
           "showlakes": true,
           "showland": true,
           "subunitcolor": "white"
          },
          "hoverlabel": {
           "align": "left"
          },
          "hovermode": "closest",
          "mapbox": {
           "style": "light"
          },
          "paper_bgcolor": "white",
          "plot_bgcolor": "#E5ECF6",
          "polar": {
           "angularaxis": {
            "gridcolor": "white",
            "linecolor": "white",
            "ticks": ""
           },
           "bgcolor": "#E5ECF6",
           "radialaxis": {
            "gridcolor": "white",
            "linecolor": "white",
            "ticks": ""
           }
          },
          "scene": {
           "xaxis": {
            "backgroundcolor": "#E5ECF6",
            "gridcolor": "white",
            "gridwidth": 2,
            "linecolor": "white",
            "showbackground": true,
            "ticks": "",
            "zerolinecolor": "white"
           },
           "yaxis": {
            "backgroundcolor": "#E5ECF6",
            "gridcolor": "white",
            "gridwidth": 2,
            "linecolor": "white",
            "showbackground": true,
            "ticks": "",
            "zerolinecolor": "white"
           },
           "zaxis": {
            "backgroundcolor": "#E5ECF6",
            "gridcolor": "white",
            "gridwidth": 2,
            "linecolor": "white",
            "showbackground": true,
            "ticks": "",
            "zerolinecolor": "white"
           }
          },
          "shapedefaults": {
           "line": {
            "color": "#2a3f5f"
           }
          },
          "ternary": {
           "aaxis": {
            "gridcolor": "white",
            "linecolor": "white",
            "ticks": ""
           },
           "baxis": {
            "gridcolor": "white",
            "linecolor": "white",
            "ticks": ""
           },
           "bgcolor": "#E5ECF6",
           "caxis": {
            "gridcolor": "white",
            "linecolor": "white",
            "ticks": ""
           }
          },
          "title": {
           "x": 0.05
          },
          "xaxis": {
           "automargin": true,
           "gridcolor": "white",
           "linecolor": "white",
           "ticks": "",
           "title": {
            "standoff": 15
           },
           "zerolinecolor": "white",
           "zerolinewidth": 2
          },
          "yaxis": {
           "automargin": true,
           "gridcolor": "white",
           "linecolor": "white",
           "ticks": "",
           "title": {
            "standoff": 15
           },
           "zerolinecolor": "white",
           "zerolinewidth": 2
          }
         }
        },
        "width": 800,
        "xaxis": {
         "anchor": "y",
         "domain": [
          0,
          1
         ],
         "title": {
          "text": "Academic Yr"
         }
        },
        "yaxis": {
         "anchor": "x",
         "domain": [
          0,
          1
         ],
         "title": {
          "text": "Student Headcount"
         }
        }
       }
      },
      "text/html": [
       "<div>            <script src=\"https://cdnjs.cloudflare.com/ajax/libs/mathjax/2.7.5/MathJax.js?config=TeX-AMS-MML_SVG\"></script><script type=\"text/javascript\">if (window.MathJax && window.MathJax.Hub && window.MathJax.Hub.Config) {window.MathJax.Hub.Config({SVG: {font: \"STIX-Web\"}});}</script>                <script type=\"text/javascript\">window.PlotlyConfig = {MathJaxConfig: 'local'};</script>\n",
       "        <script charset=\"utf-8\" src=\"https://cdn.plot.ly/plotly-3.0.1.min.js\"></script>                <div id=\"7dd60532-1f55-4c61-8295-724b736c7514\" class=\"plotly-graph-div\" style=\"height:600px; width:800px;\"></div>            <script type=\"text/javascript\">                window.PLOTLYENV=window.PLOTLYENV || {};                                if (document.getElementById(\"7dd60532-1f55-4c61-8295-724b736c7514\")) {                    Plotly.newPlot(                        \"7dd60532-1f55-4c61-8295-724b736c7514\",                        [{\"hovertemplate\":\"Major=Applied Mathematics\\u003cbr\\u003eAcademic Yr=%{x}\\u003cbr\\u003eStudent Headcount=%{y}\\u003cextra\\u003e\\u003c\\u002fextra\\u003e\",\"legendgroup\":\"Applied Mathematics\",\"line\":{\"color\":\"#636efa\",\"dash\":\"solid\"},\"marker\":{\"symbol\":\"circle\"},\"mode\":\"lines\",\"name\":\"Applied Mathematics\",\"orientation\":\"v\",\"showlegend\":true,\"x\":[\"2015-16\",\"2016-17\",\"2017-18\",\"2018-19\",\"2019-20\",\"2020-21\",\"2021-22\",\"2022-23\",\"2023-24\",\"2024-25\"],\"xaxis\":\"x\",\"y\":{\"dtype\":\"f8\",\"bdata\":\"AAAAAAAoeEAAAAAAALh7QAAAAAAA1IFAAAAAAAD0hEAAAAAAAFiEQAAAAAAAsIFAAAAAAAC0gEAAAAAAABB\\u002fQAAAAAAAdINAAAAAAADMh0A=\"},\"yaxis\":\"y\",\"type\":\"scatter\"},{\"hovertemplate\":\"Major=Bioengineering\\u003cbr\\u003eAcademic Yr=%{x}\\u003cbr\\u003eStudent Headcount=%{y}\\u003cextra\\u003e\\u003c\\u002fextra\\u003e\",\"legendgroup\":\"Bioengineering\",\"line\":{\"color\":\"#EF553B\",\"dash\":\"solid\"},\"marker\":{\"symbol\":\"circle\"},\"mode\":\"lines\",\"name\":\"Bioengineering\",\"orientation\":\"v\",\"showlegend\":true,\"x\":[\"2015-16\",\"2016-17\",\"2017-18\",\"2018-19\",\"2019-20\",\"2020-21\",\"2021-22\",\"2022-23\",\"2023-24\",\"2024-25\"],\"xaxis\":\"x\",\"y\":{\"dtype\":\"f8\",\"bdata\":\"AAAAAAAgeUAAAAAAAEB9QAAAAAAAUH9AAAAAAAD4f0AAAAAAAPCAQAAAAAAAYIFAAAAAAAAEg0AAAAAAAACCQAAAAAAAOIJAAAAAAAD4gUA=\"},\"yaxis\":\"y\",\"type\":\"scatter\"},{\"hovertemplate\":\"Major=Civil Engineering\\u003cbr\\u003eAcademic Yr=%{x}\\u003cbr\\u003eStudent Headcount=%{y}\\u003cextra\\u003e\\u003c\\u002fextra\\u003e\",\"legendgroup\":\"Civil Engineering\",\"line\":{\"color\":\"#00cc96\",\"dash\":\"solid\"},\"marker\":{\"symbol\":\"circle\"},\"mode\":\"lines\",\"name\":\"Civil Engineering\",\"orientation\":\"v\",\"showlegend\":true,\"x\":[\"2015-16\",\"2016-17\",\"2017-18\",\"2018-19\",\"2019-20\",\"2020-21\",\"2021-22\",\"2022-23\",\"2023-24\",\"2024-25\"],\"xaxis\":\"x\",\"y\":{\"dtype\":\"f8\",\"bdata\":\"AAAAAAAIc0AAAAAAANB1QAAAAAAA+HRAAAAAAAA4dkAAAAAAAJB2QAAAAAAAyHZAAAAAAABQd0AAAAAAAIh5QAAAAAAACHlAAAAAAABwe0A=\"},\"yaxis\":\"y\",\"type\":\"scatter\"},{\"hovertemplate\":\"Major=Cognitive Science\\u003cbr\\u003eAcademic Yr=%{x}\\u003cbr\\u003eStudent Headcount=%{y}\\u003cextra\\u003e\\u003c\\u002fextra\\u003e\",\"legendgroup\":\"Cognitive Science\",\"line\":{\"color\":\"#ab63fa\",\"dash\":\"solid\"},\"marker\":{\"symbol\":\"circle\"},\"mode\":\"lines\",\"name\":\"Cognitive Science\",\"orientation\":\"v\",\"showlegend\":true,\"x\":[\"2015-16\",\"2016-17\",\"2017-18\",\"2018-19\",\"2019-20\",\"2020-21\",\"2021-22\",\"2022-23\",\"2023-24\",\"2024-25\"],\"xaxis\":\"x\",\"y\":{\"dtype\":\"f8\",\"bdata\":\"AAAAAABAeUAAAAAAALB9QAAAAAAAxIBAAAAAAABshUAAAAAAAEyAQAAAAAAAwHxAAAAAAAA4f0AAAAAAAJh\\u002fQAAAAAAA3INAAAAAAAAohkA=\"},\"yaxis\":\"y\",\"type\":\"scatter\"},{\"hovertemplate\":\"Major=Computer Science\\u003cbr\\u003eAcademic Yr=%{x}\\u003cbr\\u003eStudent Headcount=%{y}\\u003cextra\\u003e\\u003c\\u002fextra\\u003e\",\"legendgroup\":\"Computer Science\",\"line\":{\"color\":\"#FFA15A\",\"dash\":\"solid\"},\"marker\":{\"symbol\":\"circle\"},\"mode\":\"lines\",\"name\":\"Computer Science\",\"orientation\":\"v\",\"showlegend\":true,\"x\":[\"2015-16\",\"2016-17\",\"2017-18\",\"2018-19\",\"2019-20\",\"2020-21\",\"2021-22\",\"2022-23\",\"2023-24\",\"2024-25\"],\"xaxis\":\"x\",\"y\":{\"dtype\":\"f8\",\"bdata\":\"AAAAAACQa0AAAAAAAPBrQAAAAAAAaHBAAAAAAABocEAAAAAAANhwQAAAAAAA0HBAAAAAAAC4ckAAAAAAAGByQAAAAAAAcHJAAAAAAADwcUA=\"},\"yaxis\":\"y\",\"type\":\"scatter\"},{\"hovertemplate\":\"Major=Economics\\u003cbr\\u003eAcademic Yr=%{x}\\u003cbr\\u003eStudent Headcount=%{y}\\u003cextra\\u003e\\u003c\\u002fextra\\u003e\",\"legendgroup\":\"Economics\",\"line\":{\"color\":\"#19d3f3\",\"dash\":\"solid\"},\"marker\":{\"symbol\":\"circle\"},\"mode\":\"lines\",\"name\":\"Economics\",\"orientation\":\"v\",\"showlegend\":true,\"x\":[\"2015-16\",\"2016-17\",\"2017-18\",\"2018-19\",\"2019-20\",\"2020-21\",\"2021-22\",\"2022-23\",\"2023-24\",\"2024-25\"],\"xaxis\":\"x\",\"y\":{\"dtype\":\"f8\",\"bdata\":\"AAAAAADCkkAAAAAAAP6TQAAAAAAAcJVAAAAAAAAql0AAAAAAAG6XQAAAAAAAOJhAAAAAAACOmkAAAAAAAK6YQAAAAAAAKpZAAAAAAAACl0A=\"},\"yaxis\":\"y\",\"type\":\"scatter\"},{\"hovertemplate\":\"Major=Electrical Eng & Comp Sci\\u003cbr\\u003eAcademic Yr=%{x}\\u003cbr\\u003eStudent Headcount=%{y}\\u003cextra\\u003e\\u003c\\u002fextra\\u003e\",\"legendgroup\":\"Electrical Eng & Comp Sci\",\"line\":{\"color\":\"#FF6692\",\"dash\":\"solid\"},\"marker\":{\"symbol\":\"circle\"},\"mode\":\"lines\",\"name\":\"Electrical Eng & Comp Sci\",\"orientation\":\"v\",\"showlegend\":true,\"x\":[\"2015-16\",\"2016-17\",\"2017-18\",\"2018-19\",\"2019-20\",\"2020-21\",\"2021-22\",\"2022-23\",\"2023-24\",\"2024-25\"],\"xaxis\":\"x\",\"y\":{\"dtype\":\"f8\",\"bdata\":\"AAAAAACmmEAAAAAAADqZQAAAAAAA1ptAAAAAAACmnkAAAAAAACegQAAAAAAAHqBAAAAAAAAUoUAAAAAAAFqgQAAAAAAAUaBAAAAAAABwn0A=\"},\"yaxis\":\"y\",\"type\":\"scatter\"},{\"hovertemplate\":\"Major=Environ Econ & Policy\\u003cbr\\u003eAcademic Yr=%{x}\\u003cbr\\u003eStudent Headcount=%{y}\\u003cextra\\u003e\\u003c\\u002fextra\\u003e\",\"legendgroup\":\"Environ Econ & Policy\",\"line\":{\"color\":\"#B6E880\",\"dash\":\"solid\"},\"marker\":{\"symbol\":\"circle\"},\"mode\":\"lines\",\"name\":\"Environ Econ & Policy\",\"orientation\":\"v\",\"showlegend\":true,\"x\":[\"2015-16\",\"2016-17\",\"2017-18\",\"2018-19\",\"2019-20\",\"2020-21\",\"2021-22\",\"2022-23\",\"2023-24\",\"2024-25\"],\"xaxis\":\"x\",\"y\":{\"dtype\":\"f8\",\"bdata\":\"AAAAAABAcUAAAAAAAABzQAAAAAAAAHVAAAAAAAC4eUAAAAAAANh3QAAAAAAAeHNAAAAAAACIcEAAAAAAALhyQAAAAAAAuHZAAAAAAAC4eEA=\"},\"yaxis\":\"y\",\"type\":\"scatter\"},{\"hovertemplate\":\"Major=Industrial Eng & Ops Rsch\\u003cbr\\u003eAcademic Yr=%{x}\\u003cbr\\u003eStudent Headcount=%{y}\\u003cextra\\u003e\\u003c\\u002fextra\\u003e\",\"legendgroup\":\"Industrial Eng & Ops Rsch\",\"line\":{\"color\":\"#FF97FF\",\"dash\":\"solid\"},\"marker\":{\"symbol\":\"circle\"},\"mode\":\"lines\",\"name\":\"Industrial Eng & Ops Rsch\",\"orientation\":\"v\",\"showlegend\":true,\"x\":[\"2015-16\",\"2016-17\",\"2017-18\",\"2018-19\",\"2019-20\",\"2020-21\",\"2021-22\",\"2022-23\",\"2023-24\",\"2024-25\"],\"xaxis\":\"x\",\"y\":{\"dtype\":\"f8\",\"bdata\":\"AAAAAAAgbkAAAAAAAIBvQAAAAAAAWHNAAAAAAACIdUAAAAAAAKh5QAAAAAAAsHVAAAAAAACoekAAAAAAAKh2QAAAAAAAUHZAAAAAAAAQeEA=\"},\"yaxis\":\"y\",\"type\":\"scatter\"}],                        {\"template\":{\"data\":{\"histogram2dcontour\":[{\"type\":\"histogram2dcontour\",\"colorbar\":{\"outlinewidth\":0,\"ticks\":\"\"},\"colorscale\":[[0.0,\"#0d0887\"],[0.1111111111111111,\"#46039f\"],[0.2222222222222222,\"#7201a8\"],[0.3333333333333333,\"#9c179e\"],[0.4444444444444444,\"#bd3786\"],[0.5555555555555556,\"#d8576b\"],[0.6666666666666666,\"#ed7953\"],[0.7777777777777778,\"#fb9f3a\"],[0.8888888888888888,\"#fdca26\"],[1.0,\"#f0f921\"]]}],\"choropleth\":[{\"type\":\"choropleth\",\"colorbar\":{\"outlinewidth\":0,\"ticks\":\"\"}}],\"histogram2d\":[{\"type\":\"histogram2d\",\"colorbar\":{\"outlinewidth\":0,\"ticks\":\"\"},\"colorscale\":[[0.0,\"#0d0887\"],[0.1111111111111111,\"#46039f\"],[0.2222222222222222,\"#7201a8\"],[0.3333333333333333,\"#9c179e\"],[0.4444444444444444,\"#bd3786\"],[0.5555555555555556,\"#d8576b\"],[0.6666666666666666,\"#ed7953\"],[0.7777777777777778,\"#fb9f3a\"],[0.8888888888888888,\"#fdca26\"],[1.0,\"#f0f921\"]]}],\"heatmap\":[{\"type\":\"heatmap\",\"colorbar\":{\"outlinewidth\":0,\"ticks\":\"\"},\"colorscale\":[[0.0,\"#0d0887\"],[0.1111111111111111,\"#46039f\"],[0.2222222222222222,\"#7201a8\"],[0.3333333333333333,\"#9c179e\"],[0.4444444444444444,\"#bd3786\"],[0.5555555555555556,\"#d8576b\"],[0.6666666666666666,\"#ed7953\"],[0.7777777777777778,\"#fb9f3a\"],[0.8888888888888888,\"#fdca26\"],[1.0,\"#f0f921\"]]}],\"contourcarpet\":[{\"type\":\"contourcarpet\",\"colorbar\":{\"outlinewidth\":0,\"ticks\":\"\"}}],\"contour\":[{\"type\":\"contour\",\"colorbar\":{\"outlinewidth\":0,\"ticks\":\"\"},\"colorscale\":[[0.0,\"#0d0887\"],[0.1111111111111111,\"#46039f\"],[0.2222222222222222,\"#7201a8\"],[0.3333333333333333,\"#9c179e\"],[0.4444444444444444,\"#bd3786\"],[0.5555555555555556,\"#d8576b\"],[0.6666666666666666,\"#ed7953\"],[0.7777777777777778,\"#fb9f3a\"],[0.8888888888888888,\"#fdca26\"],[1.0,\"#f0f921\"]]}],\"surface\":[{\"type\":\"surface\",\"colorbar\":{\"outlinewidth\":0,\"ticks\":\"\"},\"colorscale\":[[0.0,\"#0d0887\"],[0.1111111111111111,\"#46039f\"],[0.2222222222222222,\"#7201a8\"],[0.3333333333333333,\"#9c179e\"],[0.4444444444444444,\"#bd3786\"],[0.5555555555555556,\"#d8576b\"],[0.6666666666666666,\"#ed7953\"],[0.7777777777777778,\"#fb9f3a\"],[0.8888888888888888,\"#fdca26\"],[1.0,\"#f0f921\"]]}],\"mesh3d\":[{\"type\":\"mesh3d\",\"colorbar\":{\"outlinewidth\":0,\"ticks\":\"\"}}],\"scatter\":[{\"fillpattern\":{\"fillmode\":\"overlay\",\"size\":10,\"solidity\":0.2},\"type\":\"scatter\"}],\"parcoords\":[{\"type\":\"parcoords\",\"line\":{\"colorbar\":{\"outlinewidth\":0,\"ticks\":\"\"}}}],\"scatterpolargl\":[{\"type\":\"scatterpolargl\",\"marker\":{\"colorbar\":{\"outlinewidth\":0,\"ticks\":\"\"}}}],\"bar\":[{\"error_x\":{\"color\":\"#2a3f5f\"},\"error_y\":{\"color\":\"#2a3f5f\"},\"marker\":{\"line\":{\"color\":\"#E5ECF6\",\"width\":0.5},\"pattern\":{\"fillmode\":\"overlay\",\"size\":10,\"solidity\":0.2}},\"type\":\"bar\"}],\"scattergeo\":[{\"type\":\"scattergeo\",\"marker\":{\"colorbar\":{\"outlinewidth\":0,\"ticks\":\"\"}}}],\"scatterpolar\":[{\"type\":\"scatterpolar\",\"marker\":{\"colorbar\":{\"outlinewidth\":0,\"ticks\":\"\"}}}],\"histogram\":[{\"marker\":{\"pattern\":{\"fillmode\":\"overlay\",\"size\":10,\"solidity\":0.2}},\"type\":\"histogram\"}],\"scattergl\":[{\"type\":\"scattergl\",\"marker\":{\"colorbar\":{\"outlinewidth\":0,\"ticks\":\"\"}}}],\"scatter3d\":[{\"type\":\"scatter3d\",\"line\":{\"colorbar\":{\"outlinewidth\":0,\"ticks\":\"\"}},\"marker\":{\"colorbar\":{\"outlinewidth\":0,\"ticks\":\"\"}}}],\"scattermap\":[{\"type\":\"scattermap\",\"marker\":{\"colorbar\":{\"outlinewidth\":0,\"ticks\":\"\"}}}],\"scattermapbox\":[{\"type\":\"scattermapbox\",\"marker\":{\"colorbar\":{\"outlinewidth\":0,\"ticks\":\"\"}}}],\"scatterternary\":[{\"type\":\"scatterternary\",\"marker\":{\"colorbar\":{\"outlinewidth\":0,\"ticks\":\"\"}}}],\"scattercarpet\":[{\"type\":\"scattercarpet\",\"marker\":{\"colorbar\":{\"outlinewidth\":0,\"ticks\":\"\"}}}],\"carpet\":[{\"aaxis\":{\"endlinecolor\":\"#2a3f5f\",\"gridcolor\":\"white\",\"linecolor\":\"white\",\"minorgridcolor\":\"white\",\"startlinecolor\":\"#2a3f5f\"},\"baxis\":{\"endlinecolor\":\"#2a3f5f\",\"gridcolor\":\"white\",\"linecolor\":\"white\",\"minorgridcolor\":\"white\",\"startlinecolor\":\"#2a3f5f\"},\"type\":\"carpet\"}],\"table\":[{\"cells\":{\"fill\":{\"color\":\"#EBF0F8\"},\"line\":{\"color\":\"white\"}},\"header\":{\"fill\":{\"color\":\"#C8D4E3\"},\"line\":{\"color\":\"white\"}},\"type\":\"table\"}],\"barpolar\":[{\"marker\":{\"line\":{\"color\":\"#E5ECF6\",\"width\":0.5},\"pattern\":{\"fillmode\":\"overlay\",\"size\":10,\"solidity\":0.2}},\"type\":\"barpolar\"}],\"pie\":[{\"automargin\":true,\"type\":\"pie\"}]},\"layout\":{\"autotypenumbers\":\"strict\",\"colorway\":[\"#636efa\",\"#EF553B\",\"#00cc96\",\"#ab63fa\",\"#FFA15A\",\"#19d3f3\",\"#FF6692\",\"#B6E880\",\"#FF97FF\",\"#FECB52\"],\"font\":{\"color\":\"#2a3f5f\"},\"hovermode\":\"closest\",\"hoverlabel\":{\"align\":\"left\"},\"paper_bgcolor\":\"white\",\"plot_bgcolor\":\"#E5ECF6\",\"polar\":{\"bgcolor\":\"#E5ECF6\",\"angularaxis\":{\"gridcolor\":\"white\",\"linecolor\":\"white\",\"ticks\":\"\"},\"radialaxis\":{\"gridcolor\":\"white\",\"linecolor\":\"white\",\"ticks\":\"\"}},\"ternary\":{\"bgcolor\":\"#E5ECF6\",\"aaxis\":{\"gridcolor\":\"white\",\"linecolor\":\"white\",\"ticks\":\"\"},\"baxis\":{\"gridcolor\":\"white\",\"linecolor\":\"white\",\"ticks\":\"\"},\"caxis\":{\"gridcolor\":\"white\",\"linecolor\":\"white\",\"ticks\":\"\"}},\"coloraxis\":{\"colorbar\":{\"outlinewidth\":0,\"ticks\":\"\"}},\"colorscale\":{\"sequential\":[[0.0,\"#0d0887\"],[0.1111111111111111,\"#46039f\"],[0.2222222222222222,\"#7201a8\"],[0.3333333333333333,\"#9c179e\"],[0.4444444444444444,\"#bd3786\"],[0.5555555555555556,\"#d8576b\"],[0.6666666666666666,\"#ed7953\"],[0.7777777777777778,\"#fb9f3a\"],[0.8888888888888888,\"#fdca26\"],[1.0,\"#f0f921\"]],\"sequentialminus\":[[0.0,\"#0d0887\"],[0.1111111111111111,\"#46039f\"],[0.2222222222222222,\"#7201a8\"],[0.3333333333333333,\"#9c179e\"],[0.4444444444444444,\"#bd3786\"],[0.5555555555555556,\"#d8576b\"],[0.6666666666666666,\"#ed7953\"],[0.7777777777777778,\"#fb9f3a\"],[0.8888888888888888,\"#fdca26\"],[1.0,\"#f0f921\"]],\"diverging\":[[0,\"#8e0152\"],[0.1,\"#c51b7d\"],[0.2,\"#de77ae\"],[0.3,\"#f1b6da\"],[0.4,\"#fde0ef\"],[0.5,\"#f7f7f7\"],[0.6,\"#e6f5d0\"],[0.7,\"#b8e186\"],[0.8,\"#7fbc41\"],[0.9,\"#4d9221\"],[1,\"#276419\"]]},\"xaxis\":{\"gridcolor\":\"white\",\"linecolor\":\"white\",\"ticks\":\"\",\"title\":{\"standoff\":15},\"zerolinecolor\":\"white\",\"automargin\":true,\"zerolinewidth\":2},\"yaxis\":{\"gridcolor\":\"white\",\"linecolor\":\"white\",\"ticks\":\"\",\"title\":{\"standoff\":15},\"zerolinecolor\":\"white\",\"automargin\":true,\"zerolinewidth\":2},\"scene\":{\"xaxis\":{\"backgroundcolor\":\"#E5ECF6\",\"gridcolor\":\"white\",\"linecolor\":\"white\",\"showbackground\":true,\"ticks\":\"\",\"zerolinecolor\":\"white\",\"gridwidth\":2},\"yaxis\":{\"backgroundcolor\":\"#E5ECF6\",\"gridcolor\":\"white\",\"linecolor\":\"white\",\"showbackground\":true,\"ticks\":\"\",\"zerolinecolor\":\"white\",\"gridwidth\":2},\"zaxis\":{\"backgroundcolor\":\"#E5ECF6\",\"gridcolor\":\"white\",\"linecolor\":\"white\",\"showbackground\":true,\"ticks\":\"\",\"zerolinecolor\":\"white\",\"gridwidth\":2}},\"shapedefaults\":{\"line\":{\"color\":\"#2a3f5f\"}},\"annotationdefaults\":{\"arrowcolor\":\"#2a3f5f\",\"arrowhead\":0,\"arrowwidth\":1},\"geo\":{\"bgcolor\":\"white\",\"landcolor\":\"#E5ECF6\",\"subunitcolor\":\"white\",\"showland\":true,\"showlakes\":true,\"lakecolor\":\"white\"},\"title\":{\"x\":0.05},\"mapbox\":{\"style\":\"light\"}}},\"xaxis\":{\"anchor\":\"y\",\"domain\":[0.0,1.0],\"title\":{\"text\":\"Academic Yr\"}},\"yaxis\":{\"anchor\":\"x\",\"domain\":[0.0,1.0],\"title\":{\"text\":\"Student Headcount\"}},\"legend\":{\"title\":{\"text\":\"Major\"},\"tracegroupgap\":0},\"margin\":{\"t\":60},\"autosize\":false,\"width\":800,\"height\":600},                        {\"responsive\": true}                    ).then(function(){\n",
       "                            \n",
       "var gd = document.getElementById('7dd60532-1f55-4c61-8295-724b736c7514');\n",
       "var x = new MutationObserver(function (mutations, observer) {{\n",
       "        var display = window.getComputedStyle(gd).display;\n",
       "        if (!display || display === 'none') {{\n",
       "            console.log([gd, 'removed!']);\n",
       "            Plotly.purge(gd);\n",
       "            observer.disconnect();\n",
       "        }}\n",
       "}});\n",
       "\n",
       "// Listen for the removal of the full notebook cells\n",
       "var notebookContainer = gd.closest('#notebook-container');\n",
       "if (notebookContainer) {{\n",
       "    x.observe(notebookContainer, {childList: true});\n",
       "}}\n",
       "\n",
       "// Listen for the clearing of the current output cell\n",
       "var outputEl = gd.closest('.output');\n",
       "if (outputEl) {{\n",
       "    x.observe(outputEl, {childList: true});\n",
       "}}\n",
       "\n",
       "                        })                };            </script>        </div>"
      ]
     },
     "metadata": {},
     "output_type": "display_data"
    }
   ],
   "source": [
    "data100_top_19_majors = data100_top_20_majors.iloc[1:,:]\n",
    "\n",
    "fig = px.line(major_trends[major_trends[\"Major\"].isin(data100_top_19_majors.index)], \n",
    "                        x = \"Academic Yr\", y = \"Student Headcount\", color = \"Major\")\n",
    "\n",
    "fig.update_layout(autosize=False, width=800, height=600)\n",
    "fig.show()  "
   ]
  }
 ],
 "metadata": {
  "kernelspec": {
   "display_name": "base",
   "language": "python",
   "name": "python3"
  },
  "language_info": {
   "codemirror_mode": {
    "name": "ipython",
    "version": 3
   },
   "file_extension": ".py",
   "mimetype": "text/x-python",
   "name": "python",
   "nbconvert_exporter": "python",
   "pygments_lexer": "ipython3",
   "version": "3.13.2"
  }
 },
 "nbformat": 4,
 "nbformat_minor": 4
}
